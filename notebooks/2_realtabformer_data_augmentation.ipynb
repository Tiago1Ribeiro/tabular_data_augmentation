{
 "cells": [
  {
   "cell_type": "markdown",
   "metadata": {},
   "source": [
    "# Libraries"
   ]
  },
  {
   "cell_type": "code",
   "execution_count": null,
   "metadata": {},
   "outputs": [],
   "source": [
    "import pandas as pd\n",
    "import numpy as np\n",
    "import json\n",
    "import time \n",
    "from IPython.display import display, clear_output\n",
    "# https://github.com/worldbank/REaLTabFormer\n",
    "from realtabformer import REaLTabFormer"
   ]
  },
  {
   "cell_type": "markdown",
   "metadata": {},
   "source": [
    "# GPU"
   ]
  },
  {
   "cell_type": "code",
   "execution_count": null,
   "metadata": {},
   "outputs": [
    {
     "name": "stdout",
     "output_type": "stream",
     "text": [
      "Thu Oct 26 09:45:40 2023       \n",
      "+---------------------------------------------------------------------------------------+\n",
      "| NVIDIA-SMI 535.113.01             Driver Version: 535.113.01   CUDA Version: 12.2     |\n",
      "|-----------------------------------------+----------------------+----------------------+\n",
      "| GPU  Name                 Persistence-M | Bus-Id        Disp.A | Volatile Uncorr. ECC |\n",
      "| Fan  Temp   Perf          Pwr:Usage/Cap |         Memory-Usage | GPU-Util  Compute M. |\n",
      "|                                         |                      |               MIG M. |\n",
      "|=========================================+======================+======================|\n",
      "|   0  NVIDIA GeForce RTX 4060 ...    Off | 00000000:01:00.0 Off |                  N/A |\n",
      "| N/A   28C    P0              N/A /  60W |      6MiB /  8188MiB |      0%      Default |\n",
      "|                                         |                      |                  N/A |\n",
      "+-----------------------------------------+----------------------+----------------------+\n",
      "                                                                                         \n",
      "+---------------------------------------------------------------------------------------+\n",
      "| Processes:                                                                            |\n",
      "|  GPU   GI   CI        PID   Type   Process name                            GPU Memory |\n",
      "|        ID   ID                                                             Usage      |\n",
      "|=======================================================================================|\n",
      "|    0   N/A  N/A      2408      G   /usr/bin/gnome-shell                          2MiB |\n",
      "+---------------------------------------------------------------------------------------+\n"
     ]
    }
   ],
   "source": [
    "!nvidia-smi"
   ]
  },
  {
   "cell_type": "markdown",
   "metadata": {},
   "source": [
    "# Loading Data"
   ]
  },
  {
   "cell_type": "code",
   "execution_count": null,
   "metadata": {},
   "outputs": [],
   "source": [
    "# Open config file\n",
    "with open('../config.json', 'r') as f:\n",
    "    config = json.load(f)\n",
    "\n",
    "# Load data\n",
    "df_train = pd.read_csv(\"/home/tiagociic/Projectos/inovmineral/data/data_francisco/EdgeIIot_train.csv\", low_memory=False)\n",
    "\n",
    "# df_train = pd.read_csv(\"/home/tiagociic/Projectos/inovmineral/data/data_francisco/DNN-EdgeIIoT-dataset_SMALL.csv\")"
   ]
  },
  {
   "cell_type": "markdown",
   "metadata": {},
   "source": [
    "# Characteristics of the Dataset"
   ]
  },
  {
   "cell_type": "code",
   "execution_count": null,
   "metadata": {},
   "outputs": [
    {
     "data": {
      "text/html": [
       "<style type=\"text/css\">\n",
       "#T_d9339_row0_col0, #T_d9339_row0_col1, #T_d9339_row0_col2, #T_d9339_row0_col3, #T_d9339_row0_col4, #T_d9339_row0_col5, #T_d9339_row0_col6, #T_d9339_row0_col7, #T_d9339_row0_col8, #T_d9339_row0_col9, #T_d9339_row0_col10, #T_d9339_row0_col11, #T_d9339_row0_col12, #T_d9339_row0_col13, #T_d9339_row0_col14, #T_d9339_row0_col15, #T_d9339_row0_col16, #T_d9339_row0_col17, #T_d9339_row0_col18, #T_d9339_row0_col19, #T_d9339_row0_col20, #T_d9339_row0_col21, #T_d9339_row0_col22, #T_d9339_row0_col23, #T_d9339_row0_col24, #T_d9339_row0_col25, #T_d9339_row0_col26, #T_d9339_row0_col27, #T_d9339_row0_col28, #T_d9339_row0_col29, #T_d9339_row0_col30, #T_d9339_row0_col31, #T_d9339_row0_col32, #T_d9339_row0_col33, #T_d9339_row0_col34, #T_d9339_row0_col35, #T_d9339_row0_col36, #T_d9339_row0_col37, #T_d9339_row0_col38, #T_d9339_row0_col39, #T_d9339_row0_col40, #T_d9339_row0_col41, #T_d9339_row0_col42, #T_d9339_row0_col43, #T_d9339_row0_col44, #T_d9339_row0_col45, #T_d9339_row0_col46, #T_d9339_row0_col47, #T_d9339_row1_col0, #T_d9339_row1_col1, #T_d9339_row1_col2, #T_d9339_row1_col3, #T_d9339_row1_col4, #T_d9339_row1_col5, #T_d9339_row1_col6, #T_d9339_row1_col7, #T_d9339_row1_col8, #T_d9339_row1_col9, #T_d9339_row1_col10, #T_d9339_row1_col11, #T_d9339_row1_col12, #T_d9339_row1_col13, #T_d9339_row1_col14, #T_d9339_row1_col15, #T_d9339_row1_col16, #T_d9339_row1_col17, #T_d9339_row1_col18, #T_d9339_row1_col19, #T_d9339_row1_col20, #T_d9339_row1_col21, #T_d9339_row1_col22, #T_d9339_row1_col23, #T_d9339_row1_col24, #T_d9339_row1_col25, #T_d9339_row1_col26, #T_d9339_row1_col27, #T_d9339_row1_col28, #T_d9339_row1_col29, #T_d9339_row1_col30, #T_d9339_row1_col31, #T_d9339_row1_col32, #T_d9339_row1_col33, #T_d9339_row1_col34, #T_d9339_row1_col35, #T_d9339_row1_col36, #T_d9339_row1_col37, #T_d9339_row1_col38, #T_d9339_row1_col39, #T_d9339_row1_col40, #T_d9339_row1_col41, #T_d9339_row1_col42, #T_d9339_row1_col43, #T_d9339_row1_col44, #T_d9339_row1_col45, #T_d9339_row1_col46, #T_d9339_row1_col47, #T_d9339_row2_col0, #T_d9339_row2_col1, #T_d9339_row2_col2, #T_d9339_row2_col3, #T_d9339_row2_col4, #T_d9339_row2_col5, #T_d9339_row2_col6, #T_d9339_row2_col7, #T_d9339_row2_col8, #T_d9339_row2_col9, #T_d9339_row2_col10, #T_d9339_row2_col11, #T_d9339_row2_col12, #T_d9339_row2_col13, #T_d9339_row2_col14, #T_d9339_row2_col15, #T_d9339_row2_col16, #T_d9339_row2_col17, #T_d9339_row2_col18, #T_d9339_row2_col19, #T_d9339_row2_col20, #T_d9339_row2_col21, #T_d9339_row2_col22, #T_d9339_row2_col23, #T_d9339_row2_col24, #T_d9339_row2_col25, #T_d9339_row2_col26, #T_d9339_row2_col27, #T_d9339_row2_col28, #T_d9339_row2_col29, #T_d9339_row2_col30, #T_d9339_row2_col31, #T_d9339_row2_col32, #T_d9339_row2_col33, #T_d9339_row2_col34, #T_d9339_row2_col35, #T_d9339_row2_col36, #T_d9339_row2_col37, #T_d9339_row2_col38, #T_d9339_row2_col39, #T_d9339_row2_col40, #T_d9339_row2_col41, #T_d9339_row2_col42, #T_d9339_row2_col43, #T_d9339_row2_col44, #T_d9339_row2_col45, #T_d9339_row2_col46, #T_d9339_row2_col47, #T_d9339_row3_col0, #T_d9339_row3_col1, #T_d9339_row3_col2, #T_d9339_row3_col3, #T_d9339_row3_col4, #T_d9339_row3_col5, #T_d9339_row3_col6, #T_d9339_row3_col7, #T_d9339_row3_col8, #T_d9339_row3_col9, #T_d9339_row3_col10, #T_d9339_row3_col11, #T_d9339_row3_col12, #T_d9339_row3_col13, #T_d9339_row3_col14, #T_d9339_row3_col15, #T_d9339_row3_col16, #T_d9339_row3_col17, #T_d9339_row3_col18, #T_d9339_row3_col19, #T_d9339_row3_col20, #T_d9339_row3_col21, #T_d9339_row3_col22, #T_d9339_row3_col23, #T_d9339_row3_col24, #T_d9339_row3_col25, #T_d9339_row3_col26, #T_d9339_row3_col27, #T_d9339_row3_col28, #T_d9339_row3_col29, #T_d9339_row3_col30, #T_d9339_row3_col31, #T_d9339_row3_col32, #T_d9339_row3_col33, #T_d9339_row3_col34, #T_d9339_row3_col35, #T_d9339_row3_col36, #T_d9339_row3_col37, #T_d9339_row3_col38, #T_d9339_row3_col39, #T_d9339_row3_col40, #T_d9339_row3_col41, #T_d9339_row3_col42, #T_d9339_row3_col43, #T_d9339_row3_col44, #T_d9339_row3_col45, #T_d9339_row3_col46, #T_d9339_row3_col47, #T_d9339_row4_col0, #T_d9339_row4_col1, #T_d9339_row4_col2, #T_d9339_row4_col3, #T_d9339_row4_col4, #T_d9339_row4_col5, #T_d9339_row4_col6, #T_d9339_row4_col7, #T_d9339_row4_col8, #T_d9339_row4_col9, #T_d9339_row4_col10, #T_d9339_row4_col11, #T_d9339_row4_col12, #T_d9339_row4_col13, #T_d9339_row4_col14, #T_d9339_row4_col15, #T_d9339_row4_col16, #T_d9339_row4_col17, #T_d9339_row4_col18, #T_d9339_row4_col19, #T_d9339_row4_col20, #T_d9339_row4_col21, #T_d9339_row4_col22, #T_d9339_row4_col23, #T_d9339_row4_col24, #T_d9339_row4_col25, #T_d9339_row4_col26, #T_d9339_row4_col27, #T_d9339_row4_col28, #T_d9339_row4_col29, #T_d9339_row4_col30, #T_d9339_row4_col31, #T_d9339_row4_col32, #T_d9339_row4_col33, #T_d9339_row4_col34, #T_d9339_row4_col35, #T_d9339_row4_col36, #T_d9339_row4_col37, #T_d9339_row4_col38, #T_d9339_row4_col39, #T_d9339_row4_col40, #T_d9339_row4_col41, #T_d9339_row4_col42, #T_d9339_row4_col43, #T_d9339_row4_col44, #T_d9339_row4_col45, #T_d9339_row4_col46, #T_d9339_row4_col47, #T_d9339_row5_col0, #T_d9339_row5_col1, #T_d9339_row5_col2, #T_d9339_row5_col3, #T_d9339_row5_col4, #T_d9339_row5_col5, #T_d9339_row5_col6, #T_d9339_row5_col7, #T_d9339_row5_col8, #T_d9339_row5_col9, #T_d9339_row5_col10, #T_d9339_row5_col11, #T_d9339_row5_col12, #T_d9339_row5_col13, #T_d9339_row5_col14, #T_d9339_row5_col15, #T_d9339_row5_col16, #T_d9339_row5_col17, #T_d9339_row5_col18, #T_d9339_row5_col19, #T_d9339_row5_col20, #T_d9339_row5_col21, #T_d9339_row5_col22, #T_d9339_row5_col23, #T_d9339_row5_col24, #T_d9339_row5_col25, #T_d9339_row5_col26, #T_d9339_row5_col27, #T_d9339_row5_col28, #T_d9339_row5_col29, #T_d9339_row5_col30, #T_d9339_row5_col31, #T_d9339_row5_col32, #T_d9339_row5_col33, #T_d9339_row5_col34, #T_d9339_row5_col35, #T_d9339_row5_col36, #T_d9339_row5_col37, #T_d9339_row5_col38, #T_d9339_row5_col39, #T_d9339_row5_col40, #T_d9339_row5_col41, #T_d9339_row5_col42, #T_d9339_row5_col43, #T_d9339_row5_col44, #T_d9339_row5_col45, #T_d9339_row5_col46, #T_d9339_row5_col47, #T_d9339_row6_col0, #T_d9339_row6_col1, #T_d9339_row6_col2, #T_d9339_row6_col3, #T_d9339_row6_col4, #T_d9339_row6_col5, #T_d9339_row6_col6, #T_d9339_row6_col7, #T_d9339_row6_col8, #T_d9339_row6_col9, #T_d9339_row6_col10, #T_d9339_row6_col11, #T_d9339_row6_col12, #T_d9339_row6_col13, #T_d9339_row6_col14, #T_d9339_row6_col15, #T_d9339_row6_col16, #T_d9339_row6_col17, #T_d9339_row6_col18, #T_d9339_row6_col19, #T_d9339_row6_col20, #T_d9339_row6_col21, #T_d9339_row6_col22, #T_d9339_row6_col23, #T_d9339_row6_col24, #T_d9339_row6_col25, #T_d9339_row6_col26, #T_d9339_row6_col27, #T_d9339_row6_col28, #T_d9339_row6_col29, #T_d9339_row6_col30, #T_d9339_row6_col31, #T_d9339_row6_col32, #T_d9339_row6_col33, #T_d9339_row6_col34, #T_d9339_row6_col35, #T_d9339_row6_col36, #T_d9339_row6_col37, #T_d9339_row6_col38, #T_d9339_row6_col39, #T_d9339_row6_col40, #T_d9339_row6_col41, #T_d9339_row6_col42, #T_d9339_row6_col43, #T_d9339_row6_col44, #T_d9339_row6_col45, #T_d9339_row6_col46, #T_d9339_row6_col47, #T_d9339_row7_col0, #T_d9339_row7_col1, #T_d9339_row7_col2, #T_d9339_row7_col3, #T_d9339_row7_col4, #T_d9339_row7_col5, #T_d9339_row7_col6, #T_d9339_row7_col7, #T_d9339_row7_col8, #T_d9339_row7_col9, #T_d9339_row7_col10, #T_d9339_row7_col11, #T_d9339_row7_col12, #T_d9339_row7_col13, #T_d9339_row7_col14, #T_d9339_row7_col15, #T_d9339_row7_col16, #T_d9339_row7_col17, #T_d9339_row7_col18, #T_d9339_row7_col19, #T_d9339_row7_col20, #T_d9339_row7_col21, #T_d9339_row7_col22, #T_d9339_row7_col23, #T_d9339_row7_col24, #T_d9339_row7_col25, #T_d9339_row7_col26, #T_d9339_row7_col27, #T_d9339_row7_col28, #T_d9339_row7_col29, #T_d9339_row7_col30, #T_d9339_row7_col31, #T_d9339_row7_col32, #T_d9339_row7_col33, #T_d9339_row7_col34, #T_d9339_row7_col35, #T_d9339_row7_col36, #T_d9339_row7_col37, #T_d9339_row7_col38, #T_d9339_row7_col39, #T_d9339_row7_col40, #T_d9339_row7_col41, #T_d9339_row7_col42, #T_d9339_row7_col43, #T_d9339_row7_col44, #T_d9339_row7_col45, #T_d9339_row7_col46, #T_d9339_row7_col47, #T_d9339_row8_col0, #T_d9339_row8_col1, #T_d9339_row8_col2, #T_d9339_row8_col3, #T_d9339_row8_col4, #T_d9339_row8_col5, #T_d9339_row8_col6, #T_d9339_row8_col7, #T_d9339_row8_col8, #T_d9339_row8_col9, #T_d9339_row8_col10, #T_d9339_row8_col11, #T_d9339_row8_col12, #T_d9339_row8_col13, #T_d9339_row8_col14, #T_d9339_row8_col15, #T_d9339_row8_col16, #T_d9339_row8_col17, #T_d9339_row8_col18, #T_d9339_row8_col19, #T_d9339_row8_col20, #T_d9339_row8_col21, #T_d9339_row8_col22, #T_d9339_row8_col23, #T_d9339_row8_col24, #T_d9339_row8_col25, #T_d9339_row8_col26, #T_d9339_row8_col27, #T_d9339_row8_col28, #T_d9339_row8_col29, #T_d9339_row8_col30, #T_d9339_row8_col31, #T_d9339_row8_col32, #T_d9339_row8_col33, #T_d9339_row8_col34, #T_d9339_row8_col35, #T_d9339_row8_col36, #T_d9339_row8_col37, #T_d9339_row8_col38, #T_d9339_row8_col39, #T_d9339_row8_col40, #T_d9339_row8_col41, #T_d9339_row8_col42, #T_d9339_row8_col43, #T_d9339_row8_col44, #T_d9339_row8_col45, #T_d9339_row8_col46, #T_d9339_row8_col47, #T_d9339_row9_col0, #T_d9339_row9_col1, #T_d9339_row9_col2, #T_d9339_row9_col3, #T_d9339_row9_col4, #T_d9339_row9_col5, #T_d9339_row9_col6, #T_d9339_row9_col7, #T_d9339_row9_col8, #T_d9339_row9_col9, #T_d9339_row9_col10, #T_d9339_row9_col11, #T_d9339_row9_col12, #T_d9339_row9_col13, #T_d9339_row9_col14, #T_d9339_row9_col15, #T_d9339_row9_col16, #T_d9339_row9_col17, #T_d9339_row9_col18, #T_d9339_row9_col19, #T_d9339_row9_col20, #T_d9339_row9_col21, #T_d9339_row9_col22, #T_d9339_row9_col23, #T_d9339_row9_col24, #T_d9339_row9_col25, #T_d9339_row9_col26, #T_d9339_row9_col27, #T_d9339_row9_col28, #T_d9339_row9_col29, #T_d9339_row9_col30, #T_d9339_row9_col31, #T_d9339_row9_col32, #T_d9339_row9_col33, #T_d9339_row9_col34, #T_d9339_row9_col35, #T_d9339_row9_col36, #T_d9339_row9_col37, #T_d9339_row9_col38, #T_d9339_row9_col39, #T_d9339_row9_col40, #T_d9339_row9_col41, #T_d9339_row9_col42, #T_d9339_row9_col43, #T_d9339_row9_col44, #T_d9339_row9_col45, #T_d9339_row9_col46, #T_d9339_row9_col47 {\n",
       "  text-align: left;\n",
       "}\n",
       "</style>\n",
       "<table id=\"T_d9339\">\n",
       "  <thead>\n",
       "    <tr>\n",
       "      <th class=\"blank level0\" >&nbsp;</th>\n",
       "      <th id=\"T_d9339_level0_col0\" class=\"col_heading level0 col0\" >arp.opcode</th>\n",
       "      <th id=\"T_d9339_level0_col1\" class=\"col_heading level0 col1\" >arp.hw.size</th>\n",
       "      <th id=\"T_d9339_level0_col2\" class=\"col_heading level0 col2\" >icmp.checksum</th>\n",
       "      <th id=\"T_d9339_level0_col3\" class=\"col_heading level0 col3\" >icmp.seq_le</th>\n",
       "      <th id=\"T_d9339_level0_col4\" class=\"col_heading level0 col4\" >icmp.unused</th>\n",
       "      <th id=\"T_d9339_level0_col5\" class=\"col_heading level0 col5\" >http.content_length</th>\n",
       "      <th id=\"T_d9339_level0_col6\" class=\"col_heading level0 col6\" >http.request.method</th>\n",
       "      <th id=\"T_d9339_level0_col7\" class=\"col_heading level0 col7\" >http.referer</th>\n",
       "      <th id=\"T_d9339_level0_col8\" class=\"col_heading level0 col8\" >http.request.version</th>\n",
       "      <th id=\"T_d9339_level0_col9\" class=\"col_heading level0 col9\" >http.response</th>\n",
       "      <th id=\"T_d9339_level0_col10\" class=\"col_heading level0 col10\" >http.tls_port</th>\n",
       "      <th id=\"T_d9339_level0_col11\" class=\"col_heading level0 col11\" >tcp.ack</th>\n",
       "      <th id=\"T_d9339_level0_col12\" class=\"col_heading level0 col12\" >tcp.ack_raw</th>\n",
       "      <th id=\"T_d9339_level0_col13\" class=\"col_heading level0 col13\" >tcp.checksum</th>\n",
       "      <th id=\"T_d9339_level0_col14\" class=\"col_heading level0 col14\" >tcp.connection.fin</th>\n",
       "      <th id=\"T_d9339_level0_col15\" class=\"col_heading level0 col15\" >tcp.connection.rst</th>\n",
       "      <th id=\"T_d9339_level0_col16\" class=\"col_heading level0 col16\" >tcp.connection.syn</th>\n",
       "      <th id=\"T_d9339_level0_col17\" class=\"col_heading level0 col17\" >tcp.connection.synack</th>\n",
       "      <th id=\"T_d9339_level0_col18\" class=\"col_heading level0 col18\" >tcp.flags</th>\n",
       "      <th id=\"T_d9339_level0_col19\" class=\"col_heading level0 col19\" >tcp.flags.ack</th>\n",
       "      <th id=\"T_d9339_level0_col20\" class=\"col_heading level0 col20\" >tcp.len</th>\n",
       "      <th id=\"T_d9339_level0_col21\" class=\"col_heading level0 col21\" >tcp.seq</th>\n",
       "      <th id=\"T_d9339_level0_col22\" class=\"col_heading level0 col22\" >udp.stream</th>\n",
       "      <th id=\"T_d9339_level0_col23\" class=\"col_heading level0 col23\" >udp.time_delta</th>\n",
       "      <th id=\"T_d9339_level0_col24\" class=\"col_heading level0 col24\" >dns.qry.name</th>\n",
       "      <th id=\"T_d9339_level0_col25\" class=\"col_heading level0 col25\" >dns.qry.name.len</th>\n",
       "      <th id=\"T_d9339_level0_col26\" class=\"col_heading level0 col26\" >dns.qry.qu</th>\n",
       "      <th id=\"T_d9339_level0_col27\" class=\"col_heading level0 col27\" >dns.qry.type</th>\n",
       "      <th id=\"T_d9339_level0_col28\" class=\"col_heading level0 col28\" >dns.retransmission</th>\n",
       "      <th id=\"T_d9339_level0_col29\" class=\"col_heading level0 col29\" >dns.retransmit_request</th>\n",
       "      <th id=\"T_d9339_level0_col30\" class=\"col_heading level0 col30\" >dns.retransmit_request_in</th>\n",
       "      <th id=\"T_d9339_level0_col31\" class=\"col_heading level0 col31\" >mqtt.conack.flags</th>\n",
       "      <th id=\"T_d9339_level0_col32\" class=\"col_heading level0 col32\" >mqtt.conflag.cleansess</th>\n",
       "      <th id=\"T_d9339_level0_col33\" class=\"col_heading level0 col33\" >mqtt.conflags</th>\n",
       "      <th id=\"T_d9339_level0_col34\" class=\"col_heading level0 col34\" >mqtt.hdrflags</th>\n",
       "      <th id=\"T_d9339_level0_col35\" class=\"col_heading level0 col35\" >mqtt.len</th>\n",
       "      <th id=\"T_d9339_level0_col36\" class=\"col_heading level0 col36\" >mqtt.msg_decoded_as</th>\n",
       "      <th id=\"T_d9339_level0_col37\" class=\"col_heading level0 col37\" >mqtt.msgtype</th>\n",
       "      <th id=\"T_d9339_level0_col38\" class=\"col_heading level0 col38\" >mqtt.proto_len</th>\n",
       "      <th id=\"T_d9339_level0_col39\" class=\"col_heading level0 col39\" >mqtt.protoname</th>\n",
       "      <th id=\"T_d9339_level0_col40\" class=\"col_heading level0 col40\" >mqtt.topic</th>\n",
       "      <th id=\"T_d9339_level0_col41\" class=\"col_heading level0 col41\" >mqtt.topic_len</th>\n",
       "      <th id=\"T_d9339_level0_col42\" class=\"col_heading level0 col42\" >mqtt.ver</th>\n",
       "      <th id=\"T_d9339_level0_col43\" class=\"col_heading level0 col43\" >mbtcp.len</th>\n",
       "      <th id=\"T_d9339_level0_col44\" class=\"col_heading level0 col44\" >mbtcp.trans_id</th>\n",
       "      <th id=\"T_d9339_level0_col45\" class=\"col_heading level0 col45\" >mbtcp.unit_id</th>\n",
       "      <th id=\"T_d9339_level0_col46\" class=\"col_heading level0 col46\" >Attack_label</th>\n",
       "      <th id=\"T_d9339_level0_col47\" class=\"col_heading level0 col47\" >Attack_type</th>\n",
       "    </tr>\n",
       "  </thead>\n",
       "  <tbody>\n",
       "    <tr>\n",
       "      <th id=\"T_d9339_level0_row0\" class=\"row_heading level0 row0\" >0</th>\n",
       "      <td id=\"T_d9339_row0_col0\" class=\"data row0 col0\" >0.000000</td>\n",
       "      <td id=\"T_d9339_row0_col1\" class=\"data row0 col1\" >0.000000</td>\n",
       "      <td id=\"T_d9339_row0_col2\" class=\"data row0 col2\" >0.000000</td>\n",
       "      <td id=\"T_d9339_row0_col3\" class=\"data row0 col3\" >0.000000</td>\n",
       "      <td id=\"T_d9339_row0_col4\" class=\"data row0 col4\" >0.000000</td>\n",
       "      <td id=\"T_d9339_row0_col5\" class=\"data row0 col5\" >0.000000</td>\n",
       "      <td id=\"T_d9339_row0_col6\" class=\"data row0 col6\" >0.0</td>\n",
       "      <td id=\"T_d9339_row0_col7\" class=\"data row0 col7\" >0.0</td>\n",
       "      <td id=\"T_d9339_row0_col8\" class=\"data row0 col8\" >0.0</td>\n",
       "      <td id=\"T_d9339_row0_col9\" class=\"data row0 col9\" >0.000000</td>\n",
       "      <td id=\"T_d9339_row0_col10\" class=\"data row0 col10\" >0.000000</td>\n",
       "      <td id=\"T_d9339_row0_col11\" class=\"data row0 col11\" >6.000000</td>\n",
       "      <td id=\"T_d9339_row0_col12\" class=\"data row0 col12\" >2774423095.000000</td>\n",
       "      <td id=\"T_d9339_row0_col13\" class=\"data row0 col13\" >313.000000</td>\n",
       "      <td id=\"T_d9339_row0_col14\" class=\"data row0 col14\" >0.000000</td>\n",
       "      <td id=\"T_d9339_row0_col15\" class=\"data row0 col15\" >0.000000</td>\n",
       "      <td id=\"T_d9339_row0_col16\" class=\"data row0 col16\" >0.000000</td>\n",
       "      <td id=\"T_d9339_row0_col17\" class=\"data row0 col17\" >0.000000</td>\n",
       "      <td id=\"T_d9339_row0_col18\" class=\"data row0 col18\" >16.000000</td>\n",
       "      <td id=\"T_d9339_row0_col19\" class=\"data row0 col19\" >1.000000</td>\n",
       "      <td id=\"T_d9339_row0_col20\" class=\"data row0 col20\" >0.000000</td>\n",
       "      <td id=\"T_d9339_row0_col21\" class=\"data row0 col21\" >59.000000</td>\n",
       "      <td id=\"T_d9339_row0_col22\" class=\"data row0 col22\" >0.000000</td>\n",
       "      <td id=\"T_d9339_row0_col23\" class=\"data row0 col23\" >0.000000</td>\n",
       "      <td id=\"T_d9339_row0_col24\" class=\"data row0 col24\" >0.000000</td>\n",
       "      <td id=\"T_d9339_row0_col25\" class=\"data row0 col25\" >0</td>\n",
       "      <td id=\"T_d9339_row0_col26\" class=\"data row0 col26\" >0.000000</td>\n",
       "      <td id=\"T_d9339_row0_col27\" class=\"data row0 col27\" >0.000000</td>\n",
       "      <td id=\"T_d9339_row0_col28\" class=\"data row0 col28\" >0.000000</td>\n",
       "      <td id=\"T_d9339_row0_col29\" class=\"data row0 col29\" >0.000000</td>\n",
       "      <td id=\"T_d9339_row0_col30\" class=\"data row0 col30\" >0.000000</td>\n",
       "      <td id=\"T_d9339_row0_col31\" class=\"data row0 col31\" >0</td>\n",
       "      <td id=\"T_d9339_row0_col32\" class=\"data row0 col32\" >0.000000</td>\n",
       "      <td id=\"T_d9339_row0_col33\" class=\"data row0 col33\" >0.000000</td>\n",
       "      <td id=\"T_d9339_row0_col34\" class=\"data row0 col34\" >0.000000</td>\n",
       "      <td id=\"T_d9339_row0_col35\" class=\"data row0 col35\" >0.000000</td>\n",
       "      <td id=\"T_d9339_row0_col36\" class=\"data row0 col36\" >0.000000</td>\n",
       "      <td id=\"T_d9339_row0_col37\" class=\"data row0 col37\" >0.000000</td>\n",
       "      <td id=\"T_d9339_row0_col38\" class=\"data row0 col38\" >0.000000</td>\n",
       "      <td id=\"T_d9339_row0_col39\" class=\"data row0 col39\" >0</td>\n",
       "      <td id=\"T_d9339_row0_col40\" class=\"data row0 col40\" >0</td>\n",
       "      <td id=\"T_d9339_row0_col41\" class=\"data row0 col41\" >0.000000</td>\n",
       "      <td id=\"T_d9339_row0_col42\" class=\"data row0 col42\" >0.000000</td>\n",
       "      <td id=\"T_d9339_row0_col43\" class=\"data row0 col43\" >0.000000</td>\n",
       "      <td id=\"T_d9339_row0_col44\" class=\"data row0 col44\" >0.000000</td>\n",
       "      <td id=\"T_d9339_row0_col45\" class=\"data row0 col45\" >0.000000</td>\n",
       "      <td id=\"T_d9339_row0_col46\" class=\"data row0 col46\" >0</td>\n",
       "      <td id=\"T_d9339_row0_col47\" class=\"data row0 col47\" >Normal</td>\n",
       "    </tr>\n",
       "    <tr>\n",
       "      <th id=\"T_d9339_level0_row1\" class=\"row_heading level0 row1\" >1</th>\n",
       "      <td id=\"T_d9339_row1_col0\" class=\"data row1 col0\" >0.000000</td>\n",
       "      <td id=\"T_d9339_row1_col1\" class=\"data row1 col1\" >0.000000</td>\n",
       "      <td id=\"T_d9339_row1_col2\" class=\"data row1 col2\" >0.000000</td>\n",
       "      <td id=\"T_d9339_row1_col3\" class=\"data row1 col3\" >0.000000</td>\n",
       "      <td id=\"T_d9339_row1_col4\" class=\"data row1 col4\" >0.000000</td>\n",
       "      <td id=\"T_d9339_row1_col5\" class=\"data row1 col5\" >0.000000</td>\n",
       "      <td id=\"T_d9339_row1_col6\" class=\"data row1 col6\" >0.0</td>\n",
       "      <td id=\"T_d9339_row1_col7\" class=\"data row1 col7\" >0.0</td>\n",
       "      <td id=\"T_d9339_row1_col8\" class=\"data row1 col8\" >0.0</td>\n",
       "      <td id=\"T_d9339_row1_col9\" class=\"data row1 col9\" >0.000000</td>\n",
       "      <td id=\"T_d9339_row1_col10\" class=\"data row1 col10\" >0.000000</td>\n",
       "      <td id=\"T_d9339_row1_col11\" class=\"data row1 col11\" >0.000000</td>\n",
       "      <td id=\"T_d9339_row1_col12\" class=\"data row1 col12\" >0.000000</td>\n",
       "      <td id=\"T_d9339_row1_col13\" class=\"data row1 col13\" >0.000000</td>\n",
       "      <td id=\"T_d9339_row1_col14\" class=\"data row1 col14\" >0.000000</td>\n",
       "      <td id=\"T_d9339_row1_col15\" class=\"data row1 col15\" >0.000000</td>\n",
       "      <td id=\"T_d9339_row1_col16\" class=\"data row1 col16\" >0.000000</td>\n",
       "      <td id=\"T_d9339_row1_col17\" class=\"data row1 col17\" >0.000000</td>\n",
       "      <td id=\"T_d9339_row1_col18\" class=\"data row1 col18\" >0.000000</td>\n",
       "      <td id=\"T_d9339_row1_col19\" class=\"data row1 col19\" >0.000000</td>\n",
       "      <td id=\"T_d9339_row1_col20\" class=\"data row1 col20\" >0.000000</td>\n",
       "      <td id=\"T_d9339_row1_col21\" class=\"data row1 col21\" >0.000000</td>\n",
       "      <td id=\"T_d9339_row1_col22\" class=\"data row1 col22\" >1622034.000000</td>\n",
       "      <td id=\"T_d9339_row1_col23\" class=\"data row1 col23\" >0.000000</td>\n",
       "      <td id=\"T_d9339_row1_col24\" class=\"data row1 col24\" >0.000000</td>\n",
       "      <td id=\"T_d9339_row1_col25\" class=\"data row1 col25\" >0.0</td>\n",
       "      <td id=\"T_d9339_row1_col26\" class=\"data row1 col26\" >0.000000</td>\n",
       "      <td id=\"T_d9339_row1_col27\" class=\"data row1 col27\" >0.000000</td>\n",
       "      <td id=\"T_d9339_row1_col28\" class=\"data row1 col28\" >0.000000</td>\n",
       "      <td id=\"T_d9339_row1_col29\" class=\"data row1 col29\" >0.000000</td>\n",
       "      <td id=\"T_d9339_row1_col30\" class=\"data row1 col30\" >0.000000</td>\n",
       "      <td id=\"T_d9339_row1_col31\" class=\"data row1 col31\" >0.0</td>\n",
       "      <td id=\"T_d9339_row1_col32\" class=\"data row1 col32\" >0.000000</td>\n",
       "      <td id=\"T_d9339_row1_col33\" class=\"data row1 col33\" >0.000000</td>\n",
       "      <td id=\"T_d9339_row1_col34\" class=\"data row1 col34\" >0.000000</td>\n",
       "      <td id=\"T_d9339_row1_col35\" class=\"data row1 col35\" >0.000000</td>\n",
       "      <td id=\"T_d9339_row1_col36\" class=\"data row1 col36\" >0.000000</td>\n",
       "      <td id=\"T_d9339_row1_col37\" class=\"data row1 col37\" >0.000000</td>\n",
       "      <td id=\"T_d9339_row1_col38\" class=\"data row1 col38\" >0.000000</td>\n",
       "      <td id=\"T_d9339_row1_col39\" class=\"data row1 col39\" >0.0</td>\n",
       "      <td id=\"T_d9339_row1_col40\" class=\"data row1 col40\" >0.0</td>\n",
       "      <td id=\"T_d9339_row1_col41\" class=\"data row1 col41\" >0.000000</td>\n",
       "      <td id=\"T_d9339_row1_col42\" class=\"data row1 col42\" >0.000000</td>\n",
       "      <td id=\"T_d9339_row1_col43\" class=\"data row1 col43\" >0.000000</td>\n",
       "      <td id=\"T_d9339_row1_col44\" class=\"data row1 col44\" >0.000000</td>\n",
       "      <td id=\"T_d9339_row1_col45\" class=\"data row1 col45\" >0.000000</td>\n",
       "      <td id=\"T_d9339_row1_col46\" class=\"data row1 col46\" >1</td>\n",
       "      <td id=\"T_d9339_row1_col47\" class=\"data row1 col47\" >DDoS_UDP</td>\n",
       "    </tr>\n",
       "    <tr>\n",
       "      <th id=\"T_d9339_level0_row2\" class=\"row_heading level0 row2\" >2</th>\n",
       "      <td id=\"T_d9339_row2_col0\" class=\"data row2 col0\" >0.000000</td>\n",
       "      <td id=\"T_d9339_row2_col1\" class=\"data row2 col1\" >0.000000</td>\n",
       "      <td id=\"T_d9339_row2_col2\" class=\"data row2 col2\" >0.000000</td>\n",
       "      <td id=\"T_d9339_row2_col3\" class=\"data row2 col3\" >0.000000</td>\n",
       "      <td id=\"T_d9339_row2_col4\" class=\"data row2 col4\" >0.000000</td>\n",
       "      <td id=\"T_d9339_row2_col5\" class=\"data row2 col5\" >0.000000</td>\n",
       "      <td id=\"T_d9339_row2_col6\" class=\"data row2 col6\" >0.0</td>\n",
       "      <td id=\"T_d9339_row2_col7\" class=\"data row2 col7\" >0.0</td>\n",
       "      <td id=\"T_d9339_row2_col8\" class=\"data row2 col8\" >0.0</td>\n",
       "      <td id=\"T_d9339_row2_col9\" class=\"data row2 col9\" >0.000000</td>\n",
       "      <td id=\"T_d9339_row2_col10\" class=\"data row2 col10\" >0.000000</td>\n",
       "      <td id=\"T_d9339_row2_col11\" class=\"data row2 col11\" >91101.000000</td>\n",
       "      <td id=\"T_d9339_row2_col12\" class=\"data row2 col12\" >2371715782.000000</td>\n",
       "      <td id=\"T_d9339_row2_col13\" class=\"data row2 col13\" >60523.000000</td>\n",
       "      <td id=\"T_d9339_row2_col14\" class=\"data row2 col14\" >0.000000</td>\n",
       "      <td id=\"T_d9339_row2_col15\" class=\"data row2 col15\" >0.000000</td>\n",
       "      <td id=\"T_d9339_row2_col16\" class=\"data row2 col16\" >0.000000</td>\n",
       "      <td id=\"T_d9339_row2_col17\" class=\"data row2 col17\" >0.000000</td>\n",
       "      <td id=\"T_d9339_row2_col18\" class=\"data row2 col18\" >16.000000</td>\n",
       "      <td id=\"T_d9339_row2_col19\" class=\"data row2 col19\" >1.000000</td>\n",
       "      <td id=\"T_d9339_row2_col20\" class=\"data row2 col20\" >1440.000000</td>\n",
       "      <td id=\"T_d9339_row2_col21\" class=\"data row2 col21\" >22641331.000000</td>\n",
       "      <td id=\"T_d9339_row2_col22\" class=\"data row2 col22\" >0.000000</td>\n",
       "      <td id=\"T_d9339_row2_col23\" class=\"data row2 col23\" >0.000000</td>\n",
       "      <td id=\"T_d9339_row2_col24\" class=\"data row2 col24\" >0.000000</td>\n",
       "      <td id=\"T_d9339_row2_col25\" class=\"data row2 col25\" >0</td>\n",
       "      <td id=\"T_d9339_row2_col26\" class=\"data row2 col26\" >0.000000</td>\n",
       "      <td id=\"T_d9339_row2_col27\" class=\"data row2 col27\" >0.000000</td>\n",
       "      <td id=\"T_d9339_row2_col28\" class=\"data row2 col28\" >0.000000</td>\n",
       "      <td id=\"T_d9339_row2_col29\" class=\"data row2 col29\" >0.000000</td>\n",
       "      <td id=\"T_d9339_row2_col30\" class=\"data row2 col30\" >0.000000</td>\n",
       "      <td id=\"T_d9339_row2_col31\" class=\"data row2 col31\" >0</td>\n",
       "      <td id=\"T_d9339_row2_col32\" class=\"data row2 col32\" >0.000000</td>\n",
       "      <td id=\"T_d9339_row2_col33\" class=\"data row2 col33\" >0.000000</td>\n",
       "      <td id=\"T_d9339_row2_col34\" class=\"data row2 col34\" >0.000000</td>\n",
       "      <td id=\"T_d9339_row2_col35\" class=\"data row2 col35\" >0.000000</td>\n",
       "      <td id=\"T_d9339_row2_col36\" class=\"data row2 col36\" >0.000000</td>\n",
       "      <td id=\"T_d9339_row2_col37\" class=\"data row2 col37\" >0.000000</td>\n",
       "      <td id=\"T_d9339_row2_col38\" class=\"data row2 col38\" >0.000000</td>\n",
       "      <td id=\"T_d9339_row2_col39\" class=\"data row2 col39\" >0</td>\n",
       "      <td id=\"T_d9339_row2_col40\" class=\"data row2 col40\" >0</td>\n",
       "      <td id=\"T_d9339_row2_col41\" class=\"data row2 col41\" >0.000000</td>\n",
       "      <td id=\"T_d9339_row2_col42\" class=\"data row2 col42\" >0.000000</td>\n",
       "      <td id=\"T_d9339_row2_col43\" class=\"data row2 col43\" >0.000000</td>\n",
       "      <td id=\"T_d9339_row2_col44\" class=\"data row2 col44\" >0.000000</td>\n",
       "      <td id=\"T_d9339_row2_col45\" class=\"data row2 col45\" >0.000000</td>\n",
       "      <td id=\"T_d9339_row2_col46\" class=\"data row2 col46\" >0</td>\n",
       "      <td id=\"T_d9339_row2_col47\" class=\"data row2 col47\" >Normal</td>\n",
       "    </tr>\n",
       "    <tr>\n",
       "      <th id=\"T_d9339_level0_row3\" class=\"row_heading level0 row3\" >3</th>\n",
       "      <td id=\"T_d9339_row3_col0\" class=\"data row3 col0\" >0.000000</td>\n",
       "      <td id=\"T_d9339_row3_col1\" class=\"data row3 col1\" >0.000000</td>\n",
       "      <td id=\"T_d9339_row3_col2\" class=\"data row3 col2\" >0.000000</td>\n",
       "      <td id=\"T_d9339_row3_col3\" class=\"data row3 col3\" >0.000000</td>\n",
       "      <td id=\"T_d9339_row3_col4\" class=\"data row3 col4\" >0.000000</td>\n",
       "      <td id=\"T_d9339_row3_col5\" class=\"data row3 col5\" >0.000000</td>\n",
       "      <td id=\"T_d9339_row3_col6\" class=\"data row3 col6\" >0.0</td>\n",
       "      <td id=\"T_d9339_row3_col7\" class=\"data row3 col7\" >0.0</td>\n",
       "      <td id=\"T_d9339_row3_col8\" class=\"data row3 col8\" >0.0</td>\n",
       "      <td id=\"T_d9339_row3_col9\" class=\"data row3 col9\" >0.000000</td>\n",
       "      <td id=\"T_d9339_row3_col10\" class=\"data row3 col10\" >0.000000</td>\n",
       "      <td id=\"T_d9339_row3_col11\" class=\"data row3 col11\" >3531.000000</td>\n",
       "      <td id=\"T_d9339_row3_col12\" class=\"data row3 col12\" >2371628212.000000</td>\n",
       "      <td id=\"T_d9339_row3_col13\" class=\"data row3 col13\" >21486.000000</td>\n",
       "      <td id=\"T_d9339_row3_col14\" class=\"data row3 col14\" >0.000000</td>\n",
       "      <td id=\"T_d9339_row3_col15\" class=\"data row3 col15\" >0.000000</td>\n",
       "      <td id=\"T_d9339_row3_col16\" class=\"data row3 col16\" >0.000000</td>\n",
       "      <td id=\"T_d9339_row3_col17\" class=\"data row3 col17\" >0.000000</td>\n",
       "      <td id=\"T_d9339_row3_col18\" class=\"data row3 col18\" >16.000000</td>\n",
       "      <td id=\"T_d9339_row3_col19\" class=\"data row3 col19\" >1.000000</td>\n",
       "      <td id=\"T_d9339_row3_col20\" class=\"data row3 col20\" >0.000000</td>\n",
       "      <td id=\"T_d9339_row3_col21\" class=\"data row3 col21\" >323260.000000</td>\n",
       "      <td id=\"T_d9339_row3_col22\" class=\"data row3 col22\" >0.000000</td>\n",
       "      <td id=\"T_d9339_row3_col23\" class=\"data row3 col23\" >0.000000</td>\n",
       "      <td id=\"T_d9339_row3_col24\" class=\"data row3 col24\" >0.000000</td>\n",
       "      <td id=\"T_d9339_row3_col25\" class=\"data row3 col25\" >0</td>\n",
       "      <td id=\"T_d9339_row3_col26\" class=\"data row3 col26\" >0.000000</td>\n",
       "      <td id=\"T_d9339_row3_col27\" class=\"data row3 col27\" >0.000000</td>\n",
       "      <td id=\"T_d9339_row3_col28\" class=\"data row3 col28\" >0.000000</td>\n",
       "      <td id=\"T_d9339_row3_col29\" class=\"data row3 col29\" >0.000000</td>\n",
       "      <td id=\"T_d9339_row3_col30\" class=\"data row3 col30\" >0.000000</td>\n",
       "      <td id=\"T_d9339_row3_col31\" class=\"data row3 col31\" >0</td>\n",
       "      <td id=\"T_d9339_row3_col32\" class=\"data row3 col32\" >0.000000</td>\n",
       "      <td id=\"T_d9339_row3_col33\" class=\"data row3 col33\" >0.000000</td>\n",
       "      <td id=\"T_d9339_row3_col34\" class=\"data row3 col34\" >0.000000</td>\n",
       "      <td id=\"T_d9339_row3_col35\" class=\"data row3 col35\" >0.000000</td>\n",
       "      <td id=\"T_d9339_row3_col36\" class=\"data row3 col36\" >0.000000</td>\n",
       "      <td id=\"T_d9339_row3_col37\" class=\"data row3 col37\" >0.000000</td>\n",
       "      <td id=\"T_d9339_row3_col38\" class=\"data row3 col38\" >0.000000</td>\n",
       "      <td id=\"T_d9339_row3_col39\" class=\"data row3 col39\" >0</td>\n",
       "      <td id=\"T_d9339_row3_col40\" class=\"data row3 col40\" >0</td>\n",
       "      <td id=\"T_d9339_row3_col41\" class=\"data row3 col41\" >0.000000</td>\n",
       "      <td id=\"T_d9339_row3_col42\" class=\"data row3 col42\" >0.000000</td>\n",
       "      <td id=\"T_d9339_row3_col43\" class=\"data row3 col43\" >0.000000</td>\n",
       "      <td id=\"T_d9339_row3_col44\" class=\"data row3 col44\" >0.000000</td>\n",
       "      <td id=\"T_d9339_row3_col45\" class=\"data row3 col45\" >0.000000</td>\n",
       "      <td id=\"T_d9339_row3_col46\" class=\"data row3 col46\" >0</td>\n",
       "      <td id=\"T_d9339_row3_col47\" class=\"data row3 col47\" >Normal</td>\n",
       "    </tr>\n",
       "    <tr>\n",
       "      <th id=\"T_d9339_level0_row4\" class=\"row_heading level0 row4\" >4</th>\n",
       "      <td id=\"T_d9339_row4_col0\" class=\"data row4 col0\" >0.000000</td>\n",
       "      <td id=\"T_d9339_row4_col1\" class=\"data row4 col1\" >0.000000</td>\n",
       "      <td id=\"T_d9339_row4_col2\" class=\"data row4 col2\" >0.000000</td>\n",
       "      <td id=\"T_d9339_row4_col3\" class=\"data row4 col3\" >0.000000</td>\n",
       "      <td id=\"T_d9339_row4_col4\" class=\"data row4 col4\" >0.000000</td>\n",
       "      <td id=\"T_d9339_row4_col5\" class=\"data row4 col5\" >0.000000</td>\n",
       "      <td id=\"T_d9339_row4_col6\" class=\"data row4 col6\" >0.0</td>\n",
       "      <td id=\"T_d9339_row4_col7\" class=\"data row4 col7\" >0.0</td>\n",
       "      <td id=\"T_d9339_row4_col8\" class=\"data row4 col8\" >0.0</td>\n",
       "      <td id=\"T_d9339_row4_col9\" class=\"data row4 col9\" >0.000000</td>\n",
       "      <td id=\"T_d9339_row4_col10\" class=\"data row4 col10\" >0.000000</td>\n",
       "      <td id=\"T_d9339_row4_col11\" class=\"data row4 col11\" >5.000000</td>\n",
       "      <td id=\"T_d9339_row4_col12\" class=\"data row4 col12\" >3323730996.000000</td>\n",
       "      <td id=\"T_d9339_row4_col13\" class=\"data row4 col13\" >50978.000000</td>\n",
       "      <td id=\"T_d9339_row4_col14\" class=\"data row4 col14\" >0.000000</td>\n",
       "      <td id=\"T_d9339_row4_col15\" class=\"data row4 col15\" >0.000000</td>\n",
       "      <td id=\"T_d9339_row4_col16\" class=\"data row4 col16\" >0.000000</td>\n",
       "      <td id=\"T_d9339_row4_col17\" class=\"data row4 col17\" >0.000000</td>\n",
       "      <td id=\"T_d9339_row4_col18\" class=\"data row4 col18\" >24.000000</td>\n",
       "      <td id=\"T_d9339_row4_col19\" class=\"data row4 col19\" >1.000000</td>\n",
       "      <td id=\"T_d9339_row4_col20\" class=\"data row4 col20\" >41.000000</td>\n",
       "      <td id=\"T_d9339_row4_col21\" class=\"data row4 col21\" >15.000000</td>\n",
       "      <td id=\"T_d9339_row4_col22\" class=\"data row4 col22\" >0.000000</td>\n",
       "      <td id=\"T_d9339_row4_col23\" class=\"data row4 col23\" >0.000000</td>\n",
       "      <td id=\"T_d9339_row4_col24\" class=\"data row4 col24\" >0.000000</td>\n",
       "      <td id=\"T_d9339_row4_col25\" class=\"data row4 col25\" >0</td>\n",
       "      <td id=\"T_d9339_row4_col26\" class=\"data row4 col26\" >0.000000</td>\n",
       "      <td id=\"T_d9339_row4_col27\" class=\"data row4 col27\" >0.000000</td>\n",
       "      <td id=\"T_d9339_row4_col28\" class=\"data row4 col28\" >0.000000</td>\n",
       "      <td id=\"T_d9339_row4_col29\" class=\"data row4 col29\" >0.000000</td>\n",
       "      <td id=\"T_d9339_row4_col30\" class=\"data row4 col30\" >0.000000</td>\n",
       "      <td id=\"T_d9339_row4_col31\" class=\"data row4 col31\" >0</td>\n",
       "      <td id=\"T_d9339_row4_col32\" class=\"data row4 col32\" >0.000000</td>\n",
       "      <td id=\"T_d9339_row4_col33\" class=\"data row4 col33\" >0.000000</td>\n",
       "      <td id=\"T_d9339_row4_col34\" class=\"data row4 col34\" >48.000000</td>\n",
       "      <td id=\"T_d9339_row4_col35\" class=\"data row4 col35\" >39.000000</td>\n",
       "      <td id=\"T_d9339_row4_col36\" class=\"data row4 col36\" >0.000000</td>\n",
       "      <td id=\"T_d9339_row4_col37\" class=\"data row4 col37\" >3.000000</td>\n",
       "      <td id=\"T_d9339_row4_col38\" class=\"data row4 col38\" >0.000000</td>\n",
       "      <td id=\"T_d9339_row4_col39\" class=\"data row4 col39\" >0</td>\n",
       "      <td id=\"T_d9339_row4_col40\" class=\"data row4 col40\" >Temperature_and_Humidity</td>\n",
       "      <td id=\"T_d9339_row4_col41\" class=\"data row4 col41\" >24.000000</td>\n",
       "      <td id=\"T_d9339_row4_col42\" class=\"data row4 col42\" >0.000000</td>\n",
       "      <td id=\"T_d9339_row4_col43\" class=\"data row4 col43\" >0.000000</td>\n",
       "      <td id=\"T_d9339_row4_col44\" class=\"data row4 col44\" >0.000000</td>\n",
       "      <td id=\"T_d9339_row4_col45\" class=\"data row4 col45\" >0.000000</td>\n",
       "      <td id=\"T_d9339_row4_col46\" class=\"data row4 col46\" >0</td>\n",
       "      <td id=\"T_d9339_row4_col47\" class=\"data row4 col47\" >Normal</td>\n",
       "    </tr>\n",
       "    <tr>\n",
       "      <th id=\"T_d9339_level0_row5\" class=\"row_heading level0 row5\" >5</th>\n",
       "      <td id=\"T_d9339_row5_col0\" class=\"data row5 col0\" >0.000000</td>\n",
       "      <td id=\"T_d9339_row5_col1\" class=\"data row5 col1\" >0.000000</td>\n",
       "      <td id=\"T_d9339_row5_col2\" class=\"data row5 col2\" >0.000000</td>\n",
       "      <td id=\"T_d9339_row5_col3\" class=\"data row5 col3\" >0.000000</td>\n",
       "      <td id=\"T_d9339_row5_col4\" class=\"data row5 col4\" >0.000000</td>\n",
       "      <td id=\"T_d9339_row5_col5\" class=\"data row5 col5\" >0.000000</td>\n",
       "      <td id=\"T_d9339_row5_col6\" class=\"data row5 col6\" >0</td>\n",
       "      <td id=\"T_d9339_row5_col7\" class=\"data row5 col7\" >0.0</td>\n",
       "      <td id=\"T_d9339_row5_col8\" class=\"data row5 col8\" >0</td>\n",
       "      <td id=\"T_d9339_row5_col9\" class=\"data row5 col9\" >0.000000</td>\n",
       "      <td id=\"T_d9339_row5_col10\" class=\"data row5 col10\" >0.000000</td>\n",
       "      <td id=\"T_d9339_row5_col11\" class=\"data row5 col11\" >303.000000</td>\n",
       "      <td id=\"T_d9339_row5_col12\" class=\"data row5 col12\" >3453508832.000000</td>\n",
       "      <td id=\"T_d9339_row5_col13\" class=\"data row5 col13\" >24759.000000</td>\n",
       "      <td id=\"T_d9339_row5_col14\" class=\"data row5 col14\" >0.000000</td>\n",
       "      <td id=\"T_d9339_row5_col15\" class=\"data row5 col15\" >0.000000</td>\n",
       "      <td id=\"T_d9339_row5_col16\" class=\"data row5 col16\" >0.000000</td>\n",
       "      <td id=\"T_d9339_row5_col17\" class=\"data row5 col17\" >0.000000</td>\n",
       "      <td id=\"T_d9339_row5_col18\" class=\"data row5 col18\" >16.000000</td>\n",
       "      <td id=\"T_d9339_row5_col19\" class=\"data row5 col19\" >1.000000</td>\n",
       "      <td id=\"T_d9339_row5_col20\" class=\"data row5 col20\" >0.000000</td>\n",
       "      <td id=\"T_d9339_row5_col21\" class=\"data row5 col21\" >262.000000</td>\n",
       "      <td id=\"T_d9339_row5_col22\" class=\"data row5 col22\" >0.000000</td>\n",
       "      <td id=\"T_d9339_row5_col23\" class=\"data row5 col23\" >0.000000</td>\n",
       "      <td id=\"T_d9339_row5_col24\" class=\"data row5 col24\" >0.000000</td>\n",
       "      <td id=\"T_d9339_row5_col25\" class=\"data row5 col25\" >0.0</td>\n",
       "      <td id=\"T_d9339_row5_col26\" class=\"data row5 col26\" >0.000000</td>\n",
       "      <td id=\"T_d9339_row5_col27\" class=\"data row5 col27\" >0.000000</td>\n",
       "      <td id=\"T_d9339_row5_col28\" class=\"data row5 col28\" >0.000000</td>\n",
       "      <td id=\"T_d9339_row5_col29\" class=\"data row5 col29\" >0.000000</td>\n",
       "      <td id=\"T_d9339_row5_col30\" class=\"data row5 col30\" >0.000000</td>\n",
       "      <td id=\"T_d9339_row5_col31\" class=\"data row5 col31\" >0.0</td>\n",
       "      <td id=\"T_d9339_row5_col32\" class=\"data row5 col32\" >0.000000</td>\n",
       "      <td id=\"T_d9339_row5_col33\" class=\"data row5 col33\" >0.000000</td>\n",
       "      <td id=\"T_d9339_row5_col34\" class=\"data row5 col34\" >0.000000</td>\n",
       "      <td id=\"T_d9339_row5_col35\" class=\"data row5 col35\" >0.000000</td>\n",
       "      <td id=\"T_d9339_row5_col36\" class=\"data row5 col36\" >0.000000</td>\n",
       "      <td id=\"T_d9339_row5_col37\" class=\"data row5 col37\" >0.000000</td>\n",
       "      <td id=\"T_d9339_row5_col38\" class=\"data row5 col38\" >0.000000</td>\n",
       "      <td id=\"T_d9339_row5_col39\" class=\"data row5 col39\" >0.0</td>\n",
       "      <td id=\"T_d9339_row5_col40\" class=\"data row5 col40\" >0.0</td>\n",
       "      <td id=\"T_d9339_row5_col41\" class=\"data row5 col41\" >0.000000</td>\n",
       "      <td id=\"T_d9339_row5_col42\" class=\"data row5 col42\" >0.000000</td>\n",
       "      <td id=\"T_d9339_row5_col43\" class=\"data row5 col43\" >0.000000</td>\n",
       "      <td id=\"T_d9339_row5_col44\" class=\"data row5 col44\" >0.000000</td>\n",
       "      <td id=\"T_d9339_row5_col45\" class=\"data row5 col45\" >0.000000</td>\n",
       "      <td id=\"T_d9339_row5_col46\" class=\"data row5 col46\" >1</td>\n",
       "      <td id=\"T_d9339_row5_col47\" class=\"data row5 col47\" >Password</td>\n",
       "    </tr>\n",
       "    <tr>\n",
       "      <th id=\"T_d9339_level0_row6\" class=\"row_heading level0 row6\" >6</th>\n",
       "      <td id=\"T_d9339_row6_col0\" class=\"data row6 col0\" >0.000000</td>\n",
       "      <td id=\"T_d9339_row6_col1\" class=\"data row6 col1\" >0.000000</td>\n",
       "      <td id=\"T_d9339_row6_col2\" class=\"data row6 col2\" >0.000000</td>\n",
       "      <td id=\"T_d9339_row6_col3\" class=\"data row6 col3\" >0.000000</td>\n",
       "      <td id=\"T_d9339_row6_col4\" class=\"data row6 col4\" >0.000000</td>\n",
       "      <td id=\"T_d9339_row6_col5\" class=\"data row6 col5\" >0.000000</td>\n",
       "      <td id=\"T_d9339_row6_col6\" class=\"data row6 col6\" >0.0</td>\n",
       "      <td id=\"T_d9339_row6_col7\" class=\"data row6 col7\" >0.0</td>\n",
       "      <td id=\"T_d9339_row6_col8\" class=\"data row6 col8\" >0.0</td>\n",
       "      <td id=\"T_d9339_row6_col9\" class=\"data row6 col9\" >0.000000</td>\n",
       "      <td id=\"T_d9339_row6_col10\" class=\"data row6 col10\" >0.000000</td>\n",
       "      <td id=\"T_d9339_row6_col11\" class=\"data row6 col11\" >59.000000</td>\n",
       "      <td id=\"T_d9339_row6_col12\" class=\"data row6 col12\" >466369018.000000</td>\n",
       "      <td id=\"T_d9339_row6_col13\" class=\"data row6 col13\" >6384.000000</td>\n",
       "      <td id=\"T_d9339_row6_col14\" class=\"data row6 col14\" >1.000000</td>\n",
       "      <td id=\"T_d9339_row6_col15\" class=\"data row6 col15\" >0.000000</td>\n",
       "      <td id=\"T_d9339_row6_col16\" class=\"data row6 col16\" >0.000000</td>\n",
       "      <td id=\"T_d9339_row6_col17\" class=\"data row6 col17\" >0.000000</td>\n",
       "      <td id=\"T_d9339_row6_col18\" class=\"data row6 col18\" >17.000000</td>\n",
       "      <td id=\"T_d9339_row6_col19\" class=\"data row6 col19\" >1.000000</td>\n",
       "      <td id=\"T_d9339_row6_col20\" class=\"data row6 col20\" >0.000000</td>\n",
       "      <td id=\"T_d9339_row6_col21\" class=\"data row6 col21\" >5.000000</td>\n",
       "      <td id=\"T_d9339_row6_col22\" class=\"data row6 col22\" >0.000000</td>\n",
       "      <td id=\"T_d9339_row6_col23\" class=\"data row6 col23\" >0.000000</td>\n",
       "      <td id=\"T_d9339_row6_col24\" class=\"data row6 col24\" >0.000000</td>\n",
       "      <td id=\"T_d9339_row6_col25\" class=\"data row6 col25\" >0</td>\n",
       "      <td id=\"T_d9339_row6_col26\" class=\"data row6 col26\" >0.000000</td>\n",
       "      <td id=\"T_d9339_row6_col27\" class=\"data row6 col27\" >0.000000</td>\n",
       "      <td id=\"T_d9339_row6_col28\" class=\"data row6 col28\" >0.000000</td>\n",
       "      <td id=\"T_d9339_row6_col29\" class=\"data row6 col29\" >0.000000</td>\n",
       "      <td id=\"T_d9339_row6_col30\" class=\"data row6 col30\" >0.000000</td>\n",
       "      <td id=\"T_d9339_row6_col31\" class=\"data row6 col31\" >0</td>\n",
       "      <td id=\"T_d9339_row6_col32\" class=\"data row6 col32\" >0.000000</td>\n",
       "      <td id=\"T_d9339_row6_col33\" class=\"data row6 col33\" >0.000000</td>\n",
       "      <td id=\"T_d9339_row6_col34\" class=\"data row6 col34\" >0.000000</td>\n",
       "      <td id=\"T_d9339_row6_col35\" class=\"data row6 col35\" >0.000000</td>\n",
       "      <td id=\"T_d9339_row6_col36\" class=\"data row6 col36\" >0.000000</td>\n",
       "      <td id=\"T_d9339_row6_col37\" class=\"data row6 col37\" >0.000000</td>\n",
       "      <td id=\"T_d9339_row6_col38\" class=\"data row6 col38\" >0.000000</td>\n",
       "      <td id=\"T_d9339_row6_col39\" class=\"data row6 col39\" >0</td>\n",
       "      <td id=\"T_d9339_row6_col40\" class=\"data row6 col40\" >0</td>\n",
       "      <td id=\"T_d9339_row6_col41\" class=\"data row6 col41\" >0.000000</td>\n",
       "      <td id=\"T_d9339_row6_col42\" class=\"data row6 col42\" >0.000000</td>\n",
       "      <td id=\"T_d9339_row6_col43\" class=\"data row6 col43\" >0.000000</td>\n",
       "      <td id=\"T_d9339_row6_col44\" class=\"data row6 col44\" >0.000000</td>\n",
       "      <td id=\"T_d9339_row6_col45\" class=\"data row6 col45\" >0.000000</td>\n",
       "      <td id=\"T_d9339_row6_col46\" class=\"data row6 col46\" >0</td>\n",
       "      <td id=\"T_d9339_row6_col47\" class=\"data row6 col47\" >Normal</td>\n",
       "    </tr>\n",
       "    <tr>\n",
       "      <th id=\"T_d9339_level0_row7\" class=\"row_heading level0 row7\" >7</th>\n",
       "      <td id=\"T_d9339_row7_col0\" class=\"data row7 col0\" >0.000000</td>\n",
       "      <td id=\"T_d9339_row7_col1\" class=\"data row7 col1\" >0.000000</td>\n",
       "      <td id=\"T_d9339_row7_col2\" class=\"data row7 col2\" >0.000000</td>\n",
       "      <td id=\"T_d9339_row7_col3\" class=\"data row7 col3\" >0.000000</td>\n",
       "      <td id=\"T_d9339_row7_col4\" class=\"data row7 col4\" >0.000000</td>\n",
       "      <td id=\"T_d9339_row7_col5\" class=\"data row7 col5\" >0.000000</td>\n",
       "      <td id=\"T_d9339_row7_col6\" class=\"data row7 col6\" >0.0</td>\n",
       "      <td id=\"T_d9339_row7_col7\" class=\"data row7 col7\" >0.0</td>\n",
       "      <td id=\"T_d9339_row7_col8\" class=\"data row7 col8\" >0.0</td>\n",
       "      <td id=\"T_d9339_row7_col9\" class=\"data row7 col9\" >0.000000</td>\n",
       "      <td id=\"T_d9339_row7_col10\" class=\"data row7 col10\" >0.000000</td>\n",
       "      <td id=\"T_d9339_row7_col11\" class=\"data row7 col11\" >1.000000</td>\n",
       "      <td id=\"T_d9339_row7_col12\" class=\"data row7 col12\" >404378316.000000</td>\n",
       "      <td id=\"T_d9339_row7_col13\" class=\"data row7 col13\" >37438.000000</td>\n",
       "      <td id=\"T_d9339_row7_col14\" class=\"data row7 col14\" >0.000000</td>\n",
       "      <td id=\"T_d9339_row7_col15\" class=\"data row7 col15\" >0.000000</td>\n",
       "      <td id=\"T_d9339_row7_col16\" class=\"data row7 col16\" >0.000000</td>\n",
       "      <td id=\"T_d9339_row7_col17\" class=\"data row7 col17\" >0.000000</td>\n",
       "      <td id=\"T_d9339_row7_col18\" class=\"data row7 col18\" >16.000000</td>\n",
       "      <td id=\"T_d9339_row7_col19\" class=\"data row7 col19\" >1.000000</td>\n",
       "      <td id=\"T_d9339_row7_col20\" class=\"data row7 col20\" >0.000000</td>\n",
       "      <td id=\"T_d9339_row7_col21\" class=\"data row7 col21\" >1.000000</td>\n",
       "      <td id=\"T_d9339_row7_col22\" class=\"data row7 col22\" >0.000000</td>\n",
       "      <td id=\"T_d9339_row7_col23\" class=\"data row7 col23\" >0.000000</td>\n",
       "      <td id=\"T_d9339_row7_col24\" class=\"data row7 col24\" >0.000000</td>\n",
       "      <td id=\"T_d9339_row7_col25\" class=\"data row7 col25\" >0</td>\n",
       "      <td id=\"T_d9339_row7_col26\" class=\"data row7 col26\" >0.000000</td>\n",
       "      <td id=\"T_d9339_row7_col27\" class=\"data row7 col27\" >0.000000</td>\n",
       "      <td id=\"T_d9339_row7_col28\" class=\"data row7 col28\" >0.000000</td>\n",
       "      <td id=\"T_d9339_row7_col29\" class=\"data row7 col29\" >0.000000</td>\n",
       "      <td id=\"T_d9339_row7_col30\" class=\"data row7 col30\" >0.000000</td>\n",
       "      <td id=\"T_d9339_row7_col31\" class=\"data row7 col31\" >0</td>\n",
       "      <td id=\"T_d9339_row7_col32\" class=\"data row7 col32\" >0.000000</td>\n",
       "      <td id=\"T_d9339_row7_col33\" class=\"data row7 col33\" >0.000000</td>\n",
       "      <td id=\"T_d9339_row7_col34\" class=\"data row7 col34\" >0.000000</td>\n",
       "      <td id=\"T_d9339_row7_col35\" class=\"data row7 col35\" >0.000000</td>\n",
       "      <td id=\"T_d9339_row7_col36\" class=\"data row7 col36\" >0.000000</td>\n",
       "      <td id=\"T_d9339_row7_col37\" class=\"data row7 col37\" >0.000000</td>\n",
       "      <td id=\"T_d9339_row7_col38\" class=\"data row7 col38\" >0.000000</td>\n",
       "      <td id=\"T_d9339_row7_col39\" class=\"data row7 col39\" >0</td>\n",
       "      <td id=\"T_d9339_row7_col40\" class=\"data row7 col40\" >0</td>\n",
       "      <td id=\"T_d9339_row7_col41\" class=\"data row7 col41\" >0.000000</td>\n",
       "      <td id=\"T_d9339_row7_col42\" class=\"data row7 col42\" >0.000000</td>\n",
       "      <td id=\"T_d9339_row7_col43\" class=\"data row7 col43\" >0.000000</td>\n",
       "      <td id=\"T_d9339_row7_col44\" class=\"data row7 col44\" >0.000000</td>\n",
       "      <td id=\"T_d9339_row7_col45\" class=\"data row7 col45\" >0.000000</td>\n",
       "      <td id=\"T_d9339_row7_col46\" class=\"data row7 col46\" >0</td>\n",
       "      <td id=\"T_d9339_row7_col47\" class=\"data row7 col47\" >Normal</td>\n",
       "    </tr>\n",
       "    <tr>\n",
       "      <th id=\"T_d9339_level0_row8\" class=\"row_heading level0 row8\" >8</th>\n",
       "      <td id=\"T_d9339_row8_col0\" class=\"data row8 col0\" >0.000000</td>\n",
       "      <td id=\"T_d9339_row8_col1\" class=\"data row8 col1\" >0.000000</td>\n",
       "      <td id=\"T_d9339_row8_col2\" class=\"data row8 col2\" >0.000000</td>\n",
       "      <td id=\"T_d9339_row8_col3\" class=\"data row8 col3\" >0.000000</td>\n",
       "      <td id=\"T_d9339_row8_col4\" class=\"data row8 col4\" >0.000000</td>\n",
       "      <td id=\"T_d9339_row8_col5\" class=\"data row8 col5\" >0.000000</td>\n",
       "      <td id=\"T_d9339_row8_col6\" class=\"data row8 col6\" >0.0</td>\n",
       "      <td id=\"T_d9339_row8_col7\" class=\"data row8 col7\" >0.0</td>\n",
       "      <td id=\"T_d9339_row8_col8\" class=\"data row8 col8\" >0.0</td>\n",
       "      <td id=\"T_d9339_row8_col9\" class=\"data row8 col9\" >0.000000</td>\n",
       "      <td id=\"T_d9339_row8_col10\" class=\"data row8 col10\" >0.000000</td>\n",
       "      <td id=\"T_d9339_row8_col11\" class=\"data row8 col11\" >1.000000</td>\n",
       "      <td id=\"T_d9339_row8_col12\" class=\"data row8 col12\" >3551860119.000000</td>\n",
       "      <td id=\"T_d9339_row8_col13\" class=\"data row8 col13\" >4617.000000</td>\n",
       "      <td id=\"T_d9339_row8_col14\" class=\"data row8 col14\" >0.000000</td>\n",
       "      <td id=\"T_d9339_row8_col15\" class=\"data row8 col15\" >0.000000</td>\n",
       "      <td id=\"T_d9339_row8_col16\" class=\"data row8 col16\" >0.000000</td>\n",
       "      <td id=\"T_d9339_row8_col17\" class=\"data row8 col17\" >1.000000</td>\n",
       "      <td id=\"T_d9339_row8_col18\" class=\"data row8 col18\" >18.000000</td>\n",
       "      <td id=\"T_d9339_row8_col19\" class=\"data row8 col19\" >1.000000</td>\n",
       "      <td id=\"T_d9339_row8_col20\" class=\"data row8 col20\" >0.000000</td>\n",
       "      <td id=\"T_d9339_row8_col21\" class=\"data row8 col21\" >0.000000</td>\n",
       "      <td id=\"T_d9339_row8_col22\" class=\"data row8 col22\" >0.000000</td>\n",
       "      <td id=\"T_d9339_row8_col23\" class=\"data row8 col23\" >0.000000</td>\n",
       "      <td id=\"T_d9339_row8_col24\" class=\"data row8 col24\" >0.000000</td>\n",
       "      <td id=\"T_d9339_row8_col25\" class=\"data row8 col25\" >0</td>\n",
       "      <td id=\"T_d9339_row8_col26\" class=\"data row8 col26\" >0.000000</td>\n",
       "      <td id=\"T_d9339_row8_col27\" class=\"data row8 col27\" >0.000000</td>\n",
       "      <td id=\"T_d9339_row8_col28\" class=\"data row8 col28\" >0.000000</td>\n",
       "      <td id=\"T_d9339_row8_col29\" class=\"data row8 col29\" >0.000000</td>\n",
       "      <td id=\"T_d9339_row8_col30\" class=\"data row8 col30\" >0.000000</td>\n",
       "      <td id=\"T_d9339_row8_col31\" class=\"data row8 col31\" >0</td>\n",
       "      <td id=\"T_d9339_row8_col32\" class=\"data row8 col32\" >0.000000</td>\n",
       "      <td id=\"T_d9339_row8_col33\" class=\"data row8 col33\" >0.000000</td>\n",
       "      <td id=\"T_d9339_row8_col34\" class=\"data row8 col34\" >0.000000</td>\n",
       "      <td id=\"T_d9339_row8_col35\" class=\"data row8 col35\" >0.000000</td>\n",
       "      <td id=\"T_d9339_row8_col36\" class=\"data row8 col36\" >0.000000</td>\n",
       "      <td id=\"T_d9339_row8_col37\" class=\"data row8 col37\" >0.000000</td>\n",
       "      <td id=\"T_d9339_row8_col38\" class=\"data row8 col38\" >0.000000</td>\n",
       "      <td id=\"T_d9339_row8_col39\" class=\"data row8 col39\" >0</td>\n",
       "      <td id=\"T_d9339_row8_col40\" class=\"data row8 col40\" >0</td>\n",
       "      <td id=\"T_d9339_row8_col41\" class=\"data row8 col41\" >0.000000</td>\n",
       "      <td id=\"T_d9339_row8_col42\" class=\"data row8 col42\" >0.000000</td>\n",
       "      <td id=\"T_d9339_row8_col43\" class=\"data row8 col43\" >0.000000</td>\n",
       "      <td id=\"T_d9339_row8_col44\" class=\"data row8 col44\" >0.000000</td>\n",
       "      <td id=\"T_d9339_row8_col45\" class=\"data row8 col45\" >0.000000</td>\n",
       "      <td id=\"T_d9339_row8_col46\" class=\"data row8 col46\" >0</td>\n",
       "      <td id=\"T_d9339_row8_col47\" class=\"data row8 col47\" >Normal</td>\n",
       "    </tr>\n",
       "    <tr>\n",
       "      <th id=\"T_d9339_level0_row9\" class=\"row_heading level0 row9\" >9</th>\n",
       "      <td id=\"T_d9339_row9_col0\" class=\"data row9 col0\" >0.000000</td>\n",
       "      <td id=\"T_d9339_row9_col1\" class=\"data row9 col1\" >0.000000</td>\n",
       "      <td id=\"T_d9339_row9_col2\" class=\"data row9 col2\" >0.000000</td>\n",
       "      <td id=\"T_d9339_row9_col3\" class=\"data row9 col3\" >0.000000</td>\n",
       "      <td id=\"T_d9339_row9_col4\" class=\"data row9 col4\" >0.000000</td>\n",
       "      <td id=\"T_d9339_row9_col5\" class=\"data row9 col5\" >0.000000</td>\n",
       "      <td id=\"T_d9339_row9_col6\" class=\"data row9 col6\" >0.0</td>\n",
       "      <td id=\"T_d9339_row9_col7\" class=\"data row9 col7\" >0.0</td>\n",
       "      <td id=\"T_d9339_row9_col8\" class=\"data row9 col8\" >0.0</td>\n",
       "      <td id=\"T_d9339_row9_col9\" class=\"data row9 col9\" >0.000000</td>\n",
       "      <td id=\"T_d9339_row9_col10\" class=\"data row9 col10\" >0.000000</td>\n",
       "      <td id=\"T_d9339_row9_col11\" class=\"data row9 col11\" >15.000000</td>\n",
       "      <td id=\"T_d9339_row9_col12\" class=\"data row9 col12\" >3474182335.000000</td>\n",
       "      <td id=\"T_d9339_row9_col13\" class=\"data row9 col13\" >63348.000000</td>\n",
       "      <td id=\"T_d9339_row9_col14\" class=\"data row9 col14\" >0.000000</td>\n",
       "      <td id=\"T_d9339_row9_col15\" class=\"data row9 col15\" >0.000000</td>\n",
       "      <td id=\"T_d9339_row9_col16\" class=\"data row9 col16\" >0.000000</td>\n",
       "      <td id=\"T_d9339_row9_col17\" class=\"data row9 col17\" >0.000000</td>\n",
       "      <td id=\"T_d9339_row9_col18\" class=\"data row9 col18\" >16.000000</td>\n",
       "      <td id=\"T_d9339_row9_col19\" class=\"data row9 col19\" >1.000000</td>\n",
       "      <td id=\"T_d9339_row9_col20\" class=\"data row9 col20\" >0.000000</td>\n",
       "      <td id=\"T_d9339_row9_col21\" class=\"data row9 col21\" >1.000000</td>\n",
       "      <td id=\"T_d9339_row9_col22\" class=\"data row9 col22\" >0.000000</td>\n",
       "      <td id=\"T_d9339_row9_col23\" class=\"data row9 col23\" >0.000000</td>\n",
       "      <td id=\"T_d9339_row9_col24\" class=\"data row9 col24\" >0.000000</td>\n",
       "      <td id=\"T_d9339_row9_col25\" class=\"data row9 col25\" >0</td>\n",
       "      <td id=\"T_d9339_row9_col26\" class=\"data row9 col26\" >0.000000</td>\n",
       "      <td id=\"T_d9339_row9_col27\" class=\"data row9 col27\" >0.000000</td>\n",
       "      <td id=\"T_d9339_row9_col28\" class=\"data row9 col28\" >0.000000</td>\n",
       "      <td id=\"T_d9339_row9_col29\" class=\"data row9 col29\" >0.000000</td>\n",
       "      <td id=\"T_d9339_row9_col30\" class=\"data row9 col30\" >0.000000</td>\n",
       "      <td id=\"T_d9339_row9_col31\" class=\"data row9 col31\" >0</td>\n",
       "      <td id=\"T_d9339_row9_col32\" class=\"data row9 col32\" >0.000000</td>\n",
       "      <td id=\"T_d9339_row9_col33\" class=\"data row9 col33\" >0.000000</td>\n",
       "      <td id=\"T_d9339_row9_col34\" class=\"data row9 col34\" >0.000000</td>\n",
       "      <td id=\"T_d9339_row9_col35\" class=\"data row9 col35\" >0.000000</td>\n",
       "      <td id=\"T_d9339_row9_col36\" class=\"data row9 col36\" >0.000000</td>\n",
       "      <td id=\"T_d9339_row9_col37\" class=\"data row9 col37\" >0.000000</td>\n",
       "      <td id=\"T_d9339_row9_col38\" class=\"data row9 col38\" >0.000000</td>\n",
       "      <td id=\"T_d9339_row9_col39\" class=\"data row9 col39\" >0</td>\n",
       "      <td id=\"T_d9339_row9_col40\" class=\"data row9 col40\" >0</td>\n",
       "      <td id=\"T_d9339_row9_col41\" class=\"data row9 col41\" >0.000000</td>\n",
       "      <td id=\"T_d9339_row9_col42\" class=\"data row9 col42\" >0.000000</td>\n",
       "      <td id=\"T_d9339_row9_col43\" class=\"data row9 col43\" >0.000000</td>\n",
       "      <td id=\"T_d9339_row9_col44\" class=\"data row9 col44\" >0.000000</td>\n",
       "      <td id=\"T_d9339_row9_col45\" class=\"data row9 col45\" >0.000000</td>\n",
       "      <td id=\"T_d9339_row9_col46\" class=\"data row9 col46\" >0</td>\n",
       "      <td id=\"T_d9339_row9_col47\" class=\"data row9 col47\" >Normal</td>\n",
       "    </tr>\n",
       "  </tbody>\n",
       "</table>\n"
      ],
      "text/plain": [
       "<pandas.io.formats.style.Styler at 0x7f04992ad450>"
      ]
     },
     "metadata": {},
     "output_type": "display_data"
    }
   ],
   "source": [
    "# show head of dataset\n",
    "df_train.head(10).style.set_properties(**{'text-align': 'left'})"
   ]
  },
  {
   "cell_type": "code",
   "execution_count": null,
   "metadata": {},
   "outputs": [
    {
     "name": "stdout",
     "output_type": "stream",
     "text": [
      "Number of columns: 48\n",
      "Number of rows: 1527737\n",
      "Columns: ['arp.opcode' 'arp.hw.size' 'icmp.checksum' 'icmp.seq_le' 'icmp.unused'\n",
      " 'http.content_length' 'http.request.method' 'http.referer'\n",
      " 'http.request.version' 'http.response' 'http.tls_port' 'tcp.ack'\n",
      " 'tcp.ack_raw' 'tcp.checksum' 'tcp.connection.fin' 'tcp.connection.rst'\n",
      " 'tcp.connection.syn' 'tcp.connection.synack' 'tcp.flags' 'tcp.flags.ack'\n",
      " 'tcp.len' 'tcp.seq' 'udp.stream' 'udp.time_delta' 'dns.qry.name'\n",
      " 'dns.qry.name.len' 'dns.qry.qu' 'dns.qry.type' 'dns.retransmission'\n",
      " 'dns.retransmit_request' 'dns.retransmit_request_in' 'mqtt.conack.flags'\n",
      " 'mqtt.conflag.cleansess' 'mqtt.conflags' 'mqtt.hdrflags' 'mqtt.len'\n",
      " 'mqtt.msg_decoded_as' 'mqtt.msgtype' 'mqtt.proto_len' 'mqtt.protoname'\n",
      " 'mqtt.topic' 'mqtt.topic_len' 'mqtt.ver' 'mbtcp.len' 'mbtcp.trans_id'\n",
      " 'mbtcp.unit_id' 'Attack_label' 'Attack_type']\n"
     ]
    }
   ],
   "source": [
    "print(f\"Number of columns: {len(df_train.columns)}\")\n",
    "print(f\"Number of rows: {len(df_train)}\")\n",
    "# list columns in way intended to be seen in notebook\n",
    "print(f\"Columns: {df_train.columns.values}\")"
   ]
  },
  {
   "cell_type": "code",
   "execution_count": null,
   "metadata": {},
   "outputs": [
    {
     "name": "stdout",
     "output_type": "stream",
     "text": [
      "Attack_type\n",
      "Normal                   1091222\n",
      "DDoS_UDP                   96966\n",
      "DDoS_ICMP                  54438\n",
      "SQL_injection              40755\n",
      "Vulnerability_scanner      40086\n",
      "DDoS_TCP                   40053\n",
      "Password                   39825\n",
      "DDoS_HTTP                  38916\n",
      "Uploading                  29534\n",
      "Backdoor                   19244\n",
      "Port_Scanning              15915\n",
      "XSS                        12031\n",
      "Ransomware                  7763\n",
      "Fingerprinting               707\n",
      "MITM                         282\n",
      "Name: count, dtype: int64\n",
      "\n",
      "Number of normal: 1091222\n",
      "Number of attacks: 436515\n",
      "\n",
      "Size of df_train: 1164.83 MBytes\n"
     ]
    }
   ],
   "source": [
    "# Number of lines for Attack_type\n",
    "counts = df_train[\"Attack_type\"].value_counts()\n",
    "print(counts)\n",
    "print(f\"\\nNumber of normal: {counts['Normal']}\")\n",
    "print(f\"Number of attacks: {counts.sum() - counts['Normal']}\")\n",
    "print(f\"\\nSize of df_train: {df_train.memory_usage(deep=True).sum() / 1024**2:.2f} MBytes\")"
   ]
  },
  {
   "cell_type": "code",
   "execution_count": null,
   "metadata": {},
   "outputs": [],
   "source": [
    "# Randomly sample 100000 rows of \"Normal\" Attack_type\n",
    "df_normal = df_train[df_train[\"Attack_type\"] == \"Normal\"].sample(n=100000, random_state=config['random_state'])\n",
    "# delete rows all rows of \"Normal\" Attack_type\n",
    "df_train = df_train[df_train[\"Attack_type\"] != \"Normal\"]\n",
    "# add 100000 rows of \"Normal\" Attack_type to df_train\n",
    "df_train = pd.concat([df_train, df_normal])"
   ]
  },
  {
   "cell_type": "code",
   "execution_count": null,
   "metadata": {},
   "outputs": [
    {
     "name": "stdout",
     "output_type": "stream",
     "text": [
      "Attack_type\n",
      "Normal                   100000\n",
      "DDoS_UDP                  96966\n",
      "DDoS_ICMP                 54438\n",
      "SQL_injection             40755\n",
      "Vulnerability_scanner     40086\n",
      "DDoS_TCP                  40053\n",
      "Password                  39825\n",
      "DDoS_HTTP                 38916\n",
      "Uploading                 29534\n",
      "Backdoor                  19244\n",
      "Port_Scanning             15915\n",
      "XSS                       12031\n",
      "Ransomware                 7763\n",
      "Fingerprinting              707\n",
      "MITM                        282\n",
      "Name: count, dtype: int64\n",
      "\n",
      "Number of normal: 100000\n",
      "Number of attacks: 436515\n",
      "\n",
      "Size of df_train: 415.37 MBytes\n"
     ]
    }
   ],
   "source": [
    "counts = df_train[\"Attack_type\"].value_counts()\n",
    "print(counts)\n",
    "print(f\"\\nNumber of normal: {counts['Normal']}\")\n",
    "print(f\"Number of attacks: {counts.sum() - counts['Normal']}\")\n",
    "print(f\"\\nSize of df_train: {df_train.memory_usage(deep=True).sum() / 1024**2:.2f} MBytes\")"
   ]
  },
  {
   "cell_type": "code",
   "execution_count": null,
   "metadata": {},
   "outputs": [
    {
     "data": {
      "text/plain": [
       "{'DDoS_UDP': 3034,\n",
       " 'Password': 60175,\n",
       " 'DDoS_TCP': 59947,\n",
       " 'Backdoor': 80756,\n",
       " 'DDoS_ICMP': 45562,\n",
       " 'Port_Scanning': 84085,\n",
       " 'Vulnerability_scanner': 59914,\n",
       " 'SQL_injection': 59245,\n",
       " 'DDoS_HTTP': 61084,\n",
       " 'Uploading': 70466,\n",
       " 'XSS': 87969,\n",
       " 'Ransomware': 92237,\n",
       " 'MITM': 99718,\n",
       " 'Fingerprinting': 99293,\n",
       " 'Normal': 0}"
      ]
     },
     "metadata": {},
     "output_type": "display_data"
    }
   ],
   "source": [
    "# Counts how many rows of each Attack_type are missing (100.000)\n",
    "counts_dict = {}\n",
    "for attack in df_train[\"Attack_type\"].unique():\n",
    "    counts_dict[attack] = 100000 - df_train[df_train[\"Attack_type\"] == attack].shape[0]\n",
    "counts_dict"
   ]
  },
  {
   "cell_type": "markdown",
   "metadata": {},
   "source": [
    "# Discard Redudant Data"
   ]
  },
  {
   "cell_type": "code",
   "execution_count": null,
   "metadata": {},
   "outputs": [
    {
     "name": "stdout",
     "output_type": "stream",
     "text": [
      "\n",
      "Size of df_attack before del Attack_label column: 338.59 MBytes\n",
      "Size of df_attack after del Attack_label column: 335.25 MBytes\n"
     ]
    }
   ],
   "source": [
    "df_attack = df_train[df_train[\"Attack_type\"] != \"Normal\"]\n",
    "# del df_train\n",
    "print(f\"\\nSize of df_attack before del Attack_label column: {df_attack.memory_usage(deep=True).sum() / 1024**2:.2f} MBytes\")\n",
    "df_attack = df_attack.drop(columns=[\"Attack_label\"])\n",
    "print(f\"Size of df_attack after del Attack_label column: {df_attack.memory_usage(deep=True).sum() / 1024**2:.2f} MBytes\")"
   ]
  },
  {
   "cell_type": "markdown",
   "metadata": {},
   "source": [
    "# Data type conversion (to save space)"
   ]
  },
  {
   "cell_type": "code",
   "execution_count": null,
   "metadata": {},
   "outputs": [
    {
     "name": "stderr",
     "output_type": "stream",
     "text": [
      "/home/tiagociic/Projectos/inovmineral/lib/python3.11/site-packages/pandas/core/dtypes/cast.py:375: RuntimeWarning: invalid value encountered in cast\n",
      "  new_result = trans(result).astype(dtype)\n"
     ]
    },
    {
     "name": "stdout",
     "output_type": "stream",
     "text": [
      "                            Before    After\n",
      "arp.opcode                 float64    uint8\n",
      "arp.hw.size                float64    uint8\n",
      "icmp.checksum              float64   uint16\n",
      "icmp.seq_le                float64   uint16\n",
      "icmp.unused                float64    uint8\n",
      "http.content_length        float64   uint32\n",
      "http.request.method         object      NaN\n",
      "http.referer                object      NaN\n",
      "http.request.version        object      NaN\n",
      "http.response              float64    uint8\n",
      "http.tls_port              float64    uint8\n",
      "tcp.ack                    float64   uint32\n",
      "tcp.ack_raw                float64   uint32\n",
      "tcp.checksum               float64   uint16\n",
      "tcp.connection.fin         float64    uint8\n",
      "tcp.connection.rst         float64    uint8\n",
      "tcp.connection.syn         float64    uint8\n",
      "tcp.connection.synack      float64    uint8\n",
      "tcp.flags                  float64    uint8\n",
      "tcp.flags.ack              float64    uint8\n",
      "tcp.len                    float64   uint16\n",
      "tcp.seq                    float64  float64\n",
      "udp.stream                 float64   uint32\n",
      "udp.time_delta             float64    uint8\n",
      "dns.qry.name               float64   uint32\n",
      "dns.qry.name.len            object      NaN\n",
      "dns.qry.qu                 float64   uint16\n",
      "dns.qry.type               float64    uint8\n",
      "dns.retransmission         float64    uint8\n",
      "dns.retransmit_request     float64    uint8\n",
      "dns.retransmit_request_in  float64    uint8\n",
      "mqtt.conack.flags           object      NaN\n",
      "mqtt.conflag.cleansess     float64    uint8\n",
      "mqtt.conflags              float64    uint8\n",
      "mqtt.hdrflags              float64    uint8\n",
      "mqtt.len                   float64    uint8\n",
      "mqtt.msg_decoded_as        float64    uint8\n",
      "mqtt.msgtype               float64    uint8\n",
      "mqtt.proto_len             float64    uint8\n",
      "mqtt.protoname              object      NaN\n",
      "mqtt.topic                  object      NaN\n",
      "mqtt.topic_len             float64    uint8\n",
      "mqtt.ver                   float64    uint8\n",
      "mbtcp.len                  float64    uint8\n",
      "mbtcp.trans_id             float64    uint8\n",
      "mbtcp.unit_id              float64    uint8\n",
      "Attack_type                 object      NaN\n",
      "\n",
      "Size of df_attack before data conversion: 335.25 MBytes, after: 232.85 MBytes\n"
     ]
    }
   ],
   "source": [
    "# calculate the size of df_attack before\n",
    "size_before = df_attack.memory_usage(deep=True).sum() / 1024**2\n",
    "\n",
    "# select only the columns that are not object type\n",
    "df_numeric = df_attack.select_dtypes(exclude=[\"object\"])\n",
    "\n",
    "# convert all numeric columns to unsigned integer type\n",
    "df_numeric = df_numeric.apply(pd.to_numeric, downcast=\"unsigned\")\n",
    "\n",
    "# print df_numeric data types before and after conversion side by side\n",
    "print(pd.concat([df_attack.dtypes, df_numeric.dtypes], axis=1,keys=[\"Before\", \"After\"]))\n",
    "\n",
    "# drop all numeric columns from df_attack\n",
    "df_attack = df_attack.drop(columns=df_numeric.columns)\n",
    "\n",
    "# concatenate df_attack and newly convertes df_numeric columns\n",
    "df_attack = pd.concat([df_attack, df_numeric], axis=1)\n",
    "\n",
    "# calculate the size of df_attack after conversion\n",
    "size_after = df_attack.memory_usage(deep=True).sum() / 1024**2\n",
    "\n",
    "# print size before AND after conversion!\n",
    "print(f\"\\nSize of df_attack before data conversion: {size_before:.2f} MBytes, after: {size_after:.2f} MBytes\")\n"
   ]
  },
  {
   "cell_type": "code",
   "execution_count": null,
   "metadata": {},
   "outputs": [
    {
     "data": {
      "text/html": [
       "<style type=\"text/css\">\n",
       "#T_5ccd3_row0_col0, #T_5ccd3_row0_col1, #T_5ccd3_row0_col2, #T_5ccd3_row0_col3, #T_5ccd3_row0_col4, #T_5ccd3_row0_col5, #T_5ccd3_row0_col6, #T_5ccd3_row0_col7, #T_5ccd3_row0_col8, #T_5ccd3_row0_col9, #T_5ccd3_row0_col10, #T_5ccd3_row0_col11, #T_5ccd3_row0_col12, #T_5ccd3_row0_col13, #T_5ccd3_row0_col14, #T_5ccd3_row0_col15, #T_5ccd3_row0_col16, #T_5ccd3_row0_col17, #T_5ccd3_row0_col18, #T_5ccd3_row0_col19, #T_5ccd3_row0_col20, #T_5ccd3_row0_col21, #T_5ccd3_row0_col22, #T_5ccd3_row0_col23, #T_5ccd3_row0_col24, #T_5ccd3_row0_col25, #T_5ccd3_row0_col26, #T_5ccd3_row0_col27, #T_5ccd3_row0_col28, #T_5ccd3_row0_col29, #T_5ccd3_row0_col30, #T_5ccd3_row0_col31, #T_5ccd3_row0_col32, #T_5ccd3_row0_col33, #T_5ccd3_row0_col34, #T_5ccd3_row0_col35, #T_5ccd3_row0_col36, #T_5ccd3_row0_col37, #T_5ccd3_row0_col38, #T_5ccd3_row0_col39, #T_5ccd3_row0_col40, #T_5ccd3_row0_col41, #T_5ccd3_row0_col42, #T_5ccd3_row0_col43, #T_5ccd3_row0_col44, #T_5ccd3_row0_col45, #T_5ccd3_row0_col46, #T_5ccd3_row1_col0, #T_5ccd3_row1_col1, #T_5ccd3_row1_col2, #T_5ccd3_row1_col3, #T_5ccd3_row1_col4, #T_5ccd3_row1_col5, #T_5ccd3_row1_col6, #T_5ccd3_row1_col7, #T_5ccd3_row1_col8, #T_5ccd3_row1_col9, #T_5ccd3_row1_col10, #T_5ccd3_row1_col11, #T_5ccd3_row1_col12, #T_5ccd3_row1_col13, #T_5ccd3_row1_col14, #T_5ccd3_row1_col15, #T_5ccd3_row1_col16, #T_5ccd3_row1_col17, #T_5ccd3_row1_col18, #T_5ccd3_row1_col19, #T_5ccd3_row1_col20, #T_5ccd3_row1_col21, #T_5ccd3_row1_col22, #T_5ccd3_row1_col23, #T_5ccd3_row1_col24, #T_5ccd3_row1_col25, #T_5ccd3_row1_col26, #T_5ccd3_row1_col27, #T_5ccd3_row1_col28, #T_5ccd3_row1_col29, #T_5ccd3_row1_col30, #T_5ccd3_row1_col31, #T_5ccd3_row1_col32, #T_5ccd3_row1_col33, #T_5ccd3_row1_col34, #T_5ccd3_row1_col35, #T_5ccd3_row1_col36, #T_5ccd3_row1_col37, #T_5ccd3_row1_col38, #T_5ccd3_row1_col39, #T_5ccd3_row1_col40, #T_5ccd3_row1_col41, #T_5ccd3_row1_col42, #T_5ccd3_row1_col43, #T_5ccd3_row1_col44, #T_5ccd3_row1_col45, #T_5ccd3_row1_col46, #T_5ccd3_row2_col0, #T_5ccd3_row2_col1, #T_5ccd3_row2_col2, #T_5ccd3_row2_col3, #T_5ccd3_row2_col4, #T_5ccd3_row2_col5, #T_5ccd3_row2_col6, #T_5ccd3_row2_col7, #T_5ccd3_row2_col8, #T_5ccd3_row2_col9, #T_5ccd3_row2_col10, #T_5ccd3_row2_col11, #T_5ccd3_row2_col12, #T_5ccd3_row2_col13, #T_5ccd3_row2_col14, #T_5ccd3_row2_col15, #T_5ccd3_row2_col16, #T_5ccd3_row2_col17, #T_5ccd3_row2_col18, #T_5ccd3_row2_col19, #T_5ccd3_row2_col20, #T_5ccd3_row2_col21, #T_5ccd3_row2_col22, #T_5ccd3_row2_col23, #T_5ccd3_row2_col24, #T_5ccd3_row2_col25, #T_5ccd3_row2_col26, #T_5ccd3_row2_col27, #T_5ccd3_row2_col28, #T_5ccd3_row2_col29, #T_5ccd3_row2_col30, #T_5ccd3_row2_col31, #T_5ccd3_row2_col32, #T_5ccd3_row2_col33, #T_5ccd3_row2_col34, #T_5ccd3_row2_col35, #T_5ccd3_row2_col36, #T_5ccd3_row2_col37, #T_5ccd3_row2_col38, #T_5ccd3_row2_col39, #T_5ccd3_row2_col40, #T_5ccd3_row2_col41, #T_5ccd3_row2_col42, #T_5ccd3_row2_col43, #T_5ccd3_row2_col44, #T_5ccd3_row2_col45, #T_5ccd3_row2_col46, #T_5ccd3_row3_col0, #T_5ccd3_row3_col1, #T_5ccd3_row3_col2, #T_5ccd3_row3_col3, #T_5ccd3_row3_col4, #T_5ccd3_row3_col5, #T_5ccd3_row3_col6, #T_5ccd3_row3_col7, #T_5ccd3_row3_col8, #T_5ccd3_row3_col9, #T_5ccd3_row3_col10, #T_5ccd3_row3_col11, #T_5ccd3_row3_col12, #T_5ccd3_row3_col13, #T_5ccd3_row3_col14, #T_5ccd3_row3_col15, #T_5ccd3_row3_col16, #T_5ccd3_row3_col17, #T_5ccd3_row3_col18, #T_5ccd3_row3_col19, #T_5ccd3_row3_col20, #T_5ccd3_row3_col21, #T_5ccd3_row3_col22, #T_5ccd3_row3_col23, #T_5ccd3_row3_col24, #T_5ccd3_row3_col25, #T_5ccd3_row3_col26, #T_5ccd3_row3_col27, #T_5ccd3_row3_col28, #T_5ccd3_row3_col29, #T_5ccd3_row3_col30, #T_5ccd3_row3_col31, #T_5ccd3_row3_col32, #T_5ccd3_row3_col33, #T_5ccd3_row3_col34, #T_5ccd3_row3_col35, #T_5ccd3_row3_col36, #T_5ccd3_row3_col37, #T_5ccd3_row3_col38, #T_5ccd3_row3_col39, #T_5ccd3_row3_col40, #T_5ccd3_row3_col41, #T_5ccd3_row3_col42, #T_5ccd3_row3_col43, #T_5ccd3_row3_col44, #T_5ccd3_row3_col45, #T_5ccd3_row3_col46, #T_5ccd3_row4_col0, #T_5ccd3_row4_col1, #T_5ccd3_row4_col2, #T_5ccd3_row4_col3, #T_5ccd3_row4_col4, #T_5ccd3_row4_col5, #T_5ccd3_row4_col6, #T_5ccd3_row4_col7, #T_5ccd3_row4_col8, #T_5ccd3_row4_col9, #T_5ccd3_row4_col10, #T_5ccd3_row4_col11, #T_5ccd3_row4_col12, #T_5ccd3_row4_col13, #T_5ccd3_row4_col14, #T_5ccd3_row4_col15, #T_5ccd3_row4_col16, #T_5ccd3_row4_col17, #T_5ccd3_row4_col18, #T_5ccd3_row4_col19, #T_5ccd3_row4_col20, #T_5ccd3_row4_col21, #T_5ccd3_row4_col22, #T_5ccd3_row4_col23, #T_5ccd3_row4_col24, #T_5ccd3_row4_col25, #T_5ccd3_row4_col26, #T_5ccd3_row4_col27, #T_5ccd3_row4_col28, #T_5ccd3_row4_col29, #T_5ccd3_row4_col30, #T_5ccd3_row4_col31, #T_5ccd3_row4_col32, #T_5ccd3_row4_col33, #T_5ccd3_row4_col34, #T_5ccd3_row4_col35, #T_5ccd3_row4_col36, #T_5ccd3_row4_col37, #T_5ccd3_row4_col38, #T_5ccd3_row4_col39, #T_5ccd3_row4_col40, #T_5ccd3_row4_col41, #T_5ccd3_row4_col42, #T_5ccd3_row4_col43, #T_5ccd3_row4_col44, #T_5ccd3_row4_col45, #T_5ccd3_row4_col46, #T_5ccd3_row5_col0, #T_5ccd3_row5_col1, #T_5ccd3_row5_col2, #T_5ccd3_row5_col3, #T_5ccd3_row5_col4, #T_5ccd3_row5_col5, #T_5ccd3_row5_col6, #T_5ccd3_row5_col7, #T_5ccd3_row5_col8, #T_5ccd3_row5_col9, #T_5ccd3_row5_col10, #T_5ccd3_row5_col11, #T_5ccd3_row5_col12, #T_5ccd3_row5_col13, #T_5ccd3_row5_col14, #T_5ccd3_row5_col15, #T_5ccd3_row5_col16, #T_5ccd3_row5_col17, #T_5ccd3_row5_col18, #T_5ccd3_row5_col19, #T_5ccd3_row5_col20, #T_5ccd3_row5_col21, #T_5ccd3_row5_col22, #T_5ccd3_row5_col23, #T_5ccd3_row5_col24, #T_5ccd3_row5_col25, #T_5ccd3_row5_col26, #T_5ccd3_row5_col27, #T_5ccd3_row5_col28, #T_5ccd3_row5_col29, #T_5ccd3_row5_col30, #T_5ccd3_row5_col31, #T_5ccd3_row5_col32, #T_5ccd3_row5_col33, #T_5ccd3_row5_col34, #T_5ccd3_row5_col35, #T_5ccd3_row5_col36, #T_5ccd3_row5_col37, #T_5ccd3_row5_col38, #T_5ccd3_row5_col39, #T_5ccd3_row5_col40, #T_5ccd3_row5_col41, #T_5ccd3_row5_col42, #T_5ccd3_row5_col43, #T_5ccd3_row5_col44, #T_5ccd3_row5_col45, #T_5ccd3_row5_col46, #T_5ccd3_row6_col0, #T_5ccd3_row6_col1, #T_5ccd3_row6_col2, #T_5ccd3_row6_col3, #T_5ccd3_row6_col4, #T_5ccd3_row6_col5, #T_5ccd3_row6_col6, #T_5ccd3_row6_col7, #T_5ccd3_row6_col8, #T_5ccd3_row6_col9, #T_5ccd3_row6_col10, #T_5ccd3_row6_col11, #T_5ccd3_row6_col12, #T_5ccd3_row6_col13, #T_5ccd3_row6_col14, #T_5ccd3_row6_col15, #T_5ccd3_row6_col16, #T_5ccd3_row6_col17, #T_5ccd3_row6_col18, #T_5ccd3_row6_col19, #T_5ccd3_row6_col20, #T_5ccd3_row6_col21, #T_5ccd3_row6_col22, #T_5ccd3_row6_col23, #T_5ccd3_row6_col24, #T_5ccd3_row6_col25, #T_5ccd3_row6_col26, #T_5ccd3_row6_col27, #T_5ccd3_row6_col28, #T_5ccd3_row6_col29, #T_5ccd3_row6_col30, #T_5ccd3_row6_col31, #T_5ccd3_row6_col32, #T_5ccd3_row6_col33, #T_5ccd3_row6_col34, #T_5ccd3_row6_col35, #T_5ccd3_row6_col36, #T_5ccd3_row6_col37, #T_5ccd3_row6_col38, #T_5ccd3_row6_col39, #T_5ccd3_row6_col40, #T_5ccd3_row6_col41, #T_5ccd3_row6_col42, #T_5ccd3_row6_col43, #T_5ccd3_row6_col44, #T_5ccd3_row6_col45, #T_5ccd3_row6_col46, #T_5ccd3_row7_col0, #T_5ccd3_row7_col1, #T_5ccd3_row7_col2, #T_5ccd3_row7_col3, #T_5ccd3_row7_col4, #T_5ccd3_row7_col5, #T_5ccd3_row7_col6, #T_5ccd3_row7_col7, #T_5ccd3_row7_col8, #T_5ccd3_row7_col9, #T_5ccd3_row7_col10, #T_5ccd3_row7_col11, #T_5ccd3_row7_col12, #T_5ccd3_row7_col13, #T_5ccd3_row7_col14, #T_5ccd3_row7_col15, #T_5ccd3_row7_col16, #T_5ccd3_row7_col17, #T_5ccd3_row7_col18, #T_5ccd3_row7_col19, #T_5ccd3_row7_col20, #T_5ccd3_row7_col21, #T_5ccd3_row7_col22, #T_5ccd3_row7_col23, #T_5ccd3_row7_col24, #T_5ccd3_row7_col25, #T_5ccd3_row7_col26, #T_5ccd3_row7_col27, #T_5ccd3_row7_col28, #T_5ccd3_row7_col29, #T_5ccd3_row7_col30, #T_5ccd3_row7_col31, #T_5ccd3_row7_col32, #T_5ccd3_row7_col33, #T_5ccd3_row7_col34, #T_5ccd3_row7_col35, #T_5ccd3_row7_col36, #T_5ccd3_row7_col37, #T_5ccd3_row7_col38, #T_5ccd3_row7_col39, #T_5ccd3_row7_col40, #T_5ccd3_row7_col41, #T_5ccd3_row7_col42, #T_5ccd3_row7_col43, #T_5ccd3_row7_col44, #T_5ccd3_row7_col45, #T_5ccd3_row7_col46, #T_5ccd3_row8_col0, #T_5ccd3_row8_col1, #T_5ccd3_row8_col2, #T_5ccd3_row8_col3, #T_5ccd3_row8_col4, #T_5ccd3_row8_col5, #T_5ccd3_row8_col6, #T_5ccd3_row8_col7, #T_5ccd3_row8_col8, #T_5ccd3_row8_col9, #T_5ccd3_row8_col10, #T_5ccd3_row8_col11, #T_5ccd3_row8_col12, #T_5ccd3_row8_col13, #T_5ccd3_row8_col14, #T_5ccd3_row8_col15, #T_5ccd3_row8_col16, #T_5ccd3_row8_col17, #T_5ccd3_row8_col18, #T_5ccd3_row8_col19, #T_5ccd3_row8_col20, #T_5ccd3_row8_col21, #T_5ccd3_row8_col22, #T_5ccd3_row8_col23, #T_5ccd3_row8_col24, #T_5ccd3_row8_col25, #T_5ccd3_row8_col26, #T_5ccd3_row8_col27, #T_5ccd3_row8_col28, #T_5ccd3_row8_col29, #T_5ccd3_row8_col30, #T_5ccd3_row8_col31, #T_5ccd3_row8_col32, #T_5ccd3_row8_col33, #T_5ccd3_row8_col34, #T_5ccd3_row8_col35, #T_5ccd3_row8_col36, #T_5ccd3_row8_col37, #T_5ccd3_row8_col38, #T_5ccd3_row8_col39, #T_5ccd3_row8_col40, #T_5ccd3_row8_col41, #T_5ccd3_row8_col42, #T_5ccd3_row8_col43, #T_5ccd3_row8_col44, #T_5ccd3_row8_col45, #T_5ccd3_row8_col46, #T_5ccd3_row9_col0, #T_5ccd3_row9_col1, #T_5ccd3_row9_col2, #T_5ccd3_row9_col3, #T_5ccd3_row9_col4, #T_5ccd3_row9_col5, #T_5ccd3_row9_col6, #T_5ccd3_row9_col7, #T_5ccd3_row9_col8, #T_5ccd3_row9_col9, #T_5ccd3_row9_col10, #T_5ccd3_row9_col11, #T_5ccd3_row9_col12, #T_5ccd3_row9_col13, #T_5ccd3_row9_col14, #T_5ccd3_row9_col15, #T_5ccd3_row9_col16, #T_5ccd3_row9_col17, #T_5ccd3_row9_col18, #T_5ccd3_row9_col19, #T_5ccd3_row9_col20, #T_5ccd3_row9_col21, #T_5ccd3_row9_col22, #T_5ccd3_row9_col23, #T_5ccd3_row9_col24, #T_5ccd3_row9_col25, #T_5ccd3_row9_col26, #T_5ccd3_row9_col27, #T_5ccd3_row9_col28, #T_5ccd3_row9_col29, #T_5ccd3_row9_col30, #T_5ccd3_row9_col31, #T_5ccd3_row9_col32, #T_5ccd3_row9_col33, #T_5ccd3_row9_col34, #T_5ccd3_row9_col35, #T_5ccd3_row9_col36, #T_5ccd3_row9_col37, #T_5ccd3_row9_col38, #T_5ccd3_row9_col39, #T_5ccd3_row9_col40, #T_5ccd3_row9_col41, #T_5ccd3_row9_col42, #T_5ccd3_row9_col43, #T_5ccd3_row9_col44, #T_5ccd3_row9_col45, #T_5ccd3_row9_col46 {\n",
       "  text-align: left;\n",
       "}\n",
       "</style>\n",
       "<table id=\"T_5ccd3\">\n",
       "  <thead>\n",
       "    <tr>\n",
       "      <th class=\"blank level0\" >&nbsp;</th>\n",
       "      <th id=\"T_5ccd3_level0_col0\" class=\"col_heading level0 col0\" >http.request.method</th>\n",
       "      <th id=\"T_5ccd3_level0_col1\" class=\"col_heading level0 col1\" >http.referer</th>\n",
       "      <th id=\"T_5ccd3_level0_col2\" class=\"col_heading level0 col2\" >http.request.version</th>\n",
       "      <th id=\"T_5ccd3_level0_col3\" class=\"col_heading level0 col3\" >dns.qry.name.len</th>\n",
       "      <th id=\"T_5ccd3_level0_col4\" class=\"col_heading level0 col4\" >mqtt.conack.flags</th>\n",
       "      <th id=\"T_5ccd3_level0_col5\" class=\"col_heading level0 col5\" >mqtt.protoname</th>\n",
       "      <th id=\"T_5ccd3_level0_col6\" class=\"col_heading level0 col6\" >mqtt.topic</th>\n",
       "      <th id=\"T_5ccd3_level0_col7\" class=\"col_heading level0 col7\" >Attack_type</th>\n",
       "      <th id=\"T_5ccd3_level0_col8\" class=\"col_heading level0 col8\" >arp.opcode</th>\n",
       "      <th id=\"T_5ccd3_level0_col9\" class=\"col_heading level0 col9\" >arp.hw.size</th>\n",
       "      <th id=\"T_5ccd3_level0_col10\" class=\"col_heading level0 col10\" >icmp.checksum</th>\n",
       "      <th id=\"T_5ccd3_level0_col11\" class=\"col_heading level0 col11\" >icmp.seq_le</th>\n",
       "      <th id=\"T_5ccd3_level0_col12\" class=\"col_heading level0 col12\" >icmp.unused</th>\n",
       "      <th id=\"T_5ccd3_level0_col13\" class=\"col_heading level0 col13\" >http.content_length</th>\n",
       "      <th id=\"T_5ccd3_level0_col14\" class=\"col_heading level0 col14\" >http.response</th>\n",
       "      <th id=\"T_5ccd3_level0_col15\" class=\"col_heading level0 col15\" >http.tls_port</th>\n",
       "      <th id=\"T_5ccd3_level0_col16\" class=\"col_heading level0 col16\" >tcp.ack</th>\n",
       "      <th id=\"T_5ccd3_level0_col17\" class=\"col_heading level0 col17\" >tcp.ack_raw</th>\n",
       "      <th id=\"T_5ccd3_level0_col18\" class=\"col_heading level0 col18\" >tcp.checksum</th>\n",
       "      <th id=\"T_5ccd3_level0_col19\" class=\"col_heading level0 col19\" >tcp.connection.fin</th>\n",
       "      <th id=\"T_5ccd3_level0_col20\" class=\"col_heading level0 col20\" >tcp.connection.rst</th>\n",
       "      <th id=\"T_5ccd3_level0_col21\" class=\"col_heading level0 col21\" >tcp.connection.syn</th>\n",
       "      <th id=\"T_5ccd3_level0_col22\" class=\"col_heading level0 col22\" >tcp.connection.synack</th>\n",
       "      <th id=\"T_5ccd3_level0_col23\" class=\"col_heading level0 col23\" >tcp.flags</th>\n",
       "      <th id=\"T_5ccd3_level0_col24\" class=\"col_heading level0 col24\" >tcp.flags.ack</th>\n",
       "      <th id=\"T_5ccd3_level0_col25\" class=\"col_heading level0 col25\" >tcp.len</th>\n",
       "      <th id=\"T_5ccd3_level0_col26\" class=\"col_heading level0 col26\" >tcp.seq</th>\n",
       "      <th id=\"T_5ccd3_level0_col27\" class=\"col_heading level0 col27\" >udp.stream</th>\n",
       "      <th id=\"T_5ccd3_level0_col28\" class=\"col_heading level0 col28\" >udp.time_delta</th>\n",
       "      <th id=\"T_5ccd3_level0_col29\" class=\"col_heading level0 col29\" >dns.qry.name</th>\n",
       "      <th id=\"T_5ccd3_level0_col30\" class=\"col_heading level0 col30\" >dns.qry.qu</th>\n",
       "      <th id=\"T_5ccd3_level0_col31\" class=\"col_heading level0 col31\" >dns.qry.type</th>\n",
       "      <th id=\"T_5ccd3_level0_col32\" class=\"col_heading level0 col32\" >dns.retransmission</th>\n",
       "      <th id=\"T_5ccd3_level0_col33\" class=\"col_heading level0 col33\" >dns.retransmit_request</th>\n",
       "      <th id=\"T_5ccd3_level0_col34\" class=\"col_heading level0 col34\" >dns.retransmit_request_in</th>\n",
       "      <th id=\"T_5ccd3_level0_col35\" class=\"col_heading level0 col35\" >mqtt.conflag.cleansess</th>\n",
       "      <th id=\"T_5ccd3_level0_col36\" class=\"col_heading level0 col36\" >mqtt.conflags</th>\n",
       "      <th id=\"T_5ccd3_level0_col37\" class=\"col_heading level0 col37\" >mqtt.hdrflags</th>\n",
       "      <th id=\"T_5ccd3_level0_col38\" class=\"col_heading level0 col38\" >mqtt.len</th>\n",
       "      <th id=\"T_5ccd3_level0_col39\" class=\"col_heading level0 col39\" >mqtt.msg_decoded_as</th>\n",
       "      <th id=\"T_5ccd3_level0_col40\" class=\"col_heading level0 col40\" >mqtt.msgtype</th>\n",
       "      <th id=\"T_5ccd3_level0_col41\" class=\"col_heading level0 col41\" >mqtt.proto_len</th>\n",
       "      <th id=\"T_5ccd3_level0_col42\" class=\"col_heading level0 col42\" >mqtt.topic_len</th>\n",
       "      <th id=\"T_5ccd3_level0_col43\" class=\"col_heading level0 col43\" >mqtt.ver</th>\n",
       "      <th id=\"T_5ccd3_level0_col44\" class=\"col_heading level0 col44\" >mbtcp.len</th>\n",
       "      <th id=\"T_5ccd3_level0_col45\" class=\"col_heading level0 col45\" >mbtcp.trans_id</th>\n",
       "      <th id=\"T_5ccd3_level0_col46\" class=\"col_heading level0 col46\" >mbtcp.unit_id</th>\n",
       "    </tr>\n",
       "  </thead>\n",
       "  <tbody>\n",
       "    <tr>\n",
       "      <th id=\"T_5ccd3_level0_row0\" class=\"row_heading level0 row0\" >1</th>\n",
       "      <td id=\"T_5ccd3_row0_col0\" class=\"data row0 col0\" >0.0</td>\n",
       "      <td id=\"T_5ccd3_row0_col1\" class=\"data row0 col1\" >0.0</td>\n",
       "      <td id=\"T_5ccd3_row0_col2\" class=\"data row0 col2\" >0.0</td>\n",
       "      <td id=\"T_5ccd3_row0_col3\" class=\"data row0 col3\" >0.0</td>\n",
       "      <td id=\"T_5ccd3_row0_col4\" class=\"data row0 col4\" >0.0</td>\n",
       "      <td id=\"T_5ccd3_row0_col5\" class=\"data row0 col5\" >0.0</td>\n",
       "      <td id=\"T_5ccd3_row0_col6\" class=\"data row0 col6\" >0.0</td>\n",
       "      <td id=\"T_5ccd3_row0_col7\" class=\"data row0 col7\" >DDoS_UDP</td>\n",
       "      <td id=\"T_5ccd3_row0_col8\" class=\"data row0 col8\" >0</td>\n",
       "      <td id=\"T_5ccd3_row0_col9\" class=\"data row0 col9\" >0</td>\n",
       "      <td id=\"T_5ccd3_row0_col10\" class=\"data row0 col10\" >0</td>\n",
       "      <td id=\"T_5ccd3_row0_col11\" class=\"data row0 col11\" >0</td>\n",
       "      <td id=\"T_5ccd3_row0_col12\" class=\"data row0 col12\" >0</td>\n",
       "      <td id=\"T_5ccd3_row0_col13\" class=\"data row0 col13\" >0</td>\n",
       "      <td id=\"T_5ccd3_row0_col14\" class=\"data row0 col14\" >0</td>\n",
       "      <td id=\"T_5ccd3_row0_col15\" class=\"data row0 col15\" >0</td>\n",
       "      <td id=\"T_5ccd3_row0_col16\" class=\"data row0 col16\" >0</td>\n",
       "      <td id=\"T_5ccd3_row0_col17\" class=\"data row0 col17\" >0</td>\n",
       "      <td id=\"T_5ccd3_row0_col18\" class=\"data row0 col18\" >0</td>\n",
       "      <td id=\"T_5ccd3_row0_col19\" class=\"data row0 col19\" >0</td>\n",
       "      <td id=\"T_5ccd3_row0_col20\" class=\"data row0 col20\" >0</td>\n",
       "      <td id=\"T_5ccd3_row0_col21\" class=\"data row0 col21\" >0</td>\n",
       "      <td id=\"T_5ccd3_row0_col22\" class=\"data row0 col22\" >0</td>\n",
       "      <td id=\"T_5ccd3_row0_col23\" class=\"data row0 col23\" >0</td>\n",
       "      <td id=\"T_5ccd3_row0_col24\" class=\"data row0 col24\" >0</td>\n",
       "      <td id=\"T_5ccd3_row0_col25\" class=\"data row0 col25\" >0</td>\n",
       "      <td id=\"T_5ccd3_row0_col26\" class=\"data row0 col26\" >0.000000</td>\n",
       "      <td id=\"T_5ccd3_row0_col27\" class=\"data row0 col27\" >1622034</td>\n",
       "      <td id=\"T_5ccd3_row0_col28\" class=\"data row0 col28\" >0</td>\n",
       "      <td id=\"T_5ccd3_row0_col29\" class=\"data row0 col29\" >0</td>\n",
       "      <td id=\"T_5ccd3_row0_col30\" class=\"data row0 col30\" >0</td>\n",
       "      <td id=\"T_5ccd3_row0_col31\" class=\"data row0 col31\" >0</td>\n",
       "      <td id=\"T_5ccd3_row0_col32\" class=\"data row0 col32\" >0</td>\n",
       "      <td id=\"T_5ccd3_row0_col33\" class=\"data row0 col33\" >0</td>\n",
       "      <td id=\"T_5ccd3_row0_col34\" class=\"data row0 col34\" >0</td>\n",
       "      <td id=\"T_5ccd3_row0_col35\" class=\"data row0 col35\" >0</td>\n",
       "      <td id=\"T_5ccd3_row0_col36\" class=\"data row0 col36\" >0</td>\n",
       "      <td id=\"T_5ccd3_row0_col37\" class=\"data row0 col37\" >0</td>\n",
       "      <td id=\"T_5ccd3_row0_col38\" class=\"data row0 col38\" >0</td>\n",
       "      <td id=\"T_5ccd3_row0_col39\" class=\"data row0 col39\" >0</td>\n",
       "      <td id=\"T_5ccd3_row0_col40\" class=\"data row0 col40\" >0</td>\n",
       "      <td id=\"T_5ccd3_row0_col41\" class=\"data row0 col41\" >0</td>\n",
       "      <td id=\"T_5ccd3_row0_col42\" class=\"data row0 col42\" >0</td>\n",
       "      <td id=\"T_5ccd3_row0_col43\" class=\"data row0 col43\" >0</td>\n",
       "      <td id=\"T_5ccd3_row0_col44\" class=\"data row0 col44\" >0</td>\n",
       "      <td id=\"T_5ccd3_row0_col45\" class=\"data row0 col45\" >0</td>\n",
       "      <td id=\"T_5ccd3_row0_col46\" class=\"data row0 col46\" >0</td>\n",
       "    </tr>\n",
       "    <tr>\n",
       "      <th id=\"T_5ccd3_level0_row1\" class=\"row_heading level0 row1\" >5</th>\n",
       "      <td id=\"T_5ccd3_row1_col0\" class=\"data row1 col0\" >0</td>\n",
       "      <td id=\"T_5ccd3_row1_col1\" class=\"data row1 col1\" >0.0</td>\n",
       "      <td id=\"T_5ccd3_row1_col2\" class=\"data row1 col2\" >0</td>\n",
       "      <td id=\"T_5ccd3_row1_col3\" class=\"data row1 col3\" >0.0</td>\n",
       "      <td id=\"T_5ccd3_row1_col4\" class=\"data row1 col4\" >0.0</td>\n",
       "      <td id=\"T_5ccd3_row1_col5\" class=\"data row1 col5\" >0.0</td>\n",
       "      <td id=\"T_5ccd3_row1_col6\" class=\"data row1 col6\" >0.0</td>\n",
       "      <td id=\"T_5ccd3_row1_col7\" class=\"data row1 col7\" >Password</td>\n",
       "      <td id=\"T_5ccd3_row1_col8\" class=\"data row1 col8\" >0</td>\n",
       "      <td id=\"T_5ccd3_row1_col9\" class=\"data row1 col9\" >0</td>\n",
       "      <td id=\"T_5ccd3_row1_col10\" class=\"data row1 col10\" >0</td>\n",
       "      <td id=\"T_5ccd3_row1_col11\" class=\"data row1 col11\" >0</td>\n",
       "      <td id=\"T_5ccd3_row1_col12\" class=\"data row1 col12\" >0</td>\n",
       "      <td id=\"T_5ccd3_row1_col13\" class=\"data row1 col13\" >0</td>\n",
       "      <td id=\"T_5ccd3_row1_col14\" class=\"data row1 col14\" >0</td>\n",
       "      <td id=\"T_5ccd3_row1_col15\" class=\"data row1 col15\" >0</td>\n",
       "      <td id=\"T_5ccd3_row1_col16\" class=\"data row1 col16\" >303</td>\n",
       "      <td id=\"T_5ccd3_row1_col17\" class=\"data row1 col17\" >3453508832</td>\n",
       "      <td id=\"T_5ccd3_row1_col18\" class=\"data row1 col18\" >24759</td>\n",
       "      <td id=\"T_5ccd3_row1_col19\" class=\"data row1 col19\" >0</td>\n",
       "      <td id=\"T_5ccd3_row1_col20\" class=\"data row1 col20\" >0</td>\n",
       "      <td id=\"T_5ccd3_row1_col21\" class=\"data row1 col21\" >0</td>\n",
       "      <td id=\"T_5ccd3_row1_col22\" class=\"data row1 col22\" >0</td>\n",
       "      <td id=\"T_5ccd3_row1_col23\" class=\"data row1 col23\" >16</td>\n",
       "      <td id=\"T_5ccd3_row1_col24\" class=\"data row1 col24\" >1</td>\n",
       "      <td id=\"T_5ccd3_row1_col25\" class=\"data row1 col25\" >0</td>\n",
       "      <td id=\"T_5ccd3_row1_col26\" class=\"data row1 col26\" >262.000000</td>\n",
       "      <td id=\"T_5ccd3_row1_col27\" class=\"data row1 col27\" >0</td>\n",
       "      <td id=\"T_5ccd3_row1_col28\" class=\"data row1 col28\" >0</td>\n",
       "      <td id=\"T_5ccd3_row1_col29\" class=\"data row1 col29\" >0</td>\n",
       "      <td id=\"T_5ccd3_row1_col30\" class=\"data row1 col30\" >0</td>\n",
       "      <td id=\"T_5ccd3_row1_col31\" class=\"data row1 col31\" >0</td>\n",
       "      <td id=\"T_5ccd3_row1_col32\" class=\"data row1 col32\" >0</td>\n",
       "      <td id=\"T_5ccd3_row1_col33\" class=\"data row1 col33\" >0</td>\n",
       "      <td id=\"T_5ccd3_row1_col34\" class=\"data row1 col34\" >0</td>\n",
       "      <td id=\"T_5ccd3_row1_col35\" class=\"data row1 col35\" >0</td>\n",
       "      <td id=\"T_5ccd3_row1_col36\" class=\"data row1 col36\" >0</td>\n",
       "      <td id=\"T_5ccd3_row1_col37\" class=\"data row1 col37\" >0</td>\n",
       "      <td id=\"T_5ccd3_row1_col38\" class=\"data row1 col38\" >0</td>\n",
       "      <td id=\"T_5ccd3_row1_col39\" class=\"data row1 col39\" >0</td>\n",
       "      <td id=\"T_5ccd3_row1_col40\" class=\"data row1 col40\" >0</td>\n",
       "      <td id=\"T_5ccd3_row1_col41\" class=\"data row1 col41\" >0</td>\n",
       "      <td id=\"T_5ccd3_row1_col42\" class=\"data row1 col42\" >0</td>\n",
       "      <td id=\"T_5ccd3_row1_col43\" class=\"data row1 col43\" >0</td>\n",
       "      <td id=\"T_5ccd3_row1_col44\" class=\"data row1 col44\" >0</td>\n",
       "      <td id=\"T_5ccd3_row1_col45\" class=\"data row1 col45\" >0</td>\n",
       "      <td id=\"T_5ccd3_row1_col46\" class=\"data row1 col46\" >0</td>\n",
       "    </tr>\n",
       "    <tr>\n",
       "      <th id=\"T_5ccd3_level0_row2\" class=\"row_heading level0 row2\" >13</th>\n",
       "      <td id=\"T_5ccd3_row2_col0\" class=\"data row2 col0\" >0.0</td>\n",
       "      <td id=\"T_5ccd3_row2_col1\" class=\"data row2 col1\" >0.0</td>\n",
       "      <td id=\"T_5ccd3_row2_col2\" class=\"data row2 col2\" >0.0</td>\n",
       "      <td id=\"T_5ccd3_row2_col3\" class=\"data row2 col3\" >0.0</td>\n",
       "      <td id=\"T_5ccd3_row2_col4\" class=\"data row2 col4\" >0.0</td>\n",
       "      <td id=\"T_5ccd3_row2_col5\" class=\"data row2 col5\" >0.0</td>\n",
       "      <td id=\"T_5ccd3_row2_col6\" class=\"data row2 col6\" >0.0</td>\n",
       "      <td id=\"T_5ccd3_row2_col7\" class=\"data row2 col7\" >DDoS_UDP</td>\n",
       "      <td id=\"T_5ccd3_row2_col8\" class=\"data row2 col8\" >0</td>\n",
       "      <td id=\"T_5ccd3_row2_col9\" class=\"data row2 col9\" >0</td>\n",
       "      <td id=\"T_5ccd3_row2_col10\" class=\"data row2 col10\" >0</td>\n",
       "      <td id=\"T_5ccd3_row2_col11\" class=\"data row2 col11\" >0</td>\n",
       "      <td id=\"T_5ccd3_row2_col12\" class=\"data row2 col12\" >0</td>\n",
       "      <td id=\"T_5ccd3_row2_col13\" class=\"data row2 col13\" >0</td>\n",
       "      <td id=\"T_5ccd3_row2_col14\" class=\"data row2 col14\" >0</td>\n",
       "      <td id=\"T_5ccd3_row2_col15\" class=\"data row2 col15\" >0</td>\n",
       "      <td id=\"T_5ccd3_row2_col16\" class=\"data row2 col16\" >0</td>\n",
       "      <td id=\"T_5ccd3_row2_col17\" class=\"data row2 col17\" >0</td>\n",
       "      <td id=\"T_5ccd3_row2_col18\" class=\"data row2 col18\" >0</td>\n",
       "      <td id=\"T_5ccd3_row2_col19\" class=\"data row2 col19\" >0</td>\n",
       "      <td id=\"T_5ccd3_row2_col20\" class=\"data row2 col20\" >0</td>\n",
       "      <td id=\"T_5ccd3_row2_col21\" class=\"data row2 col21\" >0</td>\n",
       "      <td id=\"T_5ccd3_row2_col22\" class=\"data row2 col22\" >0</td>\n",
       "      <td id=\"T_5ccd3_row2_col23\" class=\"data row2 col23\" >0</td>\n",
       "      <td id=\"T_5ccd3_row2_col24\" class=\"data row2 col24\" >0</td>\n",
       "      <td id=\"T_5ccd3_row2_col25\" class=\"data row2 col25\" >0</td>\n",
       "      <td id=\"T_5ccd3_row2_col26\" class=\"data row2 col26\" >0.000000</td>\n",
       "      <td id=\"T_5ccd3_row2_col27\" class=\"data row2 col27\" >2594368</td>\n",
       "      <td id=\"T_5ccd3_row2_col28\" class=\"data row2 col28\" >0</td>\n",
       "      <td id=\"T_5ccd3_row2_col29\" class=\"data row2 col29\" >0</td>\n",
       "      <td id=\"T_5ccd3_row2_col30\" class=\"data row2 col30\" >0</td>\n",
       "      <td id=\"T_5ccd3_row2_col31\" class=\"data row2 col31\" >0</td>\n",
       "      <td id=\"T_5ccd3_row2_col32\" class=\"data row2 col32\" >0</td>\n",
       "      <td id=\"T_5ccd3_row2_col33\" class=\"data row2 col33\" >0</td>\n",
       "      <td id=\"T_5ccd3_row2_col34\" class=\"data row2 col34\" >0</td>\n",
       "      <td id=\"T_5ccd3_row2_col35\" class=\"data row2 col35\" >0</td>\n",
       "      <td id=\"T_5ccd3_row2_col36\" class=\"data row2 col36\" >0</td>\n",
       "      <td id=\"T_5ccd3_row2_col37\" class=\"data row2 col37\" >0</td>\n",
       "      <td id=\"T_5ccd3_row2_col38\" class=\"data row2 col38\" >0</td>\n",
       "      <td id=\"T_5ccd3_row2_col39\" class=\"data row2 col39\" >0</td>\n",
       "      <td id=\"T_5ccd3_row2_col40\" class=\"data row2 col40\" >0</td>\n",
       "      <td id=\"T_5ccd3_row2_col41\" class=\"data row2 col41\" >0</td>\n",
       "      <td id=\"T_5ccd3_row2_col42\" class=\"data row2 col42\" >0</td>\n",
       "      <td id=\"T_5ccd3_row2_col43\" class=\"data row2 col43\" >0</td>\n",
       "      <td id=\"T_5ccd3_row2_col44\" class=\"data row2 col44\" >0</td>\n",
       "      <td id=\"T_5ccd3_row2_col45\" class=\"data row2 col45\" >0</td>\n",
       "      <td id=\"T_5ccd3_row2_col46\" class=\"data row2 col46\" >0</td>\n",
       "    </tr>\n",
       "    <tr>\n",
       "      <th id=\"T_5ccd3_level0_row3\" class=\"row_heading level0 row3\" >16</th>\n",
       "      <td id=\"T_5ccd3_row3_col0\" class=\"data row3 col0\" >0.0</td>\n",
       "      <td id=\"T_5ccd3_row3_col1\" class=\"data row3 col1\" >0.0</td>\n",
       "      <td id=\"T_5ccd3_row3_col2\" class=\"data row3 col2\" >0.0</td>\n",
       "      <td id=\"T_5ccd3_row3_col3\" class=\"data row3 col3\" >0.0</td>\n",
       "      <td id=\"T_5ccd3_row3_col4\" class=\"data row3 col4\" >0.0</td>\n",
       "      <td id=\"T_5ccd3_row3_col5\" class=\"data row3 col5\" >0.0</td>\n",
       "      <td id=\"T_5ccd3_row3_col6\" class=\"data row3 col6\" >0.0</td>\n",
       "      <td id=\"T_5ccd3_row3_col7\" class=\"data row3 col7\" >DDoS_UDP</td>\n",
       "      <td id=\"T_5ccd3_row3_col8\" class=\"data row3 col8\" >0</td>\n",
       "      <td id=\"T_5ccd3_row3_col9\" class=\"data row3 col9\" >0</td>\n",
       "      <td id=\"T_5ccd3_row3_col10\" class=\"data row3 col10\" >0</td>\n",
       "      <td id=\"T_5ccd3_row3_col11\" class=\"data row3 col11\" >0</td>\n",
       "      <td id=\"T_5ccd3_row3_col12\" class=\"data row3 col12\" >0</td>\n",
       "      <td id=\"T_5ccd3_row3_col13\" class=\"data row3 col13\" >0</td>\n",
       "      <td id=\"T_5ccd3_row3_col14\" class=\"data row3 col14\" >0</td>\n",
       "      <td id=\"T_5ccd3_row3_col15\" class=\"data row3 col15\" >0</td>\n",
       "      <td id=\"T_5ccd3_row3_col16\" class=\"data row3 col16\" >0</td>\n",
       "      <td id=\"T_5ccd3_row3_col17\" class=\"data row3 col17\" >0</td>\n",
       "      <td id=\"T_5ccd3_row3_col18\" class=\"data row3 col18\" >0</td>\n",
       "      <td id=\"T_5ccd3_row3_col19\" class=\"data row3 col19\" >0</td>\n",
       "      <td id=\"T_5ccd3_row3_col20\" class=\"data row3 col20\" >0</td>\n",
       "      <td id=\"T_5ccd3_row3_col21\" class=\"data row3 col21\" >0</td>\n",
       "      <td id=\"T_5ccd3_row3_col22\" class=\"data row3 col22\" >0</td>\n",
       "      <td id=\"T_5ccd3_row3_col23\" class=\"data row3 col23\" >0</td>\n",
       "      <td id=\"T_5ccd3_row3_col24\" class=\"data row3 col24\" >0</td>\n",
       "      <td id=\"T_5ccd3_row3_col25\" class=\"data row3 col25\" >0</td>\n",
       "      <td id=\"T_5ccd3_row3_col26\" class=\"data row3 col26\" >0.000000</td>\n",
       "      <td id=\"T_5ccd3_row3_col27\" class=\"data row3 col27\" >1871277</td>\n",
       "      <td id=\"T_5ccd3_row3_col28\" class=\"data row3 col28\" >0</td>\n",
       "      <td id=\"T_5ccd3_row3_col29\" class=\"data row3 col29\" >0</td>\n",
       "      <td id=\"T_5ccd3_row3_col30\" class=\"data row3 col30\" >0</td>\n",
       "      <td id=\"T_5ccd3_row3_col31\" class=\"data row3 col31\" >0</td>\n",
       "      <td id=\"T_5ccd3_row3_col32\" class=\"data row3 col32\" >0</td>\n",
       "      <td id=\"T_5ccd3_row3_col33\" class=\"data row3 col33\" >0</td>\n",
       "      <td id=\"T_5ccd3_row3_col34\" class=\"data row3 col34\" >0</td>\n",
       "      <td id=\"T_5ccd3_row3_col35\" class=\"data row3 col35\" >0</td>\n",
       "      <td id=\"T_5ccd3_row3_col36\" class=\"data row3 col36\" >0</td>\n",
       "      <td id=\"T_5ccd3_row3_col37\" class=\"data row3 col37\" >0</td>\n",
       "      <td id=\"T_5ccd3_row3_col38\" class=\"data row3 col38\" >0</td>\n",
       "      <td id=\"T_5ccd3_row3_col39\" class=\"data row3 col39\" >0</td>\n",
       "      <td id=\"T_5ccd3_row3_col40\" class=\"data row3 col40\" >0</td>\n",
       "      <td id=\"T_5ccd3_row3_col41\" class=\"data row3 col41\" >0</td>\n",
       "      <td id=\"T_5ccd3_row3_col42\" class=\"data row3 col42\" >0</td>\n",
       "      <td id=\"T_5ccd3_row3_col43\" class=\"data row3 col43\" >0</td>\n",
       "      <td id=\"T_5ccd3_row3_col44\" class=\"data row3 col44\" >0</td>\n",
       "      <td id=\"T_5ccd3_row3_col45\" class=\"data row3 col45\" >0</td>\n",
       "      <td id=\"T_5ccd3_row3_col46\" class=\"data row3 col46\" >0</td>\n",
       "    </tr>\n",
       "    <tr>\n",
       "      <th id=\"T_5ccd3_level0_row4\" class=\"row_heading level0 row4\" >19</th>\n",
       "      <td id=\"T_5ccd3_row4_col0\" class=\"data row4 col0\" >0</td>\n",
       "      <td id=\"T_5ccd3_row4_col1\" class=\"data row4 col1\" >0.0</td>\n",
       "      <td id=\"T_5ccd3_row4_col2\" class=\"data row4 col2\" >0</td>\n",
       "      <td id=\"T_5ccd3_row4_col3\" class=\"data row4 col3\" >0.0</td>\n",
       "      <td id=\"T_5ccd3_row4_col4\" class=\"data row4 col4\" >0.0</td>\n",
       "      <td id=\"T_5ccd3_row4_col5\" class=\"data row4 col5\" >0.0</td>\n",
       "      <td id=\"T_5ccd3_row4_col6\" class=\"data row4 col6\" >0.0</td>\n",
       "      <td id=\"T_5ccd3_row4_col7\" class=\"data row4 col7\" >Password</td>\n",
       "      <td id=\"T_5ccd3_row4_col8\" class=\"data row4 col8\" >0</td>\n",
       "      <td id=\"T_5ccd3_row4_col9\" class=\"data row4 col9\" >0</td>\n",
       "      <td id=\"T_5ccd3_row4_col10\" class=\"data row4 col10\" >0</td>\n",
       "      <td id=\"T_5ccd3_row4_col11\" class=\"data row4 col11\" >0</td>\n",
       "      <td id=\"T_5ccd3_row4_col12\" class=\"data row4 col12\" >0</td>\n",
       "      <td id=\"T_5ccd3_row4_col13\" class=\"data row4 col13\" >0</td>\n",
       "      <td id=\"T_5ccd3_row4_col14\" class=\"data row4 col14\" >0</td>\n",
       "      <td id=\"T_5ccd3_row4_col15\" class=\"data row4 col15\" >0</td>\n",
       "      <td id=\"T_5ccd3_row4_col16\" class=\"data row4 col16\" >1</td>\n",
       "      <td id=\"T_5ccd3_row4_col17\" class=\"data row4 col17\" >1080021225</td>\n",
       "      <td id=\"T_5ccd3_row4_col18\" class=\"data row4 col18\" >15803</td>\n",
       "      <td id=\"T_5ccd3_row4_col19\" class=\"data row4 col19\" >0</td>\n",
       "      <td id=\"T_5ccd3_row4_col20\" class=\"data row4 col20\" >0</td>\n",
       "      <td id=\"T_5ccd3_row4_col21\" class=\"data row4 col21\" >0</td>\n",
       "      <td id=\"T_5ccd3_row4_col22\" class=\"data row4 col22\" >0</td>\n",
       "      <td id=\"T_5ccd3_row4_col23\" class=\"data row4 col23\" >16</td>\n",
       "      <td id=\"T_5ccd3_row4_col24\" class=\"data row4 col24\" >1</td>\n",
       "      <td id=\"T_5ccd3_row4_col25\" class=\"data row4 col25\" >0</td>\n",
       "      <td id=\"T_5ccd3_row4_col26\" class=\"data row4 col26\" >1.000000</td>\n",
       "      <td id=\"T_5ccd3_row4_col27\" class=\"data row4 col27\" >0</td>\n",
       "      <td id=\"T_5ccd3_row4_col28\" class=\"data row4 col28\" >0</td>\n",
       "      <td id=\"T_5ccd3_row4_col29\" class=\"data row4 col29\" >0</td>\n",
       "      <td id=\"T_5ccd3_row4_col30\" class=\"data row4 col30\" >0</td>\n",
       "      <td id=\"T_5ccd3_row4_col31\" class=\"data row4 col31\" >0</td>\n",
       "      <td id=\"T_5ccd3_row4_col32\" class=\"data row4 col32\" >0</td>\n",
       "      <td id=\"T_5ccd3_row4_col33\" class=\"data row4 col33\" >0</td>\n",
       "      <td id=\"T_5ccd3_row4_col34\" class=\"data row4 col34\" >0</td>\n",
       "      <td id=\"T_5ccd3_row4_col35\" class=\"data row4 col35\" >0</td>\n",
       "      <td id=\"T_5ccd3_row4_col36\" class=\"data row4 col36\" >0</td>\n",
       "      <td id=\"T_5ccd3_row4_col37\" class=\"data row4 col37\" >0</td>\n",
       "      <td id=\"T_5ccd3_row4_col38\" class=\"data row4 col38\" >0</td>\n",
       "      <td id=\"T_5ccd3_row4_col39\" class=\"data row4 col39\" >0</td>\n",
       "      <td id=\"T_5ccd3_row4_col40\" class=\"data row4 col40\" >0</td>\n",
       "      <td id=\"T_5ccd3_row4_col41\" class=\"data row4 col41\" >0</td>\n",
       "      <td id=\"T_5ccd3_row4_col42\" class=\"data row4 col42\" >0</td>\n",
       "      <td id=\"T_5ccd3_row4_col43\" class=\"data row4 col43\" >0</td>\n",
       "      <td id=\"T_5ccd3_row4_col44\" class=\"data row4 col44\" >0</td>\n",
       "      <td id=\"T_5ccd3_row4_col45\" class=\"data row4 col45\" >0</td>\n",
       "      <td id=\"T_5ccd3_row4_col46\" class=\"data row4 col46\" >0</td>\n",
       "    </tr>\n",
       "    <tr>\n",
       "      <th id=\"T_5ccd3_level0_row5\" class=\"row_heading level0 row5\" >25</th>\n",
       "      <td id=\"T_5ccd3_row5_col0\" class=\"data row5 col0\" >0.0</td>\n",
       "      <td id=\"T_5ccd3_row5_col1\" class=\"data row5 col1\" >0.0</td>\n",
       "      <td id=\"T_5ccd3_row5_col2\" class=\"data row5 col2\" >0.0</td>\n",
       "      <td id=\"T_5ccd3_row5_col3\" class=\"data row5 col3\" >0.0</td>\n",
       "      <td id=\"T_5ccd3_row5_col4\" class=\"data row5 col4\" >0.0</td>\n",
       "      <td id=\"T_5ccd3_row5_col5\" class=\"data row5 col5\" >0.0</td>\n",
       "      <td id=\"T_5ccd3_row5_col6\" class=\"data row5 col6\" >0.0</td>\n",
       "      <td id=\"T_5ccd3_row5_col7\" class=\"data row5 col7\" >DDoS_TCP</td>\n",
       "      <td id=\"T_5ccd3_row5_col8\" class=\"data row5 col8\" >0</td>\n",
       "      <td id=\"T_5ccd3_row5_col9\" class=\"data row5 col9\" >0</td>\n",
       "      <td id=\"T_5ccd3_row5_col10\" class=\"data row5 col10\" >0</td>\n",
       "      <td id=\"T_5ccd3_row5_col11\" class=\"data row5 col11\" >0</td>\n",
       "      <td id=\"T_5ccd3_row5_col12\" class=\"data row5 col12\" >0</td>\n",
       "      <td id=\"T_5ccd3_row5_col13\" class=\"data row5 col13\" >0</td>\n",
       "      <td id=\"T_5ccd3_row5_col14\" class=\"data row5 col14\" >0</td>\n",
       "      <td id=\"T_5ccd3_row5_col15\" class=\"data row5 col15\" >0</td>\n",
       "      <td id=\"T_5ccd3_row5_col16\" class=\"data row5 col16\" >2140609672</td>\n",
       "      <td id=\"T_5ccd3_row5_col17\" class=\"data row5 col17\" >2140609672</td>\n",
       "      <td id=\"T_5ccd3_row5_col18\" class=\"data row5 col18\" >20485</td>\n",
       "      <td id=\"T_5ccd3_row5_col19\" class=\"data row5 col19\" >0</td>\n",
       "      <td id=\"T_5ccd3_row5_col20\" class=\"data row5 col20\" >0</td>\n",
       "      <td id=\"T_5ccd3_row5_col21\" class=\"data row5 col21\" >1</td>\n",
       "      <td id=\"T_5ccd3_row5_col22\" class=\"data row5 col22\" >0</td>\n",
       "      <td id=\"T_5ccd3_row5_col23\" class=\"data row5 col23\" >2</td>\n",
       "      <td id=\"T_5ccd3_row5_col24\" class=\"data row5 col24\" >0</td>\n",
       "      <td id=\"T_5ccd3_row5_col25\" class=\"data row5 col25\" >120</td>\n",
       "      <td id=\"T_5ccd3_row5_col26\" class=\"data row5 col26\" >0.000000</td>\n",
       "      <td id=\"T_5ccd3_row5_col27\" class=\"data row5 col27\" >0</td>\n",
       "      <td id=\"T_5ccd3_row5_col28\" class=\"data row5 col28\" >0</td>\n",
       "      <td id=\"T_5ccd3_row5_col29\" class=\"data row5 col29\" >0</td>\n",
       "      <td id=\"T_5ccd3_row5_col30\" class=\"data row5 col30\" >0</td>\n",
       "      <td id=\"T_5ccd3_row5_col31\" class=\"data row5 col31\" >0</td>\n",
       "      <td id=\"T_5ccd3_row5_col32\" class=\"data row5 col32\" >0</td>\n",
       "      <td id=\"T_5ccd3_row5_col33\" class=\"data row5 col33\" >0</td>\n",
       "      <td id=\"T_5ccd3_row5_col34\" class=\"data row5 col34\" >0</td>\n",
       "      <td id=\"T_5ccd3_row5_col35\" class=\"data row5 col35\" >0</td>\n",
       "      <td id=\"T_5ccd3_row5_col36\" class=\"data row5 col36\" >0</td>\n",
       "      <td id=\"T_5ccd3_row5_col37\" class=\"data row5 col37\" >0</td>\n",
       "      <td id=\"T_5ccd3_row5_col38\" class=\"data row5 col38\" >0</td>\n",
       "      <td id=\"T_5ccd3_row5_col39\" class=\"data row5 col39\" >0</td>\n",
       "      <td id=\"T_5ccd3_row5_col40\" class=\"data row5 col40\" >0</td>\n",
       "      <td id=\"T_5ccd3_row5_col41\" class=\"data row5 col41\" >0</td>\n",
       "      <td id=\"T_5ccd3_row5_col42\" class=\"data row5 col42\" >0</td>\n",
       "      <td id=\"T_5ccd3_row5_col43\" class=\"data row5 col43\" >0</td>\n",
       "      <td id=\"T_5ccd3_row5_col44\" class=\"data row5 col44\" >0</td>\n",
       "      <td id=\"T_5ccd3_row5_col45\" class=\"data row5 col45\" >0</td>\n",
       "      <td id=\"T_5ccd3_row5_col46\" class=\"data row5 col46\" >0</td>\n",
       "    </tr>\n",
       "    <tr>\n",
       "      <th id=\"T_5ccd3_level0_row6\" class=\"row_heading level0 row6\" >28</th>\n",
       "      <td id=\"T_5ccd3_row6_col0\" class=\"data row6 col0\" >0.0</td>\n",
       "      <td id=\"T_5ccd3_row6_col1\" class=\"data row6 col1\" >0.0</td>\n",
       "      <td id=\"T_5ccd3_row6_col2\" class=\"data row6 col2\" >0.0</td>\n",
       "      <td id=\"T_5ccd3_row6_col3\" class=\"data row6 col3\" >0.0</td>\n",
       "      <td id=\"T_5ccd3_row6_col4\" class=\"data row6 col4\" >0.0</td>\n",
       "      <td id=\"T_5ccd3_row6_col5\" class=\"data row6 col5\" >0.0</td>\n",
       "      <td id=\"T_5ccd3_row6_col6\" class=\"data row6 col6\" >0.0</td>\n",
       "      <td id=\"T_5ccd3_row6_col7\" class=\"data row6 col7\" >Backdoor</td>\n",
       "      <td id=\"T_5ccd3_row6_col8\" class=\"data row6 col8\" >0</td>\n",
       "      <td id=\"T_5ccd3_row6_col9\" class=\"data row6 col9\" >0</td>\n",
       "      <td id=\"T_5ccd3_row6_col10\" class=\"data row6 col10\" >0</td>\n",
       "      <td id=\"T_5ccd3_row6_col11\" class=\"data row6 col11\" >0</td>\n",
       "      <td id=\"T_5ccd3_row6_col12\" class=\"data row6 col12\" >0</td>\n",
       "      <td id=\"T_5ccd3_row6_col13\" class=\"data row6 col13\" >0</td>\n",
       "      <td id=\"T_5ccd3_row6_col14\" class=\"data row6 col14\" >0</td>\n",
       "      <td id=\"T_5ccd3_row6_col15\" class=\"data row6 col15\" >0</td>\n",
       "      <td id=\"T_5ccd3_row6_col16\" class=\"data row6 col16\" >1</td>\n",
       "      <td id=\"T_5ccd3_row6_col17\" class=\"data row6 col17\" >1453306566</td>\n",
       "      <td id=\"T_5ccd3_row6_col18\" class=\"data row6 col18\" >6843</td>\n",
       "      <td id=\"T_5ccd3_row6_col19\" class=\"data row6 col19\" >0</td>\n",
       "      <td id=\"T_5ccd3_row6_col20\" class=\"data row6 col20\" >0</td>\n",
       "      <td id=\"T_5ccd3_row6_col21\" class=\"data row6 col21\" >0</td>\n",
       "      <td id=\"T_5ccd3_row6_col22\" class=\"data row6 col22\" >0</td>\n",
       "      <td id=\"T_5ccd3_row6_col23\" class=\"data row6 col23\" >16</td>\n",
       "      <td id=\"T_5ccd3_row6_col24\" class=\"data row6 col24\" >1</td>\n",
       "      <td id=\"T_5ccd3_row6_col25\" class=\"data row6 col25\" >1448</td>\n",
       "      <td id=\"T_5ccd3_row6_col26\" class=\"data row6 col26\" >1463329.000000</td>\n",
       "      <td id=\"T_5ccd3_row6_col27\" class=\"data row6 col27\" >0</td>\n",
       "      <td id=\"T_5ccd3_row6_col28\" class=\"data row6 col28\" >0</td>\n",
       "      <td id=\"T_5ccd3_row6_col29\" class=\"data row6 col29\" >0</td>\n",
       "      <td id=\"T_5ccd3_row6_col30\" class=\"data row6 col30\" >0</td>\n",
       "      <td id=\"T_5ccd3_row6_col31\" class=\"data row6 col31\" >0</td>\n",
       "      <td id=\"T_5ccd3_row6_col32\" class=\"data row6 col32\" >0</td>\n",
       "      <td id=\"T_5ccd3_row6_col33\" class=\"data row6 col33\" >0</td>\n",
       "      <td id=\"T_5ccd3_row6_col34\" class=\"data row6 col34\" >0</td>\n",
       "      <td id=\"T_5ccd3_row6_col35\" class=\"data row6 col35\" >0</td>\n",
       "      <td id=\"T_5ccd3_row6_col36\" class=\"data row6 col36\" >0</td>\n",
       "      <td id=\"T_5ccd3_row6_col37\" class=\"data row6 col37\" >0</td>\n",
       "      <td id=\"T_5ccd3_row6_col38\" class=\"data row6 col38\" >0</td>\n",
       "      <td id=\"T_5ccd3_row6_col39\" class=\"data row6 col39\" >0</td>\n",
       "      <td id=\"T_5ccd3_row6_col40\" class=\"data row6 col40\" >0</td>\n",
       "      <td id=\"T_5ccd3_row6_col41\" class=\"data row6 col41\" >0</td>\n",
       "      <td id=\"T_5ccd3_row6_col42\" class=\"data row6 col42\" >0</td>\n",
       "      <td id=\"T_5ccd3_row6_col43\" class=\"data row6 col43\" >0</td>\n",
       "      <td id=\"T_5ccd3_row6_col44\" class=\"data row6 col44\" >0</td>\n",
       "      <td id=\"T_5ccd3_row6_col45\" class=\"data row6 col45\" >0</td>\n",
       "      <td id=\"T_5ccd3_row6_col46\" class=\"data row6 col46\" >0</td>\n",
       "    </tr>\n",
       "    <tr>\n",
       "      <th id=\"T_5ccd3_level0_row7\" class=\"row_heading level0 row7\" >29</th>\n",
       "      <td id=\"T_5ccd3_row7_col0\" class=\"data row7 col0\" >0</td>\n",
       "      <td id=\"T_5ccd3_row7_col1\" class=\"data row7 col1\" >0.0</td>\n",
       "      <td id=\"T_5ccd3_row7_col2\" class=\"data row7 col2\" >0</td>\n",
       "      <td id=\"T_5ccd3_row7_col3\" class=\"data row7 col3\" >0.0</td>\n",
       "      <td id=\"T_5ccd3_row7_col4\" class=\"data row7 col4\" >0.0</td>\n",
       "      <td id=\"T_5ccd3_row7_col5\" class=\"data row7 col5\" >0.0</td>\n",
       "      <td id=\"T_5ccd3_row7_col6\" class=\"data row7 col6\" >0.0</td>\n",
       "      <td id=\"T_5ccd3_row7_col7\" class=\"data row7 col7\" >Password</td>\n",
       "      <td id=\"T_5ccd3_row7_col8\" class=\"data row7 col8\" >0</td>\n",
       "      <td id=\"T_5ccd3_row7_col9\" class=\"data row7 col9\" >0</td>\n",
       "      <td id=\"T_5ccd3_row7_col10\" class=\"data row7 col10\" >0</td>\n",
       "      <td id=\"T_5ccd3_row7_col11\" class=\"data row7 col11\" >0</td>\n",
       "      <td id=\"T_5ccd3_row7_col12\" class=\"data row7 col12\" >0</td>\n",
       "      <td id=\"T_5ccd3_row7_col13\" class=\"data row7 col13\" >0</td>\n",
       "      <td id=\"T_5ccd3_row7_col14\" class=\"data row7 col14\" >0</td>\n",
       "      <td id=\"T_5ccd3_row7_col15\" class=\"data row7 col15\" >0</td>\n",
       "      <td id=\"T_5ccd3_row7_col16\" class=\"data row7 col16\" >0</td>\n",
       "      <td id=\"T_5ccd3_row7_col17\" class=\"data row7 col17\" >0</td>\n",
       "      <td id=\"T_5ccd3_row7_col18\" class=\"data row7 col18\" >16528</td>\n",
       "      <td id=\"T_5ccd3_row7_col19\" class=\"data row7 col19\" >0</td>\n",
       "      <td id=\"T_5ccd3_row7_col20\" class=\"data row7 col20\" >0</td>\n",
       "      <td id=\"T_5ccd3_row7_col21\" class=\"data row7 col21\" >1</td>\n",
       "      <td id=\"T_5ccd3_row7_col22\" class=\"data row7 col22\" >0</td>\n",
       "      <td id=\"T_5ccd3_row7_col23\" class=\"data row7 col23\" >2</td>\n",
       "      <td id=\"T_5ccd3_row7_col24\" class=\"data row7 col24\" >0</td>\n",
       "      <td id=\"T_5ccd3_row7_col25\" class=\"data row7 col25\" >0</td>\n",
       "      <td id=\"T_5ccd3_row7_col26\" class=\"data row7 col26\" >0.000000</td>\n",
       "      <td id=\"T_5ccd3_row7_col27\" class=\"data row7 col27\" >0</td>\n",
       "      <td id=\"T_5ccd3_row7_col28\" class=\"data row7 col28\" >0</td>\n",
       "      <td id=\"T_5ccd3_row7_col29\" class=\"data row7 col29\" >0</td>\n",
       "      <td id=\"T_5ccd3_row7_col30\" class=\"data row7 col30\" >0</td>\n",
       "      <td id=\"T_5ccd3_row7_col31\" class=\"data row7 col31\" >0</td>\n",
       "      <td id=\"T_5ccd3_row7_col32\" class=\"data row7 col32\" >0</td>\n",
       "      <td id=\"T_5ccd3_row7_col33\" class=\"data row7 col33\" >0</td>\n",
       "      <td id=\"T_5ccd3_row7_col34\" class=\"data row7 col34\" >0</td>\n",
       "      <td id=\"T_5ccd3_row7_col35\" class=\"data row7 col35\" >0</td>\n",
       "      <td id=\"T_5ccd3_row7_col36\" class=\"data row7 col36\" >0</td>\n",
       "      <td id=\"T_5ccd3_row7_col37\" class=\"data row7 col37\" >0</td>\n",
       "      <td id=\"T_5ccd3_row7_col38\" class=\"data row7 col38\" >0</td>\n",
       "      <td id=\"T_5ccd3_row7_col39\" class=\"data row7 col39\" >0</td>\n",
       "      <td id=\"T_5ccd3_row7_col40\" class=\"data row7 col40\" >0</td>\n",
       "      <td id=\"T_5ccd3_row7_col41\" class=\"data row7 col41\" >0</td>\n",
       "      <td id=\"T_5ccd3_row7_col42\" class=\"data row7 col42\" >0</td>\n",
       "      <td id=\"T_5ccd3_row7_col43\" class=\"data row7 col43\" >0</td>\n",
       "      <td id=\"T_5ccd3_row7_col44\" class=\"data row7 col44\" >0</td>\n",
       "      <td id=\"T_5ccd3_row7_col45\" class=\"data row7 col45\" >0</td>\n",
       "      <td id=\"T_5ccd3_row7_col46\" class=\"data row7 col46\" >0</td>\n",
       "    </tr>\n",
       "    <tr>\n",
       "      <th id=\"T_5ccd3_level0_row8\" class=\"row_heading level0 row8\" >34</th>\n",
       "      <td id=\"T_5ccd3_row8_col0\" class=\"data row8 col0\" >0.0</td>\n",
       "      <td id=\"T_5ccd3_row8_col1\" class=\"data row8 col1\" >0.0</td>\n",
       "      <td id=\"T_5ccd3_row8_col2\" class=\"data row8 col2\" >0.0</td>\n",
       "      <td id=\"T_5ccd3_row8_col3\" class=\"data row8 col3\" >0.0</td>\n",
       "      <td id=\"T_5ccd3_row8_col4\" class=\"data row8 col4\" >0.0</td>\n",
       "      <td id=\"T_5ccd3_row8_col5\" class=\"data row8 col5\" >0.0</td>\n",
       "      <td id=\"T_5ccd3_row8_col6\" class=\"data row8 col6\" >0.0</td>\n",
       "      <td id=\"T_5ccd3_row8_col7\" class=\"data row8 col7\" >DDoS_UDP</td>\n",
       "      <td id=\"T_5ccd3_row8_col8\" class=\"data row8 col8\" >0</td>\n",
       "      <td id=\"T_5ccd3_row8_col9\" class=\"data row8 col9\" >0</td>\n",
       "      <td id=\"T_5ccd3_row8_col10\" class=\"data row8 col10\" >0</td>\n",
       "      <td id=\"T_5ccd3_row8_col11\" class=\"data row8 col11\" >57101</td>\n",
       "      <td id=\"T_5ccd3_row8_col12\" class=\"data row8 col12\" >0</td>\n",
       "      <td id=\"T_5ccd3_row8_col13\" class=\"data row8 col13\" >0</td>\n",
       "      <td id=\"T_5ccd3_row8_col14\" class=\"data row8 col14\" >0</td>\n",
       "      <td id=\"T_5ccd3_row8_col15\" class=\"data row8 col15\" >0</td>\n",
       "      <td id=\"T_5ccd3_row8_col16\" class=\"data row8 col16\" >0</td>\n",
       "      <td id=\"T_5ccd3_row8_col17\" class=\"data row8 col17\" >0</td>\n",
       "      <td id=\"T_5ccd3_row8_col18\" class=\"data row8 col18\" >0</td>\n",
       "      <td id=\"T_5ccd3_row8_col19\" class=\"data row8 col19\" >0</td>\n",
       "      <td id=\"T_5ccd3_row8_col20\" class=\"data row8 col20\" >0</td>\n",
       "      <td id=\"T_5ccd3_row8_col21\" class=\"data row8 col21\" >0</td>\n",
       "      <td id=\"T_5ccd3_row8_col22\" class=\"data row8 col22\" >0</td>\n",
       "      <td id=\"T_5ccd3_row8_col23\" class=\"data row8 col23\" >0</td>\n",
       "      <td id=\"T_5ccd3_row8_col24\" class=\"data row8 col24\" >0</td>\n",
       "      <td id=\"T_5ccd3_row8_col25\" class=\"data row8 col25\" >0</td>\n",
       "      <td id=\"T_5ccd3_row8_col26\" class=\"data row8 col26\" >0.000000</td>\n",
       "      <td id=\"T_5ccd3_row8_col27\" class=\"data row8 col27\" >10834</td>\n",
       "      <td id=\"T_5ccd3_row8_col28\" class=\"data row8 col28\" >0</td>\n",
       "      <td id=\"T_5ccd3_row8_col29\" class=\"data row8 col29\" >655220</td>\n",
       "      <td id=\"T_5ccd3_row8_col30\" class=\"data row8 col30\" >0</td>\n",
       "      <td id=\"T_5ccd3_row8_col31\" class=\"data row8 col31\" >0</td>\n",
       "      <td id=\"T_5ccd3_row8_col32\" class=\"data row8 col32\" >0</td>\n",
       "      <td id=\"T_5ccd3_row8_col33\" class=\"data row8 col33\" >0</td>\n",
       "      <td id=\"T_5ccd3_row8_col34\" class=\"data row8 col34\" >0</td>\n",
       "      <td id=\"T_5ccd3_row8_col35\" class=\"data row8 col35\" >0</td>\n",
       "      <td id=\"T_5ccd3_row8_col36\" class=\"data row8 col36\" >0</td>\n",
       "      <td id=\"T_5ccd3_row8_col37\" class=\"data row8 col37\" >0</td>\n",
       "      <td id=\"T_5ccd3_row8_col38\" class=\"data row8 col38\" >0</td>\n",
       "      <td id=\"T_5ccd3_row8_col39\" class=\"data row8 col39\" >0</td>\n",
       "      <td id=\"T_5ccd3_row8_col40\" class=\"data row8 col40\" >0</td>\n",
       "      <td id=\"T_5ccd3_row8_col41\" class=\"data row8 col41\" >0</td>\n",
       "      <td id=\"T_5ccd3_row8_col42\" class=\"data row8 col42\" >0</td>\n",
       "      <td id=\"T_5ccd3_row8_col43\" class=\"data row8 col43\" >0</td>\n",
       "      <td id=\"T_5ccd3_row8_col44\" class=\"data row8 col44\" >0</td>\n",
       "      <td id=\"T_5ccd3_row8_col45\" class=\"data row8 col45\" >0</td>\n",
       "      <td id=\"T_5ccd3_row8_col46\" class=\"data row8 col46\" >0</td>\n",
       "    </tr>\n",
       "    <tr>\n",
       "      <th id=\"T_5ccd3_level0_row9\" class=\"row_heading level0 row9\" >42</th>\n",
       "      <td id=\"T_5ccd3_row9_col0\" class=\"data row9 col0\" >0.0</td>\n",
       "      <td id=\"T_5ccd3_row9_col1\" class=\"data row9 col1\" >0.0</td>\n",
       "      <td id=\"T_5ccd3_row9_col2\" class=\"data row9 col2\" >0.0</td>\n",
       "      <td id=\"T_5ccd3_row9_col3\" class=\"data row9 col3\" >0.0</td>\n",
       "      <td id=\"T_5ccd3_row9_col4\" class=\"data row9 col4\" >0.0</td>\n",
       "      <td id=\"T_5ccd3_row9_col5\" class=\"data row9 col5\" >0.0</td>\n",
       "      <td id=\"T_5ccd3_row9_col6\" class=\"data row9 col6\" >0.0</td>\n",
       "      <td id=\"T_5ccd3_row9_col7\" class=\"data row9 col7\" >DDoS_UDP</td>\n",
       "      <td id=\"T_5ccd3_row9_col8\" class=\"data row9 col8\" >0</td>\n",
       "      <td id=\"T_5ccd3_row9_col9\" class=\"data row9 col9\" >0</td>\n",
       "      <td id=\"T_5ccd3_row9_col10\" class=\"data row9 col10\" >0</td>\n",
       "      <td id=\"T_5ccd3_row9_col11\" class=\"data row9 col11\" >0</td>\n",
       "      <td id=\"T_5ccd3_row9_col12\" class=\"data row9 col12\" >0</td>\n",
       "      <td id=\"T_5ccd3_row9_col13\" class=\"data row9 col13\" >0</td>\n",
       "      <td id=\"T_5ccd3_row9_col14\" class=\"data row9 col14\" >0</td>\n",
       "      <td id=\"T_5ccd3_row9_col15\" class=\"data row9 col15\" >0</td>\n",
       "      <td id=\"T_5ccd3_row9_col16\" class=\"data row9 col16\" >0</td>\n",
       "      <td id=\"T_5ccd3_row9_col17\" class=\"data row9 col17\" >0</td>\n",
       "      <td id=\"T_5ccd3_row9_col18\" class=\"data row9 col18\" >0</td>\n",
       "      <td id=\"T_5ccd3_row9_col19\" class=\"data row9 col19\" >0</td>\n",
       "      <td id=\"T_5ccd3_row9_col20\" class=\"data row9 col20\" >0</td>\n",
       "      <td id=\"T_5ccd3_row9_col21\" class=\"data row9 col21\" >0</td>\n",
       "      <td id=\"T_5ccd3_row9_col22\" class=\"data row9 col22\" >0</td>\n",
       "      <td id=\"T_5ccd3_row9_col23\" class=\"data row9 col23\" >0</td>\n",
       "      <td id=\"T_5ccd3_row9_col24\" class=\"data row9 col24\" >0</td>\n",
       "      <td id=\"T_5ccd3_row9_col25\" class=\"data row9 col25\" >0</td>\n",
       "      <td id=\"T_5ccd3_row9_col26\" class=\"data row9 col26\" >0.000000</td>\n",
       "      <td id=\"T_5ccd3_row9_col27\" class=\"data row9 col27\" >1510333</td>\n",
       "      <td id=\"T_5ccd3_row9_col28\" class=\"data row9 col28\" >0</td>\n",
       "      <td id=\"T_5ccd3_row9_col29\" class=\"data row9 col29\" >0</td>\n",
       "      <td id=\"T_5ccd3_row9_col30\" class=\"data row9 col30\" >0</td>\n",
       "      <td id=\"T_5ccd3_row9_col31\" class=\"data row9 col31\" >0</td>\n",
       "      <td id=\"T_5ccd3_row9_col32\" class=\"data row9 col32\" >0</td>\n",
       "      <td id=\"T_5ccd3_row9_col33\" class=\"data row9 col33\" >0</td>\n",
       "      <td id=\"T_5ccd3_row9_col34\" class=\"data row9 col34\" >0</td>\n",
       "      <td id=\"T_5ccd3_row9_col35\" class=\"data row9 col35\" >0</td>\n",
       "      <td id=\"T_5ccd3_row9_col36\" class=\"data row9 col36\" >0</td>\n",
       "      <td id=\"T_5ccd3_row9_col37\" class=\"data row9 col37\" >0</td>\n",
       "      <td id=\"T_5ccd3_row9_col38\" class=\"data row9 col38\" >0</td>\n",
       "      <td id=\"T_5ccd3_row9_col39\" class=\"data row9 col39\" >0</td>\n",
       "      <td id=\"T_5ccd3_row9_col40\" class=\"data row9 col40\" >0</td>\n",
       "      <td id=\"T_5ccd3_row9_col41\" class=\"data row9 col41\" >0</td>\n",
       "      <td id=\"T_5ccd3_row9_col42\" class=\"data row9 col42\" >0</td>\n",
       "      <td id=\"T_5ccd3_row9_col43\" class=\"data row9 col43\" >0</td>\n",
       "      <td id=\"T_5ccd3_row9_col44\" class=\"data row9 col44\" >0</td>\n",
       "      <td id=\"T_5ccd3_row9_col45\" class=\"data row9 col45\" >0</td>\n",
       "      <td id=\"T_5ccd3_row9_col46\" class=\"data row9 col46\" >0</td>\n",
       "    </tr>\n",
       "  </tbody>\n",
       "</table>\n"
      ],
      "text/plain": [
       "<pandas.io.formats.style.Styler at 0x7f04cc9e2f50>"
      ]
     },
     "metadata": {},
     "output_type": "display_data"
    }
   ],
   "source": [
    "# print head of df_attack\n",
    "df_attack.head(10).style.set_properties(**{'text-align': 'left'})"
   ]
  },
  {
   "cell_type": "code",
   "execution_count": null,
   "metadata": {},
   "outputs": [
    {
     "name": "stdout",
     "output_type": "stream",
     "text": [
      "-----------------------\n",
      "df_attack_1\n"
     ]
    },
    {
     "data": {
      "text/html": [
       "<style type=\"text/css\">\n",
       "#T_dd5e4_row0_col0, #T_dd5e4_row1_col0, #T_dd5e4_row2_col0, #T_dd5e4_row3_col0, #T_dd5e4_row4_col0, #T_dd5e4_row5_col0 {\n",
       "  text-align: left;\n",
       "}\n",
       "</style>\n",
       "<table id=\"T_dd5e4\">\n",
       "  <thead>\n",
       "    <tr>\n",
       "      <th class=\"blank level0\" >&nbsp;</th>\n",
       "      <th id=\"T_dd5e4_level0_col0\" class=\"col_heading level0 col0\" >count</th>\n",
       "    </tr>\n",
       "    <tr>\n",
       "      <th class=\"index_name level0\" >Attack_type</th>\n",
       "      <th class=\"blank col0\" >&nbsp;</th>\n",
       "    </tr>\n",
       "  </thead>\n",
       "  <tbody>\n",
       "    <tr>\n",
       "      <th id=\"T_dd5e4_level0_row0\" class=\"row_heading level0 row0\" >DDoS_UDP</th>\n",
       "      <td id=\"T_dd5e4_row0_col0\" class=\"data row0 col0\" >96966</td>\n",
       "    </tr>\n",
       "    <tr>\n",
       "      <th id=\"T_dd5e4_level0_row1\" class=\"row_heading level0 row1\" >DDoS_ICMP</th>\n",
       "      <td id=\"T_dd5e4_row1_col0\" class=\"data row1 col0\" >54438</td>\n",
       "    </tr>\n",
       "    <tr>\n",
       "      <th id=\"T_dd5e4_level0_row2\" class=\"row_heading level0 row2\" >DDoS_TCP</th>\n",
       "      <td id=\"T_dd5e4_row2_col0\" class=\"data row2 col0\" >40053</td>\n",
       "    </tr>\n",
       "    <tr>\n",
       "      <th id=\"T_dd5e4_level0_row3\" class=\"row_heading level0 row3\" >Password</th>\n",
       "      <td id=\"T_dd5e4_row3_col0\" class=\"data row3 col0\" >39825</td>\n",
       "    </tr>\n",
       "    <tr>\n",
       "      <th id=\"T_dd5e4_level0_row4\" class=\"row_heading level0 row4\" >DDoS_HTTP</th>\n",
       "      <td id=\"T_dd5e4_row4_col0\" class=\"data row4 col0\" >38916</td>\n",
       "    </tr>\n",
       "    <tr>\n",
       "      <th id=\"T_dd5e4_level0_row5\" class=\"row_heading level0 row5\" >Backdoor</th>\n",
       "      <td id=\"T_dd5e4_row5_col0\" class=\"data row5 col0\" >19244</td>\n",
       "    </tr>\n",
       "  </tbody>\n",
       "</table>\n"
      ],
      "text/plain": [
       "<pandas.io.formats.style.Styler at 0x7f04cc822f10>"
      ]
     },
     "metadata": {},
     "output_type": "display_data"
    },
    {
     "name": "stdout",
     "output_type": "stream",
     "text": [
      "Number of lines: 289442\n",
      "\n",
      "Size: 154.04 MBytes\n",
      "-----------------------\n",
      "\n",
      "df_attack_2\n"
     ]
    },
    {
     "data": {
      "text/html": [
       "<style type=\"text/css\">\n",
       "#T_d9cc7_row0_col0, #T_d9cc7_row1_col0, #T_d9cc7_row2_col0, #T_d9cc7_row3_col0, #T_d9cc7_row4_col0, #T_d9cc7_row5_col0, #T_d9cc7_row6_col0, #T_d9cc7_row7_col0 {\n",
       "  text-align: left;\n",
       "}\n",
       "</style>\n",
       "<table id=\"T_d9cc7\">\n",
       "  <thead>\n",
       "    <tr>\n",
       "      <th class=\"blank level0\" >&nbsp;</th>\n",
       "      <th id=\"T_d9cc7_level0_col0\" class=\"col_heading level0 col0\" >count</th>\n",
       "    </tr>\n",
       "    <tr>\n",
       "      <th class=\"index_name level0\" >Attack_type</th>\n",
       "      <th class=\"blank col0\" >&nbsp;</th>\n",
       "    </tr>\n",
       "  </thead>\n",
       "  <tbody>\n",
       "    <tr>\n",
       "      <th id=\"T_d9cc7_level0_row0\" class=\"row_heading level0 row0\" >SQL_injection</th>\n",
       "      <td id=\"T_d9cc7_row0_col0\" class=\"data row0 col0\" >40755</td>\n",
       "    </tr>\n",
       "    <tr>\n",
       "      <th id=\"T_d9cc7_level0_row1\" class=\"row_heading level0 row1\" >Vulnerability_scanner</th>\n",
       "      <td id=\"T_d9cc7_row1_col0\" class=\"data row1 col0\" >40086</td>\n",
       "    </tr>\n",
       "    <tr>\n",
       "      <th id=\"T_d9cc7_level0_row2\" class=\"row_heading level0 row2\" >Uploading</th>\n",
       "      <td id=\"T_d9cc7_row2_col0\" class=\"data row2 col0\" >29534</td>\n",
       "    </tr>\n",
       "    <tr>\n",
       "      <th id=\"T_d9cc7_level0_row3\" class=\"row_heading level0 row3\" >Port_Scanning</th>\n",
       "      <td id=\"T_d9cc7_row3_col0\" class=\"data row3 col0\" >15915</td>\n",
       "    </tr>\n",
       "    <tr>\n",
       "      <th id=\"T_d9cc7_level0_row4\" class=\"row_heading level0 row4\" >XSS</th>\n",
       "      <td id=\"T_d9cc7_row4_col0\" class=\"data row4 col0\" >12031</td>\n",
       "    </tr>\n",
       "    <tr>\n",
       "      <th id=\"T_d9cc7_level0_row5\" class=\"row_heading level0 row5\" >Ransomware</th>\n",
       "      <td id=\"T_d9cc7_row5_col0\" class=\"data row5 col0\" >7763</td>\n",
       "    </tr>\n",
       "    <tr>\n",
       "      <th id=\"T_d9cc7_level0_row6\" class=\"row_heading level0 row6\" >Fingerprinting</th>\n",
       "      <td id=\"T_d9cc7_row6_col0\" class=\"data row6 col0\" >707</td>\n",
       "    </tr>\n",
       "    <tr>\n",
       "      <th id=\"T_d9cc7_level0_row7\" class=\"row_heading level0 row7\" >MITM</th>\n",
       "      <td id=\"T_d9cc7_row7_col0\" class=\"data row7 col0\" >282</td>\n",
       "    </tr>\n",
       "  </tbody>\n",
       "</table>\n"
      ],
      "text/plain": [
       "<pandas.io.formats.style.Styler at 0x7f04cc80bad0>"
      ]
     },
     "metadata": {},
     "output_type": "display_data"
    },
    {
     "name": "stdout",
     "output_type": "stream",
     "text": [
      "Number of lines: 147073\n",
      "Size: 78.81 MBytes\n",
      "-----------------------\n"
     ]
    }
   ],
   "source": [
    "# separate df_attack by Attack_type into 2 dataframes with similar number of lines\n",
    "df_attack_1 = df_attack[df_attack[\"Attack_type\"].isin([\"Backdoor\", \n",
    "                                                       \"DDoS_HTTP\", \n",
    "                                                       \"DDoS_ICMP\", \n",
    "                                                       \"DDoS_TCP\", \n",
    "                                                       \"DDoS_UDP\", \n",
    "                                                       \"Password\"])]\n",
    "\n",
    "df_attack_2 = df_attack[df_attack[\"Attack_type\"].isin([\"Port_Scanning\", \n",
    "                                                       \"SQL_injection\", \n",
    "                                                       \"Uploading\", \n",
    "                                                       \"Vulnerability_scanner\", \n",
    "                                                       \"Ransomware\",\n",
    "                                                       \"XSS\", \n",
    "                                                       \"Fingerprinting\", \n",
    "                                                       \"MITM\"])]\n",
    "print(\"-----------------------\")\n",
    "print(\"df_attack_1\")\n",
    "# print number of lines per Attack_type for each dataframe and total number of lines for each dataframe\n",
    "display(df_attack_1['Attack_type'].value_counts().to_frame().style.set_properties(**{'text-align': 'left'}))\n",
    "# print sum of lines for df_attack_1\n",
    "print(f\"Number of lines: {df_attack_1['Attack_type'].value_counts().sum()}\")\n",
    "print(f\"\\nSize: {df_attack_1.memory_usage(deep=True).sum() / 1024**2:.2f} MBytes\")\n",
    "print(\"-----------------------\\n\")\n",
    "print(\"df_attack_2\")\n",
    "# print number of lines per Attack_type for each dataframe and total number of lines for each dataframe\n",
    "display(df_attack_2['Attack_type'].value_counts().to_frame().style.set_properties(**{'text-align': 'left'}))\n",
    "# print sum of lines for df_attack_2\n",
    "print(f\"Number of lines: {df_attack_2['Attack_type'].value_counts().sum()}\")\n",
    "print(f\"Size: {df_attack_2.memory_usage(deep=True).sum() / 1024**2:.2f} MBytes\")\n",
    "print(\"-----------------------\")\n",
    "      \n"
   ]
  },
  {
   "cell_type": "markdown",
   "metadata": {},
   "source": [
    "# Training df_attack_1 classes model"
   ]
  },
  {
   "cell_type": "code",
   "execution_count": null,
   "metadata": {},
   "outputs": [],
   "source": [
    "# REalTabFormer instation: non-relational data variant\n",
    "rtf_model_df1 = REaLTabFormer(model_type=\"tabular\",\n",
    "                          batch_size=1,\n",
    "                          gradient_accumulation_steps=1,\n",
    "                          checkpoints_dir = \"rtf_checkpoint_df_attack_1\",\n",
    "                          logging_steps=100,\n",
    "                          random_state= config['random_state'],\n",
    "                          epochs= 10,\n",
    "                          train_size = 0.8,                    # 80% of the data for training, 20% for validation\n",
    "                          numeric_max_len= 12\n",
    "                          )\n",
    "\n",
    "# Note: number of bootstrap samples has influnce in required RAM memory, before optimization"
   ]
  },
  {
   "cell_type": "code",
   "execution_count": null,
   "metadata": {},
   "outputs": [],
   "source": [
    "# train df_attack_1 model\n",
    "rtf_model_df1.fit(df_attack_1)\n",
    "# save model\n",
    "rtf_model_df1.save(\"rtf_models/\")"
   ]
  },
  {
   "cell_type": "markdown",
   "metadata": {},
   "source": [
    "# Training df_attack_2 classes model"
   ]
  },
  {
   "cell_type": "code",
   "execution_count": null,
   "metadata": {},
   "outputs": [],
   "source": [
    "rtf_model_df2 = REaLTabFormer(model_type=\"tabular\",\n",
    "                          batch_size=1,\n",
    "                          gradient_accumulation_steps=1,\n",
    "                          checkpoints_dir = \"rtf_checkpoint_df_attack_2_v2\",\n",
    "                          logging_steps=100,\n",
    "                          random_state= config['random_state'],\n",
    "                          epochs= 10,\n",
    "                          train_size = 0.8,                    # 80% of the data for training, 20% for validation\n",
    "                          numeric_max_len= 12\n",
    "                          )"
   ]
  },
  {
   "cell_type": "code",
   "execution_count": null,
   "metadata": {},
   "outputs": [
    {
     "name": "stdout",
     "output_type": "stream",
     "text": [
      "Computing the sensitivity threshold...\n",
      "Using parallel computation!!!\n"
     ]
    },
    {
     "name": "stderr",
     "output_type": "stream",
     "text": [
      "/home/tiagociic/Projectos/inovmineral/lib/python3.11/site-packages/realtabformer/realtabformer.py:534: UserWarning: The frac (0.165) set results to a sample larger than                     frac_max_data=10000. Setting frac to 0.06799344543186037.\n",
      "  warnings.warn(\n",
      "/home/tiagociic/Projectos/inovmineral/lib/python3.11/site-packages/realtabformer/realtabformer.py:568: UserWarning: Duplicate rate (0.0) in the data is zero. The `qt_interval` will be set                     to qt_interval_unique=100.\n",
      "  warnings.warn(\n"
     ]
    },
    {
     "data": {
      "application/vnd.jupyter.widget-view+json": {
       "model_id": "56e1f3ad84194dd28ed34f61a1bd0303",
       "version_major": 2,
       "version_minor": 0
      },
      "text/plain": [
       "Bootstrap round:   0%|          | 0/500 [00:00<?, ?it/s]"
      ]
     },
     "metadata": {},
     "output_type": "display_data"
    },
    {
     "name": "stdout",
     "output_type": "stream",
     "text": [
      "Sensitivity threshold summary:\n",
      "count    500.000000\n",
      "mean       0.000020\n",
      "std        0.001220\n",
      "min       -0.003965\n",
      "25%       -0.000775\n",
      "50%       -0.000038\n",
      "75%        0.000776\n",
      "max        0.003186\n",
      "dtype: float64\n",
      "Sensitivity threshold: 0.0020209899999999994 qt_max: 0.05\n"
     ]
    },
    {
     "data": {
      "application/vnd.jupyter.widget-view+json": {
       "model_id": "07c7d349bd1249a096698e98af480f3a",
       "version_major": 2,
       "version_minor": 0
      },
      "text/plain": [
       "Map:   0%|          | 0/147073 [00:00<?, ? examples/s]"
      ]
     },
     "metadata": {},
     "output_type": "display_data"
    },
    {
     "data": {
      "application/vnd.jupyter.widget-view+json": {
       "model_id": "30cefe2083864e9682ab613764e6f86b",
       "version_major": 2,
       "version_minor": 0
      },
      "text/plain": [
       "  0%|          | 0/588290 [00:00<?, ?it/s]"
      ]
     },
     "metadata": {},
     "output_type": "display_data"
    },
    {
     "name": "stdout",
     "output_type": "stream",
     "text": [
      "{'loss': 1.3782, 'learning_rate': 4.999575039521325e-05, 'epoch': 0.0}\n"
     ]
    },
    {
     "data": {
      "application/vnd.jupyter.widget-view+json": {
       "model_id": "d753a8fd2bf8462ab31d36e792be0a29",
       "version_major": 2,
       "version_minor": 0
      },
      "text/plain": [
       "  0%|          | 0/29415 [00:00<?, ?it/s]"
      ]
     },
     "metadata": {},
     "output_type": "display_data"
    },
    {
     "name": "stdout",
     "output_type": "stream",
     "text": [
      "{'eval_loss': 0.8080899119377136, 'eval_runtime': 86.7685, 'eval_samples_per_second': 339.006, 'eval_steps_per_second': 339.006, 'epoch': 0.0}\n",
      "{'loss': 0.8018, 'learning_rate': 4.999150079042649e-05, 'epoch': 0.0}\n"
     ]
    },
    {
     "data": {
      "application/vnd.jupyter.widget-view+json": {
       "model_id": "d4046045d78a414aa49c461559c94ca9",
       "version_major": 2,
       "version_minor": 0
      },
      "text/plain": [
       "  0%|          | 0/29415 [00:00<?, ?it/s]"
      ]
     },
     "metadata": {},
     "output_type": "display_data"
    },
    {
     "name": "stdout",
     "output_type": "stream",
     "text": [
      "{'eval_loss': 0.7078542709350586, 'eval_runtime': 86.7677, 'eval_samples_per_second': 339.008, 'eval_steps_per_second': 339.008, 'epoch': 0.0}\n",
      "{'loss': 0.6935, 'learning_rate': 4.998725118563974e-05, 'epoch': 0.0}\n"
     ]
    },
    {
     "data": {
      "application/vnd.jupyter.widget-view+json": {
       "model_id": "a23d77b80344441db921e16191502c59",
       "version_major": 2,
       "version_minor": 0
      },
      "text/plain": [
       "  0%|          | 0/29415 [00:00<?, ?it/s]"
      ]
     },
     "metadata": {},
     "output_type": "display_data"
    },
    {
     "name": "stdout",
     "output_type": "stream",
     "text": [
      "{'eval_loss': 0.6651482582092285, 'eval_runtime': 86.6115, 'eval_samples_per_second': 339.62, 'eval_steps_per_second': 339.62, 'epoch': 0.0}\n",
      "{'loss': 0.66, 'learning_rate': 4.998300158085298e-05, 'epoch': 0.0}\n"
     ]
    },
    {
     "data": {
      "application/vnd.jupyter.widget-view+json": {
       "model_id": "7501bc0b9aad486bb3317282d8240ad9",
       "version_major": 2,
       "version_minor": 0
      },
      "text/plain": [
       "  0%|          | 0/29415 [00:00<?, ?it/s]"
      ]
     },
     "metadata": {},
     "output_type": "display_data"
    },
    {
     "name": "stdout",
     "output_type": "stream",
     "text": [
      "{'eval_loss': 0.6385543942451477, 'eval_runtime': 86.8812, 'eval_samples_per_second': 338.566, 'eval_steps_per_second': 338.566, 'epoch': 0.0}\n",
      "{'loss': 0.643, 'learning_rate': 4.997875197606623e-05, 'epoch': 0.0}\n"
     ]
    },
    {
     "data": {
      "application/vnd.jupyter.widget-view+json": {
       "model_id": "94accd964bed4211b031ad848ccb3946",
       "version_major": 2,
       "version_minor": 0
      },
      "text/plain": [
       "  0%|          | 0/29415 [00:00<?, ?it/s]"
      ]
     },
     "metadata": {},
     "output_type": "display_data"
    },
    {
     "name": "stdout",
     "output_type": "stream",
     "text": [
      "{'eval_loss': 0.6007709503173828, 'eval_runtime': 86.9079, 'eval_samples_per_second': 338.462, 'eval_steps_per_second': 338.462, 'epoch': 0.0}\n",
      "{'loss': 0.6057, 'learning_rate': 4.997450237127948e-05, 'epoch': 0.01}\n"
     ]
    },
    {
     "data": {
      "application/vnd.jupyter.widget-view+json": {
       "model_id": "9d57f0535c154311b0b7b65f1f940f32",
       "version_major": 2,
       "version_minor": 0
      },
      "text/plain": [
       "  0%|          | 0/29415 [00:00<?, ?it/s]"
      ]
     },
     "metadata": {},
     "output_type": "display_data"
    },
    {
     "name": "stdout",
     "output_type": "stream",
     "text": [
      "{'eval_loss': 0.5687059164047241, 'eval_runtime': 87.061, 'eval_samples_per_second': 337.867, 'eval_steps_per_second': 337.867, 'epoch': 0.01}\n",
      "{'loss': 0.5865, 'learning_rate': 4.997025276649272e-05, 'epoch': 0.01}\n"
     ]
    },
    {
     "data": {
      "application/vnd.jupyter.widget-view+json": {
       "model_id": "378905ed1bfc455b944a12f717dae46b",
       "version_major": 2,
       "version_minor": 0
      },
      "text/plain": [
       "  0%|          | 0/29415 [00:00<?, ?it/s]"
      ]
     },
     "metadata": {},
     "output_type": "display_data"
    },
    {
     "name": "stdout",
     "output_type": "stream",
     "text": [
      "{'eval_loss': 0.5682404637336731, 'eval_runtime': 87.056, 'eval_samples_per_second': 337.886, 'eval_steps_per_second': 337.886, 'epoch': 0.01}\n",
      "{'loss': 0.5505, 'learning_rate': 4.9966003161705966e-05, 'epoch': 0.01}\n"
     ]
    },
    {
     "data": {
      "application/vnd.jupyter.widget-view+json": {
       "model_id": "32929d2a68f347268cd2c32ed89f30e0",
       "version_major": 2,
       "version_minor": 0
      },
      "text/plain": [
       "  0%|          | 0/29415 [00:00<?, ?it/s]"
      ]
     },
     "metadata": {},
     "output_type": "display_data"
    },
    {
     "name": "stdout",
     "output_type": "stream",
     "text": [
      "{'eval_loss': 0.5672934651374817, 'eval_runtime': 87.0135, 'eval_samples_per_second': 338.051, 'eval_steps_per_second': 338.051, 'epoch': 0.01}\n",
      "{'loss': 0.5514, 'learning_rate': 4.9961753556919214e-05, 'epoch': 0.01}\n"
     ]
    },
    {
     "data": {
      "application/vnd.jupyter.widget-view+json": {
       "model_id": "0fb0fa773fe54adea3caacdded103e50",
       "version_major": 2,
       "version_minor": 0
      },
      "text/plain": [
       "  0%|          | 0/29415 [00:00<?, ?it/s]"
      ]
     },
     "metadata": {},
     "output_type": "display_data"
    },
    {
     "name": "stdout",
     "output_type": "stream",
     "text": [
      "{'eval_loss': 0.5517113208770752, 'eval_runtime': 86.6447, 'eval_samples_per_second': 339.49, 'eval_steps_per_second': 339.49, 'epoch': 0.01}\n",
      "{'loss': 0.5709, 'learning_rate': 4.9957503952132455e-05, 'epoch': 0.01}\n"
     ]
    },
    {
     "data": {
      "application/vnd.jupyter.widget-view+json": {
       "model_id": "58fb31b2e72345828f19899ad97247c6",
       "version_major": 2,
       "version_minor": 0
      },
      "text/plain": [
       "  0%|          | 0/29415 [00:00<?, ?it/s]"
      ]
     },
     "metadata": {},
     "output_type": "display_data"
    },
    {
     "name": "stdout",
     "output_type": "stream",
     "text": [
      "{'eval_loss': 0.5463361740112305, 'eval_runtime': 86.7171, 'eval_samples_per_second': 339.206, 'eval_steps_per_second': 339.206, 'epoch': 0.01}\n",
      "{'loss': 0.5804, 'learning_rate': 4.9953254347345703e-05, 'epoch': 0.01}\n"
     ]
    },
    {
     "data": {
      "application/vnd.jupyter.widget-view+json": {
       "model_id": "95788774bd544e5bba747481c9650fb6",
       "version_major": 2,
       "version_minor": 0
      },
      "text/plain": [
       "  0%|          | 0/29415 [00:00<?, ?it/s]"
      ]
     },
     "metadata": {},
     "output_type": "display_data"
    },
    {
     "name": "stdout",
     "output_type": "stream",
     "text": [
      "{'eval_loss': 0.5300026535987854, 'eval_runtime': 86.7999, 'eval_samples_per_second': 338.883, 'eval_steps_per_second': 338.883, 'epoch': 0.01}\n",
      "{'loss': 0.5469, 'learning_rate': 4.9949004742558945e-05, 'epoch': 0.01}\n"
     ]
    },
    {
     "data": {
      "application/vnd.jupyter.widget-view+json": {
       "model_id": "cd78cc4d94ef43618519c209954b2def",
       "version_major": 2,
       "version_minor": 0
      },
      "text/plain": [
       "  0%|          | 0/29415 [00:00<?, ?it/s]"
      ]
     },
     "metadata": {},
     "output_type": "display_data"
    },
    {
     "name": "stdout",
     "output_type": "stream",
     "text": [
      "{'eval_loss': 0.5260112881660461, 'eval_runtime': 91.4163, 'eval_samples_per_second': 321.77, 'eval_steps_per_second': 321.77, 'epoch': 0.01}\n",
      "{'loss': 0.5513, 'learning_rate': 4.994475513777219e-05, 'epoch': 0.01}\n"
     ]
    },
    {
     "data": {
      "application/vnd.jupyter.widget-view+json": {
       "model_id": "ecaca0f2511742e4aa2e9c60efa953dc",
       "version_major": 2,
       "version_minor": 0
      },
      "text/plain": [
       "  0%|          | 0/29415 [00:00<?, ?it/s]"
      ]
     },
     "metadata": {},
     "output_type": "display_data"
    },
    {
     "name": "stdout",
     "output_type": "stream",
     "text": [
      "{'eval_loss': 0.5178199410438538, 'eval_runtime': 87.2602, 'eval_samples_per_second': 337.095, 'eval_steps_per_second': 337.095, 'epoch': 0.01}\n",
      "{'loss': 0.5347, 'learning_rate': 4.9940505532985434e-05, 'epoch': 0.01}\n"
     ]
    },
    {
     "data": {
      "application/vnd.jupyter.widget-view+json": {
       "model_id": "25540a0bfe3a4b82b6729edd57716379",
       "version_major": 2,
       "version_minor": 0
      },
      "text/plain": [
       "  0%|          | 0/29415 [00:00<?, ?it/s]"
      ]
     },
     "metadata": {},
     "output_type": "display_data"
    },
    {
     "name": "stdout",
     "output_type": "stream",
     "text": [
      "{'eval_loss': 0.5148817300796509, 'eval_runtime': 87.1964, 'eval_samples_per_second': 337.342, 'eval_steps_per_second': 337.342, 'epoch': 0.01}\n",
      "{'loss': 0.5343, 'learning_rate': 4.9936255928198675e-05, 'epoch': 0.01}\n"
     ]
    },
    {
     "data": {
      "application/vnd.jupyter.widget-view+json": {
       "model_id": "92f75b7745714a0ba85daf329dbe73d9",
       "version_major": 2,
       "version_minor": 0
      },
      "text/plain": [
       "  0%|          | 0/29415 [00:00<?, ?it/s]"
      ]
     },
     "metadata": {},
     "output_type": "display_data"
    },
    {
     "name": "stdout",
     "output_type": "stream",
     "text": [
      "{'eval_loss': 0.5088757276535034, 'eval_runtime': 87.4644, 'eval_samples_per_second': 336.308, 'eval_steps_per_second': 336.308, 'epoch': 0.01}\n",
      "{'loss': 0.5022, 'learning_rate': 4.993200632341192e-05, 'epoch': 0.01}\n"
     ]
    },
    {
     "data": {
      "application/vnd.jupyter.widget-view+json": {
       "model_id": "1766d333b0304bfdbf673da6c4d2bcae",
       "version_major": 2,
       "version_minor": 0
      },
      "text/plain": [
       "  0%|          | 0/29415 [00:00<?, ?it/s]"
      ]
     },
     "metadata": {},
     "output_type": "display_data"
    },
    {
     "name": "stdout",
     "output_type": "stream",
     "text": [
      "{'eval_loss': 0.5114428400993347, 'eval_runtime': 88.1467, 'eval_samples_per_second': 333.705, 'eval_steps_per_second': 333.705, 'epoch': 0.01}\n",
      "{'loss': 0.5125, 'learning_rate': 4.992775671862517e-05, 'epoch': 0.01}\n"
     ]
    },
    {
     "data": {
      "application/vnd.jupyter.widget-view+json": {
       "model_id": "4050464fc5344e96b56d966ad16efe0e",
       "version_major": 2,
       "version_minor": 0
      },
      "text/plain": [
       "  0%|          | 0/29415 [00:00<?, ?it/s]"
      ]
     },
     "metadata": {},
     "output_type": "display_data"
    },
    {
     "name": "stdout",
     "output_type": "stream",
     "text": [
      "{'eval_loss': 0.5197890400886536, 'eval_runtime': 87.8676, 'eval_samples_per_second': 334.765, 'eval_steps_per_second': 334.765, 'epoch': 0.01}\n",
      "{'loss': 0.5012, 'learning_rate': 4.992350711383841e-05, 'epoch': 0.02}\n"
     ]
    },
    {
     "data": {
      "application/vnd.jupyter.widget-view+json": {
       "model_id": "5a6ab576a2ed4d77bd57360623afd9e6",
       "version_major": 2,
       "version_minor": 0
      },
      "text/plain": [
       "  0%|          | 0/29415 [00:00<?, ?it/s]"
      ]
     },
     "metadata": {},
     "output_type": "display_data"
    },
    {
     "name": "stdout",
     "output_type": "stream",
     "text": [
      "{'eval_loss': 0.5029837489128113, 'eval_runtime': 86.929, 'eval_samples_per_second': 338.38, 'eval_steps_per_second': 338.38, 'epoch': 0.02}\n",
      "{'loss': 0.5211, 'learning_rate': 4.991925750905166e-05, 'epoch': 0.02}\n"
     ]
    },
    {
     "data": {
      "application/vnd.jupyter.widget-view+json": {
       "model_id": "4aa11d6f968d41d79fd1f34659291ced",
       "version_major": 2,
       "version_minor": 0
      },
      "text/plain": [
       "  0%|          | 0/29415 [00:00<?, ?it/s]"
      ]
     },
     "metadata": {},
     "output_type": "display_data"
    },
    {
     "name": "stdout",
     "output_type": "stream",
     "text": [
      "{'eval_loss': 0.5060832500457764, 'eval_runtime': 87.2112, 'eval_samples_per_second': 337.285, 'eval_steps_per_second': 337.285, 'epoch': 0.02}\n",
      "{'loss': 0.5125, 'learning_rate': 4.99150079042649e-05, 'epoch': 0.02}\n"
     ]
    },
    {
     "data": {
      "application/vnd.jupyter.widget-view+json": {
       "model_id": "bc98a83bd6864e4e99993c63ce1c4a3c",
       "version_major": 2,
       "version_minor": 0
      },
      "text/plain": [
       "  0%|          | 0/29415 [00:00<?, ?it/s]"
      ]
     },
     "metadata": {},
     "output_type": "display_data"
    },
    {
     "name": "stdout",
     "output_type": "stream",
     "text": [
      "{'eval_loss': 0.5022186040878296, 'eval_runtime': 87.2425, 'eval_samples_per_second': 337.164, 'eval_steps_per_second': 337.164, 'epoch': 0.02}\n",
      "{'loss': 0.5096, 'learning_rate': 4.991075829947815e-05, 'epoch': 0.02}\n"
     ]
    },
    {
     "data": {
      "application/vnd.jupyter.widget-view+json": {
       "model_id": "88ef28cef9874121a0cea3f7887f8cdf",
       "version_major": 2,
       "version_minor": 0
      },
      "text/plain": [
       "  0%|          | 0/29415 [00:00<?, ?it/s]"
      ]
     },
     "metadata": {},
     "output_type": "display_data"
    },
    {
     "name": "stdout",
     "output_type": "stream",
     "text": [
      "{'eval_loss': 0.4957203269004822, 'eval_runtime': 87.1856, 'eval_samples_per_second': 337.384, 'eval_steps_per_second': 337.384, 'epoch': 0.02}\n",
      "{'loss': 0.5058, 'learning_rate': 4.99065086946914e-05, 'epoch': 0.02}\n"
     ]
    },
    {
     "data": {
      "application/vnd.jupyter.widget-view+json": {
       "model_id": "562a6dd86f21449fbeac2d98b2e50657",
       "version_major": 2,
       "version_minor": 0
      },
      "text/plain": [
       "  0%|          | 0/29415 [00:00<?, ?it/s]"
      ]
     },
     "metadata": {},
     "output_type": "display_data"
    },
    {
     "name": "stdout",
     "output_type": "stream",
     "text": [
      "{'eval_loss': 0.5001901388168335, 'eval_runtime': 87.1545, 'eval_samples_per_second': 337.504, 'eval_steps_per_second': 337.504, 'epoch': 0.02}\n",
      "{'loss': 0.5337, 'learning_rate': 4.990225908990464e-05, 'epoch': 0.02}\n"
     ]
    },
    {
     "data": {
      "application/vnd.jupyter.widget-view+json": {
       "model_id": "df177c8eb1a74c47bd454b0e81a00120",
       "version_major": 2,
       "version_minor": 0
      },
      "text/plain": [
       "  0%|          | 0/29415 [00:00<?, ?it/s]"
      ]
     },
     "metadata": {},
     "output_type": "display_data"
    },
    {
     "name": "stdout",
     "output_type": "stream",
     "text": [
      "{'eval_loss': 0.4981704354286194, 'eval_runtime': 87.0427, 'eval_samples_per_second': 337.938, 'eval_steps_per_second': 337.938, 'epoch': 0.02}\n",
      "{'loss': 0.514, 'learning_rate': 4.989800948511789e-05, 'epoch': 0.02}\n"
     ]
    },
    {
     "data": {
      "application/vnd.jupyter.widget-view+json": {
       "model_id": "06278318fc52464ca032b63076071dfe",
       "version_major": 2,
       "version_minor": 0
      },
      "text/plain": [
       "  0%|          | 0/29415 [00:00<?, ?it/s]"
      ]
     },
     "metadata": {},
     "output_type": "display_data"
    },
    {
     "name": "stdout",
     "output_type": "stream",
     "text": [
      "{'eval_loss': 0.4919542372226715, 'eval_runtime': 87.0912, 'eval_samples_per_second': 337.749, 'eval_steps_per_second': 337.749, 'epoch': 0.02}\n",
      "{'loss': 0.5003, 'learning_rate': 4.989375988033113e-05, 'epoch': 0.02}\n"
     ]
    },
    {
     "data": {
      "application/vnd.jupyter.widget-view+json": {
       "model_id": "72fa9f93a9ec48aaad564ac44d8cf24d",
       "version_major": 2,
       "version_minor": 0
      },
      "text/plain": [
       "  0%|          | 0/29415 [00:00<?, ?it/s]"
      ]
     },
     "metadata": {},
     "output_type": "display_data"
    },
    {
     "name": "stdout",
     "output_type": "stream",
     "text": [
      "{'eval_loss': 0.49487432837486267, 'eval_runtime': 87.2317, 'eval_samples_per_second': 337.205, 'eval_steps_per_second': 337.205, 'epoch': 0.02}\n",
      "{'loss': 0.5057, 'learning_rate': 4.9889510275544376e-05, 'epoch': 0.02}\n"
     ]
    },
    {
     "data": {
      "application/vnd.jupyter.widget-view+json": {
       "model_id": "c10eb35ade384bd89a966d0e0d757166",
       "version_major": 2,
       "version_minor": 0
      },
      "text/plain": [
       "  0%|          | 0/29415 [00:00<?, ?it/s]"
      ]
     },
     "metadata": {},
     "output_type": "display_data"
    },
    {
     "name": "stdout",
     "output_type": "stream",
     "text": [
      "{'eval_loss': 0.4943791329860687, 'eval_runtime': 87.1911, 'eval_samples_per_second': 337.363, 'eval_steps_per_second': 337.363, 'epoch': 0.02}\n",
      "{'loss': 0.4749, 'learning_rate': 4.9885260670757624e-05, 'epoch': 0.02}\n"
     ]
    },
    {
     "data": {
      "application/vnd.jupyter.widget-view+json": {
       "model_id": "35051ee3513043649d65e916a092d604",
       "version_major": 2,
       "version_minor": 0
      },
      "text/plain": [
       "  0%|          | 0/29415 [00:00<?, ?it/s]"
      ]
     },
     "metadata": {},
     "output_type": "display_data"
    },
    {
     "name": "stdout",
     "output_type": "stream",
     "text": [
      "{'eval_loss': 0.4891112446784973, 'eval_runtime': 87.2456, 'eval_samples_per_second': 337.152, 'eval_steps_per_second': 337.152, 'epoch': 0.02}\n",
      "{'loss': 0.4924, 'learning_rate': 4.9881011065970865e-05, 'epoch': 0.02}\n"
     ]
    },
    {
     "data": {
      "application/vnd.jupyter.widget-view+json": {
       "model_id": "9a40a9e41ea540b89e32d5bcd5330cab",
       "version_major": 2,
       "version_minor": 0
      },
      "text/plain": [
       "  0%|          | 0/29415 [00:00<?, ?it/s]"
      ]
     },
     "metadata": {},
     "output_type": "display_data"
    },
    {
     "name": "stdout",
     "output_type": "stream",
     "text": [
      "{'eval_loss': 0.48647600412368774, 'eval_runtime': 87.2604, 'eval_samples_per_second': 337.095, 'eval_steps_per_second': 337.095, 'epoch': 0.02}\n",
      "{'loss': 0.5016, 'learning_rate': 4.9876761461184113e-05, 'epoch': 0.02}\n"
     ]
    },
    {
     "data": {
      "application/vnd.jupyter.widget-view+json": {
       "model_id": "34270033dbf24ab7975d87daad5f77a9",
       "version_major": 2,
       "version_minor": 0
      },
      "text/plain": [
       "  0%|          | 0/29415 [00:00<?, ?it/s]"
      ]
     },
     "metadata": {},
     "output_type": "display_data"
    },
    {
     "name": "stdout",
     "output_type": "stream",
     "text": [
      "{'eval_loss': 0.4884108006954193, 'eval_runtime': 87.6413, 'eval_samples_per_second': 335.63, 'eval_steps_per_second': 335.63, 'epoch': 0.02}\n",
      "{'loss': 0.5099, 'learning_rate': 4.987251185639736e-05, 'epoch': 0.03}\n"
     ]
    },
    {
     "data": {
      "application/vnd.jupyter.widget-view+json": {
       "model_id": "6a256377b6de42d9bc60199fe8e01477",
       "version_major": 2,
       "version_minor": 0
      },
      "text/plain": [
       "  0%|          | 0/29415 [00:00<?, ?it/s]"
      ]
     },
     "metadata": {},
     "output_type": "display_data"
    },
    {
     "name": "stdout",
     "output_type": "stream",
     "text": [
      "{'eval_loss': 0.48287197947502136, 'eval_runtime': 87.1516, 'eval_samples_per_second': 337.515, 'eval_steps_per_second': 337.515, 'epoch': 0.03}\n",
      "{'loss': 0.5127, 'learning_rate': 4.98682622516106e-05, 'epoch': 0.03}\n"
     ]
    },
    {
     "data": {
      "application/vnd.jupyter.widget-view+json": {
       "model_id": "7186a82938ae42f088216b46e9f979a4",
       "version_major": 2,
       "version_minor": 0
      },
      "text/plain": [
       "  0%|          | 0/29415 [00:00<?, ?it/s]"
      ]
     },
     "metadata": {},
     "output_type": "display_data"
    },
    {
     "name": "stdout",
     "output_type": "stream",
     "text": [
      "{'eval_loss': 0.48393625020980835, 'eval_runtime': 87.2292, 'eval_samples_per_second': 337.215, 'eval_steps_per_second': 337.215, 'epoch': 0.03}\n",
      "{'loss': 0.4917, 'learning_rate': 4.986401264682385e-05, 'epoch': 0.03}\n"
     ]
    },
    {
     "data": {
      "application/vnd.jupyter.widget-view+json": {
       "model_id": "6aa4c0f78b9e4dd5a0cd2142f06ecdee",
       "version_major": 2,
       "version_minor": 0
      },
      "text/plain": [
       "  0%|          | 0/29415 [00:00<?, ?it/s]"
      ]
     },
     "metadata": {},
     "output_type": "display_data"
    },
    {
     "name": "stdout",
     "output_type": "stream",
     "text": [
      "{'eval_loss': 0.4867366552352905, 'eval_runtime': 87.0638, 'eval_samples_per_second': 337.856, 'eval_steps_per_second': 337.856, 'epoch': 0.03}\n",
      "{'loss': 0.4855, 'learning_rate': 4.985976304203709e-05, 'epoch': 0.03}\n"
     ]
    },
    {
     "data": {
      "application/vnd.jupyter.widget-view+json": {
       "model_id": "a2e10418ee774e5c83e71fd4b6f0d77d",
       "version_major": 2,
       "version_minor": 0
      },
      "text/plain": [
       "  0%|          | 0/29415 [00:00<?, ?it/s]"
      ]
     },
     "metadata": {},
     "output_type": "display_data"
    },
    {
     "name": "stdout",
     "output_type": "stream",
     "text": [
      "{'eval_loss': 0.4825843572616577, 'eval_runtime': 87.1494, 'eval_samples_per_second': 337.524, 'eval_steps_per_second': 337.524, 'epoch': 0.03}\n",
      "{'loss': 0.4976, 'learning_rate': 4.985551343725034e-05, 'epoch': 0.03}\n"
     ]
    },
    {
     "data": {
      "application/vnd.jupyter.widget-view+json": {
       "model_id": "bdd9a3e622184b358745612af5badb20",
       "version_major": 2,
       "version_minor": 0
      },
      "text/plain": [
       "  0%|          | 0/29415 [00:00<?, ?it/s]"
      ]
     },
     "metadata": {},
     "output_type": "display_data"
    },
    {
     "name": "stdout",
     "output_type": "stream",
     "text": [
      "{'eval_loss': 0.4814685881137848, 'eval_runtime': 87.5595, 'eval_samples_per_second': 335.943, 'eval_steps_per_second': 335.943, 'epoch': 0.03}\n",
      "{'loss': 0.4898, 'learning_rate': 4.985126383246359e-05, 'epoch': 0.03}\n"
     ]
    },
    {
     "data": {
      "application/vnd.jupyter.widget-view+json": {
       "model_id": "972cf553d6c247f284079d03bf020cfd",
       "version_major": 2,
       "version_minor": 0
      },
      "text/plain": [
       "  0%|          | 0/29415 [00:00<?, ?it/s]"
      ]
     },
     "metadata": {},
     "output_type": "display_data"
    },
    {
     "name": "stdout",
     "output_type": "stream",
     "text": [
      "{'eval_loss': 0.4771744906902313, 'eval_runtime': 86.8869, 'eval_samples_per_second': 338.543, 'eval_steps_per_second': 338.543, 'epoch': 0.03}\n",
      "{'loss': 0.4903, 'learning_rate': 4.984701422767683e-05, 'epoch': 0.03}\n"
     ]
    },
    {
     "data": {
      "application/vnd.jupyter.widget-view+json": {
       "model_id": "a9877e7d267548f99caa256aedbb6929",
       "version_major": 2,
       "version_minor": 0
      },
      "text/plain": [
       "  0%|          | 0/29415 [00:00<?, ?it/s]"
      ]
     },
     "metadata": {},
     "output_type": "display_data"
    },
    {
     "name": "stdout",
     "output_type": "stream",
     "text": [
      "{'eval_loss': 0.4816703796386719, 'eval_runtime': 86.9602, 'eval_samples_per_second': 338.258, 'eval_steps_per_second': 338.258, 'epoch': 0.03}\n",
      "{'loss': 0.4756, 'learning_rate': 4.984276462289008e-05, 'epoch': 0.03}\n"
     ]
    },
    {
     "data": {
      "application/vnd.jupyter.widget-view+json": {
       "model_id": "d82285c53cce4bdb8d5eedccff215fb5",
       "version_major": 2,
       "version_minor": 0
      },
      "text/plain": [
       "  0%|          | 0/29415 [00:00<?, ?it/s]"
      ]
     },
     "metadata": {},
     "output_type": "display_data"
    },
    {
     "name": "stdout",
     "output_type": "stream",
     "text": [
      "{'eval_loss': 0.4855087399482727, 'eval_runtime': 87.0189, 'eval_samples_per_second': 338.03, 'eval_steps_per_second': 338.03, 'epoch': 0.03}\n",
      "{'loss': 0.4943, 'learning_rate': 4.983851501810332e-05, 'epoch': 0.03}\n"
     ]
    },
    {
     "data": {
      "application/vnd.jupyter.widget-view+json": {
       "model_id": "a562f0534f1c4dfe8d7a99d5191b9199",
       "version_major": 2,
       "version_minor": 0
      },
      "text/plain": [
       "  0%|          | 0/29415 [00:00<?, ?it/s]"
      ]
     },
     "metadata": {},
     "output_type": "display_data"
    },
    {
     "name": "stdout",
     "output_type": "stream",
     "text": [
      "{'eval_loss': 0.4876137673854828, 'eval_runtime': 87.4759, 'eval_samples_per_second': 336.264, 'eval_steps_per_second': 336.264, 'epoch': 0.03}\n",
      "{'loss': 0.4648, 'learning_rate': 4.9834265413316566e-05, 'epoch': 0.03}\n"
     ]
    },
    {
     "data": {
      "application/vnd.jupyter.widget-view+json": {
       "model_id": "2868282dec5e425ea307217459ee9da4",
       "version_major": 2,
       "version_minor": 0
      },
      "text/plain": [
       "  0%|          | 0/29415 [00:00<?, ?it/s]"
      ]
     },
     "metadata": {},
     "output_type": "display_data"
    },
    {
     "name": "stdout",
     "output_type": "stream",
     "text": [
      "{'eval_loss': 0.4786631166934967, 'eval_runtime': 87.0368, 'eval_samples_per_second': 337.961, 'eval_steps_per_second': 337.961, 'epoch': 0.03}\n",
      "{'loss': 0.4803, 'learning_rate': 4.9830015808529814e-05, 'epoch': 0.03}\n"
     ]
    },
    {
     "data": {
      "application/vnd.jupyter.widget-view+json": {
       "model_id": "1beaebd5c98f4fbdbb1576895e4cc2ed",
       "version_major": 2,
       "version_minor": 0
      },
      "text/plain": [
       "  0%|          | 0/29415 [00:00<?, ?it/s]"
      ]
     },
     "metadata": {},
     "output_type": "display_data"
    },
    {
     "name": "stdout",
     "output_type": "stream",
     "text": [
      "{'eval_loss': 0.4723789095878601, 'eval_runtime': 87.0693, 'eval_samples_per_second': 337.834, 'eval_steps_per_second': 337.834, 'epoch': 0.03}\n",
      "{'loss': 0.4348, 'learning_rate': 4.982576620374305e-05, 'epoch': 0.03}\n"
     ]
    },
    {
     "data": {
      "application/vnd.jupyter.widget-view+json": {
       "model_id": "b0b68e294b0b4cb1b490aa9f0a02d5aa",
       "version_major": 2,
       "version_minor": 0
      },
      "text/plain": [
       "  0%|          | 0/29415 [00:00<?, ?it/s]"
      ]
     },
     "metadata": {},
     "output_type": "display_data"
    },
    {
     "name": "stdout",
     "output_type": "stream",
     "text": [
      "{'eval_loss': 0.4770941138267517, 'eval_runtime': 87.2875, 'eval_samples_per_second': 336.99, 'eval_steps_per_second': 336.99, 'epoch': 0.03}\n",
      "{'loss': 0.4667, 'learning_rate': 4.98215165989563e-05, 'epoch': 0.04}\n"
     ]
    },
    {
     "data": {
      "application/vnd.jupyter.widget-view+json": {
       "model_id": "10d19f3039484e0593035f3a9d2dc4a7",
       "version_major": 2,
       "version_minor": 0
      },
      "text/plain": [
       "  0%|          | 0/29415 [00:00<?, ?it/s]"
      ]
     },
     "metadata": {},
     "output_type": "display_data"
    },
    {
     "name": "stdout",
     "output_type": "stream",
     "text": [
      "{'eval_loss': 0.4762062728404999, 'eval_runtime': 87.0746, 'eval_samples_per_second': 337.814, 'eval_steps_per_second': 337.814, 'epoch': 0.04}\n",
      "{'loss': 0.4775, 'learning_rate': 4.9817266994169545e-05, 'epoch': 0.04}\n"
     ]
    },
    {
     "data": {
      "application/vnd.jupyter.widget-view+json": {
       "model_id": "994fa19d19bb4e59b79ac0ccb352d11f",
       "version_major": 2,
       "version_minor": 0
      },
      "text/plain": [
       "  0%|          | 0/29415 [00:00<?, ?it/s]"
      ]
     },
     "metadata": {},
     "output_type": "display_data"
    },
    {
     "name": "stdout",
     "output_type": "stream",
     "text": [
      "{'eval_loss': 0.47890007495880127, 'eval_runtime': 87.1682, 'eval_samples_per_second': 337.451, 'eval_steps_per_second': 337.451, 'epoch': 0.04}\n",
      "{'loss': 0.4588, 'learning_rate': 4.9813017389382786e-05, 'epoch': 0.04}\n"
     ]
    },
    {
     "data": {
      "application/vnd.jupyter.widget-view+json": {
       "model_id": "801fb3d6b6574ecc8be73f8fcd1b03ea",
       "version_major": 2,
       "version_minor": 0
      },
      "text/plain": [
       "  0%|          | 0/29415 [00:00<?, ?it/s]"
      ]
     },
     "metadata": {},
     "output_type": "display_data"
    },
    {
     "name": "stdout",
     "output_type": "stream",
     "text": [
      "{'eval_loss': 0.47520866990089417, 'eval_runtime': 86.9764, 'eval_samples_per_second': 338.195, 'eval_steps_per_second': 338.195, 'epoch': 0.04}\n",
      "{'loss': 0.495, 'learning_rate': 4.9808767784596034e-05, 'epoch': 0.04}\n"
     ]
    },
    {
     "data": {
      "application/vnd.jupyter.widget-view+json": {
       "model_id": "8d204b5ad1dd4a04b7458db990fb3830",
       "version_major": 2,
       "version_minor": 0
      },
      "text/plain": [
       "  0%|          | 0/29415 [00:00<?, ?it/s]"
      ]
     },
     "metadata": {},
     "output_type": "display_data"
    },
    {
     "name": "stdout",
     "output_type": "stream",
     "text": [
      "{'eval_loss': 0.4725222587585449, 'eval_runtime': 86.9049, 'eval_samples_per_second': 338.473, 'eval_steps_per_second': 338.473, 'epoch': 0.04}\n",
      "{'train_runtime': 4058.2147, 'train_samples_per_second': 144.963, 'train_steps_per_second': 144.963, 'train_loss': 0.5467119615342882, 'epoch': 0.04}\n"
     ]
    },
    {
     "data": {
      "application/vnd.jupyter.widget-view+json": {
       "model_id": "e874b7dfc7274099a29a07d9472cf376",
       "version_major": 2,
       "version_minor": 0
      },
      "text/plain": [
       "  0%|          | 0/30000 [00:00<?, ?it/s]"
      ]
     },
     "metadata": {},
     "output_type": "display_data"
    },
    {
     "name": "stdout",
     "output_type": "stream",
     "text": [
      "Generated 0 invalid samples out of total 30080 samples generated. Sampling efficiency is: 100.0000%\n",
      "Critic round: 5,                     sensitivity_threshold: 0.0020209899999999994,                         val_sensitivity: -0.012873200000000001,                             val_sensitivities: [-0.012738199999999998, -0.012475200000000002, -0.011756400000000002, -0.0128942, -0.012177200000000004, -0.012274399999999996, -0.012677600000000002, -0.0134254, -0.013196200000000002, -0.012864600000000002, -0.013237199999999998, -0.0145034, -0.012708400000000002, -0.013518799999999997, -0.0126508]\n"
     ]
    },
    {
     "data": {
      "application/vnd.jupyter.widget-view+json": {
       "model_id": "ae1460c0aac14efe9c22d7faa0b9de92",
       "version_major": 2,
       "version_minor": 0
      },
      "text/plain": [
       "  0%|          | 0/1176580 [00:00<?, ?it/s]"
      ]
     },
     "metadata": {},
     "output_type": "display_data"
    },
    {
     "name": "stdout",
     "output_type": "stream",
     "text": [
      "{'loss': 0.4659, 'learning_rate': 4.9804518179809275e-05, 'epoch': 0.04}\n"
     ]
    },
    {
     "data": {
      "application/vnd.jupyter.widget-view+json": {
       "model_id": "e06398a3feef461ab907f799bb88fd23",
       "version_major": 2,
       "version_minor": 0
      },
      "text/plain": [
       "  0%|          | 0/29415 [00:00<?, ?it/s]"
      ]
     },
     "metadata": {},
     "output_type": "display_data"
    },
    {
     "name": "stdout",
     "output_type": "stream",
     "text": [
      "{'eval_loss': 0.47596824169158936, 'eval_runtime': 91.5578, 'eval_samples_per_second': 321.273, 'eval_steps_per_second': 321.273, 'epoch': 0.04}\n",
      "{'loss': 0.464, 'learning_rate': 4.980026857502252e-05, 'epoch': 0.04}\n"
     ]
    },
    {
     "data": {
      "application/vnd.jupyter.widget-view+json": {
       "model_id": "c5790c4e795b4e569ae0b4b54a31a791",
       "version_major": 2,
       "version_minor": 0
      },
      "text/plain": [
       "  0%|          | 0/29415 [00:00<?, ?it/s]"
      ]
     },
     "metadata": {},
     "output_type": "display_data"
    },
    {
     "name": "stdout",
     "output_type": "stream",
     "text": [
      "{'eval_loss': 0.4708021581172943, 'eval_runtime': 90.9691, 'eval_samples_per_second': 323.351, 'eval_steps_per_second': 323.351, 'epoch': 0.04}\n",
      "{'loss': 0.4454, 'learning_rate': 4.979601897023577e-05, 'epoch': 0.04}\n"
     ]
    },
    {
     "data": {
      "application/vnd.jupyter.widget-view+json": {
       "model_id": "532ff1658cd847499708fed32e2a9d90",
       "version_major": 2,
       "version_minor": 0
      },
      "text/plain": [
       "  0%|          | 0/29415 [00:00<?, ?it/s]"
      ]
     },
     "metadata": {},
     "output_type": "display_data"
    },
    {
     "name": "stdout",
     "output_type": "stream",
     "text": [
      "{'eval_loss': 0.47192785143852234, 'eval_runtime': 90.7988, 'eval_samples_per_second': 323.958, 'eval_steps_per_second': 323.958, 'epoch': 0.04}\n",
      "{'loss': 0.4779, 'learning_rate': 4.979176936544901e-05, 'epoch': 0.04}\n"
     ]
    },
    {
     "data": {
      "application/vnd.jupyter.widget-view+json": {
       "model_id": "c7ce7d89cb9b43948794289021197cdb",
       "version_major": 2,
       "version_minor": 0
      },
      "text/plain": [
       "  0%|          | 0/29415 [00:00<?, ?it/s]"
      ]
     },
     "metadata": {},
     "output_type": "display_data"
    },
    {
     "name": "stdout",
     "output_type": "stream",
     "text": [
      "{'eval_loss': 0.4728752672672272, 'eval_runtime': 90.7726, 'eval_samples_per_second': 324.052, 'eval_steps_per_second': 324.052, 'epoch': 0.04}\n",
      "{'loss': 0.4849, 'learning_rate': 4.978751976066226e-05, 'epoch': 0.04}\n"
     ]
    },
    {
     "data": {
      "application/vnd.jupyter.widget-view+json": {
       "model_id": "fb60423d1a674745bd7016c5fabdf913",
       "version_major": 2,
       "version_minor": 0
      },
      "text/plain": [
       "  0%|          | 0/29415 [00:00<?, ?it/s]"
      ]
     },
     "metadata": {},
     "output_type": "display_data"
    },
    {
     "name": "stdout",
     "output_type": "stream",
     "text": [
      "{'eval_loss': 0.4760623276233673, 'eval_runtime': 90.6315, 'eval_samples_per_second': 324.556, 'eval_steps_per_second': 324.556, 'epoch': 0.04}\n",
      "{'loss': 0.4575, 'learning_rate': 4.978327015587551e-05, 'epoch': 0.04}\n"
     ]
    },
    {
     "data": {
      "application/vnd.jupyter.widget-view+json": {
       "model_id": "cb2e9038580b42f0aa4dd4f06f4ac12e",
       "version_major": 2,
       "version_minor": 0
      },
      "text/plain": [
       "  0%|          | 0/29415 [00:00<?, ?it/s]"
      ]
     },
     "metadata": {},
     "output_type": "display_data"
    },
    {
     "name": "stdout",
     "output_type": "stream",
     "text": [
      "{'eval_loss': 0.47221875190734863, 'eval_runtime': 90.6136, 'eval_samples_per_second': 324.62, 'eval_steps_per_second': 324.62, 'epoch': 0.04}\n",
      "{'loss': 0.4811, 'learning_rate': 4.977902055108875e-05, 'epoch': 0.04}\n"
     ]
    },
    {
     "data": {
      "application/vnd.jupyter.widget-view+json": {
       "model_id": "9b79bd8544974c09bf5c18cc674a4010",
       "version_major": 2,
       "version_minor": 0
      },
      "text/plain": [
       "  0%|          | 0/29415 [00:00<?, ?it/s]"
      ]
     },
     "metadata": {},
     "output_type": "display_data"
    },
    {
     "name": "stdout",
     "output_type": "stream",
     "text": [
      "{'eval_loss': 0.47343870997428894, 'eval_runtime': 90.5622, 'eval_samples_per_second': 324.804, 'eval_steps_per_second': 324.804, 'epoch': 0.04}\n",
      "{'train_runtime': 657.5831, 'train_samples_per_second': 1789.249, 'train_steps_per_second': 1789.249, 'train_loss': 0.06301491590646598, 'epoch': 0.04}\n"
     ]
    },
    {
     "data": {
      "application/vnd.jupyter.widget-view+json": {
       "model_id": "d163922fe9ff40dfb931c24d39d046e4",
       "version_major": 2,
       "version_minor": 0
      },
      "text/plain": [
       "  0%|          | 0/30000 [00:00<?, ?it/s]"
      ]
     },
     "metadata": {},
     "output_type": "display_data"
    },
    {
     "name": "stdout",
     "output_type": "stream",
     "text": [
      "Generated 0 invalid samples out of total 30080 samples generated. Sampling efficiency is: 100.0000%\n",
      "Saving not-best model...\n",
      "Critic round: 10,                     sensitivity_threshold: 0.0020209899999999994,                         val_sensitivity: 0.00399436,                             val_sensitivities: [0.0036542, 0.0032517999999999996, 0.0028190000000000003, 0.0022500000000000003, 0.003990800000000001, 0.005039199999999999, 0.005099600000000001, 0.003762600000000001, 0.0034178000000000004, 0.0046236, 0.0044816, 0.0031036, 0.0047409999999999996, 0.005065000000000001, 0.0046156]\n",
      "Copying artefacts from: best-disc-model\n",
      "Copying artefacts from: mean-best-disc-model\n",
      "Copying artefacts from: not-best-disc-model\n",
      "Copying artefacts from: last-epoch-model\n"
     ]
    }
   ],
   "source": [
    "# train df_attack_2 model\n",
    "rtf_model_df2.fit(df_attack_2)\n",
    "# save model\n",
    "rtf_model_df2.save(\"rtf_models/\")"
   ]
  },
  {
   "cell_type": "markdown",
   "metadata": {},
   "source": [
    "# Data Generation"
   ]
  },
  {
   "cell_type": "code",
   "execution_count": null,
   "metadata": {},
   "outputs": [],
   "source": [
    "# load best df_attack_1 model (id000016979230192943532032)\n",
    "rtf_model_df1 = REaLTabFormer.load_from_dir(path=\"rtf_models/id000016979230192943532032\")"
   ]
  },
  {
   "cell_type": "code",
   "execution_count": null,
   "metadata": {},
   "outputs": [],
   "source": [
    "def sample_by_category(model, category_dict, columns):\n",
    "    # create empty dataframe with columns \n",
    "    sampled_df = pd.DataFrame(columns=columns)\n",
    "    for category, n_samples in category_dict.items():\n",
    "        start_time = time.time()\n",
    "        while len(sampled_df[sampled_df['Attack_type'] == category]) < n_samples:\n",
    "            \n",
    "            samples = model.sample(n_samples=20000)\n",
    "            # select only the samples with the desired category\n",
    "            category_samples = samples[samples['Attack_type'] == category]\n",
    "            # discard the excess samples if necessary\n",
    "            if len(category_samples) > n_samples:\n",
    "                category_samples = category_samples.sample(n=n_samples)\n",
    "            # add the selected samples to the sampled_df dataframe\n",
    "            sampled_df = pd.concat([sampled_df, category_samples], ignore_index=True)\n",
    "            \n",
    "            elapsed_time = time.time() - start_time\n",
    "            if elapsed_time > 5:\n",
    "                clear_output(wait=True)\n",
    "                print(f\"{len(sampled_df[sampled_df['Attack_type'] == category])}/{n_samples}\", end=\"\\r\")\n",
    "                start_time = time.time()\n",
    "    return sampled_df"
   ]
  },
  {
   "cell_type": "code",
   "execution_count": null,
   "metadata": {},
   "outputs": [],
   "source": [
    "counts_df1= {'DDoS_UDP': 3034,\n",
    "             'DDoS_HTTP':61084,\n",
    "             'Password': 60175,\n",
    "             'DDoS_TCP': 59947,\n",
    "             'Backdoor': 80756,\n",
    "             'DDoS_ICMP': 45562}"
   ]
  },
  {
   "cell_type": "code",
   "execution_count": null,
   "metadata": {},
   "outputs": [
    {
     "data": {
      "application/vnd.jupyter.widget-view+json": {
       "model_id": "fd054d5f0a3d404897cd725194417628",
       "version_major": 2,
       "version_minor": 0
      },
      "text/plain": [
       "  0%|          | 0/10000 [00:00<?, ?it/s]"
      ]
     },
     "metadata": {},
     "output_type": "display_data"
    },
    {
     "name": "stdout",
     "output_type": "stream",
     "text": [
      "Generated 0 invalid samples out of total 10112 samples generated. Sampling efficiency is: 100.0000%\n",
      "46182/45562\r"
     ]
    }
   ],
   "source": [
    "RTB_dataset_df1 = sample_by_category(rtf_model_df1, counts_df1, df_train.columns)"
   ]
  },
  {
   "cell_type": "code",
   "execution_count": null,
   "metadata": {},
   "outputs": [],
   "source": [
    "# save RTB_dataset_df1 to csv file\n",
    "RTB_dataset_df1.to_csv(\"RTB_dataset_df1.csv\", index=False)"
   ]
  },
  {
   "cell_type": "code",
   "execution_count": null,
   "metadata": {},
   "outputs": [],
   "source": [
    "counts_df2= {\"Port_Scanning\": 84085, \n",
    "             \"SQL_injection\":59245 , \n",
    "             \"Uploading\":70466, \n",
    "             \"Vulnerability_scanner\":59914, \n",
    "             \"Ransomware\":92237, \n",
    "             \"Fingerprinting\":99293,\n",
    "             \"XSS\": 87969,\n",
    "             \"MITM\":99718}\n",
    "\n"
   ]
  },
  {
   "cell_type": "code",
   "execution_count": null,
   "metadata": {},
   "outputs": [],
   "source": [
    "counts_df2= {\"XSS\": 87969}\n",
    "rtf_model_df2 = REaLTabFormer.load_from_dir(path=\"rtf_models/id000016982514417271404544\")\n",
    "                                            \n",
    "                                            "
   ]
  },
  {
   "cell_type": "code",
   "execution_count": null,
   "metadata": {},
   "outputs": [],
   "source": [
    "# load best df_attack_1 model (id000016979230192943532032)\n",
    "rtf_model_df2 = REaLTabFormer.load_from_dir(path=\"rtf_models/id000016980601259525519360\")"
   ]
  },
  {
   "cell_type": "code",
   "execution_count": null,
   "metadata": {},
   "outputs": [
    {
     "name": "stdout",
     "output_type": "stream",
     "text": [
      "88183/87969\r"
     ]
    }
   ],
   "source": [
    "RTB_dataset_df2 = sample_by_category(rtf_model_df2, \n",
    "                                     counts_df2, \n",
    "                                     df_train.columns)"
   ]
  },
  {
   "cell_type": "code",
   "execution_count": null,
   "metadata": {},
   "outputs": [],
   "source": [
    "# save RTB_dataset_df2 to csv file\n",
    "RTB_dataset_df2.to_csv(\"RTB_dataset_df2_XSS.csv\", index=False)"
   ]
  },
  {
   "cell_type": "markdown",
   "metadata": {},
   "source": [
    "# Reconstruct, Concatenate and save augmented Dataset"
   ]
  },
  {
   "cell_type": "code",
   "execution_count": null,
   "metadata": {},
   "outputs": [],
   "source": [
    "# load RTB_dataset_df1 and RTB_dataset_df2\n",
    "RTB_dataset_df1 = pd.read_csv(\"RTB_dataset_df1.csv\", low_memory=False)\n",
    "RTB_dataset_df2 = pd.read_csv(\"RTB_dataset_df2.csv\", low_memory=False)\n",
    "RTB_dataset_df3 = pd.read_csv(\"RTB_dataset_df2_XSS.csv\", low_memory=False)"
   ]
  },
  {
   "cell_type": "code",
   "execution_count": null,
   "metadata": {},
   "outputs": [
    {
     "data": {
      "text/html": [
       "<style type=\"text/css\">\n",
       "#T_a0316_row0_col0, #T_a0316_row1_col0, #T_a0316_row2_col0, #T_a0316_row3_col0, #T_a0316_row4_col0, #T_a0316_row5_col0 {\n",
       "  text-align: left;\n",
       "}\n",
       "</style>\n",
       "<table id=\"T_a0316\">\n",
       "  <thead>\n",
       "    <tr>\n",
       "      <th class=\"blank level0\" >&nbsp;</th>\n",
       "      <th id=\"T_a0316_level0_col0\" class=\"col_heading level0 col0\" >count</th>\n",
       "    </tr>\n",
       "    <tr>\n",
       "      <th class=\"index_name level0\" >Attack_type</th>\n",
       "      <th class=\"blank col0\" >&nbsp;</th>\n",
       "    </tr>\n",
       "  </thead>\n",
       "  <tbody>\n",
       "    <tr>\n",
       "      <th id=\"T_a0316_level0_row0\" class=\"row_heading level0 row0\" >Backdoor</th>\n",
       "      <td id=\"T_a0316_row0_col0\" class=\"data row0 col0\" >81549</td>\n",
       "    </tr>\n",
       "    <tr>\n",
       "      <th id=\"T_a0316_level0_row1\" class=\"row_heading level0 row1\" >DDoS_HTTP</th>\n",
       "      <td id=\"T_a0316_row1_col0\" class=\"data row1 col0\" >62613</td>\n",
       "    </tr>\n",
       "    <tr>\n",
       "      <th id=\"T_a0316_level0_row2\" class=\"row_heading level0 row2\" >Password</th>\n",
       "      <td id=\"T_a0316_row2_col0\" class=\"data row2 col0\" >62373</td>\n",
       "    </tr>\n",
       "    <tr>\n",
       "      <th id=\"T_a0316_level0_row3\" class=\"row_heading level0 row3\" >DDoS_TCP</th>\n",
       "      <td id=\"T_a0316_row3_col0\" class=\"data row3 col0\" >60349</td>\n",
       "    </tr>\n",
       "    <tr>\n",
       "      <th id=\"T_a0316_level0_row4\" class=\"row_heading level0 row4\" >DDoS_ICMP</th>\n",
       "      <td id=\"T_a0316_row4_col0\" class=\"data row4 col0\" >46182</td>\n",
       "    </tr>\n",
       "    <tr>\n",
       "      <th id=\"T_a0316_level0_row5\" class=\"row_heading level0 row5\" >DDoS_UDP</th>\n",
       "      <td id=\"T_a0316_row5_col0\" class=\"data row5 col0\" >3258</td>\n",
       "    </tr>\n",
       "  </tbody>\n",
       "</table>\n"
      ],
      "text/plain": [
       "<pandas.io.formats.style.Styler at 0x7f6ca7a52710>"
      ]
     },
     "metadata": {},
     "output_type": "display_data"
    }
   ],
   "source": [
    "# print number of lines per Attack_type for each dataframe and total number of lines for each dataframe\n",
    "display(RTB_dataset_df1['Attack_type'].value_counts().to_frame().style.set_properties(**{'text-align': 'left'}))"
   ]
  },
  {
   "cell_type": "code",
   "execution_count": null,
   "metadata": {},
   "outputs": [
    {
     "data": {
      "text/html": [
       "<style type=\"text/css\">\n",
       "#T_e2176_row0_col0, #T_e2176_row0_col1, #T_e2176_row0_col2, #T_e2176_row0_col3, #T_e2176_row0_col4, #T_e2176_row0_col5, #T_e2176_row0_col6, #T_e2176_row0_col7, #T_e2176_row0_col8, #T_e2176_row0_col9, #T_e2176_row0_col10, #T_e2176_row0_col11, #T_e2176_row0_col12, #T_e2176_row0_col13, #T_e2176_row0_col14, #T_e2176_row0_col15, #T_e2176_row0_col16, #T_e2176_row0_col17, #T_e2176_row0_col18, #T_e2176_row0_col19, #T_e2176_row0_col20, #T_e2176_row0_col21, #T_e2176_row0_col22, #T_e2176_row0_col23, #T_e2176_row0_col24, #T_e2176_row0_col25, #T_e2176_row0_col26, #T_e2176_row0_col27, #T_e2176_row0_col28, #T_e2176_row0_col29, #T_e2176_row0_col30, #T_e2176_row0_col31, #T_e2176_row0_col32, #T_e2176_row0_col33, #T_e2176_row0_col34, #T_e2176_row0_col35, #T_e2176_row0_col36, #T_e2176_row0_col37, #T_e2176_row0_col38, #T_e2176_row0_col39, #T_e2176_row0_col40, #T_e2176_row0_col41, #T_e2176_row0_col42, #T_e2176_row0_col43, #T_e2176_row0_col44, #T_e2176_row0_col45, #T_e2176_row0_col46, #T_e2176_row0_col47, #T_e2176_row1_col0, #T_e2176_row1_col1, #T_e2176_row1_col2, #T_e2176_row1_col3, #T_e2176_row1_col4, #T_e2176_row1_col5, #T_e2176_row1_col6, #T_e2176_row1_col7, #T_e2176_row1_col8, #T_e2176_row1_col9, #T_e2176_row1_col10, #T_e2176_row1_col11, #T_e2176_row1_col12, #T_e2176_row1_col13, #T_e2176_row1_col14, #T_e2176_row1_col15, #T_e2176_row1_col16, #T_e2176_row1_col17, #T_e2176_row1_col18, #T_e2176_row1_col19, #T_e2176_row1_col20, #T_e2176_row1_col21, #T_e2176_row1_col22, #T_e2176_row1_col23, #T_e2176_row1_col24, #T_e2176_row1_col25, #T_e2176_row1_col26, #T_e2176_row1_col27, #T_e2176_row1_col28, #T_e2176_row1_col29, #T_e2176_row1_col30, #T_e2176_row1_col31, #T_e2176_row1_col32, #T_e2176_row1_col33, #T_e2176_row1_col34, #T_e2176_row1_col35, #T_e2176_row1_col36, #T_e2176_row1_col37, #T_e2176_row1_col38, #T_e2176_row1_col39, #T_e2176_row1_col40, #T_e2176_row1_col41, #T_e2176_row1_col42, #T_e2176_row1_col43, #T_e2176_row1_col44, #T_e2176_row1_col45, #T_e2176_row1_col46, #T_e2176_row1_col47, #T_e2176_row2_col0, #T_e2176_row2_col1, #T_e2176_row2_col2, #T_e2176_row2_col3, #T_e2176_row2_col4, #T_e2176_row2_col5, #T_e2176_row2_col6, #T_e2176_row2_col7, #T_e2176_row2_col8, #T_e2176_row2_col9, #T_e2176_row2_col10, #T_e2176_row2_col11, #T_e2176_row2_col12, #T_e2176_row2_col13, #T_e2176_row2_col14, #T_e2176_row2_col15, #T_e2176_row2_col16, #T_e2176_row2_col17, #T_e2176_row2_col18, #T_e2176_row2_col19, #T_e2176_row2_col20, #T_e2176_row2_col21, #T_e2176_row2_col22, #T_e2176_row2_col23, #T_e2176_row2_col24, #T_e2176_row2_col25, #T_e2176_row2_col26, #T_e2176_row2_col27, #T_e2176_row2_col28, #T_e2176_row2_col29, #T_e2176_row2_col30, #T_e2176_row2_col31, #T_e2176_row2_col32, #T_e2176_row2_col33, #T_e2176_row2_col34, #T_e2176_row2_col35, #T_e2176_row2_col36, #T_e2176_row2_col37, #T_e2176_row2_col38, #T_e2176_row2_col39, #T_e2176_row2_col40, #T_e2176_row2_col41, #T_e2176_row2_col42, #T_e2176_row2_col43, #T_e2176_row2_col44, #T_e2176_row2_col45, #T_e2176_row2_col46, #T_e2176_row2_col47, #T_e2176_row3_col0, #T_e2176_row3_col1, #T_e2176_row3_col2, #T_e2176_row3_col3, #T_e2176_row3_col4, #T_e2176_row3_col5, #T_e2176_row3_col6, #T_e2176_row3_col7, #T_e2176_row3_col8, #T_e2176_row3_col9, #T_e2176_row3_col10, #T_e2176_row3_col11, #T_e2176_row3_col12, #T_e2176_row3_col13, #T_e2176_row3_col14, #T_e2176_row3_col15, #T_e2176_row3_col16, #T_e2176_row3_col17, #T_e2176_row3_col18, #T_e2176_row3_col19, #T_e2176_row3_col20, #T_e2176_row3_col21, #T_e2176_row3_col22, #T_e2176_row3_col23, #T_e2176_row3_col24, #T_e2176_row3_col25, #T_e2176_row3_col26, #T_e2176_row3_col27, #T_e2176_row3_col28, #T_e2176_row3_col29, #T_e2176_row3_col30, #T_e2176_row3_col31, #T_e2176_row3_col32, #T_e2176_row3_col33, #T_e2176_row3_col34, #T_e2176_row3_col35, #T_e2176_row3_col36, #T_e2176_row3_col37, #T_e2176_row3_col38, #T_e2176_row3_col39, #T_e2176_row3_col40, #T_e2176_row3_col41, #T_e2176_row3_col42, #T_e2176_row3_col43, #T_e2176_row3_col44, #T_e2176_row3_col45, #T_e2176_row3_col46, #T_e2176_row3_col47, #T_e2176_row4_col0, #T_e2176_row4_col1, #T_e2176_row4_col2, #T_e2176_row4_col3, #T_e2176_row4_col4, #T_e2176_row4_col5, #T_e2176_row4_col6, #T_e2176_row4_col7, #T_e2176_row4_col8, #T_e2176_row4_col9, #T_e2176_row4_col10, #T_e2176_row4_col11, #T_e2176_row4_col12, #T_e2176_row4_col13, #T_e2176_row4_col14, #T_e2176_row4_col15, #T_e2176_row4_col16, #T_e2176_row4_col17, #T_e2176_row4_col18, #T_e2176_row4_col19, #T_e2176_row4_col20, #T_e2176_row4_col21, #T_e2176_row4_col22, #T_e2176_row4_col23, #T_e2176_row4_col24, #T_e2176_row4_col25, #T_e2176_row4_col26, #T_e2176_row4_col27, #T_e2176_row4_col28, #T_e2176_row4_col29, #T_e2176_row4_col30, #T_e2176_row4_col31, #T_e2176_row4_col32, #T_e2176_row4_col33, #T_e2176_row4_col34, #T_e2176_row4_col35, #T_e2176_row4_col36, #T_e2176_row4_col37, #T_e2176_row4_col38, #T_e2176_row4_col39, #T_e2176_row4_col40, #T_e2176_row4_col41, #T_e2176_row4_col42, #T_e2176_row4_col43, #T_e2176_row4_col44, #T_e2176_row4_col45, #T_e2176_row4_col46, #T_e2176_row4_col47, #T_e2176_row5_col0, #T_e2176_row5_col1, #T_e2176_row5_col2, #T_e2176_row5_col3, #T_e2176_row5_col4, #T_e2176_row5_col5, #T_e2176_row5_col6, #T_e2176_row5_col7, #T_e2176_row5_col8, #T_e2176_row5_col9, #T_e2176_row5_col10, #T_e2176_row5_col11, #T_e2176_row5_col12, #T_e2176_row5_col13, #T_e2176_row5_col14, #T_e2176_row5_col15, #T_e2176_row5_col16, #T_e2176_row5_col17, #T_e2176_row5_col18, #T_e2176_row5_col19, #T_e2176_row5_col20, #T_e2176_row5_col21, #T_e2176_row5_col22, #T_e2176_row5_col23, #T_e2176_row5_col24, #T_e2176_row5_col25, #T_e2176_row5_col26, #T_e2176_row5_col27, #T_e2176_row5_col28, #T_e2176_row5_col29, #T_e2176_row5_col30, #T_e2176_row5_col31, #T_e2176_row5_col32, #T_e2176_row5_col33, #T_e2176_row5_col34, #T_e2176_row5_col35, #T_e2176_row5_col36, #T_e2176_row5_col37, #T_e2176_row5_col38, #T_e2176_row5_col39, #T_e2176_row5_col40, #T_e2176_row5_col41, #T_e2176_row5_col42, #T_e2176_row5_col43, #T_e2176_row5_col44, #T_e2176_row5_col45, #T_e2176_row5_col46, #T_e2176_row5_col47, #T_e2176_row6_col0, #T_e2176_row6_col1, #T_e2176_row6_col2, #T_e2176_row6_col3, #T_e2176_row6_col4, #T_e2176_row6_col5, #T_e2176_row6_col6, #T_e2176_row6_col7, #T_e2176_row6_col8, #T_e2176_row6_col9, #T_e2176_row6_col10, #T_e2176_row6_col11, #T_e2176_row6_col12, #T_e2176_row6_col13, #T_e2176_row6_col14, #T_e2176_row6_col15, #T_e2176_row6_col16, #T_e2176_row6_col17, #T_e2176_row6_col18, #T_e2176_row6_col19, #T_e2176_row6_col20, #T_e2176_row6_col21, #T_e2176_row6_col22, #T_e2176_row6_col23, #T_e2176_row6_col24, #T_e2176_row6_col25, #T_e2176_row6_col26, #T_e2176_row6_col27, #T_e2176_row6_col28, #T_e2176_row6_col29, #T_e2176_row6_col30, #T_e2176_row6_col31, #T_e2176_row6_col32, #T_e2176_row6_col33, #T_e2176_row6_col34, #T_e2176_row6_col35, #T_e2176_row6_col36, #T_e2176_row6_col37, #T_e2176_row6_col38, #T_e2176_row6_col39, #T_e2176_row6_col40, #T_e2176_row6_col41, #T_e2176_row6_col42, #T_e2176_row6_col43, #T_e2176_row6_col44, #T_e2176_row6_col45, #T_e2176_row6_col46, #T_e2176_row6_col47, #T_e2176_row7_col0, #T_e2176_row7_col1, #T_e2176_row7_col2, #T_e2176_row7_col3, #T_e2176_row7_col4, #T_e2176_row7_col5, #T_e2176_row7_col6, #T_e2176_row7_col7, #T_e2176_row7_col8, #T_e2176_row7_col9, #T_e2176_row7_col10, #T_e2176_row7_col11, #T_e2176_row7_col12, #T_e2176_row7_col13, #T_e2176_row7_col14, #T_e2176_row7_col15, #T_e2176_row7_col16, #T_e2176_row7_col17, #T_e2176_row7_col18, #T_e2176_row7_col19, #T_e2176_row7_col20, #T_e2176_row7_col21, #T_e2176_row7_col22, #T_e2176_row7_col23, #T_e2176_row7_col24, #T_e2176_row7_col25, #T_e2176_row7_col26, #T_e2176_row7_col27, #T_e2176_row7_col28, #T_e2176_row7_col29, #T_e2176_row7_col30, #T_e2176_row7_col31, #T_e2176_row7_col32, #T_e2176_row7_col33, #T_e2176_row7_col34, #T_e2176_row7_col35, #T_e2176_row7_col36, #T_e2176_row7_col37, #T_e2176_row7_col38, #T_e2176_row7_col39, #T_e2176_row7_col40, #T_e2176_row7_col41, #T_e2176_row7_col42, #T_e2176_row7_col43, #T_e2176_row7_col44, #T_e2176_row7_col45, #T_e2176_row7_col46, #T_e2176_row7_col47, #T_e2176_row8_col0, #T_e2176_row8_col1, #T_e2176_row8_col2, #T_e2176_row8_col3, #T_e2176_row8_col4, #T_e2176_row8_col5, #T_e2176_row8_col6, #T_e2176_row8_col7, #T_e2176_row8_col8, #T_e2176_row8_col9, #T_e2176_row8_col10, #T_e2176_row8_col11, #T_e2176_row8_col12, #T_e2176_row8_col13, #T_e2176_row8_col14, #T_e2176_row8_col15, #T_e2176_row8_col16, #T_e2176_row8_col17, #T_e2176_row8_col18, #T_e2176_row8_col19, #T_e2176_row8_col20, #T_e2176_row8_col21, #T_e2176_row8_col22, #T_e2176_row8_col23, #T_e2176_row8_col24, #T_e2176_row8_col25, #T_e2176_row8_col26, #T_e2176_row8_col27, #T_e2176_row8_col28, #T_e2176_row8_col29, #T_e2176_row8_col30, #T_e2176_row8_col31, #T_e2176_row8_col32, #T_e2176_row8_col33, #T_e2176_row8_col34, #T_e2176_row8_col35, #T_e2176_row8_col36, #T_e2176_row8_col37, #T_e2176_row8_col38, #T_e2176_row8_col39, #T_e2176_row8_col40, #T_e2176_row8_col41, #T_e2176_row8_col42, #T_e2176_row8_col43, #T_e2176_row8_col44, #T_e2176_row8_col45, #T_e2176_row8_col46, #T_e2176_row8_col47, #T_e2176_row9_col0, #T_e2176_row9_col1, #T_e2176_row9_col2, #T_e2176_row9_col3, #T_e2176_row9_col4, #T_e2176_row9_col5, #T_e2176_row9_col6, #T_e2176_row9_col7, #T_e2176_row9_col8, #T_e2176_row9_col9, #T_e2176_row9_col10, #T_e2176_row9_col11, #T_e2176_row9_col12, #T_e2176_row9_col13, #T_e2176_row9_col14, #T_e2176_row9_col15, #T_e2176_row9_col16, #T_e2176_row9_col17, #T_e2176_row9_col18, #T_e2176_row9_col19, #T_e2176_row9_col20, #T_e2176_row9_col21, #T_e2176_row9_col22, #T_e2176_row9_col23, #T_e2176_row9_col24, #T_e2176_row9_col25, #T_e2176_row9_col26, #T_e2176_row9_col27, #T_e2176_row9_col28, #T_e2176_row9_col29, #T_e2176_row9_col30, #T_e2176_row9_col31, #T_e2176_row9_col32, #T_e2176_row9_col33, #T_e2176_row9_col34, #T_e2176_row9_col35, #T_e2176_row9_col36, #T_e2176_row9_col37, #T_e2176_row9_col38, #T_e2176_row9_col39, #T_e2176_row9_col40, #T_e2176_row9_col41, #T_e2176_row9_col42, #T_e2176_row9_col43, #T_e2176_row9_col44, #T_e2176_row9_col45, #T_e2176_row9_col46, #T_e2176_row9_col47 {\n",
       "  text-align: left;\n",
       "}\n",
       "</style>\n",
       "<table id=\"T_e2176\">\n",
       "  <thead>\n",
       "    <tr>\n",
       "      <th class=\"blank level0\" >&nbsp;</th>\n",
       "      <th id=\"T_e2176_level0_col0\" class=\"col_heading level0 col0\" >arp.opcode</th>\n",
       "      <th id=\"T_e2176_level0_col1\" class=\"col_heading level0 col1\" >arp.hw.size</th>\n",
       "      <th id=\"T_e2176_level0_col2\" class=\"col_heading level0 col2\" >icmp.checksum</th>\n",
       "      <th id=\"T_e2176_level0_col3\" class=\"col_heading level0 col3\" >icmp.seq_le</th>\n",
       "      <th id=\"T_e2176_level0_col4\" class=\"col_heading level0 col4\" >icmp.unused</th>\n",
       "      <th id=\"T_e2176_level0_col5\" class=\"col_heading level0 col5\" >http.content_length</th>\n",
       "      <th id=\"T_e2176_level0_col6\" class=\"col_heading level0 col6\" >http.request.method</th>\n",
       "      <th id=\"T_e2176_level0_col7\" class=\"col_heading level0 col7\" >http.referer</th>\n",
       "      <th id=\"T_e2176_level0_col8\" class=\"col_heading level0 col8\" >http.request.version</th>\n",
       "      <th id=\"T_e2176_level0_col9\" class=\"col_heading level0 col9\" >http.response</th>\n",
       "      <th id=\"T_e2176_level0_col10\" class=\"col_heading level0 col10\" >http.tls_port</th>\n",
       "      <th id=\"T_e2176_level0_col11\" class=\"col_heading level0 col11\" >tcp.ack</th>\n",
       "      <th id=\"T_e2176_level0_col12\" class=\"col_heading level0 col12\" >tcp.ack_raw</th>\n",
       "      <th id=\"T_e2176_level0_col13\" class=\"col_heading level0 col13\" >tcp.checksum</th>\n",
       "      <th id=\"T_e2176_level0_col14\" class=\"col_heading level0 col14\" >tcp.connection.fin</th>\n",
       "      <th id=\"T_e2176_level0_col15\" class=\"col_heading level0 col15\" >tcp.connection.rst</th>\n",
       "      <th id=\"T_e2176_level0_col16\" class=\"col_heading level0 col16\" >tcp.connection.syn</th>\n",
       "      <th id=\"T_e2176_level0_col17\" class=\"col_heading level0 col17\" >tcp.connection.synack</th>\n",
       "      <th id=\"T_e2176_level0_col18\" class=\"col_heading level0 col18\" >tcp.flags</th>\n",
       "      <th id=\"T_e2176_level0_col19\" class=\"col_heading level0 col19\" >tcp.flags.ack</th>\n",
       "      <th id=\"T_e2176_level0_col20\" class=\"col_heading level0 col20\" >tcp.len</th>\n",
       "      <th id=\"T_e2176_level0_col21\" class=\"col_heading level0 col21\" >tcp.seq</th>\n",
       "      <th id=\"T_e2176_level0_col22\" class=\"col_heading level0 col22\" >udp.stream</th>\n",
       "      <th id=\"T_e2176_level0_col23\" class=\"col_heading level0 col23\" >udp.time_delta</th>\n",
       "      <th id=\"T_e2176_level0_col24\" class=\"col_heading level0 col24\" >dns.qry.name</th>\n",
       "      <th id=\"T_e2176_level0_col25\" class=\"col_heading level0 col25\" >dns.qry.name.len</th>\n",
       "      <th id=\"T_e2176_level0_col26\" class=\"col_heading level0 col26\" >dns.qry.qu</th>\n",
       "      <th id=\"T_e2176_level0_col27\" class=\"col_heading level0 col27\" >dns.qry.type</th>\n",
       "      <th id=\"T_e2176_level0_col28\" class=\"col_heading level0 col28\" >dns.retransmission</th>\n",
       "      <th id=\"T_e2176_level0_col29\" class=\"col_heading level0 col29\" >dns.retransmit_request</th>\n",
       "      <th id=\"T_e2176_level0_col30\" class=\"col_heading level0 col30\" >dns.retransmit_request_in</th>\n",
       "      <th id=\"T_e2176_level0_col31\" class=\"col_heading level0 col31\" >mqtt.conack.flags</th>\n",
       "      <th id=\"T_e2176_level0_col32\" class=\"col_heading level0 col32\" >mqtt.conflag.cleansess</th>\n",
       "      <th id=\"T_e2176_level0_col33\" class=\"col_heading level0 col33\" >mqtt.conflags</th>\n",
       "      <th id=\"T_e2176_level0_col34\" class=\"col_heading level0 col34\" >mqtt.hdrflags</th>\n",
       "      <th id=\"T_e2176_level0_col35\" class=\"col_heading level0 col35\" >mqtt.len</th>\n",
       "      <th id=\"T_e2176_level0_col36\" class=\"col_heading level0 col36\" >mqtt.msg_decoded_as</th>\n",
       "      <th id=\"T_e2176_level0_col37\" class=\"col_heading level0 col37\" >mqtt.msgtype</th>\n",
       "      <th id=\"T_e2176_level0_col38\" class=\"col_heading level0 col38\" >mqtt.proto_len</th>\n",
       "      <th id=\"T_e2176_level0_col39\" class=\"col_heading level0 col39\" >mqtt.protoname</th>\n",
       "      <th id=\"T_e2176_level0_col40\" class=\"col_heading level0 col40\" >mqtt.topic</th>\n",
       "      <th id=\"T_e2176_level0_col41\" class=\"col_heading level0 col41\" >mqtt.topic_len</th>\n",
       "      <th id=\"T_e2176_level0_col42\" class=\"col_heading level0 col42\" >mqtt.ver</th>\n",
       "      <th id=\"T_e2176_level0_col43\" class=\"col_heading level0 col43\" >mbtcp.len</th>\n",
       "      <th id=\"T_e2176_level0_col44\" class=\"col_heading level0 col44\" >mbtcp.trans_id</th>\n",
       "      <th id=\"T_e2176_level0_col45\" class=\"col_heading level0 col45\" >mbtcp.unit_id</th>\n",
       "      <th id=\"T_e2176_level0_col46\" class=\"col_heading level0 col46\" >Attack_label</th>\n",
       "      <th id=\"T_e2176_level0_col47\" class=\"col_heading level0 col47\" >Attack_type</th>\n",
       "    </tr>\n",
       "  </thead>\n",
       "  <tbody>\n",
       "    <tr>\n",
       "      <th id=\"T_e2176_level0_row0\" class=\"row_heading level0 row0\" >0</th>\n",
       "      <td id=\"T_e2176_row0_col0\" class=\"data row0 col0\" >0</td>\n",
       "      <td id=\"T_e2176_row0_col1\" class=\"data row0 col1\" >0</td>\n",
       "      <td id=\"T_e2176_row0_col2\" class=\"data row0 col2\" >0</td>\n",
       "      <td id=\"T_e2176_row0_col3\" class=\"data row0 col3\" >0</td>\n",
       "      <td id=\"T_e2176_row0_col4\" class=\"data row0 col4\" >0</td>\n",
       "      <td id=\"T_e2176_row0_col5\" class=\"data row0 col5\" >0</td>\n",
       "      <td id=\"T_e2176_row0_col6\" class=\"data row0 col6\" >0.0</td>\n",
       "      <td id=\"T_e2176_row0_col7\" class=\"data row0 col7\" >0.0</td>\n",
       "      <td id=\"T_e2176_row0_col8\" class=\"data row0 col8\" >0.0</td>\n",
       "      <td id=\"T_e2176_row0_col9\" class=\"data row0 col9\" >0</td>\n",
       "      <td id=\"T_e2176_row0_col10\" class=\"data row0 col10\" >0</td>\n",
       "      <td id=\"T_e2176_row0_col11\" class=\"data row0 col11\" >1</td>\n",
       "      <td id=\"T_e2176_row0_col12\" class=\"data row0 col12\" >907620220</td>\n",
       "      <td id=\"T_e2176_row0_col13\" class=\"data row0 col13\" >17039</td>\n",
       "      <td id=\"T_e2176_row0_col14\" class=\"data row0 col14\" >0</td>\n",
       "      <td id=\"T_e2176_row0_col15\" class=\"data row0 col15\" >1</td>\n",
       "      <td id=\"T_e2176_row0_col16\" class=\"data row0 col16\" >0</td>\n",
       "      <td id=\"T_e2176_row0_col17\" class=\"data row0 col17\" >0</td>\n",
       "      <td id=\"T_e2176_row0_col18\" class=\"data row0 col18\" >20</td>\n",
       "      <td id=\"T_e2176_row0_col19\" class=\"data row0 col19\" >1</td>\n",
       "      <td id=\"T_e2176_row0_col20\" class=\"data row0 col20\" >0</td>\n",
       "      <td id=\"T_e2176_row0_col21\" class=\"data row0 col21\" >1.000000</td>\n",
       "      <td id=\"T_e2176_row0_col22\" class=\"data row0 col22\" >0</td>\n",
       "      <td id=\"T_e2176_row0_col23\" class=\"data row0 col23\" >0</td>\n",
       "      <td id=\"T_e2176_row0_col24\" class=\"data row0 col24\" >0</td>\n",
       "      <td id=\"T_e2176_row0_col25\" class=\"data row0 col25\" >0.000000</td>\n",
       "      <td id=\"T_e2176_row0_col26\" class=\"data row0 col26\" >0</td>\n",
       "      <td id=\"T_e2176_row0_col27\" class=\"data row0 col27\" >0</td>\n",
       "      <td id=\"T_e2176_row0_col28\" class=\"data row0 col28\" >0</td>\n",
       "      <td id=\"T_e2176_row0_col29\" class=\"data row0 col29\" >0</td>\n",
       "      <td id=\"T_e2176_row0_col30\" class=\"data row0 col30\" >0</td>\n",
       "      <td id=\"T_e2176_row0_col31\" class=\"data row0 col31\" >0.000000</td>\n",
       "      <td id=\"T_e2176_row0_col32\" class=\"data row0 col32\" >0</td>\n",
       "      <td id=\"T_e2176_row0_col33\" class=\"data row0 col33\" >0</td>\n",
       "      <td id=\"T_e2176_row0_col34\" class=\"data row0 col34\" >0</td>\n",
       "      <td id=\"T_e2176_row0_col35\" class=\"data row0 col35\" >0</td>\n",
       "      <td id=\"T_e2176_row0_col36\" class=\"data row0 col36\" >0</td>\n",
       "      <td id=\"T_e2176_row0_col37\" class=\"data row0 col37\" >0</td>\n",
       "      <td id=\"T_e2176_row0_col38\" class=\"data row0 col38\" >0</td>\n",
       "      <td id=\"T_e2176_row0_col39\" class=\"data row0 col39\" >0.000000</td>\n",
       "      <td id=\"T_e2176_row0_col40\" class=\"data row0 col40\" >0.000000</td>\n",
       "      <td id=\"T_e2176_row0_col41\" class=\"data row0 col41\" >0</td>\n",
       "      <td id=\"T_e2176_row0_col42\" class=\"data row0 col42\" >0</td>\n",
       "      <td id=\"T_e2176_row0_col43\" class=\"data row0 col43\" >0</td>\n",
       "      <td id=\"T_e2176_row0_col44\" class=\"data row0 col44\" >0</td>\n",
       "      <td id=\"T_e2176_row0_col45\" class=\"data row0 col45\" >0</td>\n",
       "      <td id=\"T_e2176_row0_col46\" class=\"data row0 col46\" >nan</td>\n",
       "      <td id=\"T_e2176_row0_col47\" class=\"data row0 col47\" >Port_Scanning</td>\n",
       "    </tr>\n",
       "    <tr>\n",
       "      <th id=\"T_e2176_level0_row1\" class=\"row_heading level0 row1\" >1</th>\n",
       "      <td id=\"T_e2176_row1_col0\" class=\"data row1 col0\" >0</td>\n",
       "      <td id=\"T_e2176_row1_col1\" class=\"data row1 col1\" >0</td>\n",
       "      <td id=\"T_e2176_row1_col2\" class=\"data row1 col2\" >0</td>\n",
       "      <td id=\"T_e2176_row1_col3\" class=\"data row1 col3\" >0</td>\n",
       "      <td id=\"T_e2176_row1_col4\" class=\"data row1 col4\" >0</td>\n",
       "      <td id=\"T_e2176_row1_col5\" class=\"data row1 col5\" >0</td>\n",
       "      <td id=\"T_e2176_row1_col6\" class=\"data row1 col6\" >0.0</td>\n",
       "      <td id=\"T_e2176_row1_col7\" class=\"data row1 col7\" >0.0</td>\n",
       "      <td id=\"T_e2176_row1_col8\" class=\"data row1 col8\" >0.0</td>\n",
       "      <td id=\"T_e2176_row1_col9\" class=\"data row1 col9\" >0</td>\n",
       "      <td id=\"T_e2176_row1_col10\" class=\"data row1 col10\" >0</td>\n",
       "      <td id=\"T_e2176_row1_col11\" class=\"data row1 col11\" >287595410</td>\n",
       "      <td id=\"T_e2176_row1_col12\" class=\"data row1 col12\" >287595430</td>\n",
       "      <td id=\"T_e2176_row1_col13\" class=\"data row1 col13\" >12272</td>\n",
       "      <td id=\"T_e2176_row1_col14\" class=\"data row1 col14\" >0</td>\n",
       "      <td id=\"T_e2176_row1_col15\" class=\"data row1 col15\" >0</td>\n",
       "      <td id=\"T_e2176_row1_col16\" class=\"data row1 col16\" >1</td>\n",
       "      <td id=\"T_e2176_row1_col17\" class=\"data row1 col17\" >0</td>\n",
       "      <td id=\"T_e2176_row1_col18\" class=\"data row1 col18\" >2</td>\n",
       "      <td id=\"T_e2176_row1_col19\" class=\"data row1 col19\" >0</td>\n",
       "      <td id=\"T_e2176_row1_col20\" class=\"data row1 col20\" >0</td>\n",
       "      <td id=\"T_e2176_row1_col21\" class=\"data row1 col21\" >0.000000</td>\n",
       "      <td id=\"T_e2176_row1_col22\" class=\"data row1 col22\" >0</td>\n",
       "      <td id=\"T_e2176_row1_col23\" class=\"data row1 col23\" >0</td>\n",
       "      <td id=\"T_e2176_row1_col24\" class=\"data row1 col24\" >0</td>\n",
       "      <td id=\"T_e2176_row1_col25\" class=\"data row1 col25\" >0.000000</td>\n",
       "      <td id=\"T_e2176_row1_col26\" class=\"data row1 col26\" >0</td>\n",
       "      <td id=\"T_e2176_row1_col27\" class=\"data row1 col27\" >0</td>\n",
       "      <td id=\"T_e2176_row1_col28\" class=\"data row1 col28\" >0</td>\n",
       "      <td id=\"T_e2176_row1_col29\" class=\"data row1 col29\" >0</td>\n",
       "      <td id=\"T_e2176_row1_col30\" class=\"data row1 col30\" >0</td>\n",
       "      <td id=\"T_e2176_row1_col31\" class=\"data row1 col31\" >0.000000</td>\n",
       "      <td id=\"T_e2176_row1_col32\" class=\"data row1 col32\" >0</td>\n",
       "      <td id=\"T_e2176_row1_col33\" class=\"data row1 col33\" >0</td>\n",
       "      <td id=\"T_e2176_row1_col34\" class=\"data row1 col34\" >0</td>\n",
       "      <td id=\"T_e2176_row1_col35\" class=\"data row1 col35\" >0</td>\n",
       "      <td id=\"T_e2176_row1_col36\" class=\"data row1 col36\" >0</td>\n",
       "      <td id=\"T_e2176_row1_col37\" class=\"data row1 col37\" >0</td>\n",
       "      <td id=\"T_e2176_row1_col38\" class=\"data row1 col38\" >0</td>\n",
       "      <td id=\"T_e2176_row1_col39\" class=\"data row1 col39\" >0.000000</td>\n",
       "      <td id=\"T_e2176_row1_col40\" class=\"data row1 col40\" >0.000000</td>\n",
       "      <td id=\"T_e2176_row1_col41\" class=\"data row1 col41\" >0</td>\n",
       "      <td id=\"T_e2176_row1_col42\" class=\"data row1 col42\" >0</td>\n",
       "      <td id=\"T_e2176_row1_col43\" class=\"data row1 col43\" >0</td>\n",
       "      <td id=\"T_e2176_row1_col44\" class=\"data row1 col44\" >0</td>\n",
       "      <td id=\"T_e2176_row1_col45\" class=\"data row1 col45\" >0</td>\n",
       "      <td id=\"T_e2176_row1_col46\" class=\"data row1 col46\" >nan</td>\n",
       "      <td id=\"T_e2176_row1_col47\" class=\"data row1 col47\" >Port_Scanning</td>\n",
       "    </tr>\n",
       "    <tr>\n",
       "      <th id=\"T_e2176_level0_row2\" class=\"row_heading level0 row2\" >2</th>\n",
       "      <td id=\"T_e2176_row2_col0\" class=\"data row2 col0\" >0</td>\n",
       "      <td id=\"T_e2176_row2_col1\" class=\"data row2 col1\" >0</td>\n",
       "      <td id=\"T_e2176_row2_col2\" class=\"data row2 col2\" >0</td>\n",
       "      <td id=\"T_e2176_row2_col3\" class=\"data row2 col3\" >0</td>\n",
       "      <td id=\"T_e2176_row2_col4\" class=\"data row2 col4\" >0</td>\n",
       "      <td id=\"T_e2176_row2_col5\" class=\"data row2 col5\" >0</td>\n",
       "      <td id=\"T_e2176_row2_col6\" class=\"data row2 col6\" >0.0</td>\n",
       "      <td id=\"T_e2176_row2_col7\" class=\"data row2 col7\" >0.0</td>\n",
       "      <td id=\"T_e2176_row2_col8\" class=\"data row2 col8\" >0.0</td>\n",
       "      <td id=\"T_e2176_row2_col9\" class=\"data row2 col9\" >0</td>\n",
       "      <td id=\"T_e2176_row2_col10\" class=\"data row2 col10\" >0</td>\n",
       "      <td id=\"T_e2176_row2_col11\" class=\"data row2 col11\" >424414631</td>\n",
       "      <td id=\"T_e2176_row2_col12\" class=\"data row2 col12\" >424414651</td>\n",
       "      <td id=\"T_e2176_row2_col13\" class=\"data row2 col13\" >48093</td>\n",
       "      <td id=\"T_e2176_row2_col14\" class=\"data row2 col14\" >0</td>\n",
       "      <td id=\"T_e2176_row2_col15\" class=\"data row2 col15\" >0</td>\n",
       "      <td id=\"T_e2176_row2_col16\" class=\"data row2 col16\" >1</td>\n",
       "      <td id=\"T_e2176_row2_col17\" class=\"data row2 col17\" >0</td>\n",
       "      <td id=\"T_e2176_row2_col18\" class=\"data row2 col18\" >2</td>\n",
       "      <td id=\"T_e2176_row2_col19\" class=\"data row2 col19\" >0</td>\n",
       "      <td id=\"T_e2176_row2_col20\" class=\"data row2 col20\" >34</td>\n",
       "      <td id=\"T_e2176_row2_col21\" class=\"data row2 col21\" >0.000000</td>\n",
       "      <td id=\"T_e2176_row2_col22\" class=\"data row2 col22\" >0</td>\n",
       "      <td id=\"T_e2176_row2_col23\" class=\"data row2 col23\" >0</td>\n",
       "      <td id=\"T_e2176_row2_col24\" class=\"data row2 col24\" >0</td>\n",
       "      <td id=\"T_e2176_row2_col25\" class=\"data row2 col25\" >0.000000</td>\n",
       "      <td id=\"T_e2176_row2_col26\" class=\"data row2 col26\" >0</td>\n",
       "      <td id=\"T_e2176_row2_col27\" class=\"data row2 col27\" >0</td>\n",
       "      <td id=\"T_e2176_row2_col28\" class=\"data row2 col28\" >0</td>\n",
       "      <td id=\"T_e2176_row2_col29\" class=\"data row2 col29\" >0</td>\n",
       "      <td id=\"T_e2176_row2_col30\" class=\"data row2 col30\" >0</td>\n",
       "      <td id=\"T_e2176_row2_col31\" class=\"data row2 col31\" >0.000000</td>\n",
       "      <td id=\"T_e2176_row2_col32\" class=\"data row2 col32\" >0</td>\n",
       "      <td id=\"T_e2176_row2_col33\" class=\"data row2 col33\" >0</td>\n",
       "      <td id=\"T_e2176_row2_col34\" class=\"data row2 col34\" >0</td>\n",
       "      <td id=\"T_e2176_row2_col35\" class=\"data row2 col35\" >0</td>\n",
       "      <td id=\"T_e2176_row2_col36\" class=\"data row2 col36\" >0</td>\n",
       "      <td id=\"T_e2176_row2_col37\" class=\"data row2 col37\" >0</td>\n",
       "      <td id=\"T_e2176_row2_col38\" class=\"data row2 col38\" >0</td>\n",
       "      <td id=\"T_e2176_row2_col39\" class=\"data row2 col39\" >0.000000</td>\n",
       "      <td id=\"T_e2176_row2_col40\" class=\"data row2 col40\" >0.000000</td>\n",
       "      <td id=\"T_e2176_row2_col41\" class=\"data row2 col41\" >0</td>\n",
       "      <td id=\"T_e2176_row2_col42\" class=\"data row2 col42\" >0</td>\n",
       "      <td id=\"T_e2176_row2_col43\" class=\"data row2 col43\" >0</td>\n",
       "      <td id=\"T_e2176_row2_col44\" class=\"data row2 col44\" >0</td>\n",
       "      <td id=\"T_e2176_row2_col45\" class=\"data row2 col45\" >0</td>\n",
       "      <td id=\"T_e2176_row2_col46\" class=\"data row2 col46\" >nan</td>\n",
       "      <td id=\"T_e2176_row2_col47\" class=\"data row2 col47\" >Port_Scanning</td>\n",
       "    </tr>\n",
       "    <tr>\n",
       "      <th id=\"T_e2176_level0_row3\" class=\"row_heading level0 row3\" >3</th>\n",
       "      <td id=\"T_e2176_row3_col0\" class=\"data row3 col0\" >0</td>\n",
       "      <td id=\"T_e2176_row3_col1\" class=\"data row3 col1\" >0</td>\n",
       "      <td id=\"T_e2176_row3_col2\" class=\"data row3 col2\" >0</td>\n",
       "      <td id=\"T_e2176_row3_col3\" class=\"data row3 col3\" >0</td>\n",
       "      <td id=\"T_e2176_row3_col4\" class=\"data row3 col4\" >0</td>\n",
       "      <td id=\"T_e2176_row3_col5\" class=\"data row3 col5\" >0</td>\n",
       "      <td id=\"T_e2176_row3_col6\" class=\"data row3 col6\" >0.0</td>\n",
       "      <td id=\"T_e2176_row3_col7\" class=\"data row3 col7\" >0.0</td>\n",
       "      <td id=\"T_e2176_row3_col8\" class=\"data row3 col8\" >0.0</td>\n",
       "      <td id=\"T_e2176_row3_col9\" class=\"data row3 col9\" >0</td>\n",
       "      <td id=\"T_e2176_row3_col10\" class=\"data row3 col10\" >0</td>\n",
       "      <td id=\"T_e2176_row3_col11\" class=\"data row3 col11\" >1</td>\n",
       "      <td id=\"T_e2176_row3_col12\" class=\"data row3 col12\" >1745749404</td>\n",
       "      <td id=\"T_e2176_row3_col13\" class=\"data row3 col13\" >52488</td>\n",
       "      <td id=\"T_e2176_row3_col14\" class=\"data row3 col14\" >0</td>\n",
       "      <td id=\"T_e2176_row3_col15\" class=\"data row3 col15\" >1</td>\n",
       "      <td id=\"T_e2176_row3_col16\" class=\"data row3 col16\" >0</td>\n",
       "      <td id=\"T_e2176_row3_col17\" class=\"data row3 col17\" >0</td>\n",
       "      <td id=\"T_e2176_row3_col18\" class=\"data row3 col18\" >20</td>\n",
       "      <td id=\"T_e2176_row3_col19\" class=\"data row3 col19\" >1</td>\n",
       "      <td id=\"T_e2176_row3_col20\" class=\"data row3 col20\" >0</td>\n",
       "      <td id=\"T_e2176_row3_col21\" class=\"data row3 col21\" >1.000000</td>\n",
       "      <td id=\"T_e2176_row3_col22\" class=\"data row3 col22\" >0</td>\n",
       "      <td id=\"T_e2176_row3_col23\" class=\"data row3 col23\" >0</td>\n",
       "      <td id=\"T_e2176_row3_col24\" class=\"data row3 col24\" >0</td>\n",
       "      <td id=\"T_e2176_row3_col25\" class=\"data row3 col25\" >0.000000</td>\n",
       "      <td id=\"T_e2176_row3_col26\" class=\"data row3 col26\" >0</td>\n",
       "      <td id=\"T_e2176_row3_col27\" class=\"data row3 col27\" >0</td>\n",
       "      <td id=\"T_e2176_row3_col28\" class=\"data row3 col28\" >0</td>\n",
       "      <td id=\"T_e2176_row3_col29\" class=\"data row3 col29\" >0</td>\n",
       "      <td id=\"T_e2176_row3_col30\" class=\"data row3 col30\" >0</td>\n",
       "      <td id=\"T_e2176_row3_col31\" class=\"data row3 col31\" >0.000000</td>\n",
       "      <td id=\"T_e2176_row3_col32\" class=\"data row3 col32\" >0</td>\n",
       "      <td id=\"T_e2176_row3_col33\" class=\"data row3 col33\" >0</td>\n",
       "      <td id=\"T_e2176_row3_col34\" class=\"data row3 col34\" >0</td>\n",
       "      <td id=\"T_e2176_row3_col35\" class=\"data row3 col35\" >0</td>\n",
       "      <td id=\"T_e2176_row3_col36\" class=\"data row3 col36\" >0</td>\n",
       "      <td id=\"T_e2176_row3_col37\" class=\"data row3 col37\" >0</td>\n",
       "      <td id=\"T_e2176_row3_col38\" class=\"data row3 col38\" >0</td>\n",
       "      <td id=\"T_e2176_row3_col39\" class=\"data row3 col39\" >0.000000</td>\n",
       "      <td id=\"T_e2176_row3_col40\" class=\"data row3 col40\" >0.000000</td>\n",
       "      <td id=\"T_e2176_row3_col41\" class=\"data row3 col41\" >0</td>\n",
       "      <td id=\"T_e2176_row3_col42\" class=\"data row3 col42\" >0</td>\n",
       "      <td id=\"T_e2176_row3_col43\" class=\"data row3 col43\" >0</td>\n",
       "      <td id=\"T_e2176_row3_col44\" class=\"data row3 col44\" >0</td>\n",
       "      <td id=\"T_e2176_row3_col45\" class=\"data row3 col45\" >0</td>\n",
       "      <td id=\"T_e2176_row3_col46\" class=\"data row3 col46\" >nan</td>\n",
       "      <td id=\"T_e2176_row3_col47\" class=\"data row3 col47\" >Port_Scanning</td>\n",
       "    </tr>\n",
       "    <tr>\n",
       "      <th id=\"T_e2176_level0_row4\" class=\"row_heading level0 row4\" >4</th>\n",
       "      <td id=\"T_e2176_row4_col0\" class=\"data row4 col0\" >0</td>\n",
       "      <td id=\"T_e2176_row4_col1\" class=\"data row4 col1\" >0</td>\n",
       "      <td id=\"T_e2176_row4_col2\" class=\"data row4 col2\" >0</td>\n",
       "      <td id=\"T_e2176_row4_col3\" class=\"data row4 col3\" >0</td>\n",
       "      <td id=\"T_e2176_row4_col4\" class=\"data row4 col4\" >0</td>\n",
       "      <td id=\"T_e2176_row4_col5\" class=\"data row4 col5\" >0</td>\n",
       "      <td id=\"T_e2176_row4_col6\" class=\"data row4 col6\" >0.0</td>\n",
       "      <td id=\"T_e2176_row4_col7\" class=\"data row4 col7\" >0.0</td>\n",
       "      <td id=\"T_e2176_row4_col8\" class=\"data row4 col8\" >0.0</td>\n",
       "      <td id=\"T_e2176_row4_col9\" class=\"data row4 col9\" >0</td>\n",
       "      <td id=\"T_e2176_row4_col10\" class=\"data row4 col10\" >0</td>\n",
       "      <td id=\"T_e2176_row4_col11\" class=\"data row4 col11\" >1</td>\n",
       "      <td id=\"T_e2176_row4_col12\" class=\"data row4 col12\" >2158814217</td>\n",
       "      <td id=\"T_e2176_row4_col13\" class=\"data row4 col13\" >56859</td>\n",
       "      <td id=\"T_e2176_row4_col14\" class=\"data row4 col14\" >0</td>\n",
       "      <td id=\"T_e2176_row4_col15\" class=\"data row4 col15\" >1</td>\n",
       "      <td id=\"T_e2176_row4_col16\" class=\"data row4 col16\" >0</td>\n",
       "      <td id=\"T_e2176_row4_col17\" class=\"data row4 col17\" >0</td>\n",
       "      <td id=\"T_e2176_row4_col18\" class=\"data row4 col18\" >20</td>\n",
       "      <td id=\"T_e2176_row4_col19\" class=\"data row4 col19\" >1</td>\n",
       "      <td id=\"T_e2176_row4_col20\" class=\"data row4 col20\" >0</td>\n",
       "      <td id=\"T_e2176_row4_col21\" class=\"data row4 col21\" >1.000000</td>\n",
       "      <td id=\"T_e2176_row4_col22\" class=\"data row4 col22\" >0</td>\n",
       "      <td id=\"T_e2176_row4_col23\" class=\"data row4 col23\" >0</td>\n",
       "      <td id=\"T_e2176_row4_col24\" class=\"data row4 col24\" >0</td>\n",
       "      <td id=\"T_e2176_row4_col25\" class=\"data row4 col25\" >0.000000</td>\n",
       "      <td id=\"T_e2176_row4_col26\" class=\"data row4 col26\" >0</td>\n",
       "      <td id=\"T_e2176_row4_col27\" class=\"data row4 col27\" >0</td>\n",
       "      <td id=\"T_e2176_row4_col28\" class=\"data row4 col28\" >0</td>\n",
       "      <td id=\"T_e2176_row4_col29\" class=\"data row4 col29\" >0</td>\n",
       "      <td id=\"T_e2176_row4_col30\" class=\"data row4 col30\" >0</td>\n",
       "      <td id=\"T_e2176_row4_col31\" class=\"data row4 col31\" >0.000000</td>\n",
       "      <td id=\"T_e2176_row4_col32\" class=\"data row4 col32\" >0</td>\n",
       "      <td id=\"T_e2176_row4_col33\" class=\"data row4 col33\" >0</td>\n",
       "      <td id=\"T_e2176_row4_col34\" class=\"data row4 col34\" >0</td>\n",
       "      <td id=\"T_e2176_row4_col35\" class=\"data row4 col35\" >0</td>\n",
       "      <td id=\"T_e2176_row4_col36\" class=\"data row4 col36\" >0</td>\n",
       "      <td id=\"T_e2176_row4_col37\" class=\"data row4 col37\" >0</td>\n",
       "      <td id=\"T_e2176_row4_col38\" class=\"data row4 col38\" >0</td>\n",
       "      <td id=\"T_e2176_row4_col39\" class=\"data row4 col39\" >0.000000</td>\n",
       "      <td id=\"T_e2176_row4_col40\" class=\"data row4 col40\" >0.000000</td>\n",
       "      <td id=\"T_e2176_row4_col41\" class=\"data row4 col41\" >0</td>\n",
       "      <td id=\"T_e2176_row4_col42\" class=\"data row4 col42\" >0</td>\n",
       "      <td id=\"T_e2176_row4_col43\" class=\"data row4 col43\" >0</td>\n",
       "      <td id=\"T_e2176_row4_col44\" class=\"data row4 col44\" >0</td>\n",
       "      <td id=\"T_e2176_row4_col45\" class=\"data row4 col45\" >0</td>\n",
       "      <td id=\"T_e2176_row4_col46\" class=\"data row4 col46\" >nan</td>\n",
       "      <td id=\"T_e2176_row4_col47\" class=\"data row4 col47\" >Port_Scanning</td>\n",
       "    </tr>\n",
       "    <tr>\n",
       "      <th id=\"T_e2176_level0_row5\" class=\"row_heading level0 row5\" >5</th>\n",
       "      <td id=\"T_e2176_row5_col0\" class=\"data row5 col0\" >0</td>\n",
       "      <td id=\"T_e2176_row5_col1\" class=\"data row5 col1\" >0</td>\n",
       "      <td id=\"T_e2176_row5_col2\" class=\"data row5 col2\" >0</td>\n",
       "      <td id=\"T_e2176_row5_col3\" class=\"data row5 col3\" >0</td>\n",
       "      <td id=\"T_e2176_row5_col4\" class=\"data row5 col4\" >0</td>\n",
       "      <td id=\"T_e2176_row5_col5\" class=\"data row5 col5\" >0</td>\n",
       "      <td id=\"T_e2176_row5_col6\" class=\"data row5 col6\" >0.0</td>\n",
       "      <td id=\"T_e2176_row5_col7\" class=\"data row5 col7\" >0.0</td>\n",
       "      <td id=\"T_e2176_row5_col8\" class=\"data row5 col8\" >0.0</td>\n",
       "      <td id=\"T_e2176_row5_col9\" class=\"data row5 col9\" >0</td>\n",
       "      <td id=\"T_e2176_row5_col10\" class=\"data row5 col10\" >0</td>\n",
       "      <td id=\"T_e2176_row5_col11\" class=\"data row5 col11\" >1</td>\n",
       "      <td id=\"T_e2176_row5_col12\" class=\"data row5 col12\" >541688840</td>\n",
       "      <td id=\"T_e2176_row5_col13\" class=\"data row5 col13\" >57305</td>\n",
       "      <td id=\"T_e2176_row5_col14\" class=\"data row5 col14\" >0</td>\n",
       "      <td id=\"T_e2176_row5_col15\" class=\"data row5 col15\" >1</td>\n",
       "      <td id=\"T_e2176_row5_col16\" class=\"data row5 col16\" >0</td>\n",
       "      <td id=\"T_e2176_row5_col17\" class=\"data row5 col17\" >0</td>\n",
       "      <td id=\"T_e2176_row5_col18\" class=\"data row5 col18\" >20</td>\n",
       "      <td id=\"T_e2176_row5_col19\" class=\"data row5 col19\" >1</td>\n",
       "      <td id=\"T_e2176_row5_col20\" class=\"data row5 col20\" >0</td>\n",
       "      <td id=\"T_e2176_row5_col21\" class=\"data row5 col21\" >1.000000</td>\n",
       "      <td id=\"T_e2176_row5_col22\" class=\"data row5 col22\" >0</td>\n",
       "      <td id=\"T_e2176_row5_col23\" class=\"data row5 col23\" >0</td>\n",
       "      <td id=\"T_e2176_row5_col24\" class=\"data row5 col24\" >0</td>\n",
       "      <td id=\"T_e2176_row5_col25\" class=\"data row5 col25\" >0.000000</td>\n",
       "      <td id=\"T_e2176_row5_col26\" class=\"data row5 col26\" >0</td>\n",
       "      <td id=\"T_e2176_row5_col27\" class=\"data row5 col27\" >0</td>\n",
       "      <td id=\"T_e2176_row5_col28\" class=\"data row5 col28\" >0</td>\n",
       "      <td id=\"T_e2176_row5_col29\" class=\"data row5 col29\" >0</td>\n",
       "      <td id=\"T_e2176_row5_col30\" class=\"data row5 col30\" >0</td>\n",
       "      <td id=\"T_e2176_row5_col31\" class=\"data row5 col31\" >0.000000</td>\n",
       "      <td id=\"T_e2176_row5_col32\" class=\"data row5 col32\" >0</td>\n",
       "      <td id=\"T_e2176_row5_col33\" class=\"data row5 col33\" >0</td>\n",
       "      <td id=\"T_e2176_row5_col34\" class=\"data row5 col34\" >0</td>\n",
       "      <td id=\"T_e2176_row5_col35\" class=\"data row5 col35\" >0</td>\n",
       "      <td id=\"T_e2176_row5_col36\" class=\"data row5 col36\" >0</td>\n",
       "      <td id=\"T_e2176_row5_col37\" class=\"data row5 col37\" >0</td>\n",
       "      <td id=\"T_e2176_row5_col38\" class=\"data row5 col38\" >0</td>\n",
       "      <td id=\"T_e2176_row5_col39\" class=\"data row5 col39\" >0.000000</td>\n",
       "      <td id=\"T_e2176_row5_col40\" class=\"data row5 col40\" >0.000000</td>\n",
       "      <td id=\"T_e2176_row5_col41\" class=\"data row5 col41\" >0</td>\n",
       "      <td id=\"T_e2176_row5_col42\" class=\"data row5 col42\" >0</td>\n",
       "      <td id=\"T_e2176_row5_col43\" class=\"data row5 col43\" >0</td>\n",
       "      <td id=\"T_e2176_row5_col44\" class=\"data row5 col44\" >0</td>\n",
       "      <td id=\"T_e2176_row5_col45\" class=\"data row5 col45\" >0</td>\n",
       "      <td id=\"T_e2176_row5_col46\" class=\"data row5 col46\" >nan</td>\n",
       "      <td id=\"T_e2176_row5_col47\" class=\"data row5 col47\" >Port_Scanning</td>\n",
       "    </tr>\n",
       "    <tr>\n",
       "      <th id=\"T_e2176_level0_row6\" class=\"row_heading level0 row6\" >6</th>\n",
       "      <td id=\"T_e2176_row6_col0\" class=\"data row6 col0\" >0</td>\n",
       "      <td id=\"T_e2176_row6_col1\" class=\"data row6 col1\" >0</td>\n",
       "      <td id=\"T_e2176_row6_col2\" class=\"data row6 col2\" >0</td>\n",
       "      <td id=\"T_e2176_row6_col3\" class=\"data row6 col3\" >0</td>\n",
       "      <td id=\"T_e2176_row6_col4\" class=\"data row6 col4\" >0</td>\n",
       "      <td id=\"T_e2176_row6_col5\" class=\"data row6 col5\" >0</td>\n",
       "      <td id=\"T_e2176_row6_col6\" class=\"data row6 col6\" >0.0</td>\n",
       "      <td id=\"T_e2176_row6_col7\" class=\"data row6 col7\" >0.0</td>\n",
       "      <td id=\"T_e2176_row6_col8\" class=\"data row6 col8\" >0.0</td>\n",
       "      <td id=\"T_e2176_row6_col9\" class=\"data row6 col9\" >0</td>\n",
       "      <td id=\"T_e2176_row6_col10\" class=\"data row6 col10\" >0</td>\n",
       "      <td id=\"T_e2176_row6_col11\" class=\"data row6 col11\" >143321801</td>\n",
       "      <td id=\"T_e2176_row6_col12\" class=\"data row6 col12\" >143321801</td>\n",
       "      <td id=\"T_e2176_row6_col13\" class=\"data row6 col13\" >14311</td>\n",
       "      <td id=\"T_e2176_row6_col14\" class=\"data row6 col14\" >0</td>\n",
       "      <td id=\"T_e2176_row6_col15\" class=\"data row6 col15\" >0</td>\n",
       "      <td id=\"T_e2176_row6_col16\" class=\"data row6 col16\" >1</td>\n",
       "      <td id=\"T_e2176_row6_col17\" class=\"data row6 col17\" >0</td>\n",
       "      <td id=\"T_e2176_row6_col18\" class=\"data row6 col18\" >2</td>\n",
       "      <td id=\"T_e2176_row6_col19\" class=\"data row6 col19\" >0</td>\n",
       "      <td id=\"T_e2176_row6_col20\" class=\"data row6 col20\" >0</td>\n",
       "      <td id=\"T_e2176_row6_col21\" class=\"data row6 col21\" >0.000000</td>\n",
       "      <td id=\"T_e2176_row6_col22\" class=\"data row6 col22\" >0</td>\n",
       "      <td id=\"T_e2176_row6_col23\" class=\"data row6 col23\" >0</td>\n",
       "      <td id=\"T_e2176_row6_col24\" class=\"data row6 col24\" >0</td>\n",
       "      <td id=\"T_e2176_row6_col25\" class=\"data row6 col25\" >0.000000</td>\n",
       "      <td id=\"T_e2176_row6_col26\" class=\"data row6 col26\" >0</td>\n",
       "      <td id=\"T_e2176_row6_col27\" class=\"data row6 col27\" >0</td>\n",
       "      <td id=\"T_e2176_row6_col28\" class=\"data row6 col28\" >0</td>\n",
       "      <td id=\"T_e2176_row6_col29\" class=\"data row6 col29\" >0</td>\n",
       "      <td id=\"T_e2176_row6_col30\" class=\"data row6 col30\" >0</td>\n",
       "      <td id=\"T_e2176_row6_col31\" class=\"data row6 col31\" >0.000000</td>\n",
       "      <td id=\"T_e2176_row6_col32\" class=\"data row6 col32\" >0</td>\n",
       "      <td id=\"T_e2176_row6_col33\" class=\"data row6 col33\" >0</td>\n",
       "      <td id=\"T_e2176_row6_col34\" class=\"data row6 col34\" >0</td>\n",
       "      <td id=\"T_e2176_row6_col35\" class=\"data row6 col35\" >0</td>\n",
       "      <td id=\"T_e2176_row6_col36\" class=\"data row6 col36\" >0</td>\n",
       "      <td id=\"T_e2176_row6_col37\" class=\"data row6 col37\" >0</td>\n",
       "      <td id=\"T_e2176_row6_col38\" class=\"data row6 col38\" >0</td>\n",
       "      <td id=\"T_e2176_row6_col39\" class=\"data row6 col39\" >0.000000</td>\n",
       "      <td id=\"T_e2176_row6_col40\" class=\"data row6 col40\" >0.000000</td>\n",
       "      <td id=\"T_e2176_row6_col41\" class=\"data row6 col41\" >0</td>\n",
       "      <td id=\"T_e2176_row6_col42\" class=\"data row6 col42\" >0</td>\n",
       "      <td id=\"T_e2176_row6_col43\" class=\"data row6 col43\" >0</td>\n",
       "      <td id=\"T_e2176_row6_col44\" class=\"data row6 col44\" >0</td>\n",
       "      <td id=\"T_e2176_row6_col45\" class=\"data row6 col45\" >0</td>\n",
       "      <td id=\"T_e2176_row6_col46\" class=\"data row6 col46\" >nan</td>\n",
       "      <td id=\"T_e2176_row6_col47\" class=\"data row6 col47\" >Port_Scanning</td>\n",
       "    </tr>\n",
       "    <tr>\n",
       "      <th id=\"T_e2176_level0_row7\" class=\"row_heading level0 row7\" >7</th>\n",
       "      <td id=\"T_e2176_row7_col0\" class=\"data row7 col0\" >0</td>\n",
       "      <td id=\"T_e2176_row7_col1\" class=\"data row7 col1\" >0</td>\n",
       "      <td id=\"T_e2176_row7_col2\" class=\"data row7 col2\" >0</td>\n",
       "      <td id=\"T_e2176_row7_col3\" class=\"data row7 col3\" >0</td>\n",
       "      <td id=\"T_e2176_row7_col4\" class=\"data row7 col4\" >0</td>\n",
       "      <td id=\"T_e2176_row7_col5\" class=\"data row7 col5\" >0</td>\n",
       "      <td id=\"T_e2176_row7_col6\" class=\"data row7 col6\" >0.0</td>\n",
       "      <td id=\"T_e2176_row7_col7\" class=\"data row7 col7\" >0.0</td>\n",
       "      <td id=\"T_e2176_row7_col8\" class=\"data row7 col8\" >0.0</td>\n",
       "      <td id=\"T_e2176_row7_col9\" class=\"data row7 col9\" >0</td>\n",
       "      <td id=\"T_e2176_row7_col10\" class=\"data row7 col10\" >0</td>\n",
       "      <td id=\"T_e2176_row7_col11\" class=\"data row7 col11\" >197975652</td>\n",
       "      <td id=\"T_e2176_row7_col12\" class=\"data row7 col12\" >197975652</td>\n",
       "      <td id=\"T_e2176_row7_col13\" class=\"data row7 col13\" >59956</td>\n",
       "      <td id=\"T_e2176_row7_col14\" class=\"data row7 col14\" >0</td>\n",
       "      <td id=\"T_e2176_row7_col15\" class=\"data row7 col15\" >0</td>\n",
       "      <td id=\"T_e2176_row7_col16\" class=\"data row7 col16\" >1</td>\n",
       "      <td id=\"T_e2176_row7_col17\" class=\"data row7 col17\" >0</td>\n",
       "      <td id=\"T_e2176_row7_col18\" class=\"data row7 col18\" >2</td>\n",
       "      <td id=\"T_e2176_row7_col19\" class=\"data row7 col19\" >0</td>\n",
       "      <td id=\"T_e2176_row7_col20\" class=\"data row7 col20\" >0</td>\n",
       "      <td id=\"T_e2176_row7_col21\" class=\"data row7 col21\" >0.000000</td>\n",
       "      <td id=\"T_e2176_row7_col22\" class=\"data row7 col22\" >0</td>\n",
       "      <td id=\"T_e2176_row7_col23\" class=\"data row7 col23\" >0</td>\n",
       "      <td id=\"T_e2176_row7_col24\" class=\"data row7 col24\" >0</td>\n",
       "      <td id=\"T_e2176_row7_col25\" class=\"data row7 col25\" >0.000000</td>\n",
       "      <td id=\"T_e2176_row7_col26\" class=\"data row7 col26\" >0</td>\n",
       "      <td id=\"T_e2176_row7_col27\" class=\"data row7 col27\" >0</td>\n",
       "      <td id=\"T_e2176_row7_col28\" class=\"data row7 col28\" >0</td>\n",
       "      <td id=\"T_e2176_row7_col29\" class=\"data row7 col29\" >0</td>\n",
       "      <td id=\"T_e2176_row7_col30\" class=\"data row7 col30\" >0</td>\n",
       "      <td id=\"T_e2176_row7_col31\" class=\"data row7 col31\" >0.000000</td>\n",
       "      <td id=\"T_e2176_row7_col32\" class=\"data row7 col32\" >0</td>\n",
       "      <td id=\"T_e2176_row7_col33\" class=\"data row7 col33\" >0</td>\n",
       "      <td id=\"T_e2176_row7_col34\" class=\"data row7 col34\" >0</td>\n",
       "      <td id=\"T_e2176_row7_col35\" class=\"data row7 col35\" >0</td>\n",
       "      <td id=\"T_e2176_row7_col36\" class=\"data row7 col36\" >0</td>\n",
       "      <td id=\"T_e2176_row7_col37\" class=\"data row7 col37\" >0</td>\n",
       "      <td id=\"T_e2176_row7_col38\" class=\"data row7 col38\" >0</td>\n",
       "      <td id=\"T_e2176_row7_col39\" class=\"data row7 col39\" >0.000000</td>\n",
       "      <td id=\"T_e2176_row7_col40\" class=\"data row7 col40\" >0.000000</td>\n",
       "      <td id=\"T_e2176_row7_col41\" class=\"data row7 col41\" >0</td>\n",
       "      <td id=\"T_e2176_row7_col42\" class=\"data row7 col42\" >0</td>\n",
       "      <td id=\"T_e2176_row7_col43\" class=\"data row7 col43\" >0</td>\n",
       "      <td id=\"T_e2176_row7_col44\" class=\"data row7 col44\" >0</td>\n",
       "      <td id=\"T_e2176_row7_col45\" class=\"data row7 col45\" >0</td>\n",
       "      <td id=\"T_e2176_row7_col46\" class=\"data row7 col46\" >nan</td>\n",
       "      <td id=\"T_e2176_row7_col47\" class=\"data row7 col47\" >Port_Scanning</td>\n",
       "    </tr>\n",
       "    <tr>\n",
       "      <th id=\"T_e2176_level0_row8\" class=\"row_heading level0 row8\" >8</th>\n",
       "      <td id=\"T_e2176_row8_col0\" class=\"data row8 col0\" >0</td>\n",
       "      <td id=\"T_e2176_row8_col1\" class=\"data row8 col1\" >0</td>\n",
       "      <td id=\"T_e2176_row8_col2\" class=\"data row8 col2\" >0</td>\n",
       "      <td id=\"T_e2176_row8_col3\" class=\"data row8 col3\" >0</td>\n",
       "      <td id=\"T_e2176_row8_col4\" class=\"data row8 col4\" >0</td>\n",
       "      <td id=\"T_e2176_row8_col5\" class=\"data row8 col5\" >0</td>\n",
       "      <td id=\"T_e2176_row8_col6\" class=\"data row8 col6\" >0.0</td>\n",
       "      <td id=\"T_e2176_row8_col7\" class=\"data row8 col7\" >0.0</td>\n",
       "      <td id=\"T_e2176_row8_col8\" class=\"data row8 col8\" >0.0</td>\n",
       "      <td id=\"T_e2176_row8_col9\" class=\"data row8 col9\" >0</td>\n",
       "      <td id=\"T_e2176_row8_col10\" class=\"data row8 col10\" >0</td>\n",
       "      <td id=\"T_e2176_row8_col11\" class=\"data row8 col11\" >1</td>\n",
       "      <td id=\"T_e2176_row8_col12\" class=\"data row8 col12\" >948882140</td>\n",
       "      <td id=\"T_e2176_row8_col13\" class=\"data row8 col13\" >57349</td>\n",
       "      <td id=\"T_e2176_row8_col14\" class=\"data row8 col14\" >0</td>\n",
       "      <td id=\"T_e2176_row8_col15\" class=\"data row8 col15\" >1</td>\n",
       "      <td id=\"T_e2176_row8_col16\" class=\"data row8 col16\" >0</td>\n",
       "      <td id=\"T_e2176_row8_col17\" class=\"data row8 col17\" >0</td>\n",
       "      <td id=\"T_e2176_row8_col18\" class=\"data row8 col18\" >20</td>\n",
       "      <td id=\"T_e2176_row8_col19\" class=\"data row8 col19\" >1</td>\n",
       "      <td id=\"T_e2176_row8_col20\" class=\"data row8 col20\" >0</td>\n",
       "      <td id=\"T_e2176_row8_col21\" class=\"data row8 col21\" >1.000000</td>\n",
       "      <td id=\"T_e2176_row8_col22\" class=\"data row8 col22\" >0</td>\n",
       "      <td id=\"T_e2176_row8_col23\" class=\"data row8 col23\" >0</td>\n",
       "      <td id=\"T_e2176_row8_col24\" class=\"data row8 col24\" >0</td>\n",
       "      <td id=\"T_e2176_row8_col25\" class=\"data row8 col25\" >0.000000</td>\n",
       "      <td id=\"T_e2176_row8_col26\" class=\"data row8 col26\" >0</td>\n",
       "      <td id=\"T_e2176_row8_col27\" class=\"data row8 col27\" >0</td>\n",
       "      <td id=\"T_e2176_row8_col28\" class=\"data row8 col28\" >0</td>\n",
       "      <td id=\"T_e2176_row8_col29\" class=\"data row8 col29\" >0</td>\n",
       "      <td id=\"T_e2176_row8_col30\" class=\"data row8 col30\" >0</td>\n",
       "      <td id=\"T_e2176_row8_col31\" class=\"data row8 col31\" >0.000000</td>\n",
       "      <td id=\"T_e2176_row8_col32\" class=\"data row8 col32\" >0</td>\n",
       "      <td id=\"T_e2176_row8_col33\" class=\"data row8 col33\" >0</td>\n",
       "      <td id=\"T_e2176_row8_col34\" class=\"data row8 col34\" >0</td>\n",
       "      <td id=\"T_e2176_row8_col35\" class=\"data row8 col35\" >0</td>\n",
       "      <td id=\"T_e2176_row8_col36\" class=\"data row8 col36\" >0</td>\n",
       "      <td id=\"T_e2176_row8_col37\" class=\"data row8 col37\" >0</td>\n",
       "      <td id=\"T_e2176_row8_col38\" class=\"data row8 col38\" >0</td>\n",
       "      <td id=\"T_e2176_row8_col39\" class=\"data row8 col39\" >0.000000</td>\n",
       "      <td id=\"T_e2176_row8_col40\" class=\"data row8 col40\" >0.000000</td>\n",
       "      <td id=\"T_e2176_row8_col41\" class=\"data row8 col41\" >0</td>\n",
       "      <td id=\"T_e2176_row8_col42\" class=\"data row8 col42\" >0</td>\n",
       "      <td id=\"T_e2176_row8_col43\" class=\"data row8 col43\" >0</td>\n",
       "      <td id=\"T_e2176_row8_col44\" class=\"data row8 col44\" >0</td>\n",
       "      <td id=\"T_e2176_row8_col45\" class=\"data row8 col45\" >0</td>\n",
       "      <td id=\"T_e2176_row8_col46\" class=\"data row8 col46\" >nan</td>\n",
       "      <td id=\"T_e2176_row8_col47\" class=\"data row8 col47\" >Port_Scanning</td>\n",
       "    </tr>\n",
       "    <tr>\n",
       "      <th id=\"T_e2176_level0_row9\" class=\"row_heading level0 row9\" >9</th>\n",
       "      <td id=\"T_e2176_row9_col0\" class=\"data row9 col0\" >0</td>\n",
       "      <td id=\"T_e2176_row9_col1\" class=\"data row9 col1\" >0</td>\n",
       "      <td id=\"T_e2176_row9_col2\" class=\"data row9 col2\" >0</td>\n",
       "      <td id=\"T_e2176_row9_col3\" class=\"data row9 col3\" >0</td>\n",
       "      <td id=\"T_e2176_row9_col4\" class=\"data row9 col4\" >0</td>\n",
       "      <td id=\"T_e2176_row9_col5\" class=\"data row9 col5\" >0</td>\n",
       "      <td id=\"T_e2176_row9_col6\" class=\"data row9 col6\" >0.0</td>\n",
       "      <td id=\"T_e2176_row9_col7\" class=\"data row9 col7\" >0.0</td>\n",
       "      <td id=\"T_e2176_row9_col8\" class=\"data row9 col8\" >0.0</td>\n",
       "      <td id=\"T_e2176_row9_col9\" class=\"data row9 col9\" >0</td>\n",
       "      <td id=\"T_e2176_row9_col10\" class=\"data row9 col10\" >0</td>\n",
       "      <td id=\"T_e2176_row9_col11\" class=\"data row9 col11\" >593181452</td>\n",
       "      <td id=\"T_e2176_row9_col12\" class=\"data row9 col12\" >593181452</td>\n",
       "      <td id=\"T_e2176_row9_col13\" class=\"data row9 col13\" >23679</td>\n",
       "      <td id=\"T_e2176_row9_col14\" class=\"data row9 col14\" >0</td>\n",
       "      <td id=\"T_e2176_row9_col15\" class=\"data row9 col15\" >0</td>\n",
       "      <td id=\"T_e2176_row9_col16\" class=\"data row9 col16\" >1</td>\n",
       "      <td id=\"T_e2176_row9_col17\" class=\"data row9 col17\" >0</td>\n",
       "      <td id=\"T_e2176_row9_col18\" class=\"data row9 col18\" >2</td>\n",
       "      <td id=\"T_e2176_row9_col19\" class=\"data row9 col19\" >0</td>\n",
       "      <td id=\"T_e2176_row9_col20\" class=\"data row9 col20\" >0</td>\n",
       "      <td id=\"T_e2176_row9_col21\" class=\"data row9 col21\" >0.000000</td>\n",
       "      <td id=\"T_e2176_row9_col22\" class=\"data row9 col22\" >0</td>\n",
       "      <td id=\"T_e2176_row9_col23\" class=\"data row9 col23\" >0</td>\n",
       "      <td id=\"T_e2176_row9_col24\" class=\"data row9 col24\" >0</td>\n",
       "      <td id=\"T_e2176_row9_col25\" class=\"data row9 col25\" >0.000000</td>\n",
       "      <td id=\"T_e2176_row9_col26\" class=\"data row9 col26\" >0</td>\n",
       "      <td id=\"T_e2176_row9_col27\" class=\"data row9 col27\" >0</td>\n",
       "      <td id=\"T_e2176_row9_col28\" class=\"data row9 col28\" >0</td>\n",
       "      <td id=\"T_e2176_row9_col29\" class=\"data row9 col29\" >0</td>\n",
       "      <td id=\"T_e2176_row9_col30\" class=\"data row9 col30\" >0</td>\n",
       "      <td id=\"T_e2176_row9_col31\" class=\"data row9 col31\" >0.000000</td>\n",
       "      <td id=\"T_e2176_row9_col32\" class=\"data row9 col32\" >0</td>\n",
       "      <td id=\"T_e2176_row9_col33\" class=\"data row9 col33\" >0</td>\n",
       "      <td id=\"T_e2176_row9_col34\" class=\"data row9 col34\" >0</td>\n",
       "      <td id=\"T_e2176_row9_col35\" class=\"data row9 col35\" >0</td>\n",
       "      <td id=\"T_e2176_row9_col36\" class=\"data row9 col36\" >0</td>\n",
       "      <td id=\"T_e2176_row9_col37\" class=\"data row9 col37\" >0</td>\n",
       "      <td id=\"T_e2176_row9_col38\" class=\"data row9 col38\" >0</td>\n",
       "      <td id=\"T_e2176_row9_col39\" class=\"data row9 col39\" >0.000000</td>\n",
       "      <td id=\"T_e2176_row9_col40\" class=\"data row9 col40\" >0.000000</td>\n",
       "      <td id=\"T_e2176_row9_col41\" class=\"data row9 col41\" >0</td>\n",
       "      <td id=\"T_e2176_row9_col42\" class=\"data row9 col42\" >0</td>\n",
       "      <td id=\"T_e2176_row9_col43\" class=\"data row9 col43\" >0</td>\n",
       "      <td id=\"T_e2176_row9_col44\" class=\"data row9 col44\" >0</td>\n",
       "      <td id=\"T_e2176_row9_col45\" class=\"data row9 col45\" >0</td>\n",
       "      <td id=\"T_e2176_row9_col46\" class=\"data row9 col46\" >nan</td>\n",
       "      <td id=\"T_e2176_row9_col47\" class=\"data row9 col47\" >Port_Scanning</td>\n",
       "    </tr>\n",
       "  </tbody>\n",
       "</table>\n"
      ],
      "text/plain": [
       "<pandas.io.formats.style.Styler at 0x7f6ca76329d0>"
      ]
     },
     "metadata": {},
     "output_type": "display_data"
    }
   ],
   "source": [
    "RTB_dataset_df2.head(10).style.set_properties(**{'text-align': 'left'})"
   ]
  },
  {
   "cell_type": "code",
   "execution_count": null,
   "metadata": {},
   "outputs": [
    {
     "data": {
      "text/html": [
       "<style type=\"text/css\">\n",
       "#T_4ae73_row0_col0, #T_4ae73_row1_col0, #T_4ae73_row2_col0, #T_4ae73_row3_col0, #T_4ae73_row4_col0, #T_4ae73_row5_col0, #T_4ae73_row6_col0 {\n",
       "  text-align: left;\n",
       "}\n",
       "</style>\n",
       "<table id=\"T_4ae73\">\n",
       "  <thead>\n",
       "    <tr>\n",
       "      <th class=\"blank level0\" >&nbsp;</th>\n",
       "      <th id=\"T_4ae73_level0_col0\" class=\"col_heading level0 col0\" >count</th>\n",
       "    </tr>\n",
       "    <tr>\n",
       "      <th class=\"index_name level0\" >Attack_type</th>\n",
       "      <th class=\"blank col0\" >&nbsp;</th>\n",
       "    </tr>\n",
       "  </thead>\n",
       "  <tbody>\n",
       "    <tr>\n",
       "      <th id=\"T_4ae73_level0_row0\" class=\"row_heading level0 row0\" >MITM</th>\n",
       "      <td id=\"T_4ae73_row0_col0\" class=\"data row0 col0\" >99812</td>\n",
       "    </tr>\n",
       "    <tr>\n",
       "      <th id=\"T_4ae73_level0_row1\" class=\"row_heading level0 row1\" >Fingerprinting</th>\n",
       "      <td id=\"T_4ae73_row1_col0\" class=\"data row1 col0\" >99745</td>\n",
       "    </tr>\n",
       "    <tr>\n",
       "      <th id=\"T_4ae73_level0_row2\" class=\"row_heading level0 row2\" >Ransomware</th>\n",
       "      <td id=\"T_4ae73_row2_col0\" class=\"data row2 col0\" >94039</td>\n",
       "    </tr>\n",
       "    <tr>\n",
       "      <th id=\"T_4ae73_level0_row3\" class=\"row_heading level0 row3\" >Port_Scanning</th>\n",
       "      <td id=\"T_4ae73_row3_col0\" class=\"data row3 col0\" >84733</td>\n",
       "    </tr>\n",
       "    <tr>\n",
       "      <th id=\"T_4ae73_level0_row4\" class=\"row_heading level0 row4\" >Uploading</th>\n",
       "      <td id=\"T_4ae73_row4_col0\" class=\"data row4 col0\" >70749</td>\n",
       "    </tr>\n",
       "    <tr>\n",
       "      <th id=\"T_4ae73_level0_row5\" class=\"row_heading level0 row5\" >SQL_injection</th>\n",
       "      <td id=\"T_4ae73_row5_col0\" class=\"data row5 col0\" >61693</td>\n",
       "    </tr>\n",
       "    <tr>\n",
       "      <th id=\"T_4ae73_level0_row6\" class=\"row_heading level0 row6\" >Vulnerability_scanner</th>\n",
       "      <td id=\"T_4ae73_row6_col0\" class=\"data row6 col0\" >61128</td>\n",
       "    </tr>\n",
       "  </tbody>\n",
       "</table>\n"
      ],
      "text/plain": [
       "<pandas.io.formats.style.Styler at 0x7f6ca7a53350>"
      ]
     },
     "metadata": {},
     "output_type": "display_data"
    }
   ],
   "source": [
    "# print number of lines per Attack_type for each dataframe and total number of lines for each dataframe\n",
    "display(RTB_dataset_df2['Attack_type'].value_counts().to_frame().style.set_properties(**{'text-align': 'left'}))"
   ]
  },
  {
   "cell_type": "code",
   "execution_count": null,
   "metadata": {},
   "outputs": [
    {
     "data": {
      "text/html": [
       "<style type=\"text/css\">\n",
       "#T_627bd_row0_col0, #T_627bd_row0_col1, #T_627bd_row0_col2, #T_627bd_row0_col3, #T_627bd_row0_col4, #T_627bd_row0_col5, #T_627bd_row0_col6, #T_627bd_row0_col7, #T_627bd_row0_col8, #T_627bd_row0_col9, #T_627bd_row0_col10, #T_627bd_row0_col11, #T_627bd_row0_col12, #T_627bd_row0_col13, #T_627bd_row0_col14, #T_627bd_row0_col15, #T_627bd_row0_col16, #T_627bd_row0_col17, #T_627bd_row0_col18, #T_627bd_row0_col19, #T_627bd_row0_col20, #T_627bd_row0_col21, #T_627bd_row0_col22, #T_627bd_row0_col23, #T_627bd_row0_col24, #T_627bd_row0_col25, #T_627bd_row0_col26, #T_627bd_row0_col27, #T_627bd_row0_col28, #T_627bd_row0_col29, #T_627bd_row0_col30, #T_627bd_row0_col31, #T_627bd_row0_col32, #T_627bd_row0_col33, #T_627bd_row0_col34, #T_627bd_row0_col35, #T_627bd_row0_col36, #T_627bd_row0_col37, #T_627bd_row0_col38, #T_627bd_row0_col39, #T_627bd_row0_col40, #T_627bd_row0_col41, #T_627bd_row0_col42, #T_627bd_row0_col43, #T_627bd_row0_col44, #T_627bd_row0_col45, #T_627bd_row0_col46, #T_627bd_row0_col47, #T_627bd_row1_col0, #T_627bd_row1_col1, #T_627bd_row1_col2, #T_627bd_row1_col3, #T_627bd_row1_col4, #T_627bd_row1_col5, #T_627bd_row1_col6, #T_627bd_row1_col7, #T_627bd_row1_col8, #T_627bd_row1_col9, #T_627bd_row1_col10, #T_627bd_row1_col11, #T_627bd_row1_col12, #T_627bd_row1_col13, #T_627bd_row1_col14, #T_627bd_row1_col15, #T_627bd_row1_col16, #T_627bd_row1_col17, #T_627bd_row1_col18, #T_627bd_row1_col19, #T_627bd_row1_col20, #T_627bd_row1_col21, #T_627bd_row1_col22, #T_627bd_row1_col23, #T_627bd_row1_col24, #T_627bd_row1_col25, #T_627bd_row1_col26, #T_627bd_row1_col27, #T_627bd_row1_col28, #T_627bd_row1_col29, #T_627bd_row1_col30, #T_627bd_row1_col31, #T_627bd_row1_col32, #T_627bd_row1_col33, #T_627bd_row1_col34, #T_627bd_row1_col35, #T_627bd_row1_col36, #T_627bd_row1_col37, #T_627bd_row1_col38, #T_627bd_row1_col39, #T_627bd_row1_col40, #T_627bd_row1_col41, #T_627bd_row1_col42, #T_627bd_row1_col43, #T_627bd_row1_col44, #T_627bd_row1_col45, #T_627bd_row1_col46, #T_627bd_row1_col47, #T_627bd_row2_col0, #T_627bd_row2_col1, #T_627bd_row2_col2, #T_627bd_row2_col3, #T_627bd_row2_col4, #T_627bd_row2_col5, #T_627bd_row2_col6, #T_627bd_row2_col7, #T_627bd_row2_col8, #T_627bd_row2_col9, #T_627bd_row2_col10, #T_627bd_row2_col11, #T_627bd_row2_col12, #T_627bd_row2_col13, #T_627bd_row2_col14, #T_627bd_row2_col15, #T_627bd_row2_col16, #T_627bd_row2_col17, #T_627bd_row2_col18, #T_627bd_row2_col19, #T_627bd_row2_col20, #T_627bd_row2_col21, #T_627bd_row2_col22, #T_627bd_row2_col23, #T_627bd_row2_col24, #T_627bd_row2_col25, #T_627bd_row2_col26, #T_627bd_row2_col27, #T_627bd_row2_col28, #T_627bd_row2_col29, #T_627bd_row2_col30, #T_627bd_row2_col31, #T_627bd_row2_col32, #T_627bd_row2_col33, #T_627bd_row2_col34, #T_627bd_row2_col35, #T_627bd_row2_col36, #T_627bd_row2_col37, #T_627bd_row2_col38, #T_627bd_row2_col39, #T_627bd_row2_col40, #T_627bd_row2_col41, #T_627bd_row2_col42, #T_627bd_row2_col43, #T_627bd_row2_col44, #T_627bd_row2_col45, #T_627bd_row2_col46, #T_627bd_row2_col47, #T_627bd_row3_col0, #T_627bd_row3_col1, #T_627bd_row3_col2, #T_627bd_row3_col3, #T_627bd_row3_col4, #T_627bd_row3_col5, #T_627bd_row3_col6, #T_627bd_row3_col7, #T_627bd_row3_col8, #T_627bd_row3_col9, #T_627bd_row3_col10, #T_627bd_row3_col11, #T_627bd_row3_col12, #T_627bd_row3_col13, #T_627bd_row3_col14, #T_627bd_row3_col15, #T_627bd_row3_col16, #T_627bd_row3_col17, #T_627bd_row3_col18, #T_627bd_row3_col19, #T_627bd_row3_col20, #T_627bd_row3_col21, #T_627bd_row3_col22, #T_627bd_row3_col23, #T_627bd_row3_col24, #T_627bd_row3_col25, #T_627bd_row3_col26, #T_627bd_row3_col27, #T_627bd_row3_col28, #T_627bd_row3_col29, #T_627bd_row3_col30, #T_627bd_row3_col31, #T_627bd_row3_col32, #T_627bd_row3_col33, #T_627bd_row3_col34, #T_627bd_row3_col35, #T_627bd_row3_col36, #T_627bd_row3_col37, #T_627bd_row3_col38, #T_627bd_row3_col39, #T_627bd_row3_col40, #T_627bd_row3_col41, #T_627bd_row3_col42, #T_627bd_row3_col43, #T_627bd_row3_col44, #T_627bd_row3_col45, #T_627bd_row3_col46, #T_627bd_row3_col47, #T_627bd_row4_col0, #T_627bd_row4_col1, #T_627bd_row4_col2, #T_627bd_row4_col3, #T_627bd_row4_col4, #T_627bd_row4_col5, #T_627bd_row4_col6, #T_627bd_row4_col7, #T_627bd_row4_col8, #T_627bd_row4_col9, #T_627bd_row4_col10, #T_627bd_row4_col11, #T_627bd_row4_col12, #T_627bd_row4_col13, #T_627bd_row4_col14, #T_627bd_row4_col15, #T_627bd_row4_col16, #T_627bd_row4_col17, #T_627bd_row4_col18, #T_627bd_row4_col19, #T_627bd_row4_col20, #T_627bd_row4_col21, #T_627bd_row4_col22, #T_627bd_row4_col23, #T_627bd_row4_col24, #T_627bd_row4_col25, #T_627bd_row4_col26, #T_627bd_row4_col27, #T_627bd_row4_col28, #T_627bd_row4_col29, #T_627bd_row4_col30, #T_627bd_row4_col31, #T_627bd_row4_col32, #T_627bd_row4_col33, #T_627bd_row4_col34, #T_627bd_row4_col35, #T_627bd_row4_col36, #T_627bd_row4_col37, #T_627bd_row4_col38, #T_627bd_row4_col39, #T_627bd_row4_col40, #T_627bd_row4_col41, #T_627bd_row4_col42, #T_627bd_row4_col43, #T_627bd_row4_col44, #T_627bd_row4_col45, #T_627bd_row4_col46, #T_627bd_row4_col47, #T_627bd_row5_col0, #T_627bd_row5_col1, #T_627bd_row5_col2, #T_627bd_row5_col3, #T_627bd_row5_col4, #T_627bd_row5_col5, #T_627bd_row5_col6, #T_627bd_row5_col7, #T_627bd_row5_col8, #T_627bd_row5_col9, #T_627bd_row5_col10, #T_627bd_row5_col11, #T_627bd_row5_col12, #T_627bd_row5_col13, #T_627bd_row5_col14, #T_627bd_row5_col15, #T_627bd_row5_col16, #T_627bd_row5_col17, #T_627bd_row5_col18, #T_627bd_row5_col19, #T_627bd_row5_col20, #T_627bd_row5_col21, #T_627bd_row5_col22, #T_627bd_row5_col23, #T_627bd_row5_col24, #T_627bd_row5_col25, #T_627bd_row5_col26, #T_627bd_row5_col27, #T_627bd_row5_col28, #T_627bd_row5_col29, #T_627bd_row5_col30, #T_627bd_row5_col31, #T_627bd_row5_col32, #T_627bd_row5_col33, #T_627bd_row5_col34, #T_627bd_row5_col35, #T_627bd_row5_col36, #T_627bd_row5_col37, #T_627bd_row5_col38, #T_627bd_row5_col39, #T_627bd_row5_col40, #T_627bd_row5_col41, #T_627bd_row5_col42, #T_627bd_row5_col43, #T_627bd_row5_col44, #T_627bd_row5_col45, #T_627bd_row5_col46, #T_627bd_row5_col47, #T_627bd_row6_col0, #T_627bd_row6_col1, #T_627bd_row6_col2, #T_627bd_row6_col3, #T_627bd_row6_col4, #T_627bd_row6_col5, #T_627bd_row6_col6, #T_627bd_row6_col7, #T_627bd_row6_col8, #T_627bd_row6_col9, #T_627bd_row6_col10, #T_627bd_row6_col11, #T_627bd_row6_col12, #T_627bd_row6_col13, #T_627bd_row6_col14, #T_627bd_row6_col15, #T_627bd_row6_col16, #T_627bd_row6_col17, #T_627bd_row6_col18, #T_627bd_row6_col19, #T_627bd_row6_col20, #T_627bd_row6_col21, #T_627bd_row6_col22, #T_627bd_row6_col23, #T_627bd_row6_col24, #T_627bd_row6_col25, #T_627bd_row6_col26, #T_627bd_row6_col27, #T_627bd_row6_col28, #T_627bd_row6_col29, #T_627bd_row6_col30, #T_627bd_row6_col31, #T_627bd_row6_col32, #T_627bd_row6_col33, #T_627bd_row6_col34, #T_627bd_row6_col35, #T_627bd_row6_col36, #T_627bd_row6_col37, #T_627bd_row6_col38, #T_627bd_row6_col39, #T_627bd_row6_col40, #T_627bd_row6_col41, #T_627bd_row6_col42, #T_627bd_row6_col43, #T_627bd_row6_col44, #T_627bd_row6_col45, #T_627bd_row6_col46, #T_627bd_row6_col47, #T_627bd_row7_col0, #T_627bd_row7_col1, #T_627bd_row7_col2, #T_627bd_row7_col3, #T_627bd_row7_col4, #T_627bd_row7_col5, #T_627bd_row7_col6, #T_627bd_row7_col7, #T_627bd_row7_col8, #T_627bd_row7_col9, #T_627bd_row7_col10, #T_627bd_row7_col11, #T_627bd_row7_col12, #T_627bd_row7_col13, #T_627bd_row7_col14, #T_627bd_row7_col15, #T_627bd_row7_col16, #T_627bd_row7_col17, #T_627bd_row7_col18, #T_627bd_row7_col19, #T_627bd_row7_col20, #T_627bd_row7_col21, #T_627bd_row7_col22, #T_627bd_row7_col23, #T_627bd_row7_col24, #T_627bd_row7_col25, #T_627bd_row7_col26, #T_627bd_row7_col27, #T_627bd_row7_col28, #T_627bd_row7_col29, #T_627bd_row7_col30, #T_627bd_row7_col31, #T_627bd_row7_col32, #T_627bd_row7_col33, #T_627bd_row7_col34, #T_627bd_row7_col35, #T_627bd_row7_col36, #T_627bd_row7_col37, #T_627bd_row7_col38, #T_627bd_row7_col39, #T_627bd_row7_col40, #T_627bd_row7_col41, #T_627bd_row7_col42, #T_627bd_row7_col43, #T_627bd_row7_col44, #T_627bd_row7_col45, #T_627bd_row7_col46, #T_627bd_row7_col47, #T_627bd_row8_col0, #T_627bd_row8_col1, #T_627bd_row8_col2, #T_627bd_row8_col3, #T_627bd_row8_col4, #T_627bd_row8_col5, #T_627bd_row8_col6, #T_627bd_row8_col7, #T_627bd_row8_col8, #T_627bd_row8_col9, #T_627bd_row8_col10, #T_627bd_row8_col11, #T_627bd_row8_col12, #T_627bd_row8_col13, #T_627bd_row8_col14, #T_627bd_row8_col15, #T_627bd_row8_col16, #T_627bd_row8_col17, #T_627bd_row8_col18, #T_627bd_row8_col19, #T_627bd_row8_col20, #T_627bd_row8_col21, #T_627bd_row8_col22, #T_627bd_row8_col23, #T_627bd_row8_col24, #T_627bd_row8_col25, #T_627bd_row8_col26, #T_627bd_row8_col27, #T_627bd_row8_col28, #T_627bd_row8_col29, #T_627bd_row8_col30, #T_627bd_row8_col31, #T_627bd_row8_col32, #T_627bd_row8_col33, #T_627bd_row8_col34, #T_627bd_row8_col35, #T_627bd_row8_col36, #T_627bd_row8_col37, #T_627bd_row8_col38, #T_627bd_row8_col39, #T_627bd_row8_col40, #T_627bd_row8_col41, #T_627bd_row8_col42, #T_627bd_row8_col43, #T_627bd_row8_col44, #T_627bd_row8_col45, #T_627bd_row8_col46, #T_627bd_row8_col47, #T_627bd_row9_col0, #T_627bd_row9_col1, #T_627bd_row9_col2, #T_627bd_row9_col3, #T_627bd_row9_col4, #T_627bd_row9_col5, #T_627bd_row9_col6, #T_627bd_row9_col7, #T_627bd_row9_col8, #T_627bd_row9_col9, #T_627bd_row9_col10, #T_627bd_row9_col11, #T_627bd_row9_col12, #T_627bd_row9_col13, #T_627bd_row9_col14, #T_627bd_row9_col15, #T_627bd_row9_col16, #T_627bd_row9_col17, #T_627bd_row9_col18, #T_627bd_row9_col19, #T_627bd_row9_col20, #T_627bd_row9_col21, #T_627bd_row9_col22, #T_627bd_row9_col23, #T_627bd_row9_col24, #T_627bd_row9_col25, #T_627bd_row9_col26, #T_627bd_row9_col27, #T_627bd_row9_col28, #T_627bd_row9_col29, #T_627bd_row9_col30, #T_627bd_row9_col31, #T_627bd_row9_col32, #T_627bd_row9_col33, #T_627bd_row9_col34, #T_627bd_row9_col35, #T_627bd_row9_col36, #T_627bd_row9_col37, #T_627bd_row9_col38, #T_627bd_row9_col39, #T_627bd_row9_col40, #T_627bd_row9_col41, #T_627bd_row9_col42, #T_627bd_row9_col43, #T_627bd_row9_col44, #T_627bd_row9_col45, #T_627bd_row9_col46, #T_627bd_row9_col47 {\n",
       "  text-align: left;\n",
       "}\n",
       "</style>\n",
       "<table id=\"T_627bd\">\n",
       "  <thead>\n",
       "    <tr>\n",
       "      <th class=\"blank level0\" >&nbsp;</th>\n",
       "      <th id=\"T_627bd_level0_col0\" class=\"col_heading level0 col0\" >arp.opcode</th>\n",
       "      <th id=\"T_627bd_level0_col1\" class=\"col_heading level0 col1\" >arp.hw.size</th>\n",
       "      <th id=\"T_627bd_level0_col2\" class=\"col_heading level0 col2\" >icmp.checksum</th>\n",
       "      <th id=\"T_627bd_level0_col3\" class=\"col_heading level0 col3\" >icmp.seq_le</th>\n",
       "      <th id=\"T_627bd_level0_col4\" class=\"col_heading level0 col4\" >icmp.unused</th>\n",
       "      <th id=\"T_627bd_level0_col5\" class=\"col_heading level0 col5\" >http.content_length</th>\n",
       "      <th id=\"T_627bd_level0_col6\" class=\"col_heading level0 col6\" >http.request.method</th>\n",
       "      <th id=\"T_627bd_level0_col7\" class=\"col_heading level0 col7\" >http.referer</th>\n",
       "      <th id=\"T_627bd_level0_col8\" class=\"col_heading level0 col8\" >http.request.version</th>\n",
       "      <th id=\"T_627bd_level0_col9\" class=\"col_heading level0 col9\" >http.response</th>\n",
       "      <th id=\"T_627bd_level0_col10\" class=\"col_heading level0 col10\" >http.tls_port</th>\n",
       "      <th id=\"T_627bd_level0_col11\" class=\"col_heading level0 col11\" >tcp.ack</th>\n",
       "      <th id=\"T_627bd_level0_col12\" class=\"col_heading level0 col12\" >tcp.ack_raw</th>\n",
       "      <th id=\"T_627bd_level0_col13\" class=\"col_heading level0 col13\" >tcp.checksum</th>\n",
       "      <th id=\"T_627bd_level0_col14\" class=\"col_heading level0 col14\" >tcp.connection.fin</th>\n",
       "      <th id=\"T_627bd_level0_col15\" class=\"col_heading level0 col15\" >tcp.connection.rst</th>\n",
       "      <th id=\"T_627bd_level0_col16\" class=\"col_heading level0 col16\" >tcp.connection.syn</th>\n",
       "      <th id=\"T_627bd_level0_col17\" class=\"col_heading level0 col17\" >tcp.connection.synack</th>\n",
       "      <th id=\"T_627bd_level0_col18\" class=\"col_heading level0 col18\" >tcp.flags</th>\n",
       "      <th id=\"T_627bd_level0_col19\" class=\"col_heading level0 col19\" >tcp.flags.ack</th>\n",
       "      <th id=\"T_627bd_level0_col20\" class=\"col_heading level0 col20\" >tcp.len</th>\n",
       "      <th id=\"T_627bd_level0_col21\" class=\"col_heading level0 col21\" >tcp.seq</th>\n",
       "      <th id=\"T_627bd_level0_col22\" class=\"col_heading level0 col22\" >udp.stream</th>\n",
       "      <th id=\"T_627bd_level0_col23\" class=\"col_heading level0 col23\" >udp.time_delta</th>\n",
       "      <th id=\"T_627bd_level0_col24\" class=\"col_heading level0 col24\" >dns.qry.name</th>\n",
       "      <th id=\"T_627bd_level0_col25\" class=\"col_heading level0 col25\" >dns.qry.name.len</th>\n",
       "      <th id=\"T_627bd_level0_col26\" class=\"col_heading level0 col26\" >dns.qry.qu</th>\n",
       "      <th id=\"T_627bd_level0_col27\" class=\"col_heading level0 col27\" >dns.qry.type</th>\n",
       "      <th id=\"T_627bd_level0_col28\" class=\"col_heading level0 col28\" >dns.retransmission</th>\n",
       "      <th id=\"T_627bd_level0_col29\" class=\"col_heading level0 col29\" >dns.retransmit_request</th>\n",
       "      <th id=\"T_627bd_level0_col30\" class=\"col_heading level0 col30\" >dns.retransmit_request_in</th>\n",
       "      <th id=\"T_627bd_level0_col31\" class=\"col_heading level0 col31\" >mqtt.conack.flags</th>\n",
       "      <th id=\"T_627bd_level0_col32\" class=\"col_heading level0 col32\" >mqtt.conflag.cleansess</th>\n",
       "      <th id=\"T_627bd_level0_col33\" class=\"col_heading level0 col33\" >mqtt.conflags</th>\n",
       "      <th id=\"T_627bd_level0_col34\" class=\"col_heading level0 col34\" >mqtt.hdrflags</th>\n",
       "      <th id=\"T_627bd_level0_col35\" class=\"col_heading level0 col35\" >mqtt.len</th>\n",
       "      <th id=\"T_627bd_level0_col36\" class=\"col_heading level0 col36\" >mqtt.msg_decoded_as</th>\n",
       "      <th id=\"T_627bd_level0_col37\" class=\"col_heading level0 col37\" >mqtt.msgtype</th>\n",
       "      <th id=\"T_627bd_level0_col38\" class=\"col_heading level0 col38\" >mqtt.proto_len</th>\n",
       "      <th id=\"T_627bd_level0_col39\" class=\"col_heading level0 col39\" >mqtt.protoname</th>\n",
       "      <th id=\"T_627bd_level0_col40\" class=\"col_heading level0 col40\" >mqtt.topic</th>\n",
       "      <th id=\"T_627bd_level0_col41\" class=\"col_heading level0 col41\" >mqtt.topic_len</th>\n",
       "      <th id=\"T_627bd_level0_col42\" class=\"col_heading level0 col42\" >mqtt.ver</th>\n",
       "      <th id=\"T_627bd_level0_col43\" class=\"col_heading level0 col43\" >mbtcp.len</th>\n",
       "      <th id=\"T_627bd_level0_col44\" class=\"col_heading level0 col44\" >mbtcp.trans_id</th>\n",
       "      <th id=\"T_627bd_level0_col45\" class=\"col_heading level0 col45\" >mbtcp.unit_id</th>\n",
       "      <th id=\"T_627bd_level0_col46\" class=\"col_heading level0 col46\" >Attack_label</th>\n",
       "      <th id=\"T_627bd_level0_col47\" class=\"col_heading level0 col47\" >Attack_type</th>\n",
       "    </tr>\n",
       "  </thead>\n",
       "  <tbody>\n",
       "    <tr>\n",
       "      <th id=\"T_627bd_level0_row0\" class=\"row_heading level0 row0\" >0</th>\n",
       "      <td id=\"T_627bd_row0_col0\" class=\"data row0 col0\" >0</td>\n",
       "      <td id=\"T_627bd_row0_col1\" class=\"data row0 col1\" >0</td>\n",
       "      <td id=\"T_627bd_row0_col2\" class=\"data row0 col2\" >0</td>\n",
       "      <td id=\"T_627bd_row0_col3\" class=\"data row0 col3\" >0</td>\n",
       "      <td id=\"T_627bd_row0_col4\" class=\"data row0 col4\" >0</td>\n",
       "      <td id=\"T_627bd_row0_col5\" class=\"data row0 col5\" >0</td>\n",
       "      <td id=\"T_627bd_row0_col6\" class=\"data row0 col6\" >0.0</td>\n",
       "      <td id=\"T_627bd_row0_col7\" class=\"data row0 col7\" >0.000000</td>\n",
       "      <td id=\"T_627bd_row0_col8\" class=\"data row0 col8\" >0.0</td>\n",
       "      <td id=\"T_627bd_row0_col9\" class=\"data row0 col9\" >0</td>\n",
       "      <td id=\"T_627bd_row0_col10\" class=\"data row0 col10\" >0</td>\n",
       "      <td id=\"T_627bd_row0_col11\" class=\"data row0 col11\" >0</td>\n",
       "      <td id=\"T_627bd_row0_col12\" class=\"data row0 col12\" >0</td>\n",
       "      <td id=\"T_627bd_row0_col13\" class=\"data row0 col13\" >0</td>\n",
       "      <td id=\"T_627bd_row0_col14\" class=\"data row0 col14\" >0</td>\n",
       "      <td id=\"T_627bd_row0_col15\" class=\"data row0 col15\" >0</td>\n",
       "      <td id=\"T_627bd_row0_col16\" class=\"data row0 col16\" >0</td>\n",
       "      <td id=\"T_627bd_row0_col17\" class=\"data row0 col17\" >0</td>\n",
       "      <td id=\"T_627bd_row0_col18\" class=\"data row0 col18\" >0</td>\n",
       "      <td id=\"T_627bd_row0_col19\" class=\"data row0 col19\" >0</td>\n",
       "      <td id=\"T_627bd_row0_col20\" class=\"data row0 col20\" >0</td>\n",
       "      <td id=\"T_627bd_row0_col21\" class=\"data row0 col21\" >0.000000</td>\n",
       "      <td id=\"T_627bd_row0_col22\" class=\"data row0 col22\" >2322685</td>\n",
       "      <td id=\"T_627bd_row0_col23\" class=\"data row0 col23\" >0</td>\n",
       "      <td id=\"T_627bd_row0_col24\" class=\"data row0 col24\" >0</td>\n",
       "      <td id=\"T_627bd_row0_col25\" class=\"data row0 col25\" >0.000000</td>\n",
       "      <td id=\"T_627bd_row0_col26\" class=\"data row0 col26\" >0</td>\n",
       "      <td id=\"T_627bd_row0_col27\" class=\"data row0 col27\" >0</td>\n",
       "      <td id=\"T_627bd_row0_col28\" class=\"data row0 col28\" >0</td>\n",
       "      <td id=\"T_627bd_row0_col29\" class=\"data row0 col29\" >0</td>\n",
       "      <td id=\"T_627bd_row0_col30\" class=\"data row0 col30\" >0</td>\n",
       "      <td id=\"T_627bd_row0_col31\" class=\"data row0 col31\" >0.000000</td>\n",
       "      <td id=\"T_627bd_row0_col32\" class=\"data row0 col32\" >0</td>\n",
       "      <td id=\"T_627bd_row0_col33\" class=\"data row0 col33\" >0</td>\n",
       "      <td id=\"T_627bd_row0_col34\" class=\"data row0 col34\" >0</td>\n",
       "      <td id=\"T_627bd_row0_col35\" class=\"data row0 col35\" >0</td>\n",
       "      <td id=\"T_627bd_row0_col36\" class=\"data row0 col36\" >0</td>\n",
       "      <td id=\"T_627bd_row0_col37\" class=\"data row0 col37\" >0</td>\n",
       "      <td id=\"T_627bd_row0_col38\" class=\"data row0 col38\" >0</td>\n",
       "      <td id=\"T_627bd_row0_col39\" class=\"data row0 col39\" >0.000000</td>\n",
       "      <td id=\"T_627bd_row0_col40\" class=\"data row0 col40\" >0.000000</td>\n",
       "      <td id=\"T_627bd_row0_col41\" class=\"data row0 col41\" >0</td>\n",
       "      <td id=\"T_627bd_row0_col42\" class=\"data row0 col42\" >0</td>\n",
       "      <td id=\"T_627bd_row0_col43\" class=\"data row0 col43\" >0</td>\n",
       "      <td id=\"T_627bd_row0_col44\" class=\"data row0 col44\" >0</td>\n",
       "      <td id=\"T_627bd_row0_col45\" class=\"data row0 col45\" >0</td>\n",
       "      <td id=\"T_627bd_row0_col46\" class=\"data row0 col46\" >nan</td>\n",
       "      <td id=\"T_627bd_row0_col47\" class=\"data row0 col47\" >DDoS_UDP</td>\n",
       "    </tr>\n",
       "    <tr>\n",
       "      <th id=\"T_627bd_level0_row1\" class=\"row_heading level0 row1\" >1</th>\n",
       "      <td id=\"T_627bd_row1_col0\" class=\"data row1 col0\" >0</td>\n",
       "      <td id=\"T_627bd_row1_col1\" class=\"data row1 col1\" >0</td>\n",
       "      <td id=\"T_627bd_row1_col2\" class=\"data row1 col2\" >0</td>\n",
       "      <td id=\"T_627bd_row1_col3\" class=\"data row1 col3\" >0</td>\n",
       "      <td id=\"T_627bd_row1_col4\" class=\"data row1 col4\" >0</td>\n",
       "      <td id=\"T_627bd_row1_col5\" class=\"data row1 col5\" >0</td>\n",
       "      <td id=\"T_627bd_row1_col6\" class=\"data row1 col6\" >0.0</td>\n",
       "      <td id=\"T_627bd_row1_col7\" class=\"data row1 col7\" >0.000000</td>\n",
       "      <td id=\"T_627bd_row1_col8\" class=\"data row1 col8\" >0.0</td>\n",
       "      <td id=\"T_627bd_row1_col9\" class=\"data row1 col9\" >0</td>\n",
       "      <td id=\"T_627bd_row1_col10\" class=\"data row1 col10\" >0</td>\n",
       "      <td id=\"T_627bd_row1_col11\" class=\"data row1 col11\" >0</td>\n",
       "      <td id=\"T_627bd_row1_col12\" class=\"data row1 col12\" >0</td>\n",
       "      <td id=\"T_627bd_row1_col13\" class=\"data row1 col13\" >0</td>\n",
       "      <td id=\"T_627bd_row1_col14\" class=\"data row1 col14\" >0</td>\n",
       "      <td id=\"T_627bd_row1_col15\" class=\"data row1 col15\" >0</td>\n",
       "      <td id=\"T_627bd_row1_col16\" class=\"data row1 col16\" >0</td>\n",
       "      <td id=\"T_627bd_row1_col17\" class=\"data row1 col17\" >0</td>\n",
       "      <td id=\"T_627bd_row1_col18\" class=\"data row1 col18\" >0</td>\n",
       "      <td id=\"T_627bd_row1_col19\" class=\"data row1 col19\" >0</td>\n",
       "      <td id=\"T_627bd_row1_col20\" class=\"data row1 col20\" >0</td>\n",
       "      <td id=\"T_627bd_row1_col21\" class=\"data row1 col21\" >0.000000</td>\n",
       "      <td id=\"T_627bd_row1_col22\" class=\"data row1 col22\" >2247966</td>\n",
       "      <td id=\"T_627bd_row1_col23\" class=\"data row1 col23\" >0</td>\n",
       "      <td id=\"T_627bd_row1_col24\" class=\"data row1 col24\" >0</td>\n",
       "      <td id=\"T_627bd_row1_col25\" class=\"data row1 col25\" >0.000000</td>\n",
       "      <td id=\"T_627bd_row1_col26\" class=\"data row1 col26\" >0</td>\n",
       "      <td id=\"T_627bd_row1_col27\" class=\"data row1 col27\" >0</td>\n",
       "      <td id=\"T_627bd_row1_col28\" class=\"data row1 col28\" >0</td>\n",
       "      <td id=\"T_627bd_row1_col29\" class=\"data row1 col29\" >0</td>\n",
       "      <td id=\"T_627bd_row1_col30\" class=\"data row1 col30\" >0</td>\n",
       "      <td id=\"T_627bd_row1_col31\" class=\"data row1 col31\" >0.000000</td>\n",
       "      <td id=\"T_627bd_row1_col32\" class=\"data row1 col32\" >0</td>\n",
       "      <td id=\"T_627bd_row1_col33\" class=\"data row1 col33\" >0</td>\n",
       "      <td id=\"T_627bd_row1_col34\" class=\"data row1 col34\" >0</td>\n",
       "      <td id=\"T_627bd_row1_col35\" class=\"data row1 col35\" >0</td>\n",
       "      <td id=\"T_627bd_row1_col36\" class=\"data row1 col36\" >0</td>\n",
       "      <td id=\"T_627bd_row1_col37\" class=\"data row1 col37\" >0</td>\n",
       "      <td id=\"T_627bd_row1_col38\" class=\"data row1 col38\" >0</td>\n",
       "      <td id=\"T_627bd_row1_col39\" class=\"data row1 col39\" >0.000000</td>\n",
       "      <td id=\"T_627bd_row1_col40\" class=\"data row1 col40\" >0.000000</td>\n",
       "      <td id=\"T_627bd_row1_col41\" class=\"data row1 col41\" >0</td>\n",
       "      <td id=\"T_627bd_row1_col42\" class=\"data row1 col42\" >0</td>\n",
       "      <td id=\"T_627bd_row1_col43\" class=\"data row1 col43\" >0</td>\n",
       "      <td id=\"T_627bd_row1_col44\" class=\"data row1 col44\" >0</td>\n",
       "      <td id=\"T_627bd_row1_col45\" class=\"data row1 col45\" >0</td>\n",
       "      <td id=\"T_627bd_row1_col46\" class=\"data row1 col46\" >nan</td>\n",
       "      <td id=\"T_627bd_row1_col47\" class=\"data row1 col47\" >DDoS_UDP</td>\n",
       "    </tr>\n",
       "    <tr>\n",
       "      <th id=\"T_627bd_level0_row2\" class=\"row_heading level0 row2\" >2</th>\n",
       "      <td id=\"T_627bd_row2_col0\" class=\"data row2 col0\" >0</td>\n",
       "      <td id=\"T_627bd_row2_col1\" class=\"data row2 col1\" >0</td>\n",
       "      <td id=\"T_627bd_row2_col2\" class=\"data row2 col2\" >0</td>\n",
       "      <td id=\"T_627bd_row2_col3\" class=\"data row2 col3\" >0</td>\n",
       "      <td id=\"T_627bd_row2_col4\" class=\"data row2 col4\" >0</td>\n",
       "      <td id=\"T_627bd_row2_col5\" class=\"data row2 col5\" >0</td>\n",
       "      <td id=\"T_627bd_row2_col6\" class=\"data row2 col6\" >0.0</td>\n",
       "      <td id=\"T_627bd_row2_col7\" class=\"data row2 col7\" >0.000000</td>\n",
       "      <td id=\"T_627bd_row2_col8\" class=\"data row2 col8\" >0.0</td>\n",
       "      <td id=\"T_627bd_row2_col9\" class=\"data row2 col9\" >0</td>\n",
       "      <td id=\"T_627bd_row2_col10\" class=\"data row2 col10\" >0</td>\n",
       "      <td id=\"T_627bd_row2_col11\" class=\"data row2 col11\" >0</td>\n",
       "      <td id=\"T_627bd_row2_col12\" class=\"data row2 col12\" >0</td>\n",
       "      <td id=\"T_627bd_row2_col13\" class=\"data row2 col13\" >0</td>\n",
       "      <td id=\"T_627bd_row2_col14\" class=\"data row2 col14\" >0</td>\n",
       "      <td id=\"T_627bd_row2_col15\" class=\"data row2 col15\" >0</td>\n",
       "      <td id=\"T_627bd_row2_col16\" class=\"data row2 col16\" >0</td>\n",
       "      <td id=\"T_627bd_row2_col17\" class=\"data row2 col17\" >0</td>\n",
       "      <td id=\"T_627bd_row2_col18\" class=\"data row2 col18\" >0</td>\n",
       "      <td id=\"T_627bd_row2_col19\" class=\"data row2 col19\" >0</td>\n",
       "      <td id=\"T_627bd_row2_col20\" class=\"data row2 col20\" >0</td>\n",
       "      <td id=\"T_627bd_row2_col21\" class=\"data row2 col21\" >0.000000</td>\n",
       "      <td id=\"T_627bd_row2_col22\" class=\"data row2 col22\" >1050240</td>\n",
       "      <td id=\"T_627bd_row2_col23\" class=\"data row2 col23\" >0</td>\n",
       "      <td id=\"T_627bd_row2_col24\" class=\"data row2 col24\" >0</td>\n",
       "      <td id=\"T_627bd_row2_col25\" class=\"data row2 col25\" >0.000000</td>\n",
       "      <td id=\"T_627bd_row2_col26\" class=\"data row2 col26\" >0</td>\n",
       "      <td id=\"T_627bd_row2_col27\" class=\"data row2 col27\" >0</td>\n",
       "      <td id=\"T_627bd_row2_col28\" class=\"data row2 col28\" >0</td>\n",
       "      <td id=\"T_627bd_row2_col29\" class=\"data row2 col29\" >0</td>\n",
       "      <td id=\"T_627bd_row2_col30\" class=\"data row2 col30\" >0</td>\n",
       "      <td id=\"T_627bd_row2_col31\" class=\"data row2 col31\" >0.000000</td>\n",
       "      <td id=\"T_627bd_row2_col32\" class=\"data row2 col32\" >0</td>\n",
       "      <td id=\"T_627bd_row2_col33\" class=\"data row2 col33\" >0</td>\n",
       "      <td id=\"T_627bd_row2_col34\" class=\"data row2 col34\" >0</td>\n",
       "      <td id=\"T_627bd_row2_col35\" class=\"data row2 col35\" >0</td>\n",
       "      <td id=\"T_627bd_row2_col36\" class=\"data row2 col36\" >0</td>\n",
       "      <td id=\"T_627bd_row2_col37\" class=\"data row2 col37\" >0</td>\n",
       "      <td id=\"T_627bd_row2_col38\" class=\"data row2 col38\" >0</td>\n",
       "      <td id=\"T_627bd_row2_col39\" class=\"data row2 col39\" >0.000000</td>\n",
       "      <td id=\"T_627bd_row2_col40\" class=\"data row2 col40\" >0.000000</td>\n",
       "      <td id=\"T_627bd_row2_col41\" class=\"data row2 col41\" >0</td>\n",
       "      <td id=\"T_627bd_row2_col42\" class=\"data row2 col42\" >0</td>\n",
       "      <td id=\"T_627bd_row2_col43\" class=\"data row2 col43\" >0</td>\n",
       "      <td id=\"T_627bd_row2_col44\" class=\"data row2 col44\" >0</td>\n",
       "      <td id=\"T_627bd_row2_col45\" class=\"data row2 col45\" >0</td>\n",
       "      <td id=\"T_627bd_row2_col46\" class=\"data row2 col46\" >nan</td>\n",
       "      <td id=\"T_627bd_row2_col47\" class=\"data row2 col47\" >DDoS_UDP</td>\n",
       "    </tr>\n",
       "    <tr>\n",
       "      <th id=\"T_627bd_level0_row3\" class=\"row_heading level0 row3\" >3</th>\n",
       "      <td id=\"T_627bd_row3_col0\" class=\"data row3 col0\" >0</td>\n",
       "      <td id=\"T_627bd_row3_col1\" class=\"data row3 col1\" >0</td>\n",
       "      <td id=\"T_627bd_row3_col2\" class=\"data row3 col2\" >0</td>\n",
       "      <td id=\"T_627bd_row3_col3\" class=\"data row3 col3\" >0</td>\n",
       "      <td id=\"T_627bd_row3_col4\" class=\"data row3 col4\" >0</td>\n",
       "      <td id=\"T_627bd_row3_col5\" class=\"data row3 col5\" >0</td>\n",
       "      <td id=\"T_627bd_row3_col6\" class=\"data row3 col6\" >0.0</td>\n",
       "      <td id=\"T_627bd_row3_col7\" class=\"data row3 col7\" >0.000000</td>\n",
       "      <td id=\"T_627bd_row3_col8\" class=\"data row3 col8\" >0.0</td>\n",
       "      <td id=\"T_627bd_row3_col9\" class=\"data row3 col9\" >0</td>\n",
       "      <td id=\"T_627bd_row3_col10\" class=\"data row3 col10\" >0</td>\n",
       "      <td id=\"T_627bd_row3_col11\" class=\"data row3 col11\" >0</td>\n",
       "      <td id=\"T_627bd_row3_col12\" class=\"data row3 col12\" >0</td>\n",
       "      <td id=\"T_627bd_row3_col13\" class=\"data row3 col13\" >0</td>\n",
       "      <td id=\"T_627bd_row3_col14\" class=\"data row3 col14\" >0</td>\n",
       "      <td id=\"T_627bd_row3_col15\" class=\"data row3 col15\" >0</td>\n",
       "      <td id=\"T_627bd_row3_col16\" class=\"data row3 col16\" >0</td>\n",
       "      <td id=\"T_627bd_row3_col17\" class=\"data row3 col17\" >0</td>\n",
       "      <td id=\"T_627bd_row3_col18\" class=\"data row3 col18\" >0</td>\n",
       "      <td id=\"T_627bd_row3_col19\" class=\"data row3 col19\" >0</td>\n",
       "      <td id=\"T_627bd_row3_col20\" class=\"data row3 col20\" >0</td>\n",
       "      <td id=\"T_627bd_row3_col21\" class=\"data row3 col21\" >0.000000</td>\n",
       "      <td id=\"T_627bd_row3_col22\" class=\"data row3 col22\" >2902642</td>\n",
       "      <td id=\"T_627bd_row3_col23\" class=\"data row3 col23\" >0</td>\n",
       "      <td id=\"T_627bd_row3_col24\" class=\"data row3 col24\" >0</td>\n",
       "      <td id=\"T_627bd_row3_col25\" class=\"data row3 col25\" >0.000000</td>\n",
       "      <td id=\"T_627bd_row3_col26\" class=\"data row3 col26\" >0</td>\n",
       "      <td id=\"T_627bd_row3_col27\" class=\"data row3 col27\" >0</td>\n",
       "      <td id=\"T_627bd_row3_col28\" class=\"data row3 col28\" >0</td>\n",
       "      <td id=\"T_627bd_row3_col29\" class=\"data row3 col29\" >0</td>\n",
       "      <td id=\"T_627bd_row3_col30\" class=\"data row3 col30\" >0</td>\n",
       "      <td id=\"T_627bd_row3_col31\" class=\"data row3 col31\" >0.000000</td>\n",
       "      <td id=\"T_627bd_row3_col32\" class=\"data row3 col32\" >0</td>\n",
       "      <td id=\"T_627bd_row3_col33\" class=\"data row3 col33\" >0</td>\n",
       "      <td id=\"T_627bd_row3_col34\" class=\"data row3 col34\" >0</td>\n",
       "      <td id=\"T_627bd_row3_col35\" class=\"data row3 col35\" >0</td>\n",
       "      <td id=\"T_627bd_row3_col36\" class=\"data row3 col36\" >0</td>\n",
       "      <td id=\"T_627bd_row3_col37\" class=\"data row3 col37\" >0</td>\n",
       "      <td id=\"T_627bd_row3_col38\" class=\"data row3 col38\" >0</td>\n",
       "      <td id=\"T_627bd_row3_col39\" class=\"data row3 col39\" >0.000000</td>\n",
       "      <td id=\"T_627bd_row3_col40\" class=\"data row3 col40\" >0.000000</td>\n",
       "      <td id=\"T_627bd_row3_col41\" class=\"data row3 col41\" >0</td>\n",
       "      <td id=\"T_627bd_row3_col42\" class=\"data row3 col42\" >0</td>\n",
       "      <td id=\"T_627bd_row3_col43\" class=\"data row3 col43\" >0</td>\n",
       "      <td id=\"T_627bd_row3_col44\" class=\"data row3 col44\" >0</td>\n",
       "      <td id=\"T_627bd_row3_col45\" class=\"data row3 col45\" >0</td>\n",
       "      <td id=\"T_627bd_row3_col46\" class=\"data row3 col46\" >nan</td>\n",
       "      <td id=\"T_627bd_row3_col47\" class=\"data row3 col47\" >DDoS_UDP</td>\n",
       "    </tr>\n",
       "    <tr>\n",
       "      <th id=\"T_627bd_level0_row4\" class=\"row_heading level0 row4\" >4</th>\n",
       "      <td id=\"T_627bd_row4_col0\" class=\"data row4 col0\" >0</td>\n",
       "      <td id=\"T_627bd_row4_col1\" class=\"data row4 col1\" >0</td>\n",
       "      <td id=\"T_627bd_row4_col2\" class=\"data row4 col2\" >0</td>\n",
       "      <td id=\"T_627bd_row4_col3\" class=\"data row4 col3\" >0</td>\n",
       "      <td id=\"T_627bd_row4_col4\" class=\"data row4 col4\" >0</td>\n",
       "      <td id=\"T_627bd_row4_col5\" class=\"data row4 col5\" >0</td>\n",
       "      <td id=\"T_627bd_row4_col6\" class=\"data row4 col6\" >0.0</td>\n",
       "      <td id=\"T_627bd_row4_col7\" class=\"data row4 col7\" >0.000000</td>\n",
       "      <td id=\"T_627bd_row4_col8\" class=\"data row4 col8\" >0.0</td>\n",
       "      <td id=\"T_627bd_row4_col9\" class=\"data row4 col9\" >0</td>\n",
       "      <td id=\"T_627bd_row4_col10\" class=\"data row4 col10\" >0</td>\n",
       "      <td id=\"T_627bd_row4_col11\" class=\"data row4 col11\" >0</td>\n",
       "      <td id=\"T_627bd_row4_col12\" class=\"data row4 col12\" >0</td>\n",
       "      <td id=\"T_627bd_row4_col13\" class=\"data row4 col13\" >0</td>\n",
       "      <td id=\"T_627bd_row4_col14\" class=\"data row4 col14\" >0</td>\n",
       "      <td id=\"T_627bd_row4_col15\" class=\"data row4 col15\" >0</td>\n",
       "      <td id=\"T_627bd_row4_col16\" class=\"data row4 col16\" >0</td>\n",
       "      <td id=\"T_627bd_row4_col17\" class=\"data row4 col17\" >0</td>\n",
       "      <td id=\"T_627bd_row4_col18\" class=\"data row4 col18\" >0</td>\n",
       "      <td id=\"T_627bd_row4_col19\" class=\"data row4 col19\" >0</td>\n",
       "      <td id=\"T_627bd_row4_col20\" class=\"data row4 col20\" >0</td>\n",
       "      <td id=\"T_627bd_row4_col21\" class=\"data row4 col21\" >0.000000</td>\n",
       "      <td id=\"T_627bd_row4_col22\" class=\"data row4 col22\" >12630</td>\n",
       "      <td id=\"T_627bd_row4_col23\" class=\"data row4 col23\" >0</td>\n",
       "      <td id=\"T_627bd_row4_col24\" class=\"data row4 col24\" >0</td>\n",
       "      <td id=\"T_627bd_row4_col25\" class=\"data row4 col25\" >0.000000</td>\n",
       "      <td id=\"T_627bd_row4_col26\" class=\"data row4 col26\" >0</td>\n",
       "      <td id=\"T_627bd_row4_col27\" class=\"data row4 col27\" >0</td>\n",
       "      <td id=\"T_627bd_row4_col28\" class=\"data row4 col28\" >0</td>\n",
       "      <td id=\"T_627bd_row4_col29\" class=\"data row4 col29\" >0</td>\n",
       "      <td id=\"T_627bd_row4_col30\" class=\"data row4 col30\" >0</td>\n",
       "      <td id=\"T_627bd_row4_col31\" class=\"data row4 col31\" >0.000000</td>\n",
       "      <td id=\"T_627bd_row4_col32\" class=\"data row4 col32\" >0</td>\n",
       "      <td id=\"T_627bd_row4_col33\" class=\"data row4 col33\" >0</td>\n",
       "      <td id=\"T_627bd_row4_col34\" class=\"data row4 col34\" >0</td>\n",
       "      <td id=\"T_627bd_row4_col35\" class=\"data row4 col35\" >0</td>\n",
       "      <td id=\"T_627bd_row4_col36\" class=\"data row4 col36\" >0</td>\n",
       "      <td id=\"T_627bd_row4_col37\" class=\"data row4 col37\" >0</td>\n",
       "      <td id=\"T_627bd_row4_col38\" class=\"data row4 col38\" >0</td>\n",
       "      <td id=\"T_627bd_row4_col39\" class=\"data row4 col39\" >0.000000</td>\n",
       "      <td id=\"T_627bd_row4_col40\" class=\"data row4 col40\" >0.000000</td>\n",
       "      <td id=\"T_627bd_row4_col41\" class=\"data row4 col41\" >0</td>\n",
       "      <td id=\"T_627bd_row4_col42\" class=\"data row4 col42\" >0</td>\n",
       "      <td id=\"T_627bd_row4_col43\" class=\"data row4 col43\" >0</td>\n",
       "      <td id=\"T_627bd_row4_col44\" class=\"data row4 col44\" >0</td>\n",
       "      <td id=\"T_627bd_row4_col45\" class=\"data row4 col45\" >0</td>\n",
       "      <td id=\"T_627bd_row4_col46\" class=\"data row4 col46\" >nan</td>\n",
       "      <td id=\"T_627bd_row4_col47\" class=\"data row4 col47\" >DDoS_UDP</td>\n",
       "    </tr>\n",
       "    <tr>\n",
       "      <th id=\"T_627bd_level0_row5\" class=\"row_heading level0 row5\" >5</th>\n",
       "      <td id=\"T_627bd_row5_col0\" class=\"data row5 col0\" >0</td>\n",
       "      <td id=\"T_627bd_row5_col1\" class=\"data row5 col1\" >0</td>\n",
       "      <td id=\"T_627bd_row5_col2\" class=\"data row5 col2\" >0</td>\n",
       "      <td id=\"T_627bd_row5_col3\" class=\"data row5 col3\" >0</td>\n",
       "      <td id=\"T_627bd_row5_col4\" class=\"data row5 col4\" >0</td>\n",
       "      <td id=\"T_627bd_row5_col5\" class=\"data row5 col5\" >0</td>\n",
       "      <td id=\"T_627bd_row5_col6\" class=\"data row5 col6\" >0.0</td>\n",
       "      <td id=\"T_627bd_row5_col7\" class=\"data row5 col7\" >0.000000</td>\n",
       "      <td id=\"T_627bd_row5_col8\" class=\"data row5 col8\" >0.0</td>\n",
       "      <td id=\"T_627bd_row5_col9\" class=\"data row5 col9\" >0</td>\n",
       "      <td id=\"T_627bd_row5_col10\" class=\"data row5 col10\" >0</td>\n",
       "      <td id=\"T_627bd_row5_col11\" class=\"data row5 col11\" >0</td>\n",
       "      <td id=\"T_627bd_row5_col12\" class=\"data row5 col12\" >0</td>\n",
       "      <td id=\"T_627bd_row5_col13\" class=\"data row5 col13\" >0</td>\n",
       "      <td id=\"T_627bd_row5_col14\" class=\"data row5 col14\" >0</td>\n",
       "      <td id=\"T_627bd_row5_col15\" class=\"data row5 col15\" >0</td>\n",
       "      <td id=\"T_627bd_row5_col16\" class=\"data row5 col16\" >0</td>\n",
       "      <td id=\"T_627bd_row5_col17\" class=\"data row5 col17\" >0</td>\n",
       "      <td id=\"T_627bd_row5_col18\" class=\"data row5 col18\" >0</td>\n",
       "      <td id=\"T_627bd_row5_col19\" class=\"data row5 col19\" >0</td>\n",
       "      <td id=\"T_627bd_row5_col20\" class=\"data row5 col20\" >0</td>\n",
       "      <td id=\"T_627bd_row5_col21\" class=\"data row5 col21\" >0.000000</td>\n",
       "      <td id=\"T_627bd_row5_col22\" class=\"data row5 col22\" >140647</td>\n",
       "      <td id=\"T_627bd_row5_col23\" class=\"data row5 col23\" >0</td>\n",
       "      <td id=\"T_627bd_row5_col24\" class=\"data row5 col24\" >0</td>\n",
       "      <td id=\"T_627bd_row5_col25\" class=\"data row5 col25\" >0.000000</td>\n",
       "      <td id=\"T_627bd_row5_col26\" class=\"data row5 col26\" >0</td>\n",
       "      <td id=\"T_627bd_row5_col27\" class=\"data row5 col27\" >0</td>\n",
       "      <td id=\"T_627bd_row5_col28\" class=\"data row5 col28\" >0</td>\n",
       "      <td id=\"T_627bd_row5_col29\" class=\"data row5 col29\" >0</td>\n",
       "      <td id=\"T_627bd_row5_col30\" class=\"data row5 col30\" >0</td>\n",
       "      <td id=\"T_627bd_row5_col31\" class=\"data row5 col31\" >0.000000</td>\n",
       "      <td id=\"T_627bd_row5_col32\" class=\"data row5 col32\" >0</td>\n",
       "      <td id=\"T_627bd_row5_col33\" class=\"data row5 col33\" >0</td>\n",
       "      <td id=\"T_627bd_row5_col34\" class=\"data row5 col34\" >0</td>\n",
       "      <td id=\"T_627bd_row5_col35\" class=\"data row5 col35\" >0</td>\n",
       "      <td id=\"T_627bd_row5_col36\" class=\"data row5 col36\" >0</td>\n",
       "      <td id=\"T_627bd_row5_col37\" class=\"data row5 col37\" >0</td>\n",
       "      <td id=\"T_627bd_row5_col38\" class=\"data row5 col38\" >0</td>\n",
       "      <td id=\"T_627bd_row5_col39\" class=\"data row5 col39\" >0.000000</td>\n",
       "      <td id=\"T_627bd_row5_col40\" class=\"data row5 col40\" >0.000000</td>\n",
       "      <td id=\"T_627bd_row5_col41\" class=\"data row5 col41\" >0</td>\n",
       "      <td id=\"T_627bd_row5_col42\" class=\"data row5 col42\" >0</td>\n",
       "      <td id=\"T_627bd_row5_col43\" class=\"data row5 col43\" >0</td>\n",
       "      <td id=\"T_627bd_row5_col44\" class=\"data row5 col44\" >0</td>\n",
       "      <td id=\"T_627bd_row5_col45\" class=\"data row5 col45\" >0</td>\n",
       "      <td id=\"T_627bd_row5_col46\" class=\"data row5 col46\" >nan</td>\n",
       "      <td id=\"T_627bd_row5_col47\" class=\"data row5 col47\" >DDoS_UDP</td>\n",
       "    </tr>\n",
       "    <tr>\n",
       "      <th id=\"T_627bd_level0_row6\" class=\"row_heading level0 row6\" >6</th>\n",
       "      <td id=\"T_627bd_row6_col0\" class=\"data row6 col0\" >0</td>\n",
       "      <td id=\"T_627bd_row6_col1\" class=\"data row6 col1\" >0</td>\n",
       "      <td id=\"T_627bd_row6_col2\" class=\"data row6 col2\" >0</td>\n",
       "      <td id=\"T_627bd_row6_col3\" class=\"data row6 col3\" >0</td>\n",
       "      <td id=\"T_627bd_row6_col4\" class=\"data row6 col4\" >0</td>\n",
       "      <td id=\"T_627bd_row6_col5\" class=\"data row6 col5\" >0</td>\n",
       "      <td id=\"T_627bd_row6_col6\" class=\"data row6 col6\" >0.0</td>\n",
       "      <td id=\"T_627bd_row6_col7\" class=\"data row6 col7\" >0.000000</td>\n",
       "      <td id=\"T_627bd_row6_col8\" class=\"data row6 col8\" >0.0</td>\n",
       "      <td id=\"T_627bd_row6_col9\" class=\"data row6 col9\" >0</td>\n",
       "      <td id=\"T_627bd_row6_col10\" class=\"data row6 col10\" >0</td>\n",
       "      <td id=\"T_627bd_row6_col11\" class=\"data row6 col11\" >0</td>\n",
       "      <td id=\"T_627bd_row6_col12\" class=\"data row6 col12\" >0</td>\n",
       "      <td id=\"T_627bd_row6_col13\" class=\"data row6 col13\" >0</td>\n",
       "      <td id=\"T_627bd_row6_col14\" class=\"data row6 col14\" >0</td>\n",
       "      <td id=\"T_627bd_row6_col15\" class=\"data row6 col15\" >0</td>\n",
       "      <td id=\"T_627bd_row6_col16\" class=\"data row6 col16\" >0</td>\n",
       "      <td id=\"T_627bd_row6_col17\" class=\"data row6 col17\" >0</td>\n",
       "      <td id=\"T_627bd_row6_col18\" class=\"data row6 col18\" >0</td>\n",
       "      <td id=\"T_627bd_row6_col19\" class=\"data row6 col19\" >0</td>\n",
       "      <td id=\"T_627bd_row6_col20\" class=\"data row6 col20\" >0</td>\n",
       "      <td id=\"T_627bd_row6_col21\" class=\"data row6 col21\" >0.000000</td>\n",
       "      <td id=\"T_627bd_row6_col22\" class=\"data row6 col22\" >2383582</td>\n",
       "      <td id=\"T_627bd_row6_col23\" class=\"data row6 col23\" >0</td>\n",
       "      <td id=\"T_627bd_row6_col24\" class=\"data row6 col24\" >0</td>\n",
       "      <td id=\"T_627bd_row6_col25\" class=\"data row6 col25\" >0.000000</td>\n",
       "      <td id=\"T_627bd_row6_col26\" class=\"data row6 col26\" >0</td>\n",
       "      <td id=\"T_627bd_row6_col27\" class=\"data row6 col27\" >0</td>\n",
       "      <td id=\"T_627bd_row6_col28\" class=\"data row6 col28\" >0</td>\n",
       "      <td id=\"T_627bd_row6_col29\" class=\"data row6 col29\" >0</td>\n",
       "      <td id=\"T_627bd_row6_col30\" class=\"data row6 col30\" >0</td>\n",
       "      <td id=\"T_627bd_row6_col31\" class=\"data row6 col31\" >0.000000</td>\n",
       "      <td id=\"T_627bd_row6_col32\" class=\"data row6 col32\" >0</td>\n",
       "      <td id=\"T_627bd_row6_col33\" class=\"data row6 col33\" >0</td>\n",
       "      <td id=\"T_627bd_row6_col34\" class=\"data row6 col34\" >0</td>\n",
       "      <td id=\"T_627bd_row6_col35\" class=\"data row6 col35\" >0</td>\n",
       "      <td id=\"T_627bd_row6_col36\" class=\"data row6 col36\" >0</td>\n",
       "      <td id=\"T_627bd_row6_col37\" class=\"data row6 col37\" >0</td>\n",
       "      <td id=\"T_627bd_row6_col38\" class=\"data row6 col38\" >0</td>\n",
       "      <td id=\"T_627bd_row6_col39\" class=\"data row6 col39\" >0.000000</td>\n",
       "      <td id=\"T_627bd_row6_col40\" class=\"data row6 col40\" >0.000000</td>\n",
       "      <td id=\"T_627bd_row6_col41\" class=\"data row6 col41\" >0</td>\n",
       "      <td id=\"T_627bd_row6_col42\" class=\"data row6 col42\" >0</td>\n",
       "      <td id=\"T_627bd_row6_col43\" class=\"data row6 col43\" >0</td>\n",
       "      <td id=\"T_627bd_row6_col44\" class=\"data row6 col44\" >0</td>\n",
       "      <td id=\"T_627bd_row6_col45\" class=\"data row6 col45\" >0</td>\n",
       "      <td id=\"T_627bd_row6_col46\" class=\"data row6 col46\" >nan</td>\n",
       "      <td id=\"T_627bd_row6_col47\" class=\"data row6 col47\" >DDoS_UDP</td>\n",
       "    </tr>\n",
       "    <tr>\n",
       "      <th id=\"T_627bd_level0_row7\" class=\"row_heading level0 row7\" >7</th>\n",
       "      <td id=\"T_627bd_row7_col0\" class=\"data row7 col0\" >0</td>\n",
       "      <td id=\"T_627bd_row7_col1\" class=\"data row7 col1\" >0</td>\n",
       "      <td id=\"T_627bd_row7_col2\" class=\"data row7 col2\" >0</td>\n",
       "      <td id=\"T_627bd_row7_col3\" class=\"data row7 col3\" >0</td>\n",
       "      <td id=\"T_627bd_row7_col4\" class=\"data row7 col4\" >0</td>\n",
       "      <td id=\"T_627bd_row7_col5\" class=\"data row7 col5\" >0</td>\n",
       "      <td id=\"T_627bd_row7_col6\" class=\"data row7 col6\" >0.0</td>\n",
       "      <td id=\"T_627bd_row7_col7\" class=\"data row7 col7\" >0.000000</td>\n",
       "      <td id=\"T_627bd_row7_col8\" class=\"data row7 col8\" >0.0</td>\n",
       "      <td id=\"T_627bd_row7_col9\" class=\"data row7 col9\" >0</td>\n",
       "      <td id=\"T_627bd_row7_col10\" class=\"data row7 col10\" >0</td>\n",
       "      <td id=\"T_627bd_row7_col11\" class=\"data row7 col11\" >0</td>\n",
       "      <td id=\"T_627bd_row7_col12\" class=\"data row7 col12\" >0</td>\n",
       "      <td id=\"T_627bd_row7_col13\" class=\"data row7 col13\" >0</td>\n",
       "      <td id=\"T_627bd_row7_col14\" class=\"data row7 col14\" >0</td>\n",
       "      <td id=\"T_627bd_row7_col15\" class=\"data row7 col15\" >0</td>\n",
       "      <td id=\"T_627bd_row7_col16\" class=\"data row7 col16\" >0</td>\n",
       "      <td id=\"T_627bd_row7_col17\" class=\"data row7 col17\" >0</td>\n",
       "      <td id=\"T_627bd_row7_col18\" class=\"data row7 col18\" >0</td>\n",
       "      <td id=\"T_627bd_row7_col19\" class=\"data row7 col19\" >0</td>\n",
       "      <td id=\"T_627bd_row7_col20\" class=\"data row7 col20\" >0</td>\n",
       "      <td id=\"T_627bd_row7_col21\" class=\"data row7 col21\" >0.000000</td>\n",
       "      <td id=\"T_627bd_row7_col22\" class=\"data row7 col22\" >1547642</td>\n",
       "      <td id=\"T_627bd_row7_col23\" class=\"data row7 col23\" >0</td>\n",
       "      <td id=\"T_627bd_row7_col24\" class=\"data row7 col24\" >0</td>\n",
       "      <td id=\"T_627bd_row7_col25\" class=\"data row7 col25\" >0.000000</td>\n",
       "      <td id=\"T_627bd_row7_col26\" class=\"data row7 col26\" >0</td>\n",
       "      <td id=\"T_627bd_row7_col27\" class=\"data row7 col27\" >0</td>\n",
       "      <td id=\"T_627bd_row7_col28\" class=\"data row7 col28\" >0</td>\n",
       "      <td id=\"T_627bd_row7_col29\" class=\"data row7 col29\" >0</td>\n",
       "      <td id=\"T_627bd_row7_col30\" class=\"data row7 col30\" >0</td>\n",
       "      <td id=\"T_627bd_row7_col31\" class=\"data row7 col31\" >0.000000</td>\n",
       "      <td id=\"T_627bd_row7_col32\" class=\"data row7 col32\" >0</td>\n",
       "      <td id=\"T_627bd_row7_col33\" class=\"data row7 col33\" >0</td>\n",
       "      <td id=\"T_627bd_row7_col34\" class=\"data row7 col34\" >0</td>\n",
       "      <td id=\"T_627bd_row7_col35\" class=\"data row7 col35\" >0</td>\n",
       "      <td id=\"T_627bd_row7_col36\" class=\"data row7 col36\" >0</td>\n",
       "      <td id=\"T_627bd_row7_col37\" class=\"data row7 col37\" >0</td>\n",
       "      <td id=\"T_627bd_row7_col38\" class=\"data row7 col38\" >0</td>\n",
       "      <td id=\"T_627bd_row7_col39\" class=\"data row7 col39\" >0.000000</td>\n",
       "      <td id=\"T_627bd_row7_col40\" class=\"data row7 col40\" >0.000000</td>\n",
       "      <td id=\"T_627bd_row7_col41\" class=\"data row7 col41\" >0</td>\n",
       "      <td id=\"T_627bd_row7_col42\" class=\"data row7 col42\" >0</td>\n",
       "      <td id=\"T_627bd_row7_col43\" class=\"data row7 col43\" >0</td>\n",
       "      <td id=\"T_627bd_row7_col44\" class=\"data row7 col44\" >0</td>\n",
       "      <td id=\"T_627bd_row7_col45\" class=\"data row7 col45\" >0</td>\n",
       "      <td id=\"T_627bd_row7_col46\" class=\"data row7 col46\" >nan</td>\n",
       "      <td id=\"T_627bd_row7_col47\" class=\"data row7 col47\" >DDoS_UDP</td>\n",
       "    </tr>\n",
       "    <tr>\n",
       "      <th id=\"T_627bd_level0_row8\" class=\"row_heading level0 row8\" >8</th>\n",
       "      <td id=\"T_627bd_row8_col0\" class=\"data row8 col0\" >0</td>\n",
       "      <td id=\"T_627bd_row8_col1\" class=\"data row8 col1\" >0</td>\n",
       "      <td id=\"T_627bd_row8_col2\" class=\"data row8 col2\" >0</td>\n",
       "      <td id=\"T_627bd_row8_col3\" class=\"data row8 col3\" >0</td>\n",
       "      <td id=\"T_627bd_row8_col4\" class=\"data row8 col4\" >0</td>\n",
       "      <td id=\"T_627bd_row8_col5\" class=\"data row8 col5\" >0</td>\n",
       "      <td id=\"T_627bd_row8_col6\" class=\"data row8 col6\" >0.0</td>\n",
       "      <td id=\"T_627bd_row8_col7\" class=\"data row8 col7\" >0.000000</td>\n",
       "      <td id=\"T_627bd_row8_col8\" class=\"data row8 col8\" >0.0</td>\n",
       "      <td id=\"T_627bd_row8_col9\" class=\"data row8 col9\" >0</td>\n",
       "      <td id=\"T_627bd_row8_col10\" class=\"data row8 col10\" >0</td>\n",
       "      <td id=\"T_627bd_row8_col11\" class=\"data row8 col11\" >0</td>\n",
       "      <td id=\"T_627bd_row8_col12\" class=\"data row8 col12\" >0</td>\n",
       "      <td id=\"T_627bd_row8_col13\" class=\"data row8 col13\" >0</td>\n",
       "      <td id=\"T_627bd_row8_col14\" class=\"data row8 col14\" >0</td>\n",
       "      <td id=\"T_627bd_row8_col15\" class=\"data row8 col15\" >0</td>\n",
       "      <td id=\"T_627bd_row8_col16\" class=\"data row8 col16\" >0</td>\n",
       "      <td id=\"T_627bd_row8_col17\" class=\"data row8 col17\" >0</td>\n",
       "      <td id=\"T_627bd_row8_col18\" class=\"data row8 col18\" >0</td>\n",
       "      <td id=\"T_627bd_row8_col19\" class=\"data row8 col19\" >0</td>\n",
       "      <td id=\"T_627bd_row8_col20\" class=\"data row8 col20\" >0</td>\n",
       "      <td id=\"T_627bd_row8_col21\" class=\"data row8 col21\" >0.000000</td>\n",
       "      <td id=\"T_627bd_row8_col22\" class=\"data row8 col22\" >2260916</td>\n",
       "      <td id=\"T_627bd_row8_col23\" class=\"data row8 col23\" >0</td>\n",
       "      <td id=\"T_627bd_row8_col24\" class=\"data row8 col24\" >0</td>\n",
       "      <td id=\"T_627bd_row8_col25\" class=\"data row8 col25\" >0.000000</td>\n",
       "      <td id=\"T_627bd_row8_col26\" class=\"data row8 col26\" >0</td>\n",
       "      <td id=\"T_627bd_row8_col27\" class=\"data row8 col27\" >0</td>\n",
       "      <td id=\"T_627bd_row8_col28\" class=\"data row8 col28\" >0</td>\n",
       "      <td id=\"T_627bd_row8_col29\" class=\"data row8 col29\" >0</td>\n",
       "      <td id=\"T_627bd_row8_col30\" class=\"data row8 col30\" >0</td>\n",
       "      <td id=\"T_627bd_row8_col31\" class=\"data row8 col31\" >0.000000</td>\n",
       "      <td id=\"T_627bd_row8_col32\" class=\"data row8 col32\" >0</td>\n",
       "      <td id=\"T_627bd_row8_col33\" class=\"data row8 col33\" >0</td>\n",
       "      <td id=\"T_627bd_row8_col34\" class=\"data row8 col34\" >0</td>\n",
       "      <td id=\"T_627bd_row8_col35\" class=\"data row8 col35\" >0</td>\n",
       "      <td id=\"T_627bd_row8_col36\" class=\"data row8 col36\" >0</td>\n",
       "      <td id=\"T_627bd_row8_col37\" class=\"data row8 col37\" >0</td>\n",
       "      <td id=\"T_627bd_row8_col38\" class=\"data row8 col38\" >0</td>\n",
       "      <td id=\"T_627bd_row8_col39\" class=\"data row8 col39\" >0.000000</td>\n",
       "      <td id=\"T_627bd_row8_col40\" class=\"data row8 col40\" >0.000000</td>\n",
       "      <td id=\"T_627bd_row8_col41\" class=\"data row8 col41\" >0</td>\n",
       "      <td id=\"T_627bd_row8_col42\" class=\"data row8 col42\" >0</td>\n",
       "      <td id=\"T_627bd_row8_col43\" class=\"data row8 col43\" >0</td>\n",
       "      <td id=\"T_627bd_row8_col44\" class=\"data row8 col44\" >0</td>\n",
       "      <td id=\"T_627bd_row8_col45\" class=\"data row8 col45\" >0</td>\n",
       "      <td id=\"T_627bd_row8_col46\" class=\"data row8 col46\" >nan</td>\n",
       "      <td id=\"T_627bd_row8_col47\" class=\"data row8 col47\" >DDoS_UDP</td>\n",
       "    </tr>\n",
       "    <tr>\n",
       "      <th id=\"T_627bd_level0_row9\" class=\"row_heading level0 row9\" >9</th>\n",
       "      <td id=\"T_627bd_row9_col0\" class=\"data row9 col0\" >0</td>\n",
       "      <td id=\"T_627bd_row9_col1\" class=\"data row9 col1\" >0</td>\n",
       "      <td id=\"T_627bd_row9_col2\" class=\"data row9 col2\" >0</td>\n",
       "      <td id=\"T_627bd_row9_col3\" class=\"data row9 col3\" >0</td>\n",
       "      <td id=\"T_627bd_row9_col4\" class=\"data row9 col4\" >0</td>\n",
       "      <td id=\"T_627bd_row9_col5\" class=\"data row9 col5\" >0</td>\n",
       "      <td id=\"T_627bd_row9_col6\" class=\"data row9 col6\" >0.0</td>\n",
       "      <td id=\"T_627bd_row9_col7\" class=\"data row9 col7\" >0.000000</td>\n",
       "      <td id=\"T_627bd_row9_col8\" class=\"data row9 col8\" >0.0</td>\n",
       "      <td id=\"T_627bd_row9_col9\" class=\"data row9 col9\" >0</td>\n",
       "      <td id=\"T_627bd_row9_col10\" class=\"data row9 col10\" >0</td>\n",
       "      <td id=\"T_627bd_row9_col11\" class=\"data row9 col11\" >0</td>\n",
       "      <td id=\"T_627bd_row9_col12\" class=\"data row9 col12\" >0</td>\n",
       "      <td id=\"T_627bd_row9_col13\" class=\"data row9 col13\" >0</td>\n",
       "      <td id=\"T_627bd_row9_col14\" class=\"data row9 col14\" >0</td>\n",
       "      <td id=\"T_627bd_row9_col15\" class=\"data row9 col15\" >0</td>\n",
       "      <td id=\"T_627bd_row9_col16\" class=\"data row9 col16\" >0</td>\n",
       "      <td id=\"T_627bd_row9_col17\" class=\"data row9 col17\" >0</td>\n",
       "      <td id=\"T_627bd_row9_col18\" class=\"data row9 col18\" >0</td>\n",
       "      <td id=\"T_627bd_row9_col19\" class=\"data row9 col19\" >0</td>\n",
       "      <td id=\"T_627bd_row9_col20\" class=\"data row9 col20\" >0</td>\n",
       "      <td id=\"T_627bd_row9_col21\" class=\"data row9 col21\" >0.000000</td>\n",
       "      <td id=\"T_627bd_row9_col22\" class=\"data row9 col22\" >2543942</td>\n",
       "      <td id=\"T_627bd_row9_col23\" class=\"data row9 col23\" >0</td>\n",
       "      <td id=\"T_627bd_row9_col24\" class=\"data row9 col24\" >0</td>\n",
       "      <td id=\"T_627bd_row9_col25\" class=\"data row9 col25\" >0.000000</td>\n",
       "      <td id=\"T_627bd_row9_col26\" class=\"data row9 col26\" >0</td>\n",
       "      <td id=\"T_627bd_row9_col27\" class=\"data row9 col27\" >0</td>\n",
       "      <td id=\"T_627bd_row9_col28\" class=\"data row9 col28\" >0</td>\n",
       "      <td id=\"T_627bd_row9_col29\" class=\"data row9 col29\" >0</td>\n",
       "      <td id=\"T_627bd_row9_col30\" class=\"data row9 col30\" >0</td>\n",
       "      <td id=\"T_627bd_row9_col31\" class=\"data row9 col31\" >0.000000</td>\n",
       "      <td id=\"T_627bd_row9_col32\" class=\"data row9 col32\" >0</td>\n",
       "      <td id=\"T_627bd_row9_col33\" class=\"data row9 col33\" >0</td>\n",
       "      <td id=\"T_627bd_row9_col34\" class=\"data row9 col34\" >0</td>\n",
       "      <td id=\"T_627bd_row9_col35\" class=\"data row9 col35\" >0</td>\n",
       "      <td id=\"T_627bd_row9_col36\" class=\"data row9 col36\" >0</td>\n",
       "      <td id=\"T_627bd_row9_col37\" class=\"data row9 col37\" >0</td>\n",
       "      <td id=\"T_627bd_row9_col38\" class=\"data row9 col38\" >0</td>\n",
       "      <td id=\"T_627bd_row9_col39\" class=\"data row9 col39\" >0.000000</td>\n",
       "      <td id=\"T_627bd_row9_col40\" class=\"data row9 col40\" >0.000000</td>\n",
       "      <td id=\"T_627bd_row9_col41\" class=\"data row9 col41\" >0</td>\n",
       "      <td id=\"T_627bd_row9_col42\" class=\"data row9 col42\" >0</td>\n",
       "      <td id=\"T_627bd_row9_col43\" class=\"data row9 col43\" >0</td>\n",
       "      <td id=\"T_627bd_row9_col44\" class=\"data row9 col44\" >0</td>\n",
       "      <td id=\"T_627bd_row9_col45\" class=\"data row9 col45\" >0</td>\n",
       "      <td id=\"T_627bd_row9_col46\" class=\"data row9 col46\" >nan</td>\n",
       "      <td id=\"T_627bd_row9_col47\" class=\"data row9 col47\" >DDoS_UDP</td>\n",
       "    </tr>\n",
       "  </tbody>\n",
       "</table>\n"
      ],
      "text/plain": [
       "<pandas.io.formats.style.Styler at 0x7f6ca713cc50>"
      ]
     },
     "metadata": {},
     "output_type": "display_data"
    }
   ],
   "source": [
    "# concatenate RTB_dataset_df1 and RTB_dataset_df2\n",
    "RTB_dataset = pd.concat([RTB_dataset_df1, RTB_dataset_df2], ignore_index=True)\n",
    "\n",
    "RTB_dataset.head(10).style.set_properties(**{'text-align': 'left'})"
   ]
  },
  {
   "cell_type": "code",
   "execution_count": null,
   "metadata": {},
   "outputs": [
    {
     "data": {
      "text/html": [
       "<style type=\"text/css\">\n",
       "#T_85520_row0_col0, #T_85520_row1_col0, #T_85520_row2_col0, #T_85520_row3_col0, #T_85520_row4_col0, #T_85520_row5_col0, #T_85520_row6_col0, #T_85520_row7_col0, #T_85520_row8_col0, #T_85520_row9_col0, #T_85520_row10_col0, #T_85520_row11_col0, #T_85520_row12_col0 {\n",
       "  text-align: left;\n",
       "}\n",
       "</style>\n",
       "<table id=\"T_85520\">\n",
       "  <thead>\n",
       "    <tr>\n",
       "      <th class=\"blank level0\" >&nbsp;</th>\n",
       "      <th id=\"T_85520_level0_col0\" class=\"col_heading level0 col0\" >count</th>\n",
       "    </tr>\n",
       "    <tr>\n",
       "      <th class=\"index_name level0\" >Attack_type</th>\n",
       "      <th class=\"blank col0\" >&nbsp;</th>\n",
       "    </tr>\n",
       "  </thead>\n",
       "  <tbody>\n",
       "    <tr>\n",
       "      <th id=\"T_85520_level0_row0\" class=\"row_heading level0 row0\" >MITM</th>\n",
       "      <td id=\"T_85520_row0_col0\" class=\"data row0 col0\" >99812</td>\n",
       "    </tr>\n",
       "    <tr>\n",
       "      <th id=\"T_85520_level0_row1\" class=\"row_heading level0 row1\" >Fingerprinting</th>\n",
       "      <td id=\"T_85520_row1_col0\" class=\"data row1 col0\" >99745</td>\n",
       "    </tr>\n",
       "    <tr>\n",
       "      <th id=\"T_85520_level0_row2\" class=\"row_heading level0 row2\" >Ransomware</th>\n",
       "      <td id=\"T_85520_row2_col0\" class=\"data row2 col0\" >94039</td>\n",
       "    </tr>\n",
       "    <tr>\n",
       "      <th id=\"T_85520_level0_row3\" class=\"row_heading level0 row3\" >Port_Scanning</th>\n",
       "      <td id=\"T_85520_row3_col0\" class=\"data row3 col0\" >84733</td>\n",
       "    </tr>\n",
       "    <tr>\n",
       "      <th id=\"T_85520_level0_row4\" class=\"row_heading level0 row4\" >Backdoor</th>\n",
       "      <td id=\"T_85520_row4_col0\" class=\"data row4 col0\" >81549</td>\n",
       "    </tr>\n",
       "    <tr>\n",
       "      <th id=\"T_85520_level0_row5\" class=\"row_heading level0 row5\" >Uploading</th>\n",
       "      <td id=\"T_85520_row5_col0\" class=\"data row5 col0\" >70749</td>\n",
       "    </tr>\n",
       "    <tr>\n",
       "      <th id=\"T_85520_level0_row6\" class=\"row_heading level0 row6\" >DDoS_HTTP</th>\n",
       "      <td id=\"T_85520_row6_col0\" class=\"data row6 col0\" >62613</td>\n",
       "    </tr>\n",
       "    <tr>\n",
       "      <th id=\"T_85520_level0_row7\" class=\"row_heading level0 row7\" >Password</th>\n",
       "      <td id=\"T_85520_row7_col0\" class=\"data row7 col0\" >62373</td>\n",
       "    </tr>\n",
       "    <tr>\n",
       "      <th id=\"T_85520_level0_row8\" class=\"row_heading level0 row8\" >SQL_injection</th>\n",
       "      <td id=\"T_85520_row8_col0\" class=\"data row8 col0\" >61693</td>\n",
       "    </tr>\n",
       "    <tr>\n",
       "      <th id=\"T_85520_level0_row9\" class=\"row_heading level0 row9\" >Vulnerability_scanner</th>\n",
       "      <td id=\"T_85520_row9_col0\" class=\"data row9 col0\" >61128</td>\n",
       "    </tr>\n",
       "    <tr>\n",
       "      <th id=\"T_85520_level0_row10\" class=\"row_heading level0 row10\" >DDoS_TCP</th>\n",
       "      <td id=\"T_85520_row10_col0\" class=\"data row10 col0\" >60349</td>\n",
       "    </tr>\n",
       "    <tr>\n",
       "      <th id=\"T_85520_level0_row11\" class=\"row_heading level0 row11\" >DDoS_ICMP</th>\n",
       "      <td id=\"T_85520_row11_col0\" class=\"data row11 col0\" >46182</td>\n",
       "    </tr>\n",
       "    <tr>\n",
       "      <th id=\"T_85520_level0_row12\" class=\"row_heading level0 row12\" >DDoS_UDP</th>\n",
       "      <td id=\"T_85520_row12_col0\" class=\"data row12 col0\" >3258</td>\n",
       "    </tr>\n",
       "  </tbody>\n",
       "</table>\n"
      ],
      "text/plain": [
       "<pandas.io.formats.style.Styler at 0x7f6ca762c2d0>"
      ]
     },
     "metadata": {},
     "output_type": "display_data"
    }
   ],
   "source": [
    "# print number of lines per Attack_type for each dataframe and total number of lines for each dataframe\n",
    "display(RTB_dataset['Attack_type'].value_counts().to_frame().style.set_properties(**{'text-align': 'left'}))"
   ]
  },
  {
   "cell_type": "code",
   "execution_count": null,
   "metadata": {},
   "outputs": [],
   "source": [
    "# save RTB_dataset to csv file\n",
    "RTB_dataset.to_csv(\"RTB_dataset.csv\", index=False)\n",
    "\n",
    "# Concatenate df_train and RTB_dataset\n",
    "df_train = pd.concat([df_train, RTB_dataset], ignore_index=True)"
   ]
  },
  {
   "cell_type": "code",
   "execution_count": null,
   "metadata": {},
   "outputs": [
    {
     "data": {
      "text/html": [
       "<style type=\"text/css\">\n",
       "#T_6d33b_row0_col0, #T_6d33b_row1_col0, #T_6d33b_row2_col0, #T_6d33b_row3_col0, #T_6d33b_row4_col0, #T_6d33b_row5_col0, #T_6d33b_row6_col0, #T_6d33b_row7_col0, #T_6d33b_row8_col0, #T_6d33b_row9_col0, #T_6d33b_row10_col0, #T_6d33b_row11_col0, #T_6d33b_row12_col0, #T_6d33b_row13_col0, #T_6d33b_row14_col0 {\n",
       "  text-align: left;\n",
       "}\n",
       "</style>\n",
       "<table id=\"T_6d33b\">\n",
       "  <thead>\n",
       "    <tr>\n",
       "      <th class=\"blank level0\" >&nbsp;</th>\n",
       "      <th id=\"T_6d33b_level0_col0\" class=\"col_heading level0 col0\" >count</th>\n",
       "    </tr>\n",
       "    <tr>\n",
       "      <th class=\"index_name level0\" >Attack_type</th>\n",
       "      <th class=\"blank col0\" >&nbsp;</th>\n",
       "    </tr>\n",
       "  </thead>\n",
       "  <tbody>\n",
       "    <tr>\n",
       "      <th id=\"T_6d33b_level0_row0\" class=\"row_heading level0 row0\" >SQL_injection</th>\n",
       "      <td id=\"T_6d33b_row0_col0\" class=\"data row0 col0\" >102448</td>\n",
       "    </tr>\n",
       "    <tr>\n",
       "      <th id=\"T_6d33b_level0_row1\" class=\"row_heading level0 row1\" >Password</th>\n",
       "      <td id=\"T_6d33b_row1_col0\" class=\"data row1 col0\" >102198</td>\n",
       "    </tr>\n",
       "    <tr>\n",
       "      <th id=\"T_6d33b_level0_row2\" class=\"row_heading level0 row2\" >Ransomware</th>\n",
       "      <td id=\"T_6d33b_row2_col0\" class=\"data row2 col0\" >101802</td>\n",
       "    </tr>\n",
       "    <tr>\n",
       "      <th id=\"T_6d33b_level0_row3\" class=\"row_heading level0 row3\" >DDoS_HTTP</th>\n",
       "      <td id=\"T_6d33b_row3_col0\" class=\"data row3 col0\" >101529</td>\n",
       "    </tr>\n",
       "    <tr>\n",
       "      <th id=\"T_6d33b_level0_row4\" class=\"row_heading level0 row4\" >Vulnerability_scanner</th>\n",
       "      <td id=\"T_6d33b_row4_col0\" class=\"data row4 col0\" >101214</td>\n",
       "    </tr>\n",
       "    <tr>\n",
       "      <th id=\"T_6d33b_level0_row5\" class=\"row_heading level0 row5\" >Backdoor</th>\n",
       "      <td id=\"T_6d33b_row5_col0\" class=\"data row5 col0\" >100793</td>\n",
       "    </tr>\n",
       "    <tr>\n",
       "      <th id=\"T_6d33b_level0_row6\" class=\"row_heading level0 row6\" >Port_Scanning</th>\n",
       "      <td id=\"T_6d33b_row6_col0\" class=\"data row6 col0\" >100648</td>\n",
       "    </tr>\n",
       "    <tr>\n",
       "      <th id=\"T_6d33b_level0_row7\" class=\"row_heading level0 row7\" >DDoS_ICMP</th>\n",
       "      <td id=\"T_6d33b_row7_col0\" class=\"data row7 col0\" >100620</td>\n",
       "    </tr>\n",
       "    <tr>\n",
       "      <th id=\"T_6d33b_level0_row8\" class=\"row_heading level0 row8\" >Fingerprinting</th>\n",
       "      <td id=\"T_6d33b_row8_col0\" class=\"data row8 col0\" >100452</td>\n",
       "    </tr>\n",
       "    <tr>\n",
       "      <th id=\"T_6d33b_level0_row9\" class=\"row_heading level0 row9\" >DDoS_TCP</th>\n",
       "      <td id=\"T_6d33b_row9_col0\" class=\"data row9 col0\" >100402</td>\n",
       "    </tr>\n",
       "    <tr>\n",
       "      <th id=\"T_6d33b_level0_row10\" class=\"row_heading level0 row10\" >Uploading</th>\n",
       "      <td id=\"T_6d33b_row10_col0\" class=\"data row10 col0\" >100283</td>\n",
       "    </tr>\n",
       "    <tr>\n",
       "      <th id=\"T_6d33b_level0_row11\" class=\"row_heading level0 row11\" >DDoS_UDP</th>\n",
       "      <td id=\"T_6d33b_row11_col0\" class=\"data row11 col0\" >100224</td>\n",
       "    </tr>\n",
       "    <tr>\n",
       "      <th id=\"T_6d33b_level0_row12\" class=\"row_heading level0 row12\" >MITM</th>\n",
       "      <td id=\"T_6d33b_row12_col0\" class=\"data row12 col0\" >100094</td>\n",
       "    </tr>\n",
       "    <tr>\n",
       "      <th id=\"T_6d33b_level0_row13\" class=\"row_heading level0 row13\" >Normal</th>\n",
       "      <td id=\"T_6d33b_row13_col0\" class=\"data row13 col0\" >100000</td>\n",
       "    </tr>\n",
       "    <tr>\n",
       "      <th id=\"T_6d33b_level0_row14\" class=\"row_heading level0 row14\" >XSS</th>\n",
       "      <td id=\"T_6d33b_row14_col0\" class=\"data row14 col0\" >12031</td>\n",
       "    </tr>\n",
       "  </tbody>\n",
       "</table>\n"
      ],
      "text/plain": [
       "<pandas.io.formats.style.Styler at 0x7f6ca815acd0>"
      ]
     },
     "metadata": {},
     "output_type": "display_data"
    }
   ],
   "source": [
    "# print number of lines per Attack_type for each dataframe and total number of lines for each dataframe\n",
    "display(df_train['Attack_type'].value_counts().to_frame().style.set_properties(**{'text-align': 'left'}))"
   ]
  }
 ],
 "metadata": {
  "kernelspec": {
   "display_name": "inovmineral",
   "language": "python",
   "name": "python3"
  },
  "language_info": {
   "name": "python",
   "version": "3.11.4"
  }
 },
 "nbformat": 4,
 "nbformat_minor": 2
}
