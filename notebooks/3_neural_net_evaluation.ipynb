{
 "cells": [
  {
   "cell_type": "markdown",
   "metadata": {},
   "source": [
    "### Libraries"
   ]
  },
  {
   "cell_type": "code",
   "execution_count": 81,
   "metadata": {},
   "outputs": [],
   "source": [
    "%%capture\n",
    "%reset -f                        # clear all variables from the workspace\n",
    "'generic imports'\n",
    "import os\n",
    "import pandas as pd\n",
    "import sys\n",
    "sys.path.append(os.path.abspath('..'))\n",
    "from src import utils\n",
    "import importlib\n",
    "importlib.reload(utils)\n",
    "from psutil import virtual_memory    \n",
    "import datetime\n",
    "import numpy as np                 \n",
    "\n",
    "'machine learning imports'\n",
    "import tensorflow as tf\n",
    "from tensorflow.keras.models import Sequential, load_model\n",
    "from tensorflow.keras.layers import Dense, Activation, Dropout, BatchNormalization\n",
    "from tensorflow.keras.callbacks import EarlyStopping, ModelCheckpoint\n",
    "\n",
    "from sklearn import metrics\n",
    "from sklearn.utils import shuffle\n",
    "from sklearn.preprocessing import LabelEncoder, StandardScaler\n",
    "from sklearn.model_selection import train_test_split"
   ]
  },
  {
   "cell_type": "code",
   "execution_count": 82,
   "metadata": {},
   "outputs": [
    {
     "name": "stdout",
     "output_type": "stream",
     "text": [
      "TensorFlow version: 2.12.0\n"
     ]
    }
   ],
   "source": [
    "print('TensorFlow version:', tf.__version__)"
   ]
  },
  {
   "cell_type": "markdown",
   "metadata": {},
   "source": [
    "### GPU"
   ]
  },
  {
   "cell_type": "code",
   "execution_count": 83,
   "metadata": {},
   "outputs": [
    {
     "name": "stdout",
     "output_type": "stream",
     "text": [
      "CPU: [PhysicalDevice(name='/physical_device:CPU:0', device_type='CPU')]\n"
     ]
    },
    {
     "name": "stderr",
     "output_type": "stream",
     "text": [
      "2023-10-30 01:51:27.896568: I tensorflow/compiler/xla/stream_executor/cuda/cuda_gpu_executor.cc:996] successful NUMA node read from SysFS had negative value (-1), but there must be at least one NUMA node, so returning NUMA node zero. See more at https://github.com/torvalds/linux/blob/v6.0/Documentation/ABI/testing/sysfs-bus-pci#L344-L355\n",
      "2023-10-30 01:51:27.896733: W tensorflow/core/common_runtime/gpu/gpu_device.cc:1956] Cannot dlopen some GPU libraries. Please make sure the missing libraries mentioned above are installed properly if you would like to use GPU. Follow the guide at https://www.tensorflow.org/install/gpu for how to download and setup the required libraries for your platform.\n",
      "Skipping registering GPU devices...\n"
     ]
    }
   ],
   "source": [
    "# if gpu available print name, else use cpu\n",
    "if tf.test.is_gpu_available():\n",
    "    print('GPU:', tf.test.gpu_device_name())\n",
    "else:\n",
    "    print('CPU:', tf.config.list_physical_devices('CPU'))"
   ]
  },
  {
   "cell_type": "markdown",
   "metadata": {},
   "source": [
    "### Load Data"
   ]
  },
  {
   "cell_type": "code",
   "execution_count": 84,
   "metadata": {},
   "outputs": [
    {
     "name": "stdout",
     "output_type": "stream",
     "text": [
      "Loading complete.\n",
      "Training data: 1500000 rows, 84 columns. \n",
      "Test data: 381934 rows, 84 columns.\n"
     ]
    }
   ],
   "source": [
    "# Define the augmentation method and the data directory\n",
    "AUGMENTATION = 'SMOTE'\n",
    "data_dir = os.path.abspath('../data')\n",
    "\n",
    "# Load the train and test datasets\n",
    "df_train, df_test = utils.load_dataset(data_directory=data_dir, \n",
    "                                       augmentation=AUGMENTATION, \n",
    "                                       ignore_columns=['mqtt.topic_0.0.1', \n",
    "                                                       'Unnamed: 0', \n",
    "                                                       'mqtt.topic_Temperature_and_Humidity', \n",
    "                                                       'mbtcp.unit_id', \n",
    "                                                       'mbtcp.trans_id'])   "
   ]
  },
  {
   "cell_type": "markdown",
   "metadata": {},
   "source": [
    "### Data Preparation"
   ]
  },
  {
   "cell_type": "code",
   "execution_count": 85,
   "metadata": {},
   "outputs": [],
   "source": [
    "# Creates X_train, y_train\n",
    "X_train = df_train.drop(['Attack_label', 'Attack_type'], axis=1)\n",
    "y_train = df_train['Attack_type']\n",
    "\n",
    "# Creates X_test, y_test\n",
    "X_test = df_test.drop(['Attack_label', 'Attack_type'], axis=1)\n",
    "y_test = df_test['Attack_type']"
   ]
  },
  {
   "cell_type": "markdown",
   "metadata": {},
   "source": [
    "#### Convert categorical features to one-hot encoded features"
   ]
  },
  {
   "cell_type": "code",
   "execution_count": 88,
   "metadata": {},
   "outputs": [
    {
     "name": "stdout",
     "output_type": "stream",
     "text": [
      "No categorical features found. Returning original datasets.\n"
     ]
    }
   ],
   "source": [
    "# One-hot encode the training and test labels if needed\n",
    "X_train_enc, X_test_enc = utils.encode_categorical(X_train, X_test)"
   ]
  },
  {
   "cell_type": "markdown",
   "metadata": {},
   "source": [
    "#### Label Encoding"
   ]
  },
  {
   "cell_type": "code",
   "execution_count": 89,
   "metadata": {},
   "outputs": [
    {
     "name": "stdout",
     "output_type": "stream",
     "text": [
      "Attack_type and encoded labels:\n",
      "\n",
      "Backdoor                0\n",
      "DDoS_HTTP               1\n",
      "DDoS_ICMP               2\n",
      "DDoS_TCP                3\n",
      "DDoS_UDP                4\n",
      "Fingerprinting          5\n",
      "MITM                    6\n",
      "Normal                  7\n",
      "Password                8\n",
      "Port_Scanning           9\n",
      "Ransomware              10\n",
      "SQL_injection           11\n",
      "Uploading               12\n",
      "Vulnerability_scanner   13\n",
      "XSS                     14\n"
     ]
    }
   ],
   "source": [
    "y_train_enc, y_test_enc, le = utils.encode_labels(y_train, y_test)\n",
    "y_train_bin = tf.keras.utils.to_categorical(y_train_enc)\n",
    "# y_test_bin = tf.keras.utils.to_categorical(y_test_enc)"
   ]
  },
  {
   "cell_type": "code",
   "execution_count": 13,
   "metadata": {},
   "outputs": [
    {
     "name": "stdout",
     "output_type": "stream",
     "text": [
      "X_train type: <class 'pandas.core.frame.DataFrame'>,\n",
      " y_train type: <class 'pandas.core.series.Series'>,\n",
      " X_test type: <class 'pandas.core.frame.DataFrame'>,\n",
      " y_test type: <class 'pandas.core.series.Series'>\n"
     ]
    }
   ],
   "source": [
    "# print type of each variable X_train, y_train, X_test, y_test\n",
    "print(f\"X_train type: {type(X_train)},\\n y_train type: {type(y_train)},\\n X_test type: {type(X_test)},\\n y_test type: {type(y_test)}\")"
   ]
  },
  {
   "cell_type": "markdown",
   "metadata": {},
   "source": [
    "#### Standardization of Data"
   ]
  },
  {
   "cell_type": "code",
   "execution_count": 91,
   "metadata": {},
   "outputs": [
    {
     "name": "stdout",
     "output_type": "stream",
     "text": [
      "          mean      std       \n",
      "Train:    -0.000    0.944     \n",
      "Test:     -0.018    1.848     \n"
     ]
    }
   ],
   "source": [
    "X_train_scaled, X_test_scaled = utils.scale_data(X_train, X_test, scaler_type='standard')"
   ]
  },
  {
   "cell_type": "markdown",
   "metadata": {},
   "source": [
    "### Model Training"
   ]
  },
  {
   "cell_type": "code",
   "execution_count": 92,
   "metadata": {},
   "outputs": [],
   "source": [
    "# Define the model\n",
    "model = Sequential()\n",
    "model.add(Dense(256, input_dim=X_train.shape[1], activation='relu'))\n",
    "model.add(BatchNormalization())\n",
    "model.add(Dropout(0.2))\n",
    "model.add(Dense(128, activation='relu'))\n",
    "model.add(BatchNormalization())\n",
    "model.add(Dropout(0.2))\n",
    "model.add(Dense(64, activation='relu'))\n",
    "model.add(BatchNormalization())\n",
    "model.add(Dropout(0.2))\n",
    "model.add(Dense(32, activation='relu'))\n",
    "model.add(BatchNormalization())\n",
    "model.add(Dropout(0.2))\n",
    "model.add(Dense(len(le.classes_), activation='softmax')) \n",
    "\n",
    "# Compile the model\n",
    "model.compile(loss='categorical_crossentropy', optimizer='adam', metrics=['accuracy']) \n",
    "\n",
    "# ReduceLROnPlateau callback\n",
    "monitor = tf.keras.callbacks.ReduceLROnPlateau(monitor=\"loss\",\n",
    "                                               factor=0.3,\n",
    "                                               mode=\"min\",\n",
    "                                               patience=10,\n",
    "                                               verbose=1,\n",
    "                                               min_lr=1e-8)\n",
    "\n",
    "# Checkpoint callback                                                \n",
    "checkpoint = ModelCheckpoint(f'../checkpoints/neural_net/best_model_{AUGMENTATION}.h5', \n",
    "                              monitor='loss', \n",
    "                              save_best_only=True)"
   ]
  },
  {
   "cell_type": "code",
   "execution_count": 93,
   "metadata": {},
   "outputs": [
    {
     "name": "stdout",
     "output_type": "stream",
     "text": [
      "Epoch 1/100\n",
      "2930/2930 [==============================] - 34s 11ms/step - loss: 0.5560 - accuracy: 0.7358 - lr: 0.0010\n",
      "Epoch 2/100\n",
      "2930/2930 [==============================] - 29s 10ms/step - loss: 0.4334 - accuracy: 0.7924 - lr: 0.0010\n",
      "Epoch 3/100\n",
      "2930/2930 [==============================] - 32s 11ms/step - loss: 0.3928 - accuracy: 0.8128 - lr: 0.0010\n",
      "Epoch 4/100\n",
      "2930/2930 [==============================] - 33s 11ms/step - loss: 0.3845 - accuracy: 0.8156 - lr: 0.0010\n",
      "Epoch 5/100\n",
      "2930/2930 [==============================] - 33s 11ms/step - loss: 0.3789 - accuracy: 0.8175 - lr: 0.0010\n",
      "Epoch 6/100\n",
      "2930/2930 [==============================] - 33s 11ms/step - loss: 0.3736 - accuracy: 0.8199 - lr: 0.0010\n",
      "Epoch 7/100\n",
      "2930/2930 [==============================] - 33s 11ms/step - loss: 0.3733 - accuracy: 0.8199 - lr: 0.0010\n",
      "Epoch 8/100\n",
      "2930/2930 [==============================] - 33s 11ms/step - loss: 0.3700 - accuracy: 0.8209 - lr: 0.0010\n",
      "Epoch 9/100\n",
      " 505/2930 [====>.........................] - ETA: 28s - loss: 0.3687 - accuracy: 0.8215"
     ]
    }
   ],
   "source": [
    "# Shuffle training data\n",
    "X_train, y_train_bin = shuffle(X_train_scaled, y_train_bin, random_state=42)\n",
    "\n",
    "# Train the model\n",
    "history = model.fit(X_train, \n",
    "                    y_train_bin, \n",
    "                    epochs=100, \n",
    "                    batch_size=512, \n",
    "                    callbacks=[monitor, checkpoint])"
   ]
  },
  {
   "cell_type": "markdown",
   "metadata": {},
   "source": [
    "### Model Evaluation"
   ]
  },
  {
   "cell_type": "code",
   "execution_count": null,
   "metadata": {},
   "outputs": [
    {
     "name": "stdout",
     "output_type": "stream",
     "text": [
      "4/4 [==============================] - 0s 1ms/step\n"
     ]
    }
   ],
   "source": [
    "# predict probabilities for test set and get the index of the highest probability\n",
    "predictions = model.predict(X_test_scaled)"
   ]
  },
  {
   "cell_type": "code",
   "execution_count": 61,
   "metadata": {},
   "outputs": [],
   "source": [
    "# get the index of the highest probability\n",
    "pred = tf.argmax(predictions, axis=1).numpy()"
   ]
  },
  {
   "cell_type": "code",
   "execution_count": null,
   "metadata": {},
   "outputs": [],
   "source": [
    "# Calculate metrics \n",
    "accuracy = metrics.accuracy_score(y_test_enc, predictions)\n",
    "precision_m = metrics.precision_score(y_test_enc, predictions, average='macro')\n",
    "recall_m = metrics.recall_score(y_test_enc, predictions, average='macro')\n",
    "f1_score_m = metrics.f1_score(y_test_enc, predictions, average='macro')\n",
    "precision_w = metrics.precision_score(y_test_enc, predictions, average='weighted')\n",
    "recall_w = metrics.recall_score(y_test_enc, predictions, average='weighted')\n",
    "f1_score_w = metrics.f1_score(y_test_enc, predictions, average='weighted')"
   ]
  },
  {
   "cell_type": "markdown",
   "metadata": {},
   "source": [
    "#### Save Metrics Results "
   ]
  },
  {
   "cell_type": "code",
   "execution_count": null,
   "metadata": {},
   "outputs": [],
   "source": [
    "# create dictionary for results\n",
    "results = {\n",
    "    \"model\": \"Neural Net\",\n",
    "    \"augmentations\": AUGMENTATION,\n",
    "    \"timestamp\": datetime.datetime.now().strftime(\"%Y-%m-%d %H:%M:%S\"),\n",
    "    \"accuracy\": accuracy,\n",
    "    \"precision_macro\": precision_m,\n",
    "    \"recall_macro\": recall_m,\n",
    "    \"f1_macro\": f1_score_m,\n",
    "    \"precision_weighted\": precision_w,\n",
    "    \"recall_weighted\": recall_w,\n",
    "    \"f1_weighted\": f1_score_w\n",
    "    }\n",
    "\n",
    "# print results\n",
    "utils.sprint_results_table(results)\n",
    "# save results to csv   \n",
    "utils.save_results_to_csv([results], '../results/metrics/neural_net.csv')"
   ]
  },
  {
   "cell_type": "markdown",
   "metadata": {},
   "source": [
    "#### Confusion Matrix"
   ]
  },
  {
   "cell_type": "code",
   "execution_count": null,
   "metadata": {},
   "outputs": [
    {
     "data": {
      "text/html": [
       "<div>\n",
       "<style scoped>\n",
       "    .dataframe tbody tr th:only-of-type {\n",
       "        vertical-align: middle;\n",
       "    }\n",
       "\n",
       "    .dataframe tbody tr th {\n",
       "        vertical-align: top;\n",
       "    }\n",
       "\n",
       "    .dataframe thead th {\n",
       "        text-align: right;\n",
       "    }\n",
       "</style>\n",
       "<table border=\"1\" class=\"dataframe\">\n",
       "  <thead>\n",
       "    <tr style=\"text-align: right;\">\n",
       "      <th>Predicted</th>\n",
       "      <th>Backdoor</th>\n",
       "      <th>DDoS_HTTP</th>\n",
       "      <th>DDoS_ICMP</th>\n",
       "      <th>DDoS_TCP</th>\n",
       "      <th>DDoS_UDP</th>\n",
       "      <th>Fingerprinting</th>\n",
       "      <th>MITM</th>\n",
       "      <th>Normal</th>\n",
       "      <th>Password</th>\n",
       "      <th>Port_Scanning</th>\n",
       "      <th>Ransomware</th>\n",
       "      <th>SQL_injection</th>\n",
       "      <th>Uploading</th>\n",
       "      <th>Vulnerability_scanner</th>\n",
       "      <th>XSS</th>\n",
       "    </tr>\n",
       "    <tr>\n",
       "      <th>Actual</th>\n",
       "      <th></th>\n",
       "      <th></th>\n",
       "      <th></th>\n",
       "      <th></th>\n",
       "      <th></th>\n",
       "      <th></th>\n",
       "      <th></th>\n",
       "      <th></th>\n",
       "      <th></th>\n",
       "      <th></th>\n",
       "      <th></th>\n",
       "      <th></th>\n",
       "      <th></th>\n",
       "      <th></th>\n",
       "      <th></th>\n",
       "    </tr>\n",
       "  </thead>\n",
       "  <tbody>\n",
       "    <tr>\n",
       "      <th>Backdoor</th>\n",
       "      <td>4700</td>\n",
       "      <td>0</td>\n",
       "      <td>0</td>\n",
       "      <td>81</td>\n",
       "      <td>1</td>\n",
       "      <td>0</td>\n",
       "      <td>0</td>\n",
       "      <td>0</td>\n",
       "      <td>0</td>\n",
       "      <td>0</td>\n",
       "      <td>0</td>\n",
       "      <td>0</td>\n",
       "      <td>0</td>\n",
       "      <td>0</td>\n",
       "      <td>0</td>\n",
       "    </tr>\n",
       "    <tr>\n",
       "      <th>DDoS_HTTP</th>\n",
       "      <td>0</td>\n",
       "      <td>9171</td>\n",
       "      <td>0</td>\n",
       "      <td>0</td>\n",
       "      <td>0</td>\n",
       "      <td>0</td>\n",
       "      <td>0</td>\n",
       "      <td>0</td>\n",
       "      <td>0</td>\n",
       "      <td>0</td>\n",
       "      <td>0</td>\n",
       "      <td>0</td>\n",
       "      <td>0</td>\n",
       "      <td>5</td>\n",
       "      <td>452</td>\n",
       "    </tr>\n",
       "    <tr>\n",
       "      <th>DDoS_ICMP</th>\n",
       "      <td>0</td>\n",
       "      <td>0</td>\n",
       "      <td>13463</td>\n",
       "      <td>0</td>\n",
       "      <td>5</td>\n",
       "      <td>33</td>\n",
       "      <td>0</td>\n",
       "      <td>0</td>\n",
       "      <td>0</td>\n",
       "      <td>0</td>\n",
       "      <td>0</td>\n",
       "      <td>0</td>\n",
       "      <td>0</td>\n",
       "      <td>0</td>\n",
       "      <td>0</td>\n",
       "    </tr>\n",
       "    <tr>\n",
       "      <th>DDoS_TCP</th>\n",
       "      <td>0</td>\n",
       "      <td>0</td>\n",
       "      <td>0</td>\n",
       "      <td>10009</td>\n",
       "      <td>0</td>\n",
       "      <td>0</td>\n",
       "      <td>0</td>\n",
       "      <td>0</td>\n",
       "      <td>0</td>\n",
       "      <td>0</td>\n",
       "      <td>0</td>\n",
       "      <td>0</td>\n",
       "      <td>0</td>\n",
       "      <td>0</td>\n",
       "      <td>0</td>\n",
       "    </tr>\n",
       "    <tr>\n",
       "      <th>DDoS_UDP</th>\n",
       "      <td>0</td>\n",
       "      <td>0</td>\n",
       "      <td>0</td>\n",
       "      <td>0</td>\n",
       "      <td>24601</td>\n",
       "      <td>0</td>\n",
       "      <td>0</td>\n",
       "      <td>0</td>\n",
       "      <td>0</td>\n",
       "      <td>0</td>\n",
       "      <td>0</td>\n",
       "      <td>0</td>\n",
       "      <td>0</td>\n",
       "      <td>0</td>\n",
       "      <td>0</td>\n",
       "    </tr>\n",
       "    <tr>\n",
       "      <th>Fingerprinting</th>\n",
       "      <td>24</td>\n",
       "      <td>0</td>\n",
       "      <td>25</td>\n",
       "      <td>23</td>\n",
       "      <td>5</td>\n",
       "      <td>68</td>\n",
       "      <td>0</td>\n",
       "      <td>0</td>\n",
       "      <td>0</td>\n",
       "      <td>0</td>\n",
       "      <td>0</td>\n",
       "      <td>0</td>\n",
       "      <td>0</td>\n",
       "      <td>0</td>\n",
       "      <td>1</td>\n",
       "    </tr>\n",
       "    <tr>\n",
       "      <th>MITM</th>\n",
       "      <td>0</td>\n",
       "      <td>0</td>\n",
       "      <td>0</td>\n",
       "      <td>0</td>\n",
       "      <td>0</td>\n",
       "      <td>0</td>\n",
       "      <td>76</td>\n",
       "      <td>0</td>\n",
       "      <td>0</td>\n",
       "      <td>0</td>\n",
       "      <td>0</td>\n",
       "      <td>0</td>\n",
       "      <td>0</td>\n",
       "      <td>0</td>\n",
       "      <td>0</td>\n",
       "    </tr>\n",
       "    <tr>\n",
       "      <th>Normal</th>\n",
       "      <td>0</td>\n",
       "      <td>2</td>\n",
       "      <td>0</td>\n",
       "      <td>3</td>\n",
       "      <td>0</td>\n",
       "      <td>0</td>\n",
       "      <td>0</td>\n",
       "      <td>272766</td>\n",
       "      <td>0</td>\n",
       "      <td>0</td>\n",
       "      <td>0</td>\n",
       "      <td>0</td>\n",
       "      <td>0</td>\n",
       "      <td>4</td>\n",
       "      <td>1</td>\n",
       "    </tr>\n",
       "    <tr>\n",
       "      <th>Password</th>\n",
       "      <td>0</td>\n",
       "      <td>0</td>\n",
       "      <td>0</td>\n",
       "      <td>0</td>\n",
       "      <td>0</td>\n",
       "      <td>0</td>\n",
       "      <td>0</td>\n",
       "      <td>0</td>\n",
       "      <td>1768</td>\n",
       "      <td>0</td>\n",
       "      <td>0</td>\n",
       "      <td>7446</td>\n",
       "      <td>894</td>\n",
       "      <td>0</td>\n",
       "      <td>0</td>\n",
       "    </tr>\n",
       "    <tr>\n",
       "      <th>Port_Scanning</th>\n",
       "      <td>5</td>\n",
       "      <td>0</td>\n",
       "      <td>0</td>\n",
       "      <td>2027</td>\n",
       "      <td>0</td>\n",
       "      <td>0</td>\n",
       "      <td>0</td>\n",
       "      <td>0</td>\n",
       "      <td>0</td>\n",
       "      <td>2030</td>\n",
       "      <td>0</td>\n",
       "      <td>0</td>\n",
       "      <td>0</td>\n",
       "      <td>0</td>\n",
       "      <td>0</td>\n",
       "    </tr>\n",
       "    <tr>\n",
       "      <th>Ransomware</th>\n",
       "      <td>168</td>\n",
       "      <td>0</td>\n",
       "      <td>0</td>\n",
       "      <td>46</td>\n",
       "      <td>0</td>\n",
       "      <td>0</td>\n",
       "      <td>0</td>\n",
       "      <td>0</td>\n",
       "      <td>0</td>\n",
       "      <td>0</td>\n",
       "      <td>1711</td>\n",
       "      <td>0</td>\n",
       "      <td>0</td>\n",
       "      <td>0</td>\n",
       "      <td>1</td>\n",
       "    </tr>\n",
       "    <tr>\n",
       "      <th>SQL_injection</th>\n",
       "      <td>0</td>\n",
       "      <td>0</td>\n",
       "      <td>0</td>\n",
       "      <td>0</td>\n",
       "      <td>0</td>\n",
       "      <td>0</td>\n",
       "      <td>0</td>\n",
       "      <td>0</td>\n",
       "      <td>0</td>\n",
       "      <td>0</td>\n",
       "      <td>0</td>\n",
       "      <td>9255</td>\n",
       "      <td>816</td>\n",
       "      <td>0</td>\n",
       "      <td>0</td>\n",
       "    </tr>\n",
       "    <tr>\n",
       "      <th>Uploading</th>\n",
       "      <td>0</td>\n",
       "      <td>0</td>\n",
       "      <td>0</td>\n",
       "      <td>0</td>\n",
       "      <td>0</td>\n",
       "      <td>0</td>\n",
       "      <td>0</td>\n",
       "      <td>0</td>\n",
       "      <td>136</td>\n",
       "      <td>0</td>\n",
       "      <td>0</td>\n",
       "      <td>3622</td>\n",
       "      <td>3515</td>\n",
       "      <td>0</td>\n",
       "      <td>0</td>\n",
       "    </tr>\n",
       "    <tr>\n",
       "      <th>Vulnerability_scanner</th>\n",
       "      <td>0</td>\n",
       "      <td>1288</td>\n",
       "      <td>0</td>\n",
       "      <td>0</td>\n",
       "      <td>0</td>\n",
       "      <td>0</td>\n",
       "      <td>0</td>\n",
       "      <td>0</td>\n",
       "      <td>1</td>\n",
       "      <td>0</td>\n",
       "      <td>0</td>\n",
       "      <td>0</td>\n",
       "      <td>0</td>\n",
       "      <td>8392</td>\n",
       "      <td>259</td>\n",
       "    </tr>\n",
       "    <tr>\n",
       "      <th>XSS</th>\n",
       "      <td>0</td>\n",
       "      <td>1942</td>\n",
       "      <td>0</td>\n",
       "      <td>0</td>\n",
       "      <td>0</td>\n",
       "      <td>0</td>\n",
       "      <td>0</td>\n",
       "      <td>0</td>\n",
       "      <td>0</td>\n",
       "      <td>0</td>\n",
       "      <td>0</td>\n",
       "      <td>0</td>\n",
       "      <td>0</td>\n",
       "      <td>4</td>\n",
       "      <td>1089</td>\n",
       "    </tr>\n",
       "  </tbody>\n",
       "</table>\n",
       "</div>"
      ],
      "text/plain": [
       "Predicted              Backdoor  DDoS_HTTP  DDoS_ICMP  DDoS_TCP  DDoS_UDP  \\\n",
       "Actual                                                                      \n",
       "Backdoor                   4700          0          0        81         1   \n",
       "DDoS_HTTP                     0       9171          0         0         0   \n",
       "DDoS_ICMP                     0          0      13463         0         5   \n",
       "DDoS_TCP                      0          0          0     10009         0   \n",
       "DDoS_UDP                      0          0          0         0     24601   \n",
       "Fingerprinting               24          0         25        23         5   \n",
       "MITM                          0          0          0         0         0   \n",
       "Normal                        0          2          0         3         0   \n",
       "Password                      0          0          0         0         0   \n",
       "Port_Scanning                 5          0          0      2027         0   \n",
       "Ransomware                  168          0          0        46         0   \n",
       "SQL_injection                 0          0          0         0         0   \n",
       "Uploading                     0          0          0         0         0   \n",
       "Vulnerability_scanner         0       1288          0         0         0   \n",
       "XSS                           0       1942          0         0         0   \n",
       "\n",
       "Predicted              Fingerprinting  MITM  Normal  Password  Port_Scanning  \\\n",
       "Actual                                                                         \n",
       "Backdoor                            0     0       0         0              0   \n",
       "DDoS_HTTP                           0     0       0         0              0   \n",
       "DDoS_ICMP                          33     0       0         0              0   \n",
       "DDoS_TCP                            0     0       0         0              0   \n",
       "DDoS_UDP                            0     0       0         0              0   \n",
       "Fingerprinting                     68     0       0         0              0   \n",
       "MITM                                0    76       0         0              0   \n",
       "Normal                              0     0  272766         0              0   \n",
       "Password                            0     0       0      1768              0   \n",
       "Port_Scanning                       0     0       0         0           2030   \n",
       "Ransomware                          0     0       0         0              0   \n",
       "SQL_injection                       0     0       0         0              0   \n",
       "Uploading                           0     0       0       136              0   \n",
       "Vulnerability_scanner               0     0       0         1              0   \n",
       "XSS                                 0     0       0         0              0   \n",
       "\n",
       "Predicted              Ransomware  SQL_injection  Uploading  \\\n",
       "Actual                                                        \n",
       "Backdoor                        0              0          0   \n",
       "DDoS_HTTP                       0              0          0   \n",
       "DDoS_ICMP                       0              0          0   \n",
       "DDoS_TCP                        0              0          0   \n",
       "DDoS_UDP                        0              0          0   \n",
       "Fingerprinting                  0              0          0   \n",
       "MITM                            0              0          0   \n",
       "Normal                          0              0          0   \n",
       "Password                        0           7446        894   \n",
       "Port_Scanning                   0              0          0   \n",
       "Ransomware                   1711              0          0   \n",
       "SQL_injection                   0           9255        816   \n",
       "Uploading                       0           3622       3515   \n",
       "Vulnerability_scanner           0              0          0   \n",
       "XSS                             0              0          0   \n",
       "\n",
       "Predicted              Vulnerability_scanner   XSS  \n",
       "Actual                                              \n",
       "Backdoor                                   0     0  \n",
       "DDoS_HTTP                                  5   452  \n",
       "DDoS_ICMP                                  0     0  \n",
       "DDoS_TCP                                   0     0  \n",
       "DDoS_UDP                                   0     0  \n",
       "Fingerprinting                             0     1  \n",
       "MITM                                       0     0  \n",
       "Normal                                     4     1  \n",
       "Password                                   0     0  \n",
       "Port_Scanning                              0     0  \n",
       "Ransomware                                 0     1  \n",
       "SQL_injection                              0     0  \n",
       "Uploading                                  0     0  \n",
       "Vulnerability_scanner                   8392   259  \n",
       "XSS                                        4  1089  "
      ]
     },
     "execution_count": 60,
     "metadata": {},
     "output_type": "execute_result"
    }
   ],
   "source": [
    "conf_mat = metrics.confusion_matrix(tf.argmax(y_test, axis=1), predictions)\n",
    "\n",
    "attack_labels = ['Backdoor', 'DDoS_HTTP', 'DDoS_ICMP', 'DDoS_TCP', 'DDoS_UDP', \n",
    "'Fingerprinting', 'MITM', 'Normal', 'Password', 'Port_Scanning', 'Ransomware', \n",
    "'SQL_injection', 'Uploading', 'Vulnerability_scanner', 'XSS']\n",
    "\n",
    "# Create a dataframe from the confusion matrix\n",
    "conf_mat_df = pd.DataFrame(conf_mat, \n",
    "                            index = attack_labels, \n",
    "                            columns = attack_labels)\n",
    "conf_mat_df.index.name = 'Actual'\n",
    "conf_mat_df.columns.name = 'Predicted'\n",
    "\n",
    "\n",
    "# Save the confusion matrix\n",
    "conf_mat_df.to_csv(f\"../results/conf_matrix/{results['model']}_{results['augmentations']}.csv\")\n",
    "conf_mat_df"
   ]
  }
 ],
 "metadata": {
  "kernelspec": {
   "display_name": "data_augment",
   "language": "python",
   "name": "python3"
  },
  "language_info": {
   "codemirror_mode": {
    "name": "ipython",
    "version": 3
   },
   "file_extension": ".py",
   "mimetype": "text/x-python",
   "name": "python",
   "nbconvert_exporter": "python",
   "pygments_lexer": "ipython3",
   "version": "3.11.4"
  }
 },
 "nbformat": 4,
 "nbformat_minor": 2
}
