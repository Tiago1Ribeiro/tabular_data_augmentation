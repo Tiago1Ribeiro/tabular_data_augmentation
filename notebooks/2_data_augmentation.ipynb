{
 "cells": [
  {
   "cell_type": "markdown",
   "metadata": {},
   "source": [
    "# Libraries"
   ]
  },
  {
   "cell_type": "code",
   "execution_count": null,
   "metadata": {},
   "outputs": [
    {
     "ename": "",
     "evalue": "",
     "output_type": "error",
     "traceback": [
      "\u001b[1;31mRunning cells with 'data_augment' requires the ipykernel package.\n",
      "\u001b[1;31mRun the following command to install 'ipykernel' into the Python environment. \n",
      "\u001b[1;31mCommand: 'c:/ambientes_virtuais_py/data_augment/data_augment/Scripts/python.exe -m pip install ipykernel -U --force-reinstall'"
     ]
    }
   ],
   "source": [
    "# generic imports\n",
    "import pandas as pd\n",
    "import numpy as np\n",
    "import datetime\n",
    "\n",
    "# data augmentation imports\n",
    "from be_great import GReaT # https://github.com/kathrinse/be_great"
   ]
  },
  {
   "cell_type": "markdown",
   "metadata": {},
   "source": [
    "## Load the Dataset"
   ]
  },
  {
   "cell_type": "code",
   "execution_count": 3,
   "metadata": {},
   "outputs": [
    {
     "name": "stderr",
     "output_type": "stream",
     "text": [
      "/tmp/ipykernel_907213/1440379499.py:2: DtypeWarning: Columns (2,3,6,11,13,14,15,16,17,31,32,34,39,45,51,54,55) have mixed types. Specify dtype option on import or set low_memory=False.\n",
      "  df = pd.read_csv('../data/DNN-EdgeIIoT-dataset.csv')\n"
     ]
    }
   ],
   "source": [
    "# Import DNN-EdgeIIoT-dataset.csv file from Kaggle (https://www.kaggle.com/datasets/mohamedamineferrag/edgeiiotset-cyber-security-dataset-of-iot-iiot)\n",
    "df = pd.read_csv('../data/DNN-EdgeIIoT-dataset.csv')"
   ]
  },
  {
   "cell_type": "markdown",
   "metadata": {},
   "source": [
    "#### AQUI DEVEM ESTAR AS TRANSFORMAÇÔES QUE O DATASET SOFREU ATÉ EdgeIIot_train_100k.csv"
   ]
  },
  {
   "cell_type": "code",
   "execution_count": 5,
   "metadata": {},
   "outputs": [],
   "source": [
    "# Load data relative to the training set, with Attack_type \"Normal\" with 100k rows (SHORCUT)\n",
    "df_train = pd.read_csv(\"../data/EdgeIIot_train_100k.csv\", low_memory=False)"
   ]
  },
  {
   "cell_type": "code",
   "execution_count": 6,
   "metadata": {},
   "outputs": [
    {
     "data": {
      "text/html": [
       "<div>\n",
       "<style scoped>\n",
       "    .dataframe tbody tr th:only-of-type {\n",
       "        vertical-align: middle;\n",
       "    }\n",
       "\n",
       "    .dataframe tbody tr th {\n",
       "        vertical-align: top;\n",
       "    }\n",
       "\n",
       "    .dataframe thead th {\n",
       "        text-align: right;\n",
       "    }\n",
       "</style>\n",
       "<table border=\"1\" class=\"dataframe\">\n",
       "  <thead>\n",
       "    <tr style=\"text-align: right;\">\n",
       "      <th></th>\n",
       "      <th>arp.opcode</th>\n",
       "      <th>arp.hw.size</th>\n",
       "      <th>icmp.checksum</th>\n",
       "      <th>icmp.seq_le</th>\n",
       "      <th>icmp.unused</th>\n",
       "      <th>http.content_length</th>\n",
       "      <th>http.request.method</th>\n",
       "      <th>http.referer</th>\n",
       "      <th>http.request.version</th>\n",
       "      <th>http.response</th>\n",
       "      <th>...</th>\n",
       "      <th>mqtt.proto_len</th>\n",
       "      <th>mqtt.protoname</th>\n",
       "      <th>mqtt.topic</th>\n",
       "      <th>mqtt.topic_len</th>\n",
       "      <th>mqtt.ver</th>\n",
       "      <th>mbtcp.len</th>\n",
       "      <th>mbtcp.trans_id</th>\n",
       "      <th>mbtcp.unit_id</th>\n",
       "      <th>Attack_label</th>\n",
       "      <th>Attack_type</th>\n",
       "    </tr>\n",
       "  </thead>\n",
       "  <tbody>\n",
       "    <tr>\n",
       "      <th>0</th>\n",
       "      <td>0.0</td>\n",
       "      <td>0.0</td>\n",
       "      <td>0.0</td>\n",
       "      <td>0.0</td>\n",
       "      <td>0.0</td>\n",
       "      <td>0.0</td>\n",
       "      <td>0.0</td>\n",
       "      <td>0.0</td>\n",
       "      <td>0.0</td>\n",
       "      <td>0.0</td>\n",
       "      <td>...</td>\n",
       "      <td>0.0</td>\n",
       "      <td>0.0</td>\n",
       "      <td>0.0</td>\n",
       "      <td>0.0</td>\n",
       "      <td>0.0</td>\n",
       "      <td>0.0</td>\n",
       "      <td>0.0</td>\n",
       "      <td>0.0</td>\n",
       "      <td>1</td>\n",
       "      <td>DDoS_UDP</td>\n",
       "    </tr>\n",
       "    <tr>\n",
       "      <th>1</th>\n",
       "      <td>0.0</td>\n",
       "      <td>0.0</td>\n",
       "      <td>0.0</td>\n",
       "      <td>0.0</td>\n",
       "      <td>0.0</td>\n",
       "      <td>0.0</td>\n",
       "      <td>0</td>\n",
       "      <td>0.0</td>\n",
       "      <td>0</td>\n",
       "      <td>0.0</td>\n",
       "      <td>...</td>\n",
       "      <td>0.0</td>\n",
       "      <td>0.0</td>\n",
       "      <td>0.0</td>\n",
       "      <td>0.0</td>\n",
       "      <td>0.0</td>\n",
       "      <td>0.0</td>\n",
       "      <td>0.0</td>\n",
       "      <td>0.0</td>\n",
       "      <td>1</td>\n",
       "      <td>Password</td>\n",
       "    </tr>\n",
       "    <tr>\n",
       "      <th>2</th>\n",
       "      <td>0.0</td>\n",
       "      <td>0.0</td>\n",
       "      <td>0.0</td>\n",
       "      <td>0.0</td>\n",
       "      <td>0.0</td>\n",
       "      <td>0.0</td>\n",
       "      <td>0.0</td>\n",
       "      <td>0.0</td>\n",
       "      <td>0.0</td>\n",
       "      <td>0.0</td>\n",
       "      <td>...</td>\n",
       "      <td>0.0</td>\n",
       "      <td>0.0</td>\n",
       "      <td>0.0</td>\n",
       "      <td>0.0</td>\n",
       "      <td>0.0</td>\n",
       "      <td>0.0</td>\n",
       "      <td>0.0</td>\n",
       "      <td>0.0</td>\n",
       "      <td>1</td>\n",
       "      <td>DDoS_UDP</td>\n",
       "    </tr>\n",
       "    <tr>\n",
       "      <th>3</th>\n",
       "      <td>0.0</td>\n",
       "      <td>0.0</td>\n",
       "      <td>0.0</td>\n",
       "      <td>0.0</td>\n",
       "      <td>0.0</td>\n",
       "      <td>0.0</td>\n",
       "      <td>0.0</td>\n",
       "      <td>0.0</td>\n",
       "      <td>0.0</td>\n",
       "      <td>0.0</td>\n",
       "      <td>...</td>\n",
       "      <td>0.0</td>\n",
       "      <td>0.0</td>\n",
       "      <td>0.0</td>\n",
       "      <td>0.0</td>\n",
       "      <td>0.0</td>\n",
       "      <td>0.0</td>\n",
       "      <td>0.0</td>\n",
       "      <td>0.0</td>\n",
       "      <td>1</td>\n",
       "      <td>DDoS_UDP</td>\n",
       "    </tr>\n",
       "    <tr>\n",
       "      <th>4</th>\n",
       "      <td>0.0</td>\n",
       "      <td>0.0</td>\n",
       "      <td>0.0</td>\n",
       "      <td>0.0</td>\n",
       "      <td>0.0</td>\n",
       "      <td>0.0</td>\n",
       "      <td>0</td>\n",
       "      <td>0.0</td>\n",
       "      <td>0</td>\n",
       "      <td>0.0</td>\n",
       "      <td>...</td>\n",
       "      <td>0.0</td>\n",
       "      <td>0.0</td>\n",
       "      <td>0.0</td>\n",
       "      <td>0.0</td>\n",
       "      <td>0.0</td>\n",
       "      <td>0.0</td>\n",
       "      <td>0.0</td>\n",
       "      <td>0.0</td>\n",
       "      <td>1</td>\n",
       "      <td>Password</td>\n",
       "    </tr>\n",
       "  </tbody>\n",
       "</table>\n",
       "<p>5 rows × 48 columns</p>\n",
       "</div>"
      ],
      "text/plain": [
       "   arp.opcode  arp.hw.size  icmp.checksum  icmp.seq_le  icmp.unused  \\\n",
       "0         0.0          0.0            0.0          0.0          0.0   \n",
       "1         0.0          0.0            0.0          0.0          0.0   \n",
       "2         0.0          0.0            0.0          0.0          0.0   \n",
       "3         0.0          0.0            0.0          0.0          0.0   \n",
       "4         0.0          0.0            0.0          0.0          0.0   \n",
       "\n",
       "   http.content_length http.request.method http.referer http.request.version  \\\n",
       "0                  0.0                 0.0          0.0                  0.0   \n",
       "1                  0.0                   0          0.0                    0   \n",
       "2                  0.0                 0.0          0.0                  0.0   \n",
       "3                  0.0                 0.0          0.0                  0.0   \n",
       "4                  0.0                   0          0.0                    0   \n",
       "\n",
       "   http.response  ...  mqtt.proto_len  mqtt.protoname  mqtt.topic  \\\n",
       "0            0.0  ...             0.0             0.0         0.0   \n",
       "1            0.0  ...             0.0             0.0         0.0   \n",
       "2            0.0  ...             0.0             0.0         0.0   \n",
       "3            0.0  ...             0.0             0.0         0.0   \n",
       "4            0.0  ...             0.0             0.0         0.0   \n",
       "\n",
       "   mqtt.topic_len  mqtt.ver  mbtcp.len  mbtcp.trans_id  mbtcp.unit_id  \\\n",
       "0             0.0       0.0        0.0             0.0            0.0   \n",
       "1             0.0       0.0        0.0             0.0            0.0   \n",
       "2             0.0       0.0        0.0             0.0            0.0   \n",
       "3             0.0       0.0        0.0             0.0            0.0   \n",
       "4             0.0       0.0        0.0             0.0            0.0   \n",
       "\n",
       "   Attack_label  Attack_type  \n",
       "0             1     DDoS_UDP  \n",
       "1             1     Password  \n",
       "2             1     DDoS_UDP  \n",
       "3             1     DDoS_UDP  \n",
       "4             1     Password  \n",
       "\n",
       "[5 rows x 48 columns]"
      ]
     },
     "execution_count": 6,
     "metadata": {},
     "output_type": "execute_result"
    }
   ],
   "source": [
    "df_train.head()"
   ]
  },
  {
   "cell_type": "markdown",
   "metadata": {},
   "source": [
    "# Data Augmentation GReaT"
   ]
  },
  {
   "cell_type": "markdown",
   "metadata": {},
   "source": [
    "## Model Training"
   ]
  },
  {
   "cell_type": "code",
   "execution_count": 8,
   "metadata": {},
   "outputs": [],
   "source": [
    "# instantiate the GReaT model with the distilgpt2 language model\n",
    "model = GReaT(llm='distilgpt2', \n",
    "              batch_size=32, \n",
    "              epochs=25)\n",
    "\n",
    "great = GReaT(llm=\"distilgpt2\",              # Name of the large language model used (see HuggingFace for more options)\n",
    "              epochs=10,                     # Number of epochs to train\n",
    "              save_steps=2000,               # Save model weights every x steps\n",
    "              logging_steps=500,             # Log the loss and learning rate every x steps\n",
    "              experiment_dir=\"checkpoints/GReat\", # Name of the directory where all intermediate steps are saved\n",
    "              batch_size=16,                 # Batch Size\n",
    "              #lr_scheduler_type=\"constant\", # Specify the learning rate scheduler \n",
    "              #learning_rate=5e-5            # Set the inital learning rate\n",
    "             )\n",
    "\n",
    "\n",
    "# fit the model on the training data\n",
    "model.fit(df_train)"
   ]
  },
  {
   "cell_type": "markdown",
   "metadata": {},
   "source": [
    "## Train the Model"
   ]
  },
  {
   "cell_type": "code",
   "execution_count": 186,
   "metadata": {},
   "outputs": [],
   "source": [
    "# instantiate the DecisionTreeClassifier model (using the default parameters)\n",
    "clf = tree.DecisionTreeClassifier()\n",
    "# Train the model on training data\n",
    "dtree = clf.fit(X_train_sm, y_train_sm)"
   ]
  },
  {
   "cell_type": "code",
   "execution_count": null,
   "metadata": {},
   "outputs": [],
   "source": []
  },
  {
   "cell_type": "markdown",
   "metadata": {},
   "source": [
    "## Save the model"
   ]
  },
  {
   "cell_type": "code",
   "execution_count": null,
   "metadata": {},
   "outputs": [],
   "source": [
    "great.save(\"california\")"
   ]
  },
  {
   "cell_type": "markdown",
   "metadata": {},
   "source": [
    "## Generates preditions on the Test data"
   ]
  },
  {
   "cell_type": "code",
   "execution_count": 187,
   "metadata": {},
   "outputs": [],
   "source": [
    "predictions = dtree.predict(X_test)"
   ]
  },
  {
   "cell_type": "markdown",
   "metadata": {},
   "source": [
    "# Evaluate the model"
   ]
  },
  {
   "cell_type": "code",
   "execution_count": 188,
   "metadata": {},
   "outputs": [],
   "source": [
    "# calculate accuracy, precision, recall, f1-score, and kappa score\n",
    "accuracy = metrics.accuracy_score(y_test, predictions)\n",
    "precision = metrics.precision_score(y_test, predictions, average='weighted')\n",
    "recall = metrics.recall_score(y_test, predictions, average='weighted')\n",
    "f1score = metrics.f1_score(y_test, predictions, average='weighted')\n",
    "kappa = metrics.cohen_kappa_score(y_test, predictions)"
   ]
  },
  {
   "cell_type": "code",
   "execution_count": 189,
   "metadata": {},
   "outputs": [
    {
     "name": "stdout",
     "output_type": "stream",
     "text": [
      "Decision Tree with SMOTE Augmentation\n",
      "====================\n",
      "Accuracy:    0.9796\n",
      "Precision:   0.9807\n",
      "Recall:      0.9796\n",
      "F1-score:      0.98\n",
      "Kappa:       0.9575\n",
      "====================\n"
     ]
    }
   ],
   "source": [
    "# print the results in a nice table with metrics. Values are rounded to 4 decimal places and aligned right\n",
    "print(\"Decision Tree with SMOTE Augmentation\") \n",
    "print(\"====================\")\n",
    "print(\"Accuracy:\" + str(round(accuracy, 4)).rjust(10))\n",
    "print(\"Precision:\" + str(round(precision, 4)).rjust(9))\n",
    "print(\"Recall:\" + str(round(recall, 4)).rjust(12))\n",
    "print(\"F1-score:\" + str(round(f1score, 4)).rjust(10))\n",
    "print(\"Kappa:\" + str(round(kappa, 4)).rjust(13))\n",
    "print(\"====================\")"
   ]
  },
  {
   "cell_type": "code",
   "execution_count": 190,
   "metadata": {},
   "outputs": [
    {
     "name": "stdout",
     "output_type": "stream",
     "text": [
      "Predicted    0     1      2      3      4    5   6       7     8     9     10  \\\n",
      "Actual                                                                          \n",
      "0          4527     0      0      0      0   90   0       0     0    61   104   \n",
      "1             0  8390      0      0      0    0   0       0     0     0     0   \n",
      "2             0     0  13474      0      0   27   0       0     0     0     0   \n",
      "3             0     0      0  10009      0    0   0       0     0     0     0   \n",
      "4             0     0      0      0  24601    0   0       0     0     0     0   \n",
      "5             5     0      0      0      0  116   0       0     0    15    10   \n",
      "6             0     0      0      0      0    0  76       0     0     0     0   \n",
      "7             0     0      0      0      0    0   0  272776     0     0     0   \n",
      "8             0     0      0      0      0    0   0       0  8351     0     0   \n",
      "9           103     0      0      0      0  226   0       0     0  3598   135   \n",
      "10           53     0      0      0      0   62   0       0     0    37  1774   \n",
      "11            0     0      0      0      0    0   0       0   948     0     0   \n",
      "12            0     0      0      0      0    0   0       0   734     0     0   \n",
      "13            0   236      0      0      0    0   0       0     0     0     0   \n",
      "14            0   362      0      0      0    0   0       0     0     0     0   \n",
      "\n",
      "Predicted    11    12    13    14  \n",
      "Actual                             \n",
      "0             0     0     0     0  \n",
      "1             0     0   273   965  \n",
      "2             0     0     0     0  \n",
      "3             0     0     0     0  \n",
      "4             0     0     0     0  \n",
      "5             0     0     0     0  \n",
      "6             0     0     0     0  \n",
      "7             0     0     0     0  \n",
      "8           958   799     0     0  \n",
      "9             0     0     0     0  \n",
      "10            0     0     0     0  \n",
      "11         8407   716     0     0  \n",
      "12          669  5870     0     0  \n",
      "13            0     0  9585   119  \n",
      "14            0     0    87  2586  \n"
     ]
    }
   ],
   "source": [
    "# Confusion matrix\n",
    "conf_mat = metrics.confusion_matrix(y_test, predictions)\n",
    "conf_mat = pd.DataFrame(conf_mat)\n",
    "conf_mat.index.name = 'Actual'\n",
    "conf_mat.columns.name = 'Predicted'\n",
    "print(conf_mat)"
   ]
  },
  {
   "cell_type": "markdown",
   "metadata": {},
   "source": [
    "## Save results to file"
   ]
  },
  {
   "cell_type": "code",
   "execution_count": 167,
   "metadata": {},
   "outputs": [],
   "source": [
    "results = {\n",
    "    \"model\": \"Decision Tree\",\n",
    "    \"augmentation\": \"SMOTE\",\n",
    "    \"dataset\": \"EdgeIIoT\",\n",
    "    \"accuracy\": accuracy,\n",
    "    \"precision\": precision,\n",
    "    \"recall\": recall,\n",
    "    \"f1score\": f1score,\n",
    "    \"kappa\": kappa,\n",
    "    \"timestamp\": str(datetime.datetime.now())}\n",
    "\n",
    "# Save results to CSV file to results path in results.csv file\n",
    "save_results_to_csv([results], config['results_path'])\n",
    "\n",
    "# # First we add a line with the modelname, augmentation, dataset, timestamp to conf_mat dataframe on the top line\n",
    "# conf_mat = conf_mat.stack().rename_axis(('Actual', 'Predicted')).reset_index(name='Amount')\n",
    "# conf_mat.insert(0, 'Model', 'Decision Tree')\n",
    "# conf_mat.insert(1, 'Augmentation', 'SMOTE')\n",
    "# conf_mat.insert(2, 'Dataset', 'EdgeIIoT')\n",
    "# conf_mat.insert(3, 'Timestamp', str(datetime.datetime.now()))\n",
    "# # then we append the results to the conf_mat.csv file\n",
    "# conf_mat.to_csv(config['conf_matrix_path'], mode='a', header=False, index=False)"
   ]
  },
  {
   "cell_type": "code",
   "execution_count": 196,
   "metadata": {},
   "outputs": [],
   "source": [
    "# Create a DataFrame for the metadata\n",
    "metadata = pd.DataFrame({\n",
    "    'Model Name': ['Decision Tree'],\n",
    "    'Timestamp': [str(datetime.datetime.now())],\n",
    "    'Augmentation': ['SMOTE']\n",
    "})\n",
    "\n",
    "# Save the metadata and the confusion matrix to a CSV file\n",
    "metadata.to_csv(config['conf_matrix_path'], mode='a', index=False)\n",
    "# take the confusion matrix structure and append it to the csv file\n",
    "conf_mat.to_csv(config['conf_matrix_path'], mode='a', header=True, index=True)"
   ]
  }
 ],
 "metadata": {
  "kernelspec": {
   "display_name": "Python 3 (ipykernel)",
   "language": "python",
   "name": "python3"
  },
  "language_info": {
   "codemirror_mode": {
    "name": "ipython",
    "version": 3
   },
   "file_extension": ".py",
   "mimetype": "text/x-python",
   "name": "python",
   "nbconvert_exporter": "python",
   "pygments_lexer": "ipython3",
   "version": "3.8.0"
  }
 },
 "nbformat": 4,
 "nbformat_minor": 4
}
