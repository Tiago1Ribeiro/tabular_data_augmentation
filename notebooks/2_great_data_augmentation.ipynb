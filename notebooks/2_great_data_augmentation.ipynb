{
 "cells": [
  {
   "cell_type": "markdown",
   "metadata": {},
   "source": [
    "# Libraries"
   ]
  },
  {
   "cell_type": "code",
   "execution_count": 2,
   "metadata": {},
   "outputs": [],
   "source": [
    "# generic imports\n",
    "import pandas as pd\n",
    "import numpy as np\n",
    "import datetime\n",
    "\n",
    "# data augmentation imports\n",
    "from be_great import GReaT # https://github.com/kathrinse/be_great"
   ]
  },
  {
   "cell_type": "markdown",
   "metadata": {},
   "source": [
    "## Load the Dataset"
   ]
  },
  {
   "cell_type": "code",
   "execution_count": 3,
   "metadata": {},
   "outputs": [
    {
     "name": "stderr",
     "output_type": "stream",
     "text": [
      "/tmp/ipykernel_907213/1440379499.py:2: DtypeWarning: Columns (2,3,6,11,13,14,15,16,17,31,32,34,39,45,51,54,55) have mixed types. Specify dtype option on import or set low_memory=False.\n",
      "  df = pd.read_csv('../data/DNN-EdgeIIoT-dataset.csv')\n"
     ]
    }
   ],
   "source": [
    "# Import DNN-EdgeIIoT-dataset.csv file from Kaggle (https://www.kaggle.com/datasets/mohamedamineferrag/edgeiiotset-cyber-security-dataset-of-iot-iiot)\n",
    "df = pd.read_csv('../data/DNN-EdgeIIoT-dataset.csv')"
   ]
  },
  {
   "cell_type": "markdown",
   "metadata": {},
   "source": [
    "#### AQUI DEVEM ESTAR AS TRANSFORMAÇÔES QUE O DATASET SOFREU ATÉ EdgeIIot_train_100k.csv"
   ]
  },
  {
   "cell_type": "code",
   "execution_count": null,
   "metadata": {},
   "outputs": [],
   "source": [
    "# mbtcp.unit_id e mbtcp.trans_id devem ser removidos pois são identificadores"
   ]
  },
  {
   "cell_type": "code",
   "execution_count": 5,
   "metadata": {},
   "outputs": [],
   "source": [
    "# Load data relative to the training set, with Attack_type \"Normal\" with 100k rows (SHORCUT)\n",
    "df_train = pd.read_csv(\"../data/EdgeIIot_train_100k.csv\", low_memory=False)"
   ]
  },
  {
   "cell_type": "code",
   "execution_count": 6,
   "metadata": {},
   "outputs": [
    {
     "data": {
      "text/html": [
       "<div>\n",
       "<style scoped>\n",
       "    .dataframe tbody tr th:only-of-type {\n",
       "        vertical-align: middle;\n",
       "    }\n",
       "\n",
       "    .dataframe tbody tr th {\n",
       "        vertical-align: top;\n",
       "    }\n",
       "\n",
       "    .dataframe thead th {\n",
       "        text-align: right;\n",
       "    }\n",
       "</style>\n",
       "<table border=\"1\" class=\"dataframe\">\n",
       "  <thead>\n",
       "    <tr style=\"text-align: right;\">\n",
       "      <th></th>\n",
       "      <th>arp.opcode</th>\n",
       "      <th>arp.hw.size</th>\n",
       "      <th>icmp.checksum</th>\n",
       "      <th>icmp.seq_le</th>\n",
       "      <th>icmp.unused</th>\n",
       "      <th>http.content_length</th>\n",
       "      <th>http.request.method</th>\n",
       "      <th>http.referer</th>\n",
       "      <th>http.request.version</th>\n",
       "      <th>http.response</th>\n",
       "      <th>...</th>\n",
       "      <th>mqtt.proto_len</th>\n",
       "      <th>mqtt.protoname</th>\n",
       "      <th>mqtt.topic</th>\n",
       "      <th>mqtt.topic_len</th>\n",
       "      <th>mqtt.ver</th>\n",
       "      <th>mbtcp.len</th>\n",
       "      <th>mbtcp.trans_id</th>\n",
       "      <th>mbtcp.unit_id</th>\n",
       "      <th>Attack_label</th>\n",
       "      <th>Attack_type</th>\n",
       "    </tr>\n",
       "  </thead>\n",
       "  <tbody>\n",
       "    <tr>\n",
       "      <th>0</th>\n",
       "      <td>0.0</td>\n",
       "      <td>0.0</td>\n",
       "      <td>0.0</td>\n",
       "      <td>0.0</td>\n",
       "      <td>0.0</td>\n",
       "      <td>0.0</td>\n",
       "      <td>0.0</td>\n",
       "      <td>0.0</td>\n",
       "      <td>0.0</td>\n",
       "      <td>0.0</td>\n",
       "      <td>...</td>\n",
       "      <td>0.0</td>\n",
       "      <td>0.0</td>\n",
       "      <td>0.0</td>\n",
       "      <td>0.0</td>\n",
       "      <td>0.0</td>\n",
       "      <td>0.0</td>\n",
       "      <td>0.0</td>\n",
       "      <td>0.0</td>\n",
       "      <td>1</td>\n",
       "      <td>DDoS_UDP</td>\n",
       "    </tr>\n",
       "    <tr>\n",
       "      <th>1</th>\n",
       "      <td>0.0</td>\n",
       "      <td>0.0</td>\n",
       "      <td>0.0</td>\n",
       "      <td>0.0</td>\n",
       "      <td>0.0</td>\n",
       "      <td>0.0</td>\n",
       "      <td>0</td>\n",
       "      <td>0.0</td>\n",
       "      <td>0</td>\n",
       "      <td>0.0</td>\n",
       "      <td>...</td>\n",
       "      <td>0.0</td>\n",
       "      <td>0.0</td>\n",
       "      <td>0.0</td>\n",
       "      <td>0.0</td>\n",
       "      <td>0.0</td>\n",
       "      <td>0.0</td>\n",
       "      <td>0.0</td>\n",
       "      <td>0.0</td>\n",
       "      <td>1</td>\n",
       "      <td>Password</td>\n",
       "    </tr>\n",
       "    <tr>\n",
       "      <th>2</th>\n",
       "      <td>0.0</td>\n",
       "      <td>0.0</td>\n",
       "      <td>0.0</td>\n",
       "      <td>0.0</td>\n",
       "      <td>0.0</td>\n",
       "      <td>0.0</td>\n",
       "      <td>0.0</td>\n",
       "      <td>0.0</td>\n",
       "      <td>0.0</td>\n",
       "      <td>0.0</td>\n",
       "      <td>...</td>\n",
       "      <td>0.0</td>\n",
       "      <td>0.0</td>\n",
       "      <td>0.0</td>\n",
       "      <td>0.0</td>\n",
       "      <td>0.0</td>\n",
       "      <td>0.0</td>\n",
       "      <td>0.0</td>\n",
       "      <td>0.0</td>\n",
       "      <td>1</td>\n",
       "      <td>DDoS_UDP</td>\n",
       "    </tr>\n",
       "    <tr>\n",
       "      <th>3</th>\n",
       "      <td>0.0</td>\n",
       "      <td>0.0</td>\n",
       "      <td>0.0</td>\n",
       "      <td>0.0</td>\n",
       "      <td>0.0</td>\n",
       "      <td>0.0</td>\n",
       "      <td>0.0</td>\n",
       "      <td>0.0</td>\n",
       "      <td>0.0</td>\n",
       "      <td>0.0</td>\n",
       "      <td>...</td>\n",
       "      <td>0.0</td>\n",
       "      <td>0.0</td>\n",
       "      <td>0.0</td>\n",
       "      <td>0.0</td>\n",
       "      <td>0.0</td>\n",
       "      <td>0.0</td>\n",
       "      <td>0.0</td>\n",
       "      <td>0.0</td>\n",
       "      <td>1</td>\n",
       "      <td>DDoS_UDP</td>\n",
       "    </tr>\n",
       "    <tr>\n",
       "      <th>4</th>\n",
       "      <td>0.0</td>\n",
       "      <td>0.0</td>\n",
       "      <td>0.0</td>\n",
       "      <td>0.0</td>\n",
       "      <td>0.0</td>\n",
       "      <td>0.0</td>\n",
       "      <td>0</td>\n",
       "      <td>0.0</td>\n",
       "      <td>0</td>\n",
       "      <td>0.0</td>\n",
       "      <td>...</td>\n",
       "      <td>0.0</td>\n",
       "      <td>0.0</td>\n",
       "      <td>0.0</td>\n",
       "      <td>0.0</td>\n",
       "      <td>0.0</td>\n",
       "      <td>0.0</td>\n",
       "      <td>0.0</td>\n",
       "      <td>0.0</td>\n",
       "      <td>1</td>\n",
       "      <td>Password</td>\n",
       "    </tr>\n",
       "  </tbody>\n",
       "</table>\n",
       "<p>5 rows × 48 columns</p>\n",
       "</div>"
      ],
      "text/plain": [
       "   arp.opcode  arp.hw.size  icmp.checksum  icmp.seq_le  icmp.unused  \\\n",
       "0         0.0          0.0            0.0          0.0          0.0   \n",
       "1         0.0          0.0            0.0          0.0          0.0   \n",
       "2         0.0          0.0            0.0          0.0          0.0   \n",
       "3         0.0          0.0            0.0          0.0          0.0   \n",
       "4         0.0          0.0            0.0          0.0          0.0   \n",
       "\n",
       "   http.content_length http.request.method http.referer http.request.version  \\\n",
       "0                  0.0                 0.0          0.0                  0.0   \n",
       "1                  0.0                   0          0.0                    0   \n",
       "2                  0.0                 0.0          0.0                  0.0   \n",
       "3                  0.0                 0.0          0.0                  0.0   \n",
       "4                  0.0                   0          0.0                    0   \n",
       "\n",
       "   http.response  ...  mqtt.proto_len  mqtt.protoname  mqtt.topic  \\\n",
       "0            0.0  ...             0.0             0.0         0.0   \n",
       "1            0.0  ...             0.0             0.0         0.0   \n",
       "2            0.0  ...             0.0             0.0         0.0   \n",
       "3            0.0  ...             0.0             0.0         0.0   \n",
       "4            0.0  ...             0.0             0.0         0.0   \n",
       "\n",
       "   mqtt.topic_len  mqtt.ver  mbtcp.len  mbtcp.trans_id  mbtcp.unit_id  \\\n",
       "0             0.0       0.0        0.0             0.0            0.0   \n",
       "1             0.0       0.0        0.0             0.0            0.0   \n",
       "2             0.0       0.0        0.0             0.0            0.0   \n",
       "3             0.0       0.0        0.0             0.0            0.0   \n",
       "4             0.0       0.0        0.0             0.0            0.0   \n",
       "\n",
       "   Attack_label  Attack_type  \n",
       "0             1     DDoS_UDP  \n",
       "1             1     Password  \n",
       "2             1     DDoS_UDP  \n",
       "3             1     DDoS_UDP  \n",
       "4             1     Password  \n",
       "\n",
       "[5 rows x 48 columns]"
      ]
     },
     "execution_count": 6,
     "metadata": {},
     "output_type": "execute_result"
    }
   ],
   "source": [
    "df_train.head()"
   ]
  },
  {
   "cell_type": "code",
   "execution_count": 9,
   "metadata": {},
   "outputs": [
    {
     "data": {
      "text/plain": [
       "Index(['arp.opcode', 'arp.hw.size', 'icmp.checksum', 'icmp.seq_le',\n",
       "       'icmp.unused', 'http.content_length', 'http.request.method',\n",
       "       'http.referer', 'http.request.version', 'http.response',\n",
       "       'http.tls_port', 'tcp.ack', 'tcp.ack_raw', 'tcp.checksum',\n",
       "       'tcp.connection.fin', 'tcp.connection.rst', 'tcp.connection.syn',\n",
       "       'tcp.connection.synack', 'tcp.flags', 'tcp.flags.ack', 'tcp.len',\n",
       "       'tcp.seq', 'udp.stream', 'udp.time_delta', 'dns.qry.name',\n",
       "       'dns.qry.name.len', 'dns.qry.qu', 'dns.qry.type', 'dns.retransmission',\n",
       "       'dns.retransmit_request', 'dns.retransmit_request_in',\n",
       "       'mqtt.conack.flags', 'mqtt.conflag.cleansess', 'mqtt.conflags',\n",
       "       'mqtt.hdrflags', 'mqtt.len', 'mqtt.msg_decoded_as', 'mqtt.msgtype',\n",
       "       'mqtt.proto_len', 'mqtt.protoname', 'mqtt.topic', 'mqtt.topic_len',\n",
       "       'mqtt.ver', 'mbtcp.len', 'mbtcp.trans_id', 'mbtcp.unit_id',\n",
       "       'Attack_label', 'Attack_type'],\n",
       "      dtype='object')"
      ]
     },
     "execution_count": 9,
     "metadata": {},
     "output_type": "execute_result"
    }
   ],
   "source": [
    "# list all columns\n",
    "df_train.columns"
   ]
  },
  {
   "cell_type": "markdown",
   "metadata": {},
   "source": [
    "## Data Augmentation Model Training"
   ]
  },
  {
   "cell_type": "code",
   "execution_count": 8,
   "metadata": {},
   "outputs": [],
   "source": [
    "# instantiate the GReaT model with the distilgpt2 language model\n",
    "model = GReaT(llm=\"distilgpt2\",              # Name of the large language model used (see HuggingFace for more options)\n",
    "              epochs=10,                     # Number of epochs to train\n",
    "              save_steps=2000,               # Save model weights every x steps\n",
    "              logging_steps=500,             # Log the loss and learning rate every x steps\n",
    "              experiment_dir=\"checkpoints/GReat\", # Name of the directory where all intermediate steps are saved\n",
    "              batch_size=16,                 # Batch Size\n",
    "              #lr_scheduler_type=\"constant\", # Specify the learning rate scheduler \n",
    "              #learning_rate=5e-5            # Set the inital learning rate\n",
    "             )\n",
    "\n",
    "\n",
    "# fit the model on the training data\n",
    "model.fit(df_train)"
   ]
  },
  {
   "cell_type": "markdown",
   "metadata": {},
   "source": [
    "## Save the model"
   ]
  },
  {
   "cell_type": "code",
   "execution_count": null,
   "metadata": {},
   "outputs": [],
   "source": [
    "model.save(\"checkpoints/GReat/trained_model\")"
   ]
  },
  {
   "cell_type": "markdown",
   "metadata": {},
   "source": [
    "## Data Generation"
   ]
  },
  {
   "cell_type": "code",
   "execution_count": null,
   "metadata": {},
   "outputs": [],
   "source": [
    "def sample_by_category(model, category_dict, columns):\n",
    "    # create empty dataframe with columns \n",
    "    sampled_df = pd.DataFrame(columns=columns)\n",
    "    for category, n_samples in category_dict.items():\n",
    "        start_time = time.time()\n",
    "        while len(sampled_df[sampled_df['Attack_type'] == category]) < n_samples:\n",
    "            \n",
    "            samples = model.sample(n_samples=20000)\n",
    "            # select only the samples with the desired category\n",
    "            category_samples = samples[samples['Attack_type'] == category]\n",
    "            # discard the excess samples if necessary\n",
    "            if len(category_samples) > n_samples:\n",
    "                category_samples = category_samples.sample(n=n_samples)\n",
    "            # add the selected samples to the sampled_df dataframe\n",
    "            sampled_df = pd.concat([sampled_df, category_samples], ignore_index=True)\n",
    "            \n",
    "            elapsed_time = time.time() - start_time\n",
    "            if elapsed_time > 5:\n",
    "                clear_output(wait=True)\n",
    "                print(f\"{len(sampled_df[sampled_df['Attack_type'] == category])}/{n_samples}\", end=\"\\r\")\n",
    "                start_time = time.time()\n",
    "    return sampled_df"
   ]
  },
  {
   "cell_type": "code",
   "execution_count": null,
   "metadata": {},
   "outputs": [],
   "source": [
    "samples = model.sample(n_samples, k=50, start_col=\"target\", start_col_dist={\"0\": 0.5, \"1\": 0.5, \"2\": 0})"
   ]
  }
 ],
 "metadata": {
  "kernelspec": {
   "display_name": "Python 3 (ipykernel)",
   "language": "python",
   "name": "python3"
  },
  "language_info": {
   "codemirror_mode": {
    "name": "ipython",
    "version": 3
   },
   "file_extension": ".py",
   "mimetype": "text/x-python",
   "name": "python",
   "nbconvert_exporter": "python",
   "pygments_lexer": "ipython3",
   "version": "3.11.4"
  }
 },
 "nbformat": 4,
 "nbformat_minor": 4
}
