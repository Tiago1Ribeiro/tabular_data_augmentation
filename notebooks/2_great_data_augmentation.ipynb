{
 "cells": [
  {
   "cell_type": "markdown",
   "metadata": {},
   "source": [
    "### Libraries"
   ]
  },
  {
   "cell_type": "code",
   "execution_count": 5,
   "metadata": {},
   "outputs": [],
   "source": [
    "%%capture\n",
    "%reset -f  \n",
    "'generic imports'\n",
    "import pandas as pd\n",
    "import json\n",
    "import time \n",
    "import os\n",
    "import torch\n",
    "from IPython.display import display, clear_output\n",
    "from numba import cuda  \n",
    "from sklearn.model_selection import train_test_split\n",
    "\n",
    "'data augmentation imports'\n",
    "from be_great import GReaT # https://github.com/kathrinse/be_great"
   ]
  },
  {
   "cell_type": "markdown",
   "metadata": {},
   "source": [
    "### GPU"
   ]
  },
  {
   "cell_type": "code",
   "execution_count": 7,
   "metadata": {},
   "outputs": [
    {
     "name": "stdout",
     "output_type": "stream",
     "text": [
      "GPU is available (NVIDIA GeForce RTX 4060 Laptop GPU)\n",
      "Available GPU memory: 7.5 GB\n",
      "cuDNN version: (12, 2)\n"
     ]
    }
   ],
   "source": [
    "# Select GPU device \n",
    "cuda.select_device(0)\n",
    "# Clear GPU memory\n",
    "cuda.current_context().deallocations.clear()\n",
    "# Get the current CUDA context and GPU information\n",
    "ctx = cuda.current_context()\n",
    "# Get the current memory information from the cuda context\n",
    "meminfo = ctx.get_memory_info()\n",
    "# Get the device name\n",
    "device_name = cuda.gpus[0].name.decode()\n",
    "# Get the CUDA version\n",
    "cudnn_version = cuda.cudadrv.driver.get_version()\n",
    "if torch.cuda.is_available():\n",
    "    # dont chang the line\n",
    "    print('GPU is available', end=' ')\n",
    "    print(f'({device_name})\\nAvailable GPU memory: {meminfo[0] / 1024**3:.1f} GB\\ncuDNN version: {cudnn_version}')\n",
    "else:\n",
    "    print(\"No GPU available\")"
   ]
  },
  {
   "cell_type": "markdown",
   "metadata": {},
   "source": [
    "### Loading Data"
   ]
  },
  {
   "cell_type": "code",
   "execution_count": 8,
   "metadata": {},
   "outputs": [],
   "source": [
    "# Load data relative to the training set, with Attack_type \"Normal\" with 100k rows\n",
    "df_train = pd.read_csv('../data/EdgeIIot_train_100k.csv', low_memory=False)"
   ]
  },
  {
   "cell_type": "markdown",
   "metadata": {},
   "source": [
    "#### Calculates the No of rows to be augmented"
   ]
  },
  {
   "cell_type": "code",
   "execution_count": 9,
   "metadata": {},
   "outputs": [
    {
     "name": "stdout",
     "output_type": "stream",
     "text": [
      "Rows to be augmented by attack type:\n",
      "\n",
      "MITM                        99718\n",
      "Fingerprinting              99293\n",
      "Ransomware                  92237\n",
      "XSS                         87969\n",
      "Port_Scanning               84085\n",
      "Backdoor                    80756\n",
      "Uploading                   70466\n",
      "DDoS_HTTP                   61084\n",
      "Password                    60175\n",
      "DDoS_TCP                    59947\n",
      "Vulnerability_scanner       59914\n",
      "SQL_injection               59245\n",
      "DDoS_ICMP                   45562\n",
      "DDoS_UDP                     3034\n"
     ]
    }
   ],
   "source": [
    "# Counts how many rows of each Attack_type are missing (100.000)\n",
    "counts_dict = {}\n",
    "for attack in df_train[\"Attack_type\"].unique():\n",
    "    counts_dict[attack] = 100000 - df_train[df_train[\"Attack_type\"] == attack].shape[0]\n",
    "\n",
    "counts_dict.pop(\"Normal\")\n",
    "\n",
    "print(\"Rows to be augmented by attack type:\\n\")\n",
    "for key, value in sorted(counts_dict.items(), key=lambda item: item[1], reverse=True):\n",
    "    print(f\"{key:<22} {value:>10}\")"
   ]
  },
  {
   "cell_type": "markdown",
   "metadata": {},
   "source": [
    "#### Divides data into 2 groups"
   ]
  },
  {
   "cell_type": "code",
   "execution_count": 10,
   "metadata": {},
   "outputs": [
    {
     "name": "stdout",
     "output_type": "stream",
     "text": [
      "Group 1: ['Password', 'Fingerprinting', 'DDoS_ICMP', 'SQL_injection', 'XSS', 'Backdoor', 'Vulnerability_scanner']\n",
      "Group 2: ['Uploading', 'Ransomware', 'DDoS_UDP', 'MITM', 'Port_Scanning', 'DDoS_HTTP', 'DDoS_TCP']\n",
      "\n",
      "No of rows by group:\n",
      "Group 1: 492914\n",
      "Group 2: 470571\n"
     ]
    }
   ],
   "source": [
    "# Split the data into two groups\n",
    "counts_dict_1, counts_dict_2 = train_test_split(list(counts_dict.keys()), test_size=0.5, random_state=42)\n",
    "\n",
    "print(\"Group 1:\", counts_dict_1)\n",
    "print(\"Group 2:\", counts_dict_2)\n",
    "\n",
    "print(\"\\nNo of rows by group:\")\n",
    "print(\"Group 1:\", sum([counts_dict[attack] for attack in counts_dict_1]))\n",
    "print(\"Group 2:\", sum([counts_dict[attack] for attack in counts_dict_2]))"
   ]
  },
  {
   "cell_type": "markdown",
   "metadata": {},
   "source": [
    "### Discard Redundant Data"
   ]
  },
  {
   "cell_type": "code",
   "execution_count": 11,
   "metadata": {},
   "outputs": [],
   "source": [
    "# Since 'Normal' Attack_type already has 100.000 rows, we do not consider it for augmentation\n",
    "df_attack = df_train[df_train[\"Attack_type\"] != \"Normal\"]\n",
    "\n",
    "# Drop the Attack_label because it can be reconstructed from the Attack_type after augmentation\n",
    "df_attack = df_attack.drop(columns=[\"Attack_label\"])\n",
    "del df_train"
   ]
  },
  {
   "cell_type": "code",
   "execution_count": 7,
   "metadata": {},
   "outputs": [
    {
     "name": "stdout",
     "output_type": "stream",
     "text": [
      "Shape of the dataframe before augmentation: (207086, 47)\n"
     ]
    }
   ],
   "source": [
    "df_attack_1 = df_attack[df_attack[\"Attack_type\"].isin(counts_dict_1)]\n",
    "# shape of the dataframe before augmentation\n",
    "print(\"Shape of the dataframe before augmentation:\", df_attack_1.shape)"
   ]
  },
  {
   "cell_type": "markdown",
   "metadata": {},
   "source": [
    "###  Training Data Augmentation Model: Group 1"
   ]
  },
  {
   "cell_type": "code",
   "execution_count": 10,
   "metadata": {},
   "outputs": [],
   "source": [
    "# instantiate the GReaT model with the distilgpt2 language model\n",
    "model = GReaT(llm=\"distilgpt2\",                   # Language model to use\n",
    "              epochs=1,                           # Number of epochs to train\n",
    "              save_steps=2000,                    # Save model weights every x steps\n",
    "              logging_steps=500,                  # Log the loss and learning rate every x steps\n",
    "              experiment_dir=\"checkpoints/Great/GReat_iter3\", # Directory to save the model weights\n",
    "              batch_size=16                       \n",
    "             )"
   ]
  },
  {
   "cell_type": "code",
   "execution_count": 27,
   "metadata": {},
   "outputs": [
    {
     "name": "stderr",
     "output_type": "stream",
     "text": [
      "  4%|▍         | 500/12943 [06:45<2:34:27,  1.34it/s] "
     ]
    },
    {
     "name": "stdout",
     "output_type": "stream",
     "text": [
      "{'loss': 0.5297, 'learning_rate': 4.806845399057406e-05, 'epoch': 0.04}\n"
     ]
    },
    {
     "name": "stderr",
     "output_type": "stream",
     "text": [
      "  8%|▊         | 1000/12943 [16:09<2:30:11,  1.33it/s]"
     ]
    },
    {
     "name": "stdout",
     "output_type": "stream",
     "text": [
      "{'loss': 0.4146, 'learning_rate': 4.6136907981148113e-05, 'epoch': 0.08}\n"
     ]
    },
    {
     "name": "stderr",
     "output_type": "stream",
     "text": [
      " 12%|█▏        | 1500/12943 [24:54<2:37:32,  1.21it/s] "
     ]
    },
    {
     "name": "stdout",
     "output_type": "stream",
     "text": [
      "{'loss': 0.3994, 'learning_rate': 4.420536197172217e-05, 'epoch': 0.12}\n"
     ]
    },
    {
     "name": "stderr",
     "output_type": "stream",
     "text": [
      " 15%|█▌        | 2000/12943 [32:24<2:27:17,  1.24it/s] "
     ]
    },
    {
     "name": "stdout",
     "output_type": "stream",
     "text": [
      "{'loss': 0.3915, 'learning_rate': 4.2273815962296224e-05, 'epoch': 0.15}\n"
     ]
    },
    {
     "name": "stderr",
     "output_type": "stream",
     "text": [
      " 19%|█▉        | 2500/12943 [41:50<2:17:09,  1.27it/s] "
     ]
    },
    {
     "name": "stdout",
     "output_type": "stream",
     "text": [
      "{'loss': 0.3865, 'learning_rate': 4.034226995287028e-05, 'epoch': 0.19}\n"
     ]
    },
    {
     "name": "stderr",
     "output_type": "stream",
     "text": [
      " 23%|██▎       | 3000/12943 [51:47<2:08:00,  1.29it/s] "
     ]
    },
    {
     "name": "stdout",
     "output_type": "stream",
     "text": [
      "{'loss': 0.3829, 'learning_rate': 3.8410723943444336e-05, 'epoch': 0.23}\n"
     ]
    },
    {
     "name": "stderr",
     "output_type": "stream",
     "text": [
      " 27%|██▋       | 3500/12943 [1:00:05<2:14:15,  1.17it/s]"
     ]
    },
    {
     "name": "stdout",
     "output_type": "stream",
     "text": [
      "{'loss': 0.3812, 'learning_rate': 3.647917793401839e-05, 'epoch': 0.27}\n"
     ]
    },
    {
     "name": "stderr",
     "output_type": "stream",
     "text": [
      " 31%|███       | 4000/12943 [1:07:57<1:55:43,  1.29it/s] "
     ]
    },
    {
     "name": "stdout",
     "output_type": "stream",
     "text": [
      "{'loss': 0.3788, 'learning_rate': 3.4547631924592447e-05, 'epoch': 0.31}\n"
     ]
    },
    {
     "name": "stderr",
     "output_type": "stream",
     "text": [
      " 35%|███▍      | 4500/12943 [1:15:52<1:52:36,  1.25it/s] "
     ]
    },
    {
     "name": "stdout",
     "output_type": "stream",
     "text": [
      "{'loss': 0.3773, 'learning_rate': 3.26160859151665e-05, 'epoch': 0.35}\n"
     ]
    },
    {
     "name": "stderr",
     "output_type": "stream",
     "text": [
      " 39%|███▊      | 5000/12943 [1:24:59<1:40:03,  1.32it/s] "
     ]
    },
    {
     "name": "stdout",
     "output_type": "stream",
     "text": [
      "{'loss': 0.3753, 'learning_rate': 3.068453990574056e-05, 'epoch': 0.39}\n"
     ]
    },
    {
     "name": "stderr",
     "output_type": "stream",
     "text": [
      " 42%|████▏     | 5500/12943 [1:34:58<4:16:02,  2.06s/it] "
     ]
    },
    {
     "name": "stdout",
     "output_type": "stream",
     "text": [
      "{'loss': 0.374, 'learning_rate': 2.8752993896314613e-05, 'epoch': 0.42}\n"
     ]
    },
    {
     "name": "stderr",
     "output_type": "stream",
     "text": [
      " 46%|████▋     | 6000/12943 [1:43:20<1:56:36,  1.01s/it] "
     ]
    },
    {
     "name": "stdout",
     "output_type": "stream",
     "text": [
      "{'loss': 0.3744, 'learning_rate': 2.682144788688867e-05, 'epoch': 0.46}\n"
     ]
    },
    {
     "name": "stderr",
     "output_type": "stream",
     "text": [
      " 50%|█████     | 6500/12943 [1:52:29<1:36:58,  1.11it/s] "
     ]
    },
    {
     "name": "stdout",
     "output_type": "stream",
     "text": [
      "{'loss': 0.3734, 'learning_rate': 2.4889901877462724e-05, 'epoch': 0.5}\n"
     ]
    },
    {
     "name": "stderr",
     "output_type": "stream",
     "text": [
      " 54%|█████▍    | 7000/12943 [2:00:46<1:16:31,  1.29it/s] "
     ]
    },
    {
     "name": "stdout",
     "output_type": "stream",
     "text": [
      "{'loss': 0.373, 'learning_rate': 2.2958355868036776e-05, 'epoch': 0.54}\n"
     ]
    },
    {
     "name": "stderr",
     "output_type": "stream",
     "text": [
      " 58%|█████▊    | 7500/12943 [2:06:28<40:57,  2.22it/s]   "
     ]
    },
    {
     "name": "stdout",
     "output_type": "stream",
     "text": [
      "{'loss': 0.3723, 'learning_rate': 2.1026809858610832e-05, 'epoch': 0.58}\n"
     ]
    },
    {
     "name": "stderr",
     "output_type": "stream",
     "text": [
      " 62%|██████▏   | 8000/12943 [2:11:34<37:20,  2.21it/s]  "
     ]
    },
    {
     "name": "stdout",
     "output_type": "stream",
     "text": [
      "{'loss': 0.3716, 'learning_rate': 1.9095263849184887e-05, 'epoch': 0.62}\n"
     ]
    },
    {
     "name": "stderr",
     "output_type": "stream",
     "text": [
      " 66%|██████▌   | 8500/12943 [2:17:15<1:05:18,  1.13it/s]"
     ]
    },
    {
     "name": "stdout",
     "output_type": "stream",
     "text": [
      "{'loss': 0.3708, 'learning_rate': 1.7163717839758943e-05, 'epoch': 0.66}\n"
     ]
    },
    {
     "name": "stderr",
     "output_type": "stream",
     "text": [
      " 70%|██████▉   | 9000/12943 [2:21:39<48:58,  1.34it/s]  "
     ]
    },
    {
     "name": "stdout",
     "output_type": "stream",
     "text": [
      "{'loss': 0.3711, 'learning_rate': 1.5232171830333e-05, 'epoch': 0.7}\n"
     ]
    },
    {
     "name": "stderr",
     "output_type": "stream",
     "text": [
      " 73%|███████▎  | 9500/12943 [2:27:07<25:50,  2.22it/s]  "
     ]
    },
    {
     "name": "stdout",
     "output_type": "stream",
     "text": [
      "{'loss': 0.3708, 'learning_rate': 1.3300625820907054e-05, 'epoch': 0.73}\n"
     ]
    },
    {
     "name": "stderr",
     "output_type": "stream",
     "text": [
      " 77%|███████▋  | 10000/12943 [2:31:47<23:00,  2.13it/s] "
     ]
    },
    {
     "name": "stdout",
     "output_type": "stream",
     "text": [
      "{'loss': 0.3699, 'learning_rate': 1.1369079811481111e-05, 'epoch': 0.77}\n"
     ]
    },
    {
     "name": "stderr",
     "output_type": "stream",
     "text": [
      " 81%|████████  | 10500/12943 [2:37:27<18:32,  2.20it/s]  "
     ]
    },
    {
     "name": "stdout",
     "output_type": "stream",
     "text": [
      "{'loss': 0.3697, 'learning_rate': 9.437533802055165e-06, 'epoch': 0.81}\n"
     ]
    },
    {
     "name": "stderr",
     "output_type": "stream",
     "text": [
      " 85%|████████▍ | 11000/12943 [2:43:08<14:45,  2.20it/s]  "
     ]
    },
    {
     "name": "stdout",
     "output_type": "stream",
     "text": [
      "{'loss': 0.3694, 'learning_rate': 7.505987792629221e-06, 'epoch': 0.85}\n"
     ]
    },
    {
     "name": "stderr",
     "output_type": "stream",
     "text": [
      " 89%|████████▉ | 11500/12943 [2:48:35<10:55,  2.20it/s]  "
     ]
    },
    {
     "name": "stdout",
     "output_type": "stream",
     "text": [
      "{'loss': 0.3694, 'learning_rate': 5.574441783203276e-06, 'epoch': 0.89}\n"
     ]
    },
    {
     "name": "stderr",
     "output_type": "stream",
     "text": [
      " 93%|█████████▎| 12000/12943 [2:54:15<49:18,  3.14s/it]  "
     ]
    },
    {
     "name": "stdout",
     "output_type": "stream",
     "text": [
      "{'loss': 0.3693, 'learning_rate': 3.6428957737773316e-06, 'epoch': 0.93}\n"
     ]
    },
    {
     "name": "stderr",
     "output_type": "stream",
     "text": [
      " 97%|█████████▋| 12500/12943 [2:59:57<03:25,  2.15it/s]  "
     ]
    },
    {
     "name": "stdout",
     "output_type": "stream",
     "text": [
      "{'loss': 0.3687, 'learning_rate': 1.7113497643513869e-06, 'epoch': 0.97}\n"
     ]
    },
    {
     "name": "stderr",
     "output_type": "stream",
     "text": [
      "100%|██████████| 12943/12943 [3:04:00<00:00,  1.17it/s]"
     ]
    },
    {
     "name": "stdout",
     "output_type": "stream",
     "text": [
      "{'train_runtime': 11040.1783, 'train_samples_per_second': 18.757, 'train_steps_per_second': 1.172, 'train_loss': 0.38289573543878386, 'epoch': 1.0}\n"
     ]
    },
    {
     "name": "stderr",
     "output_type": "stream",
     "text": [
      "\n"
     ]
    },
    {
     "data": {
      "text/plain": [
       "<be_great.great_trainer.GReaTTrainer at 0x20661a7a520>"
      ]
     },
     "execution_count": 27,
     "metadata": {},
     "output_type": "execute_result"
    }
   ],
   "source": [
    "# Train the model\n",
    "model.fit(df_attack_1)"
   ]
  },
  {
   "cell_type": "code",
   "execution_count": 28,
   "metadata": {},
   "outputs": [],
   "source": [
    "# save the model\n",
    "model.save(\"GReat_df_attack_1\")\n",
    "del model, df_attack_1"
   ]
  },
  {
   "cell_type": "markdown",
   "metadata": {},
   "source": [
    "### Training Data Augmentation Model: Group 2"
   ]
  },
  {
   "cell_type": "code",
   "execution_count": 30,
   "metadata": {},
   "outputs": [
    {
     "name": "stdout",
     "output_type": "stream",
     "text": [
      "Shape of the dataframe before augmentation: (229429, 47)\n"
     ]
    }
   ],
   "source": [
    "df_attack_2 = df_attack[df_attack[\"Attack_type\"].isin(counts_dict_2)]\n",
    "# shape of the dataframe before augmentation\n",
    "print(\"Shape of the dataframe before augmentation:\", df_attack_2.shape)"
   ]
  },
  {
   "cell_type": "code",
   "execution_count": 29,
   "metadata": {},
   "outputs": [],
   "source": [
    "model2 = GReaT(llm=\"distilgpt2\",                  # Language model to use\n",
    "              epochs=1,                           # Number of epochs to train\n",
    "              save_steps=2000,                    # Save model weights every x steps\n",
    "              logging_steps=500,                  # Log the loss and learning rate every x steps\n",
    "              experiment_dir=\"checkpoints/Great/GReat_iter3\", # Directory to save the model weights\n",
    "              batch_size=16                       \n",
    "             )"
   ]
  },
  {
   "cell_type": "code",
   "execution_count": 31,
   "metadata": {},
   "outputs": [
    {
     "name": "stderr",
     "output_type": "stream",
     "text": [
      "  3%|▎         | 500/14340 [08:47<1:46:48,  2.16it/s] "
     ]
    },
    {
     "name": "stdout",
     "output_type": "stream",
     "text": [
      "{'loss': 0.5028, 'learning_rate': 4.825662482566248e-05, 'epoch': 0.03}\n"
     ]
    },
    {
     "name": "stderr",
     "output_type": "stream",
     "text": [
      "  7%|▋         | 1000/14340 [18:05<11:01:50,  2.98s/it]"
     ]
    },
    {
     "name": "stdout",
     "output_type": "stream",
     "text": [
      "{'loss': 0.3902, 'learning_rate': 4.651324965132497e-05, 'epoch': 0.07}\n"
     ]
    },
    {
     "name": "stderr",
     "output_type": "stream",
     "text": [
      " 10%|█         | 1500/14340 [26:56<3:02:51,  1.17it/s] "
     ]
    },
    {
     "name": "stdout",
     "output_type": "stream",
     "text": [
      "{'loss': 0.3756, 'learning_rate': 4.476987447698745e-05, 'epoch': 0.1}\n"
     ]
    },
    {
     "name": "stderr",
     "output_type": "stream",
     "text": [
      " 14%|█▍        | 2000/14340 [36:08<2:42:16,  1.27it/s] "
     ]
    },
    {
     "name": "stdout",
     "output_type": "stream",
     "text": [
      "{'loss': 0.3681, 'learning_rate': 4.302649930264993e-05, 'epoch': 0.14}\n"
     ]
    },
    {
     "name": "stderr",
     "output_type": "stream",
     "text": [
      " 17%|█▋        | 2500/14340 [44:15<2:07:02,  1.55it/s] "
     ]
    },
    {
     "name": "stdout",
     "output_type": "stream",
     "text": [
      "{'loss': 0.364, 'learning_rate': 4.128312412831242e-05, 'epoch': 0.17}\n"
     ]
    },
    {
     "name": "stderr",
     "output_type": "stream",
     "text": [
      " 21%|██        | 3000/14340 [52:41<1:27:02,  2.17it/s] "
     ]
    },
    {
     "name": "stdout",
     "output_type": "stream",
     "text": [
      "{'loss': 0.3609, 'learning_rate': 3.95397489539749e-05, 'epoch': 0.21}\n"
     ]
    },
    {
     "name": "stderr",
     "output_type": "stream",
     "text": [
      " 24%|██▍       | 3500/14340 [1:02:43<1:37:36,  1.85it/s] "
     ]
    },
    {
     "name": "stdout",
     "output_type": "stream",
     "text": [
      "{'loss': 0.3588, 'learning_rate': 3.779637377963738e-05, 'epoch': 0.24}\n"
     ]
    },
    {
     "name": "stderr",
     "output_type": "stream",
     "text": [
      " 28%|██▊       | 4000/14340 [1:11:53<1:26:14,  2.00it/s] "
     ]
    },
    {
     "name": "stdout",
     "output_type": "stream",
     "text": [
      "{'loss': 0.3569, 'learning_rate': 3.6052998605299864e-05, 'epoch': 0.28}\n"
     ]
    },
    {
     "name": "stderr",
     "output_type": "stream",
     "text": [
      " 31%|███▏      | 4500/14340 [1:21:03<4:47:01,  1.75s/it] "
     ]
    },
    {
     "name": "stdout",
     "output_type": "stream",
     "text": [
      "{'loss': 0.3555, 'learning_rate': 3.4309623430962344e-05, 'epoch': 0.31}\n"
     ]
    },
    {
     "name": "stderr",
     "output_type": "stream",
     "text": [
      " 35%|███▍      | 5000/14340 [1:30:03<1:27:46,  1.77it/s] "
     ]
    },
    {
     "name": "stdout",
     "output_type": "stream",
     "text": [
      "{'loss': 0.3548, 'learning_rate': 3.2566248256624825e-05, 'epoch': 0.35}\n"
     ]
    },
    {
     "name": "stderr",
     "output_type": "stream",
     "text": [
      " 38%|███▊      | 5500/14340 [1:39:45<1:10:13,  2.10it/s] "
     ]
    },
    {
     "name": "stdout",
     "output_type": "stream",
     "text": [
      "{'loss': 0.3539, 'learning_rate': 3.082287308228731e-05, 'epoch': 0.38}\n"
     ]
    },
    {
     "name": "stderr",
     "output_type": "stream",
     "text": [
      " 42%|████▏     | 6000/14340 [1:48:56<1:18:23,  1.77it/s] "
     ]
    },
    {
     "name": "stdout",
     "output_type": "stream",
     "text": [
      "{'loss': 0.3536, 'learning_rate': 2.9079497907949792e-05, 'epoch': 0.42}\n"
     ]
    },
    {
     "name": "stderr",
     "output_type": "stream",
     "text": [
      " 45%|████▌     | 6500/14340 [1:58:22<1:21:39,  1.60it/s] "
     ]
    },
    {
     "name": "stdout",
     "output_type": "stream",
     "text": [
      "{'loss': 0.3526, 'learning_rate': 2.7336122733612275e-05, 'epoch': 0.45}\n"
     ]
    },
    {
     "name": "stderr",
     "output_type": "stream",
     "text": [
      " 49%|████▉     | 7000/14340 [2:06:50<5:26:12,  2.67s/it] "
     ]
    },
    {
     "name": "stdout",
     "output_type": "stream",
     "text": [
      "{'loss': 0.3518, 'learning_rate': 2.5592747559274755e-05, 'epoch': 0.49}\n"
     ]
    },
    {
     "name": "stderr",
     "output_type": "stream",
     "text": [
      " 52%|█████▏    | 7500/14340 [2:15:19<1:11:26,  1.60it/s]"
     ]
    },
    {
     "name": "stdout",
     "output_type": "stream",
     "text": [
      "{'loss': 0.3519, 'learning_rate': 2.3849372384937242e-05, 'epoch': 0.52}\n"
     ]
    },
    {
     "name": "stderr",
     "output_type": "stream",
     "text": [
      " 56%|█████▌    | 8000/14340 [2:24:39<4:09:39,  2.36s/it]"
     ]
    },
    {
     "name": "stdout",
     "output_type": "stream",
     "text": [
      "{'loss': 0.3513, 'learning_rate': 2.2105997210599723e-05, 'epoch': 0.56}\n"
     ]
    },
    {
     "name": "stderr",
     "output_type": "stream",
     "text": [
      " 59%|█████▉    | 8500/14340 [2:34:26<2:01:48,  1.25s/it]"
     ]
    },
    {
     "name": "stdout",
     "output_type": "stream",
     "text": [
      "{'loss': 0.351, 'learning_rate': 2.0362622036262206e-05, 'epoch': 0.59}\n"
     ]
    },
    {
     "name": "stderr",
     "output_type": "stream",
     "text": [
      " 63%|██████▎   | 9000/14340 [2:43:42<53:23,  1.67it/s]  "
     ]
    },
    {
     "name": "stdout",
     "output_type": "stream",
     "text": [
      "{'loss': 0.35, 'learning_rate': 1.8619246861924686e-05, 'epoch': 0.63}\n"
     ]
    },
    {
     "name": "stderr",
     "output_type": "stream",
     "text": [
      " 66%|██████▌   | 9500/14340 [2:54:16<1:26:34,  1.07s/it]"
     ]
    },
    {
     "name": "stdout",
     "output_type": "stream",
     "text": [
      "{'loss': 0.3505, 'learning_rate': 1.687587168758717e-05, 'epoch': 0.66}\n"
     ]
    },
    {
     "name": "stderr",
     "output_type": "stream",
     "text": [
      " 70%|██████▉   | 10000/14340 [3:08:27<55:00,  1.31it/s]  "
     ]
    },
    {
     "name": "stdout",
     "output_type": "stream",
     "text": [
      "{'loss': 0.3496, 'learning_rate': 1.5132496513249652e-05, 'epoch': 0.7}\n"
     ]
    },
    {
     "name": "stderr",
     "output_type": "stream",
     "text": [
      " 73%|███████▎  | 10500/14340 [3:20:45<1:16:42,  1.20s/it]"
     ]
    },
    {
     "name": "stdout",
     "output_type": "stream",
     "text": [
      "{'loss': 0.3497, 'learning_rate': 1.3389121338912134e-05, 'epoch': 0.73}\n"
     ]
    },
    {
     "name": "stderr",
     "output_type": "stream",
     "text": [
      " 77%|███████▋  | 11000/14340 [3:36:04<1:06:05,  1.19s/it] "
     ]
    },
    {
     "name": "stdout",
     "output_type": "stream",
     "text": [
      "{'loss': 0.3495, 'learning_rate': 1.1645746164574617e-05, 'epoch': 0.77}\n"
     ]
    },
    {
     "name": "stderr",
     "output_type": "stream",
     "text": [
      " 80%|████████  | 11500/14340 [3:50:24<1:22:01,  1.73s/it]"
     ]
    },
    {
     "name": "stdout",
     "output_type": "stream",
     "text": [
      "{'loss': 0.3489, 'learning_rate': 9.9023709902371e-06, 'epoch': 0.8}\n"
     ]
    },
    {
     "name": "stderr",
     "output_type": "stream",
     "text": [
      " 81%|████████  | 11588/14340 [3:52:36<41:02,  1.12it/s]  "
     ]
    }
   ],
   "source": [
    "model2.fit(df_attack_2)"
   ]
  },
  {
   "cell_type": "code",
   "execution_count": null,
   "metadata": {},
   "outputs": [],
   "source": [
    "# Save the model\n",
    "model2.save(\"GReat_df_attack_2\")\n",
    "del df_attack_2"
   ]
  },
  {
   "cell_type": "markdown",
   "metadata": {},
   "source": [
    "## Data Generation"
   ]
  },
  {
   "cell_type": "code",
   "execution_count": 12,
   "metadata": {},
   "outputs": [],
   "source": [
    "# Load model df_attack_1\n",
    "model = GReaT.load_from_dir(\"checkpoints/GReat/GReat_df_attack_1\")"
   ]
  },
  {
   "cell_type": "code",
   "execution_count": 13,
   "metadata": {},
   "outputs": [
    {
     "name": "stderr",
     "output_type": "stream",
     "text": [
      "60234it [1:45:39,  9.50it/s]                           \n",
      "99322it [2:57:14,  9.34it/s]                             \n",
      "45616it [1:19:23,  9.58it/s]                           \n",
      "59308it [1:49:03,  9.06it/s]                           \n",
      "87985it [2:35:52,  9.41it/s]                             \n",
      "80841it [2:22:31,  9.45it/s]                             \n",
      "100%|██████████| 59914/59914 [1:51:00<00:00,  9.00it/s]\n"
     ]
    }
   ],
   "source": [
    "for i, attack in enumerate(counts_dict_1):\n",
    "    n_att_samples = counts_dict[attack]\n",
    "\n",
    "    samples = model.sample(n_samples = n_att_samples, \n",
    "                           max_length = 1000, \n",
    "                           k = 100, \n",
    "                           start_col=\"Attack_type\", \n",
    "                           start_col_dist={attack: 1}\n",
    "                           )\n",
    "    \n",
    "    if i == 0:\n",
    "        samples.to_csv(f\"EdgeIIoT_train_GReaT_p1.csv\", index=False)\n",
    "    else:\n",
    "        samples.to_csv(f\"EdgeIIoT_train_GReaT_p1.csv\", mode='a', header=False, index=False)"
   ]
  },
  {
   "cell_type": "code",
   "execution_count": 15,
   "metadata": {},
   "outputs": [],
   "source": [
    "# del df_attack_gen_1\n",
    "del model\n",
    "# Load model df_attack_2\n",
    "model = GReaT.load_from_dir(\"checkpoints/GReat/GReat_df_attack_2\")"
   ]
  },
  {
   "cell_type": "code",
   "execution_count": 16,
   "metadata": {},
   "outputs": [
    {
     "name": "stderr",
     "output_type": "stream",
     "text": [
      "70486it [1:57:31, 10.00it/s]                           \n",
      "92361it [2:38:17,  9.72it/s]                             \n",
      "3065it [05:07,  9.96it/s]                          \n",
      "99808it [2:49:06,  9.84it/s]                             \n",
      "84176it [2:23:38,  9.77it/s]                             \n",
      "61136it [1:41:43, 10.02it/s]                           \n",
      "59967it [1:42:58,  9.71it/s]                           \n"
     ]
    }
   ],
   "source": [
    "for i, attack in enumerate(counts_dict_2):\n",
    "    n_att_samples = counts_dict[attack]\n",
    "\n",
    "    samples = model.sample(n_samples = n_att_samples, \n",
    "                           max_length = 1000, \n",
    "                           k = 128, \n",
    "                           start_col=\"Attack_type\", \n",
    "                           start_col_dist={attack: 1}\n",
    "                           )\n",
    "    \n",
    "    if i == 0:\n",
    "        samples.to_csv(f\"EdgeIIoT_train_GReaT_p2.csv\", index=False)\n",
    "    else:\n",
    "        samples.to_csv(f\"EdgeIIoT_train_GReaT_p2.csv\", mode='a', header=False, index=False)"
   ]
  },
  {
   "cell_type": "markdown",
   "metadata": {},
   "source": [
    "### Augmented data verification and concatenation"
   ]
  },
  {
   "cell_type": "code",
   "execution_count": null,
   "metadata": {},
   "outputs": [],
   "source": [
    "# load the generated data\n",
    "df_gen_1 = pd.read_csv(\"EdgeIIoT_train_GReaT_p1.csv\")"
   ]
  }
 ],
 "metadata": {
  "kernelspec": {
   "display_name": "Python 3 (ipykernel)",
   "language": "python",
   "name": "python3"
  },
  "language_info": {
   "codemirror_mode": {
    "name": "ipython",
    "version": 3
   },
   "file_extension": ".py",
   "mimetype": "text/x-python",
   "name": "python",
   "nbconvert_exporter": "python",
   "pygments_lexer": "ipython3",
   "version": "3.11.4"
  }
 },
 "nbformat": 4,
 "nbformat_minor": 4
}
