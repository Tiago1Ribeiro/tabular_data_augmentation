{
 "cells": [
  {
   "cell_type": "markdown",
   "metadata": {},
   "source": [
    "### Libraries"
   ]
  },
  {
   "cell_type": "code",
   "execution_count": 1,
   "metadata": {},
   "outputs": [],
   "source": [
    "%%capture\n",
    "%reset -f                        # clear all variables from the workspace\n",
    "'generic imports'\n",
    "import os\n",
    "import pandas as pd\n",
    "import datetime\n",
    "import numpy as np\n",
    "import sys\n",
    "sys.path.append(os.path.abspath('..'))\n",
    "from src import utils\n",
    "import importlib\n",
    "importlib.reload(utils)        \n",
    "\n",
    "'machine learning imports'\n",
    "import torch\n",
    "from pytorch_tabnet.tab_model import TabNetClassifier\n",
    "from sklearn import metrics\n",
    "from sklearn.preprocessing import LabelEncoder\n",
    "from sklearn.utils import shuffle"
   ]
  },
  {
   "cell_type": "markdown",
   "metadata": {},
   "source": [
    "### GPU"
   ]
  },
  {
   "cell_type": "code",
   "execution_count": 2,
   "metadata": {},
   "outputs": [
    {
     "name": "stdout",
     "output_type": "stream",
     "text": [
      "Using CPU\n"
     ]
    }
   ],
   "source": [
    "DEVICE = 'CUDA' if torch.cuda.is_available() else 'CPU'\n",
    "print(\"Using {}\".format(DEVICE))\n",
    "\n",
    "# Info on the device available memory\n",
    "if DEVICE == 'CUDA':\n",
    "    gpu = torch.device('cuda')\n",
    "    total_memory = torch.cuda.get_device_properties(gpu).total_memory / 1024**3\n",
    "    current_memory = torch.cuda.memory_allocated(gpu) / 1024**3\n",
    "\n",
    "    print(f'Total GPU memory: {total_memory:.1f} GB | Current usage: {current_memory:.1f} GB')"
   ]
  },
  {
   "cell_type": "markdown",
   "metadata": {},
   "source": [
    "### Load data"
   ]
  },
  {
   "cell_type": "code",
   "execution_count": 3,
   "metadata": {},
   "outputs": [
    {
     "name": "stdout",
     "output_type": "stream",
     "text": [
      "Loading complete.\n",
      "Train data: 1500000 rows, 46 columns. \n",
      "Test data: 381934 rows, 46 columns.\n"
     ]
    }
   ],
   "source": [
    "AUGMENTATION = 'GReaT' # options: 'None', 'GReat', 'SMOTE', 'SMOTE-NC' or 'RealTabFormer'\n",
    "\n",
    "data_dir = os.path.abspath('../data')\n",
    "\n",
    "# Load the train and test datasets\n",
    "df_train, df_test = utils.load_dataset(data_directory=data_dir, \n",
    "                                       augmentation=AUGMENTATION, \n",
    "                                       ignore_columns=['mbtcp.unit_id', \n",
    "                                                       'mbtcp.trans_id']) "
   ]
  },
  {
   "cell_type": "markdown",
   "metadata": {},
   "source": [
    "### Data preparation"
   ]
  },
  {
   "cell_type": "code",
   "execution_count": 4,
   "metadata": {},
   "outputs": [],
   "source": [
    "# Creates X_train, y_train\n",
    "X_train = df_train.drop(['Attack_label', 'Attack_type'], axis=1)\n",
    "y_train = df_train['Attack_type']\n",
    "\n",
    "# Creates X_test, y_test\n",
    "X_test = df_test.drop(['Attack_label', 'Attack_type'], axis=1)\n",
    "y_test = df_test['Attack_type']"
   ]
  },
  {
   "cell_type": "markdown",
   "metadata": {},
   "source": [
    "#### Convert categorical features to one-hot encoded features"
   ]
  },
  {
   "cell_type": "code",
   "execution_count": 5,
   "metadata": {},
   "outputs": [
    {
     "name": "stdout",
     "output_type": "stream",
     "text": [
      "Categorical features to be encoded:\n",
      "\n",
      "http.referer\n",
      "mqtt.topic\n",
      "dns.qry.name.len\n",
      "http.request.version\n",
      "mqtt.protoname\n",
      "http.request.method\n",
      "mqtt.conack.flags\n",
      "\n",
      "Encoding complete.\n",
      "No of features before encoding: 44\n",
      "No of features after encoding: 44\n"
     ]
    }
   ],
   "source": [
    "# Encode the training and test labels if needed\n",
    "X_train_enc, X_test_enc, info = utils.encode_categorical(X_train, X_test, encoding='label')"
   ]
  },
  {
   "cell_type": "markdown",
   "metadata": {},
   "source": [
    "#### Label encoding"
   ]
  },
  {
   "cell_type": "code",
   "execution_count": 6,
   "metadata": {},
   "outputs": [
    {
     "name": "stdout",
     "output_type": "stream",
     "text": [
      "Attack_type and encoded labels:\n",
      "\n",
      "Backdoor                0\n",
      "DDoS_HTTP               1\n",
      "DDoS_ICMP               2\n",
      "DDoS_TCP                3\n",
      "DDoS_UDP                4\n",
      "Fingerprinting          5\n",
      "MITM                    6\n",
      "Normal                  7\n",
      "Password                8\n",
      "Port_Scanning           9\n",
      "Ransomware              10\n",
      "SQL_injection           11\n",
      "Uploading               12\n",
      "Vulnerability_scanner   13\n",
      "XSS                     14\n"
     ]
    }
   ],
   "source": [
    "y_train_enc, y_test_enc, le = utils.encode_labels(y_train, y_test)"
   ]
  },
  {
   "cell_type": "markdown",
   "metadata": {},
   "source": [
    "### Model Training"
   ]
  },
  {
   "cell_type": "code",
   "execution_count": 7,
   "metadata": {},
   "outputs": [
    {
     "name": "stdout",
     "output_type": "stream",
     "text": [
      "[6, 7, 8, 25, 31, 39, 40]\n",
      "[12, 14, 18, 8, 7, 3, 3]\n"
     ]
    },
    {
     "name": "stderr",
     "output_type": "stream",
     "text": [
      "/home/tiagociic/miniconda3/envs/tabnet/lib/python3.9/site-packages/pytorch_tabnet/abstract_model.py:82: UserWarning: Device used : cpu\n",
      "  warnings.warn(f\"Device used : {self.device}\")\n",
      "/home/tiagociic/miniconda3/envs/tabnet/lib/python3.9/site-packages/pytorch_tabnet/abstract_model.py:687: UserWarning: No early stopping will be performed, last training weights will be used.\n",
      "  warnings.warn(wrn_msg)\n"
     ]
    },
    {
     "ename": "IndexError",
     "evalue": "index out of range in self",
     "output_type": "error",
     "traceback": [
      "\u001b[0;31m---------------------------------------------------------------------------\u001b[0m",
      "\u001b[0;31mIndexError\u001b[0m                                Traceback (most recent call last)",
      "\u001b[1;32m/home/tiagociic/Projectos/inovmineral/project/notebooks/3_tabnet_evaluation.ipynb Cell 14\u001b[0m line \u001b[0;36m2\n\u001b[1;32m     <a href='vscode-notebook-cell:/home/tiagociic/Projectos/inovmineral/project/notebooks/3_tabnet_evaluation.ipynb#X16sZmlsZQ%3D%3D?line=20'>21</a>\u001b[0m \u001b[39mprint\u001b[39m(cat_dims)\n\u001b[1;32m     <a href='vscode-notebook-cell:/home/tiagociic/Projectos/inovmineral/project/notebooks/3_tabnet_evaluation.ipynb#X16sZmlsZQ%3D%3D?line=22'>23</a>\u001b[0m tabnet \u001b[39m=\u001b[39m TabNetClassifier(cat_idxs\u001b[39m=\u001b[39mcat_idxs,\n\u001b[1;32m     <a href='vscode-notebook-cell:/home/tiagociic/Projectos/inovmineral/project/notebooks/3_tabnet_evaluation.ipynb#X16sZmlsZQ%3D%3D?line=23'>24</a>\u001b[0m                           cat_dims\u001b[39m=\u001b[39mcat_dims,\n\u001b[1;32m     <a href='vscode-notebook-cell:/home/tiagociic/Projectos/inovmineral/project/notebooks/3_tabnet_evaluation.ipynb#X16sZmlsZQ%3D%3D?line=24'>25</a>\u001b[0m                           cat_emb_dim\u001b[39m=\u001b[39m\u001b[39m10\u001b[39m,    \u001b[39m# categorical features embedding dimension\u001b[39;00m\n\u001b[1;32m     <a href='vscode-notebook-cell:/home/tiagociic/Projectos/inovmineral/project/notebooks/3_tabnet_evaluation.ipynb#X16sZmlsZQ%3D%3D?line=25'>26</a>\u001b[0m                           )\n\u001b[0;32m---> <a href='vscode-notebook-cell:/home/tiagociic/Projectos/inovmineral/project/notebooks/3_tabnet_evaluation.ipynb#X16sZmlsZQ%3D%3D?line=26'>27</a>\u001b[0m tabnet\u001b[39m.\u001b[39;49mfit(X_train\u001b[39m=\u001b[39;49mX_train_enc\u001b[39m.\u001b[39;49mvalues, \n\u001b[1;32m     <a href='vscode-notebook-cell:/home/tiagociic/Projectos/inovmineral/project/notebooks/3_tabnet_evaluation.ipynb#X16sZmlsZQ%3D%3D?line=27'>28</a>\u001b[0m            y_train\u001b[39m=\u001b[39;49my_train_enc,\n\u001b[1;32m     <a href='vscode-notebook-cell:/home/tiagociic/Projectos/inovmineral/project/notebooks/3_tabnet_evaluation.ipynb#X16sZmlsZQ%3D%3D?line=28'>29</a>\u001b[0m            augmentations\u001b[39m=\u001b[39;49m\u001b[39mNone\u001b[39;49;00m,\n\u001b[1;32m     <a href='vscode-notebook-cell:/home/tiagociic/Projectos/inovmineral/project/notebooks/3_tabnet_evaluation.ipynb#X16sZmlsZQ%3D%3D?line=29'>30</a>\u001b[0m            max_epochs\u001b[39m=\u001b[39;49m\u001b[39m100\u001b[39;49m,\n\u001b[1;32m     <a href='vscode-notebook-cell:/home/tiagociic/Projectos/inovmineral/project/notebooks/3_tabnet_evaluation.ipynb#X16sZmlsZQ%3D%3D?line=30'>31</a>\u001b[0m            )\n",
      "File \u001b[0;32m~/miniconda3/envs/tabnet/lib/python3.9/site-packages/pytorch_tabnet/abstract_model.py:258\u001b[0m, in \u001b[0;36mTabModel.fit\u001b[0;34m(self, X_train, y_train, eval_set, eval_name, eval_metric, loss_fn, weights, max_epochs, patience, batch_size, virtual_batch_size, num_workers, drop_last, callbacks, pin_memory, from_unsupervised, warm_start, augmentations, compute_importance)\u001b[0m\n\u001b[1;32m    253\u001b[0m \u001b[39mfor\u001b[39;00m epoch_idx \u001b[39min\u001b[39;00m \u001b[39mrange\u001b[39m(\u001b[39mself\u001b[39m\u001b[39m.\u001b[39mmax_epochs):\n\u001b[1;32m    254\u001b[0m \n\u001b[1;32m    255\u001b[0m     \u001b[39m# Call method on_epoch_begin for all callbacks\u001b[39;00m\n\u001b[1;32m    256\u001b[0m     \u001b[39mself\u001b[39m\u001b[39m.\u001b[39m_callback_container\u001b[39m.\u001b[39mon_epoch_begin(epoch_idx)\n\u001b[0;32m--> 258\u001b[0m     \u001b[39mself\u001b[39;49m\u001b[39m.\u001b[39;49m_train_epoch(train_dataloader)\n\u001b[1;32m    260\u001b[0m     \u001b[39m# Apply predict epoch to all eval sets\u001b[39;00m\n\u001b[1;32m    261\u001b[0m     \u001b[39mfor\u001b[39;00m eval_name, valid_dataloader \u001b[39min\u001b[39;00m \u001b[39mzip\u001b[39m(eval_names, valid_dataloaders):\n",
      "File \u001b[0;32m~/miniconda3/envs/tabnet/lib/python3.9/site-packages/pytorch_tabnet/abstract_model.py:489\u001b[0m, in \u001b[0;36mTabModel._train_epoch\u001b[0;34m(self, train_loader)\u001b[0m\n\u001b[1;32m    486\u001b[0m \u001b[39mfor\u001b[39;00m batch_idx, (X, y) \u001b[39min\u001b[39;00m \u001b[39menumerate\u001b[39m(train_loader):\n\u001b[1;32m    487\u001b[0m     \u001b[39mself\u001b[39m\u001b[39m.\u001b[39m_callback_container\u001b[39m.\u001b[39mon_batch_begin(batch_idx)\n\u001b[0;32m--> 489\u001b[0m     batch_logs \u001b[39m=\u001b[39m \u001b[39mself\u001b[39;49m\u001b[39m.\u001b[39;49m_train_batch(X, y)\n\u001b[1;32m    491\u001b[0m     \u001b[39mself\u001b[39m\u001b[39m.\u001b[39m_callback_container\u001b[39m.\u001b[39mon_batch_end(batch_idx, batch_logs)\n\u001b[1;32m    493\u001b[0m epoch_logs \u001b[39m=\u001b[39m {\u001b[39m\"\u001b[39m\u001b[39mlr\u001b[39m\u001b[39m\"\u001b[39m: \u001b[39mself\u001b[39m\u001b[39m.\u001b[39m_optimizer\u001b[39m.\u001b[39mparam_groups[\u001b[39m-\u001b[39m\u001b[39m1\u001b[39m][\u001b[39m\"\u001b[39m\u001b[39mlr\u001b[39m\u001b[39m\"\u001b[39m]}\n",
      "File \u001b[0;32m~/miniconda3/envs/tabnet/lib/python3.9/site-packages/pytorch_tabnet/abstract_model.py:527\u001b[0m, in \u001b[0;36mTabModel._train_batch\u001b[0;34m(self, X, y)\u001b[0m\n\u001b[1;32m    524\u001b[0m \u001b[39mfor\u001b[39;00m param \u001b[39min\u001b[39;00m \u001b[39mself\u001b[39m\u001b[39m.\u001b[39mnetwork\u001b[39m.\u001b[39mparameters():\n\u001b[1;32m    525\u001b[0m     param\u001b[39m.\u001b[39mgrad \u001b[39m=\u001b[39m \u001b[39mNone\u001b[39;00m\n\u001b[0;32m--> 527\u001b[0m output, M_loss \u001b[39m=\u001b[39m \u001b[39mself\u001b[39;49m\u001b[39m.\u001b[39;49mnetwork(X)\n\u001b[1;32m    529\u001b[0m loss \u001b[39m=\u001b[39m \u001b[39mself\u001b[39m\u001b[39m.\u001b[39mcompute_loss(output, y)\n\u001b[1;32m    530\u001b[0m \u001b[39m# Add the overall sparsity loss\u001b[39;00m\n",
      "File \u001b[0;32m~/miniconda3/envs/tabnet/lib/python3.9/site-packages/torch/nn/modules/module.py:1518\u001b[0m, in \u001b[0;36mModule._wrapped_call_impl\u001b[0;34m(self, *args, **kwargs)\u001b[0m\n\u001b[1;32m   1516\u001b[0m     \u001b[39mreturn\u001b[39;00m \u001b[39mself\u001b[39m\u001b[39m.\u001b[39m_compiled_call_impl(\u001b[39m*\u001b[39margs, \u001b[39m*\u001b[39m\u001b[39m*\u001b[39mkwargs)  \u001b[39m# type: ignore[misc]\u001b[39;00m\n\u001b[1;32m   1517\u001b[0m \u001b[39melse\u001b[39;00m:\n\u001b[0;32m-> 1518\u001b[0m     \u001b[39mreturn\u001b[39;00m \u001b[39mself\u001b[39;49m\u001b[39m.\u001b[39;49m_call_impl(\u001b[39m*\u001b[39;49margs, \u001b[39m*\u001b[39;49m\u001b[39m*\u001b[39;49mkwargs)\n",
      "File \u001b[0;32m~/miniconda3/envs/tabnet/lib/python3.9/site-packages/torch/nn/modules/module.py:1527\u001b[0m, in \u001b[0;36mModule._call_impl\u001b[0;34m(self, *args, **kwargs)\u001b[0m\n\u001b[1;32m   1522\u001b[0m \u001b[39m# If we don't have any hooks, we want to skip the rest of the logic in\u001b[39;00m\n\u001b[1;32m   1523\u001b[0m \u001b[39m# this function, and just call forward.\u001b[39;00m\n\u001b[1;32m   1524\u001b[0m \u001b[39mif\u001b[39;00m \u001b[39mnot\u001b[39;00m (\u001b[39mself\u001b[39m\u001b[39m.\u001b[39m_backward_hooks \u001b[39mor\u001b[39;00m \u001b[39mself\u001b[39m\u001b[39m.\u001b[39m_backward_pre_hooks \u001b[39mor\u001b[39;00m \u001b[39mself\u001b[39m\u001b[39m.\u001b[39m_forward_hooks \u001b[39mor\u001b[39;00m \u001b[39mself\u001b[39m\u001b[39m.\u001b[39m_forward_pre_hooks\n\u001b[1;32m   1525\u001b[0m         \u001b[39mor\u001b[39;00m _global_backward_pre_hooks \u001b[39mor\u001b[39;00m _global_backward_hooks\n\u001b[1;32m   1526\u001b[0m         \u001b[39mor\u001b[39;00m _global_forward_hooks \u001b[39mor\u001b[39;00m _global_forward_pre_hooks):\n\u001b[0;32m-> 1527\u001b[0m     \u001b[39mreturn\u001b[39;00m forward_call(\u001b[39m*\u001b[39;49margs, \u001b[39m*\u001b[39;49m\u001b[39m*\u001b[39;49mkwargs)\n\u001b[1;32m   1529\u001b[0m \u001b[39mtry\u001b[39;00m:\n\u001b[1;32m   1530\u001b[0m     result \u001b[39m=\u001b[39m \u001b[39mNone\u001b[39;00m\n",
      "File \u001b[0;32m~/miniconda3/envs/tabnet/lib/python3.9/site-packages/pytorch_tabnet/tab_network.py:615\u001b[0m, in \u001b[0;36mTabNet.forward\u001b[0;34m(self, x)\u001b[0m\n\u001b[1;32m    614\u001b[0m \u001b[39mdef\u001b[39;00m \u001b[39mforward\u001b[39m(\u001b[39mself\u001b[39m, x):\n\u001b[0;32m--> 615\u001b[0m     x \u001b[39m=\u001b[39m \u001b[39mself\u001b[39;49m\u001b[39m.\u001b[39;49membedder(x)\n\u001b[1;32m    616\u001b[0m     \u001b[39mreturn\u001b[39;00m \u001b[39mself\u001b[39m\u001b[39m.\u001b[39mtabnet(x)\n",
      "File \u001b[0;32m~/miniconda3/envs/tabnet/lib/python3.9/site-packages/torch/nn/modules/module.py:1518\u001b[0m, in \u001b[0;36mModule._wrapped_call_impl\u001b[0;34m(self, *args, **kwargs)\u001b[0m\n\u001b[1;32m   1516\u001b[0m     \u001b[39mreturn\u001b[39;00m \u001b[39mself\u001b[39m\u001b[39m.\u001b[39m_compiled_call_impl(\u001b[39m*\u001b[39margs, \u001b[39m*\u001b[39m\u001b[39m*\u001b[39mkwargs)  \u001b[39m# type: ignore[misc]\u001b[39;00m\n\u001b[1;32m   1517\u001b[0m \u001b[39melse\u001b[39;00m:\n\u001b[0;32m-> 1518\u001b[0m     \u001b[39mreturn\u001b[39;00m \u001b[39mself\u001b[39;49m\u001b[39m.\u001b[39;49m_call_impl(\u001b[39m*\u001b[39;49margs, \u001b[39m*\u001b[39;49m\u001b[39m*\u001b[39;49mkwargs)\n",
      "File \u001b[0;32m~/miniconda3/envs/tabnet/lib/python3.9/site-packages/torch/nn/modules/module.py:1527\u001b[0m, in \u001b[0;36mModule._call_impl\u001b[0;34m(self, *args, **kwargs)\u001b[0m\n\u001b[1;32m   1522\u001b[0m \u001b[39m# If we don't have any hooks, we want to skip the rest of the logic in\u001b[39;00m\n\u001b[1;32m   1523\u001b[0m \u001b[39m# this function, and just call forward.\u001b[39;00m\n\u001b[1;32m   1524\u001b[0m \u001b[39mif\u001b[39;00m \u001b[39mnot\u001b[39;00m (\u001b[39mself\u001b[39m\u001b[39m.\u001b[39m_backward_hooks \u001b[39mor\u001b[39;00m \u001b[39mself\u001b[39m\u001b[39m.\u001b[39m_backward_pre_hooks \u001b[39mor\u001b[39;00m \u001b[39mself\u001b[39m\u001b[39m.\u001b[39m_forward_hooks \u001b[39mor\u001b[39;00m \u001b[39mself\u001b[39m\u001b[39m.\u001b[39m_forward_pre_hooks\n\u001b[1;32m   1525\u001b[0m         \u001b[39mor\u001b[39;00m _global_backward_pre_hooks \u001b[39mor\u001b[39;00m _global_backward_hooks\n\u001b[1;32m   1526\u001b[0m         \u001b[39mor\u001b[39;00m _global_forward_hooks \u001b[39mor\u001b[39;00m _global_forward_pre_hooks):\n\u001b[0;32m-> 1527\u001b[0m     \u001b[39mreturn\u001b[39;00m forward_call(\u001b[39m*\u001b[39;49margs, \u001b[39m*\u001b[39;49m\u001b[39m*\u001b[39;49mkwargs)\n\u001b[1;32m   1529\u001b[0m \u001b[39mtry\u001b[39;00m:\n\u001b[1;32m   1530\u001b[0m     result \u001b[39m=\u001b[39m \u001b[39mNone\u001b[39;00m\n",
      "File \u001b[0;32m~/miniconda3/envs/tabnet/lib/python3.9/site-packages/pytorch_tabnet/tab_network.py:890\u001b[0m, in \u001b[0;36mEmbeddingGenerator.forward\u001b[0;34m(self, x)\u001b[0m\n\u001b[1;32m    887\u001b[0m         cols\u001b[39m.\u001b[39mappend(x[:, feat_init_idx]\u001b[39m.\u001b[39mfloat()\u001b[39m.\u001b[39mview(\u001b[39m-\u001b[39m\u001b[39m1\u001b[39m, \u001b[39m1\u001b[39m))\n\u001b[1;32m    888\u001b[0m     \u001b[39melse\u001b[39;00m:\n\u001b[1;32m    889\u001b[0m         cols\u001b[39m.\u001b[39mappend(\n\u001b[0;32m--> 890\u001b[0m             \u001b[39mself\u001b[39;49m\u001b[39m.\u001b[39;49membeddings[cat_feat_counter](x[:, feat_init_idx]\u001b[39m.\u001b[39;49mlong())\n\u001b[1;32m    891\u001b[0m         )\n\u001b[1;32m    892\u001b[0m         cat_feat_counter \u001b[39m+\u001b[39m\u001b[39m=\u001b[39m \u001b[39m1\u001b[39m\n\u001b[1;32m    893\u001b[0m \u001b[39m# concat\u001b[39;00m\n",
      "File \u001b[0;32m~/miniconda3/envs/tabnet/lib/python3.9/site-packages/torch/nn/modules/module.py:1518\u001b[0m, in \u001b[0;36mModule._wrapped_call_impl\u001b[0;34m(self, *args, **kwargs)\u001b[0m\n\u001b[1;32m   1516\u001b[0m     \u001b[39mreturn\u001b[39;00m \u001b[39mself\u001b[39m\u001b[39m.\u001b[39m_compiled_call_impl(\u001b[39m*\u001b[39margs, \u001b[39m*\u001b[39m\u001b[39m*\u001b[39mkwargs)  \u001b[39m# type: ignore[misc]\u001b[39;00m\n\u001b[1;32m   1517\u001b[0m \u001b[39melse\u001b[39;00m:\n\u001b[0;32m-> 1518\u001b[0m     \u001b[39mreturn\u001b[39;00m \u001b[39mself\u001b[39;49m\u001b[39m.\u001b[39;49m_call_impl(\u001b[39m*\u001b[39;49margs, \u001b[39m*\u001b[39;49m\u001b[39m*\u001b[39;49mkwargs)\n",
      "File \u001b[0;32m~/miniconda3/envs/tabnet/lib/python3.9/site-packages/torch/nn/modules/module.py:1527\u001b[0m, in \u001b[0;36mModule._call_impl\u001b[0;34m(self, *args, **kwargs)\u001b[0m\n\u001b[1;32m   1522\u001b[0m \u001b[39m# If we don't have any hooks, we want to skip the rest of the logic in\u001b[39;00m\n\u001b[1;32m   1523\u001b[0m \u001b[39m# this function, and just call forward.\u001b[39;00m\n\u001b[1;32m   1524\u001b[0m \u001b[39mif\u001b[39;00m \u001b[39mnot\u001b[39;00m (\u001b[39mself\u001b[39m\u001b[39m.\u001b[39m_backward_hooks \u001b[39mor\u001b[39;00m \u001b[39mself\u001b[39m\u001b[39m.\u001b[39m_backward_pre_hooks \u001b[39mor\u001b[39;00m \u001b[39mself\u001b[39m\u001b[39m.\u001b[39m_forward_hooks \u001b[39mor\u001b[39;00m \u001b[39mself\u001b[39m\u001b[39m.\u001b[39m_forward_pre_hooks\n\u001b[1;32m   1525\u001b[0m         \u001b[39mor\u001b[39;00m _global_backward_pre_hooks \u001b[39mor\u001b[39;00m _global_backward_hooks\n\u001b[1;32m   1526\u001b[0m         \u001b[39mor\u001b[39;00m _global_forward_hooks \u001b[39mor\u001b[39;00m _global_forward_pre_hooks):\n\u001b[0;32m-> 1527\u001b[0m     \u001b[39mreturn\u001b[39;00m forward_call(\u001b[39m*\u001b[39;49margs, \u001b[39m*\u001b[39;49m\u001b[39m*\u001b[39;49mkwargs)\n\u001b[1;32m   1529\u001b[0m \u001b[39mtry\u001b[39;00m:\n\u001b[1;32m   1530\u001b[0m     result \u001b[39m=\u001b[39m \u001b[39mNone\u001b[39;00m\n",
      "File \u001b[0;32m~/miniconda3/envs/tabnet/lib/python3.9/site-packages/torch/nn/modules/sparse.py:162\u001b[0m, in \u001b[0;36mEmbedding.forward\u001b[0;34m(self, input)\u001b[0m\n\u001b[1;32m    161\u001b[0m \u001b[39mdef\u001b[39;00m \u001b[39mforward\u001b[39m(\u001b[39mself\u001b[39m, \u001b[39minput\u001b[39m: Tensor) \u001b[39m-\u001b[39m\u001b[39m>\u001b[39m Tensor:\n\u001b[0;32m--> 162\u001b[0m     \u001b[39mreturn\u001b[39;00m F\u001b[39m.\u001b[39;49membedding(\n\u001b[1;32m    163\u001b[0m         \u001b[39minput\u001b[39;49m, \u001b[39mself\u001b[39;49m\u001b[39m.\u001b[39;49mweight, \u001b[39mself\u001b[39;49m\u001b[39m.\u001b[39;49mpadding_idx, \u001b[39mself\u001b[39;49m\u001b[39m.\u001b[39;49mmax_norm,\n\u001b[1;32m    164\u001b[0m         \u001b[39mself\u001b[39;49m\u001b[39m.\u001b[39;49mnorm_type, \u001b[39mself\u001b[39;49m\u001b[39m.\u001b[39;49mscale_grad_by_freq, \u001b[39mself\u001b[39;49m\u001b[39m.\u001b[39;49msparse)\n",
      "File \u001b[0;32m~/miniconda3/envs/tabnet/lib/python3.9/site-packages/torch/nn/functional.py:2233\u001b[0m, in \u001b[0;36membedding\u001b[0;34m(input, weight, padding_idx, max_norm, norm_type, scale_grad_by_freq, sparse)\u001b[0m\n\u001b[1;32m   2227\u001b[0m     \u001b[39m# Note [embedding_renorm set_grad_enabled]\u001b[39;00m\n\u001b[1;32m   2228\u001b[0m     \u001b[39m# XXX: equivalent to\u001b[39;00m\n\u001b[1;32m   2229\u001b[0m     \u001b[39m# with torch.no_grad():\u001b[39;00m\n\u001b[1;32m   2230\u001b[0m     \u001b[39m#   torch.embedding_renorm_\u001b[39;00m\n\u001b[1;32m   2231\u001b[0m     \u001b[39m# remove once script supports set_grad_enabled\u001b[39;00m\n\u001b[1;32m   2232\u001b[0m     _no_grad_embedding_renorm_(weight, \u001b[39minput\u001b[39m, max_norm, norm_type)\n\u001b[0;32m-> 2233\u001b[0m \u001b[39mreturn\u001b[39;00m torch\u001b[39m.\u001b[39;49membedding(weight, \u001b[39minput\u001b[39;49m, padding_idx, scale_grad_by_freq, sparse)\n",
      "\u001b[0;31mIndexError\u001b[0m: index out of range in self"
     ]
    }
   ],
   "source": [
    "# Shuffle training data\n",
    "X_train_enc, y_train_enc = shuffle(X_train_enc, y_train_enc, random_state=42)\n",
    "\n",
    "if AUGMENTATION == 'SMOTE'or AUGMENTATION == 'SMOTE-NC':\n",
    "    # pytorch_tabnet default parameters\n",
    "    tabnet = TabNetClassifier()\n",
    "    \n",
    "    tabnet.fit(X_train=X_train_enc.values, \n",
    "               y_train=y_train_enc,\n",
    "               augmentations=None,\n",
    "               max_epochs=100,\n",
    "               )\n",
    "else: # AUGMENTATION == 'None', 'RealTabFormer', 'GReaT'\n",
    "    \n",
    "    # retrieve the categorical features indexes and their dimension\n",
    "    cat_cols = info['categorical_columns']\n",
    "    cat_idxs = [ i for i, f in enumerate(X_train_enc.columns) if f in cat_cols]\n",
    "    print(cat_idxs)\n",
    "    # using X_train_enc.values instead of X_train_enc to avoid error\n",
    "    cat_dims = [ len(set(X_train_enc.values[:, i])) for i in cat_idxs] \n",
    "    print(cat_dims)\n",
    "\n",
    "    tabnet = TabNetClassifier(cat_idxs=cat_idxs,\n",
    "                              cat_dims=cat_dims,\n",
    "                              cat_emb_dim=10,    # categorical features embedding dimension\n",
    "                              )\n",
    "    tabnet.fit(X_train=X_train_enc.values, \n",
    "               y_train=y_train_enc,\n",
    "               augmentations=None,\n",
    "               max_epochs=100,\n",
    "               )"
   ]
  },
  {
   "cell_type": "code",
   "execution_count": 113,
   "metadata": {},
   "outputs": [
    {
     "name": "stdout",
     "output_type": "stream",
     "text": [
      "[6, 7, 8, 25, 31, 39, 40]\n",
      "[9, 5, 13, 8, 7, 3, 3]\n"
     ]
    }
   ],
   "source": [
    "# retrieve the categorical features indexes and their dimension\n",
    "cat_cols = info['categorical_columns']\n",
    "cat_idxs = [ i for i, f in enumerate(X_train_enc.columns) if f in cat_cols]\n",
    "print(cat_idxs)\n",
    "# using X_train_enc.values instead of X_train_enc to avoid error\n",
    "cat_dims = [ len(set(X_train_enc.values[:, i])) for i in cat_idxs] \n",
    "print(cat_dims)"
   ]
  },
  {
   "cell_type": "code",
   "execution_count": 115,
   "metadata": {},
   "outputs": [
    {
     "name": "stdout",
     "output_type": "stream",
     "text": [
      "[6, 7, 8, 25, 31, 39, 40]\n",
      "[9, 5, 13, 8, 7, 3, 3]\n"
     ]
    }
   ],
   "source": [
    "# calculate the categorical features indexes and their dimension from X_train\n",
    "cat_idxs = [ i for i, f in enumerate(X_train.columns) if f in cat_cols]\n",
    "print(cat_idxs)\n",
    "# count unique values in each categorical feature\n",
    "cat_dims = [ len(set(X_train.values[:, i])) for i in cat_idxs]\n",
    "print(cat_dims)"
   ]
  },
  {
   "cell_type": "code",
   "execution_count": null,
   "metadata": {},
   "outputs": [
    {
     "name": "stdout",
     "output_type": "stream",
     "text": [
      "X_train_enc has NaN values? False\n",
      "y_train_enc has NaN values? False\n",
      "X_test_enc  has NaN values? False\n",
      "y_test_enc  has NaN values? False\n"
     ]
    }
   ],
   "source": [
    "# check if X_train_enc, y_train_enc, X_test_enc, y_test_enc have NaN values in one line\n",
    "print(f\"X_train_enc has NaN values? {np.isnan(X_train_enc.values).any()}\\ny_train_enc has NaN values? {np.isnan(y_train_enc).any()}\")\n",
    "print(f\"X_test_enc  has NaN values? {np.isnan(X_test_enc.values).any()}\\ny_test_enc  has NaN values? {np.isnan(y_test_enc).any()}\")"
   ]
  },
  {
   "cell_type": "code",
   "execution_count": null,
   "metadata": {},
   "outputs": [
    {
     "name": "stdout",
     "output_type": "stream",
     "text": [
      "X_train_enc has categorical values? False\n",
      "X_test_enc  has categorical values? False\n"
     ]
    }
   ],
   "source": [
    "# check if X_train_enc, y_train_enc, X_test_enc, y_test_enc have any categorical values\n",
    "print(f\"X_train_enc has categorical values? {X_train_enc.select_dtypes(include=['object']).any().any()}\")\n",
    "print(f\"X_test_enc  has categorical values? {X_test_enc.select_dtypes(include=['object']).any().any()}\")"
   ]
  },
  {
   "cell_type": "code",
   "execution_count": 112,
   "metadata": {},
   "outputs": [
    {
     "name": "stdout",
     "output_type": "stream",
     "text": [
      "X_train_enc categorical columns datatypes:\n",
      "http.request.version    int64\n",
      "mqtt.protoname          int64\n",
      "mqtt.conack.flags       int64\n",
      "http.referer            int64\n",
      "http.request.method     int64\n",
      "dns.qry.name.len        int64\n",
      "mqtt.topic              int64\n",
      "dtype: object\n"
     ]
    }
   ],
   "source": [
    "# print the datatypes from the categorical columns\n",
    "print(f\"X_train_enc categorical columns datatypes:\\n{X_train_enc[cat_cols].dtypes}\")\n"
   ]
  },
  {
   "cell_type": "code",
   "execution_count": null,
   "metadata": {},
   "outputs": [
    {
     "name": "stdout",
     "output_type": "stream",
     "text": [
      "Number of unique values in each categorical column:\n",
      "http.request.method: 9\n",
      "http.referer: 5\n",
      "http.request.version: 13\n",
      "dns.qry.name.len: 8\n",
      "mqtt.conack.flags: 7\n",
      "mqtt.protoname: 3\n",
      "mqtt.topic: 3\n"
     ]
    }
   ],
   "source": [
    "# Print the number of unique values for each categorical column\n",
    "print(\"Number of unique values in each categorical column:\")\n",
    "for idx in cat_idxs:\n",
    "    print(f\"{X_train_enc.columns[idx]}: {len(X_train_enc.iloc[:, idx].unique())}\")"
   ]
  },
  {
   "cell_type": "markdown",
   "metadata": {},
   "source": [
    "#### Save model"
   ]
  },
  {
   "cell_type": "code",
   "execution_count": null,
   "metadata": {},
   "outputs": [
    {
     "name": "stdout",
     "output_type": "stream",
     "text": [
      "Successfully saved model at checkpoints/tabnet/tabnet_SMOTE-NC.zip\n"
     ]
    }
   ],
   "source": [
    "saved_filename = tabnet.save_model(f'checkpoints/tabnet/tabnet_{AUGMENTATION}')"
   ]
  },
  {
   "cell_type": "markdown",
   "metadata": {},
   "source": [
    "### Model Evaluation"
   ]
  },
  {
   "cell_type": "code",
   "execution_count": null,
   "metadata": {},
   "outputs": [],
   "source": [
    "predictions = tabnet.predict(X_test_enc.values)"
   ]
  },
  {
   "cell_type": "markdown",
   "metadata": {},
   "source": [
    "#### Metrics"
   ]
  },
  {
   "cell_type": "code",
   "execution_count": null,
   "metadata": {},
   "outputs": [],
   "source": [
    "accuracy = metrics.accuracy_score(y_test_enc, predictions)\n",
    "precision_w = metrics.precision_score(y_test_enc, predictions, average='weighted', zero_division=1)\n",
    "recall_w = metrics.recall_score(y_test_enc, predictions, average='weighted')\n",
    "f1_score_w = metrics.f1_score(y_test_enc, predictions, average='weighted')\n",
    "precision_m = metrics.precision_score(y_test_enc, predictions, average='macro', zero_division=1)\n",
    "recall_m = metrics.recall_score(y_test_enc, predictions, average='macro')\n",
    "f1_score_m = metrics.f1_score(y_test_enc, predictions, average='macro')"
   ]
  },
  {
   "cell_type": "code",
   "execution_count": null,
   "metadata": {},
   "outputs": [
    {
     "name": "stdout",
     "output_type": "stream",
     "text": [
      "╒══════════════════════╤═════════╕\n",
      "│ Metric               │ Value   │\n",
      "╞══════════════════════╪═════════╡\n",
      "│ Accuracy             │ 90.85%  │\n",
      "├──────────────────────┼─────────┤\n",
      "│ Precision (macro)    │ 81.50%  │\n",
      "├──────────────────────┼─────────┤\n",
      "│ Recall (macro)       │ 63.00%  │\n",
      "├──────────────────────┼─────────┤\n",
      "│ F1 (macro)           │ 60.37%  │\n",
      "├──────────────────────┼─────────┤\n",
      "│ Precision (weighted) │ 94.02%  │\n",
      "├──────────────────────┼─────────┤\n",
      "│ Recall (weighted)    │ 90.85%  │\n",
      "├──────────────────────┼─────────┤\n",
      "│ F1 (weighted)        │ 90.04%  │\n",
      "╘══════════════════════╧═════════╛\n"
     ]
    }
   ],
   "source": [
    "# Create dictionary for results\n",
    "results = {\n",
    "    \"model\": \"TabNet\",\n",
    "    \"augmentations\": AUGMENTATION,\n",
    "    \"timestamp\": datetime.datetime.now().strftime(\"%Y-%m-%d %H:%M:%S\"),\n",
    "    \"accuracy\": accuracy,\n",
    "    \"precision_macro\": precision_m,\n",
    "    \"recall_macro\": recall_m,\n",
    "    \"f1_macro\": f1_score_m,\n",
    "    \"precision_weighted\": precision_w,\n",
    "    \"recall_weighted\": recall_w,\n",
    "    \"f1_weighted\": f1_score_w\n",
    "    }\n",
    "\n",
    "utils.print_results_table(results)"
   ]
  },
  {
   "cell_type": "markdown",
   "metadata": {},
   "source": [
    "#### Save Metrics Results "
   ]
  },
  {
   "cell_type": "code",
   "execution_count": null,
   "metadata": {},
   "outputs": [],
   "source": [
    "# save results to csv   \n",
    "utils.save_results_to_csv([results], '../results/metrics/tabnet.csv')"
   ]
  },
  {
   "cell_type": "markdown",
   "metadata": {},
   "source": [
    "#### Confusion matrix"
   ]
  },
  {
   "cell_type": "code",
   "execution_count": null,
   "metadata": {},
   "outputs": [
    {
     "data": {
      "text/html": [
       "<div>\n",
       "<style scoped>\n",
       "    .dataframe tbody tr th:only-of-type {\n",
       "        vertical-align: middle;\n",
       "    }\n",
       "\n",
       "    .dataframe tbody tr th {\n",
       "        vertical-align: top;\n",
       "    }\n",
       "\n",
       "    .dataframe thead th {\n",
       "        text-align: right;\n",
       "    }\n",
       "</style>\n",
       "<table border=\"1\" class=\"dataframe\">\n",
       "  <thead>\n",
       "    <tr style=\"text-align: right;\">\n",
       "      <th>Predicted</th>\n",
       "      <th>Backdoor</th>\n",
       "      <th>DDoS_HTTP</th>\n",
       "      <th>DDoS_ICMP</th>\n",
       "      <th>DDoS_TCP</th>\n",
       "      <th>DDoS_UDP</th>\n",
       "      <th>Fingerprinting</th>\n",
       "      <th>MITM</th>\n",
       "      <th>Normal</th>\n",
       "      <th>Password</th>\n",
       "      <th>Port_Scanning</th>\n",
       "      <th>Ransomware</th>\n",
       "      <th>SQL_injection</th>\n",
       "      <th>Uploading</th>\n",
       "      <th>Vulnerability_scanner</th>\n",
       "      <th>XSS</th>\n",
       "    </tr>\n",
       "    <tr>\n",
       "      <th>Actual</th>\n",
       "      <th></th>\n",
       "      <th></th>\n",
       "      <th></th>\n",
       "      <th></th>\n",
       "      <th></th>\n",
       "      <th></th>\n",
       "      <th></th>\n",
       "      <th></th>\n",
       "      <th></th>\n",
       "      <th></th>\n",
       "      <th></th>\n",
       "      <th></th>\n",
       "      <th></th>\n",
       "      <th></th>\n",
       "      <th></th>\n",
       "    </tr>\n",
       "  </thead>\n",
       "  <tbody>\n",
       "    <tr>\n",
       "      <th>Backdoor</th>\n",
       "      <td>4453</td>\n",
       "      <td>0</td>\n",
       "      <td>1</td>\n",
       "      <td>169</td>\n",
       "      <td>0</td>\n",
       "      <td>0</td>\n",
       "      <td>0</td>\n",
       "      <td>0</td>\n",
       "      <td>0</td>\n",
       "      <td>86</td>\n",
       "      <td>73</td>\n",
       "      <td>0</td>\n",
       "      <td>0</td>\n",
       "      <td>0</td>\n",
       "      <td>0</td>\n",
       "    </tr>\n",
       "    <tr>\n",
       "      <th>DDoS_HTTP</th>\n",
       "      <td>0</td>\n",
       "      <td>3290</td>\n",
       "      <td>0</td>\n",
       "      <td>0</td>\n",
       "      <td>0</td>\n",
       "      <td>0</td>\n",
       "      <td>0</td>\n",
       "      <td>0</td>\n",
       "      <td>0</td>\n",
       "      <td>0</td>\n",
       "      <td>0</td>\n",
       "      <td>0</td>\n",
       "      <td>0</td>\n",
       "      <td>6334</td>\n",
       "      <td>4</td>\n",
       "    </tr>\n",
       "    <tr>\n",
       "      <th>DDoS_ICMP</th>\n",
       "      <td>0</td>\n",
       "      <td>0</td>\n",
       "      <td>13501</td>\n",
       "      <td>0</td>\n",
       "      <td>0</td>\n",
       "      <td>0</td>\n",
       "      <td>0</td>\n",
       "      <td>0</td>\n",
       "      <td>0</td>\n",
       "      <td>0</td>\n",
       "      <td>0</td>\n",
       "      <td>0</td>\n",
       "      <td>0</td>\n",
       "      <td>0</td>\n",
       "      <td>0</td>\n",
       "    </tr>\n",
       "    <tr>\n",
       "      <th>DDoS_TCP</th>\n",
       "      <td>0</td>\n",
       "      <td>0</td>\n",
       "      <td>0</td>\n",
       "      <td>5816</td>\n",
       "      <td>0</td>\n",
       "      <td>0</td>\n",
       "      <td>0</td>\n",
       "      <td>0</td>\n",
       "      <td>0</td>\n",
       "      <td>4193</td>\n",
       "      <td>0</td>\n",
       "      <td>0</td>\n",
       "      <td>0</td>\n",
       "      <td>0</td>\n",
       "      <td>0</td>\n",
       "    </tr>\n",
       "    <tr>\n",
       "      <th>DDoS_UDP</th>\n",
       "      <td>0</td>\n",
       "      <td>0</td>\n",
       "      <td>4129</td>\n",
       "      <td>0</td>\n",
       "      <td>20472</td>\n",
       "      <td>0</td>\n",
       "      <td>0</td>\n",
       "      <td>0</td>\n",
       "      <td>0</td>\n",
       "      <td>0</td>\n",
       "      <td>0</td>\n",
       "      <td>0</td>\n",
       "      <td>0</td>\n",
       "      <td>0</td>\n",
       "      <td>0</td>\n",
       "    </tr>\n",
       "    <tr>\n",
       "      <th>Fingerprinting</th>\n",
       "      <td>0</td>\n",
       "      <td>0</td>\n",
       "      <td>99</td>\n",
       "      <td>24</td>\n",
       "      <td>0</td>\n",
       "      <td>0</td>\n",
       "      <td>0</td>\n",
       "      <td>0</td>\n",
       "      <td>0</td>\n",
       "      <td>23</td>\n",
       "      <td>0</td>\n",
       "      <td>0</td>\n",
       "      <td>0</td>\n",
       "      <td>0</td>\n",
       "      <td>0</td>\n",
       "    </tr>\n",
       "    <tr>\n",
       "      <th>MITM</th>\n",
       "      <td>0</td>\n",
       "      <td>0</td>\n",
       "      <td>0</td>\n",
       "      <td>0</td>\n",
       "      <td>0</td>\n",
       "      <td>0</td>\n",
       "      <td>76</td>\n",
       "      <td>0</td>\n",
       "      <td>0</td>\n",
       "      <td>0</td>\n",
       "      <td>0</td>\n",
       "      <td>0</td>\n",
       "      <td>0</td>\n",
       "      <td>0</td>\n",
       "      <td>0</td>\n",
       "    </tr>\n",
       "    <tr>\n",
       "      <th>Normal</th>\n",
       "      <td>0</td>\n",
       "      <td>0</td>\n",
       "      <td>0</td>\n",
       "      <td>0</td>\n",
       "      <td>0</td>\n",
       "      <td>0</td>\n",
       "      <td>7</td>\n",
       "      <td>272743</td>\n",
       "      <td>0</td>\n",
       "      <td>0</td>\n",
       "      <td>0</td>\n",
       "      <td>0</td>\n",
       "      <td>26</td>\n",
       "      <td>0</td>\n",
       "      <td>0</td>\n",
       "    </tr>\n",
       "    <tr>\n",
       "      <th>Password</th>\n",
       "      <td>0</td>\n",
       "      <td>0</td>\n",
       "      <td>0</td>\n",
       "      <td>0</td>\n",
       "      <td>0</td>\n",
       "      <td>0</td>\n",
       "      <td>0</td>\n",
       "      <td>0</td>\n",
       "      <td>9884</td>\n",
       "      <td>0</td>\n",
       "      <td>0</td>\n",
       "      <td>224</td>\n",
       "      <td>0</td>\n",
       "      <td>0</td>\n",
       "      <td>0</td>\n",
       "    </tr>\n",
       "    <tr>\n",
       "      <th>Port_Scanning</th>\n",
       "      <td>0</td>\n",
       "      <td>0</td>\n",
       "      <td>0</td>\n",
       "      <td>2035</td>\n",
       "      <td>0</td>\n",
       "      <td>0</td>\n",
       "      <td>0</td>\n",
       "      <td>0</td>\n",
       "      <td>0</td>\n",
       "      <td>2027</td>\n",
       "      <td>0</td>\n",
       "      <td>0</td>\n",
       "      <td>0</td>\n",
       "      <td>0</td>\n",
       "      <td>0</td>\n",
       "    </tr>\n",
       "    <tr>\n",
       "      <th>Ransomware</th>\n",
       "      <td>2</td>\n",
       "      <td>0</td>\n",
       "      <td>0</td>\n",
       "      <td>103</td>\n",
       "      <td>0</td>\n",
       "      <td>0</td>\n",
       "      <td>0</td>\n",
       "      <td>0</td>\n",
       "      <td>0</td>\n",
       "      <td>48</td>\n",
       "      <td>1773</td>\n",
       "      <td>0</td>\n",
       "      <td>0</td>\n",
       "      <td>0</td>\n",
       "      <td>0</td>\n",
       "    </tr>\n",
       "    <tr>\n",
       "      <th>SQL_injection</th>\n",
       "      <td>0</td>\n",
       "      <td>0</td>\n",
       "      <td>0</td>\n",
       "      <td>0</td>\n",
       "      <td>0</td>\n",
       "      <td>0</td>\n",
       "      <td>0</td>\n",
       "      <td>0</td>\n",
       "      <td>8364</td>\n",
       "      <td>0</td>\n",
       "      <td>0</td>\n",
       "      <td>1707</td>\n",
       "      <td>0</td>\n",
       "      <td>0</td>\n",
       "      <td>0</td>\n",
       "    </tr>\n",
       "    <tr>\n",
       "      <th>Uploading</th>\n",
       "      <td>0</td>\n",
       "      <td>0</td>\n",
       "      <td>0</td>\n",
       "      <td>0</td>\n",
       "      <td>0</td>\n",
       "      <td>0</td>\n",
       "      <td>0</td>\n",
       "      <td>0</td>\n",
       "      <td>5615</td>\n",
       "      <td>0</td>\n",
       "      <td>0</td>\n",
       "      <td>402</td>\n",
       "      <td>1256</td>\n",
       "      <td>0</td>\n",
       "      <td>0</td>\n",
       "    </tr>\n",
       "    <tr>\n",
       "      <th>Vulnerability_scanner</th>\n",
       "      <td>0</td>\n",
       "      <td>20</td>\n",
       "      <td>0</td>\n",
       "      <td>0</td>\n",
       "      <td>0</td>\n",
       "      <td>0</td>\n",
       "      <td>0</td>\n",
       "      <td>0</td>\n",
       "      <td>0</td>\n",
       "      <td>0</td>\n",
       "      <td>0</td>\n",
       "      <td>0</td>\n",
       "      <td>0</td>\n",
       "      <td>9917</td>\n",
       "      <td>3</td>\n",
       "    </tr>\n",
       "    <tr>\n",
       "      <th>XSS</th>\n",
       "      <td>0</td>\n",
       "      <td>5</td>\n",
       "      <td>0</td>\n",
       "      <td>0</td>\n",
       "      <td>0</td>\n",
       "      <td>0</td>\n",
       "      <td>0</td>\n",
       "      <td>0</td>\n",
       "      <td>0</td>\n",
       "      <td>0</td>\n",
       "      <td>0</td>\n",
       "      <td>0</td>\n",
       "      <td>0</td>\n",
       "      <td>2947</td>\n",
       "      <td>83</td>\n",
       "    </tr>\n",
       "  </tbody>\n",
       "</table>\n",
       "</div>"
      ],
      "text/plain": [
       "Predicted              Backdoor  DDoS_HTTP  DDoS_ICMP  DDoS_TCP  DDoS_UDP  \\\n",
       "Actual                                                                      \n",
       "Backdoor                   4453          0          1       169         0   \n",
       "DDoS_HTTP                     0       3290          0         0         0   \n",
       "DDoS_ICMP                     0          0      13501         0         0   \n",
       "DDoS_TCP                      0          0          0      5816         0   \n",
       "DDoS_UDP                      0          0       4129         0     20472   \n",
       "Fingerprinting                0          0         99        24         0   \n",
       "MITM                          0          0          0         0         0   \n",
       "Normal                        0          0          0         0         0   \n",
       "Password                      0          0          0         0         0   \n",
       "Port_Scanning                 0          0          0      2035         0   \n",
       "Ransomware                    2          0          0       103         0   \n",
       "SQL_injection                 0          0          0         0         0   \n",
       "Uploading                     0          0          0         0         0   \n",
       "Vulnerability_scanner         0         20          0         0         0   \n",
       "XSS                           0          5          0         0         0   \n",
       "\n",
       "Predicted              Fingerprinting  MITM  Normal  Password  Port_Scanning  \\\n",
       "Actual                                                                         \n",
       "Backdoor                            0     0       0         0             86   \n",
       "DDoS_HTTP                           0     0       0         0              0   \n",
       "DDoS_ICMP                           0     0       0         0              0   \n",
       "DDoS_TCP                            0     0       0         0           4193   \n",
       "DDoS_UDP                            0     0       0         0              0   \n",
       "Fingerprinting                      0     0       0         0             23   \n",
       "MITM                                0    76       0         0              0   \n",
       "Normal                              0     7  272743         0              0   \n",
       "Password                            0     0       0      9884              0   \n",
       "Port_Scanning                       0     0       0         0           2027   \n",
       "Ransomware                          0     0       0         0             48   \n",
       "SQL_injection                       0     0       0      8364              0   \n",
       "Uploading                           0     0       0      5615              0   \n",
       "Vulnerability_scanner               0     0       0         0              0   \n",
       "XSS                                 0     0       0         0              0   \n",
       "\n",
       "Predicted              Ransomware  SQL_injection  Uploading  \\\n",
       "Actual                                                        \n",
       "Backdoor                       73              0          0   \n",
       "DDoS_HTTP                       0              0          0   \n",
       "DDoS_ICMP                       0              0          0   \n",
       "DDoS_TCP                        0              0          0   \n",
       "DDoS_UDP                        0              0          0   \n",
       "Fingerprinting                  0              0          0   \n",
       "MITM                            0              0          0   \n",
       "Normal                          0              0         26   \n",
       "Password                        0            224          0   \n",
       "Port_Scanning                   0              0          0   \n",
       "Ransomware                   1773              0          0   \n",
       "SQL_injection                   0           1707          0   \n",
       "Uploading                       0            402       1256   \n",
       "Vulnerability_scanner           0              0          0   \n",
       "XSS                             0              0          0   \n",
       "\n",
       "Predicted              Vulnerability_scanner  XSS  \n",
       "Actual                                             \n",
       "Backdoor                                   0    0  \n",
       "DDoS_HTTP                               6334    4  \n",
       "DDoS_ICMP                                  0    0  \n",
       "DDoS_TCP                                   0    0  \n",
       "DDoS_UDP                                   0    0  \n",
       "Fingerprinting                             0    0  \n",
       "MITM                                       0    0  \n",
       "Normal                                     0    0  \n",
       "Password                                   0    0  \n",
       "Port_Scanning                              0    0  \n",
       "Ransomware                                 0    0  \n",
       "SQL_injection                              0    0  \n",
       "Uploading                                  0    0  \n",
       "Vulnerability_scanner                   9917    3  \n",
       "XSS                                     2947   83  "
      ]
     },
     "execution_count": 13,
     "metadata": {},
     "output_type": "execute_result"
    }
   ],
   "source": [
    "conf_mat = metrics.confusion_matrix(y_test_enc, predictions)\n",
    "\n",
    "attack_labels = ['Backdoor', 'DDoS_HTTP', 'DDoS_ICMP', 'DDoS_TCP', 'DDoS_UDP', \n",
    "'Fingerprinting', 'MITM', 'Normal', 'Password', 'Port_Scanning', 'Ransomware', \n",
    "'SQL_injection', 'Uploading', 'Vulnerability_scanner', 'XSS']\n",
    "\n",
    "# Create a dataframe from the confusion matrix\n",
    "conf_mat_df = pd.DataFrame(conf_mat, \n",
    "                           index = attack_labels, \n",
    "                           columns = attack_labels)\n",
    "conf_mat_df.index.name = 'Actual'\n",
    "conf_mat_df.columns.name = 'Predicted'\n",
    "\n",
    "# Save the confusion matrix\n",
    "conf_mat_df.to_csv(f\"../results/conf_matrix/{results['model']}_{results['augmentations']}.csv\")\n",
    "conf_mat_df"
   ]
  }
 ],
 "metadata": {
  "kernelspec": {
   "display_name": "data_augment",
   "language": "python",
   "name": "python3"
  },
  "language_info": {
   "codemirror_mode": {
    "name": "ipython",
    "version": 3
   },
   "file_extension": ".py",
   "mimetype": "text/x-python",
   "name": "python",
   "nbconvert_exporter": "python",
   "pygments_lexer": "ipython3",
   "version": "3.9.18"
  }
 },
 "nbformat": 4,
 "nbformat_minor": 2
}
