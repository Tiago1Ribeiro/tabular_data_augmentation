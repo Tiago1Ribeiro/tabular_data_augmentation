{
 "cells": [
  {
   "cell_type": "markdown",
   "metadata": {},
   "source": [
    "### Libraries"
   ]
  },
  {
   "cell_type": "code",
   "execution_count": 31,
   "metadata": {},
   "outputs": [],
   "source": [
    "%%capture\n",
    "%reset -f                        # clear all variables from the workspace\n",
    "'generic imports'\n",
    "import os\n",
    "import pandas as pd\n",
    "import datetime\n",
    "import numpy as np\n",
    "import sys\n",
    "sys.path.append(os.path.abspath('..'))\n",
    "from src import utils\n",
    "import importlib\n",
    "importlib.reload(utils)        \n",
    "\n",
    "'machine learning imports'\n",
    "import torch\n",
    "from pytorch_tabnet.tab_model import TabNetClassifier\n",
    "from sklearn import metrics\n",
    "from sklearn.preprocessing import LabelEncoder\n",
    "from sklearn.utils import shuffle"
   ]
  },
  {
   "cell_type": "markdown",
   "metadata": {},
   "source": [
    "### GPU"
   ]
  },
  {
   "cell_type": "code",
   "execution_count": 32,
   "metadata": {},
   "outputs": [
    {
     "name": "stdout",
     "output_type": "stream",
     "text": [
      "Using CPU\n"
     ]
    }
   ],
   "source": [
    "DEVICE = 'CUDA' if torch.cuda.is_available() else 'CPU'\n",
    "print(\"Using {}\".format(DEVICE))\n",
    "\n",
    "# Info on the device available memory\n",
    "if DEVICE == 'CUDA':\n",
    "    gpu = torch.device('cuda')\n",
    "    total_memory = torch.cuda.get_device_properties(gpu).total_memory / 1024**3\n",
    "    current_memory = torch.cuda.memory_allocated(gpu) / 1024**3\n",
    "\n",
    "    print(f'Total GPU memory: {total_memory:.1f} GB | Current usage: {current_memory:.1f} GB')"
   ]
  },
  {
   "cell_type": "markdown",
   "metadata": {},
   "source": [
    "### Load data"
   ]
  },
  {
   "cell_type": "code",
   "execution_count": 33,
   "metadata": {},
   "outputs": [
    {
     "name": "stdout",
     "output_type": "stream",
     "text": [
      "Loading complete.\n",
      "Train data: 1500000 rows, 46 columns. \n",
      "Test data: 381934 rows, 46 columns.\n"
     ]
    }
   ],
   "source": [
    "AUGMENTATION = 'RealTabFormer' # options: 'None', 'GReat', 'SMOTE', 'SMOTE-NC' or 'RealTabFormer'\n",
    "\n",
    "data_dir = os.path.abspath('../data')\n",
    "\n",
    "# Load the train and test datasets\n",
    "df_train, df_test = utils.load_dataset(data_directory=data_dir, \n",
    "                                       augmentation=AUGMENTATION, \n",
    "                                       ignore_columns=['mbtcp.unit_id', \n",
    "                                                       'mbtcp.trans_id']) "
   ]
  },
  {
   "cell_type": "markdown",
   "metadata": {},
   "source": [
    "### Data preparation"
   ]
  },
  {
   "cell_type": "code",
   "execution_count": 34,
   "metadata": {},
   "outputs": [],
   "source": [
    "# Creates X_train, y_train\n",
    "X_train = df_train.drop(['Attack_label', 'Attack_type'], axis=1)\n",
    "y_train = df_train['Attack_type']\n",
    "\n",
    "# Creates X_test, y_test\n",
    "X_test = df_test.drop(['Attack_label', 'Attack_type'], axis=1)\n",
    "y_test = df_test['Attack_type']"
   ]
  },
  {
   "cell_type": "markdown",
   "metadata": {},
   "source": [
    "#### Convert categorical features to one-hot encoded features"
   ]
  },
  {
   "cell_type": "code",
   "execution_count": 35,
   "metadata": {},
   "outputs": [
    {
     "name": "stdout",
     "output_type": "stream",
     "text": [
      "Categorical features to be encoded:\n",
      "\n",
      "mqtt.conack.flags\n",
      "http.request.method\n",
      "dns.qry.name.len\n",
      "http.referer\n",
      "http.request.version\n",
      "mqtt.topic\n",
      "mqtt.protoname\n",
      "\n",
      "Encoding complete.\n",
      "No of features before encoding: 44\n",
      "No of features after encoding: 44\n"
     ]
    }
   ],
   "source": [
    "# Encode the training and test labels if needed\n",
    "X_train_enc, X_test_enc, info = utils.encode_categorical(X_train, X_test, encoding='label')"
   ]
  },
  {
   "cell_type": "markdown",
   "metadata": {},
   "source": [
    "#### Label encoding"
   ]
  },
  {
   "cell_type": "code",
   "execution_count": 36,
   "metadata": {},
   "outputs": [
    {
     "name": "stdout",
     "output_type": "stream",
     "text": [
      "Attack_type and encoded labels:\n",
      "\n",
      "Backdoor                0\n",
      "DDoS_HTTP               1\n",
      "DDoS_ICMP               2\n",
      "DDoS_TCP                3\n",
      "DDoS_UDP                4\n",
      "Fingerprinting          5\n",
      "MITM                    6\n",
      "Normal                  7\n",
      "Password                8\n",
      "Port_Scanning           9\n",
      "Ransomware              10\n",
      "SQL_injection           11\n",
      "Uploading               12\n",
      "Vulnerability_scanner   13\n",
      "XSS                     14\n"
     ]
    }
   ],
   "source": [
    "y_train_enc, y_test_enc, le = utils.encode_labels(y_train, y_test)"
   ]
  },
  {
   "cell_type": "markdown",
   "metadata": {},
   "source": [
    "### Model Training"
   ]
  },
  {
   "cell_type": "code",
   "execution_count": 37,
   "metadata": {},
   "outputs": [
    {
     "name": "stderr",
     "output_type": "stream",
     "text": [
      "/home/tiagociic/miniconda3/envs/tabnet/lib/python3.9/site-packages/pytorch_tabnet/abstract_model.py:82: UserWarning: Device used : cpu\n",
      "  warnings.warn(f\"Device used : {self.device}\")\n",
      "/home/tiagociic/miniconda3/envs/tabnet/lib/python3.9/site-packages/pytorch_tabnet/abstract_model.py:687: UserWarning: No early stopping will be performed, last training weights will be used.\n",
      "  warnings.warn(wrn_msg)\n"
     ]
    },
    {
     "name": "stdout",
     "output_type": "stream",
     "text": [
      "epoch 0  | loss: 0.67829 |  0:01:04s\n",
      "epoch 1  | loss: 0.56153 |  0:02:07s\n",
      "epoch 2  | loss: 0.53293 |  0:03:11s\n",
      "epoch 3  | loss: 0.48137 |  0:04:16s\n",
      "epoch 4  | loss: 0.46756 |  0:05:22s\n",
      "epoch 5  | loss: 0.4614  |  0:06:26s\n",
      "epoch 6  | loss: 0.45605 |  0:07:29s\n",
      "epoch 7  | loss: 0.45245 |  0:08:33s\n",
      "epoch 8  | loss: 0.44822 |  0:09:38s\n",
      "epoch 9  | loss: 0.44803 |  0:10:42s\n",
      "epoch 10 | loss: 0.44524 |  0:11:45s\n",
      "epoch 11 | loss: 0.44361 |  0:12:49s\n",
      "epoch 12 | loss: 0.44244 |  0:13:53s\n",
      "epoch 13 | loss: 0.44187 |  0:14:58s\n",
      "epoch 14 | loss: 0.44064 |  0:16:01s\n",
      "epoch 15 | loss: 0.44201 |  0:17:05s\n",
      "epoch 16 | loss: 0.43827 |  0:18:09s\n",
      "epoch 17 | loss: 0.43906 |  0:19:12s\n",
      "epoch 18 | loss: 0.43927 |  0:20:16s\n",
      "epoch 19 | loss: 0.43854 |  0:21:20s\n",
      "epoch 20 | loss: 0.43878 |  0:22:23s\n",
      "epoch 21 | loss: 0.43729 |  0:23:27s\n",
      "epoch 22 | loss: 0.43593 |  0:24:31s\n",
      "epoch 23 | loss: 0.43584 |  0:25:36s\n",
      "epoch 24 | loss: 0.43632 |  0:26:40s\n",
      "epoch 25 | loss: 0.43319 |  0:27:44s\n",
      "epoch 26 | loss: 0.43361 |  0:28:48s\n",
      "epoch 27 | loss: 0.43401 |  0:29:52s\n",
      "epoch 28 | loss: 0.43206 |  0:30:56s\n"
     ]
    }
   ],
   "source": [
    "# pytorch_tabnet default parameters\n",
    "tabnet = TabNetClassifier()\n",
    "\n",
    "tabnet.fit(X_train=X_train_enc.values, \n",
    "            y_train=y_train_enc,\n",
    "            augmentations=None,\n",
    "            max_epochs=100,\n",
    "            )"
   ]
  },
  {
   "cell_type": "code",
   "execution_count": null,
   "metadata": {},
   "outputs": [],
   "source": [
    "# # Shuffle training data\n",
    "# # X_train_enc, y_train_enc = shuffle(X_train_enc, y_train_enc, random_state=42)\n",
    "\n",
    "# if AUGMENTATION == 'SMOTE'or AUGMENTATION == 'SMOTE-NC':\n",
    "#     # pytorch_tabnet default parameters\n",
    "#     tabnet = TabNetClassifier()\n",
    "    \n",
    "#     tabnet.fit(X_train=X_train_enc.values, \n",
    "#                y_train=y_train_enc,\n",
    "#                augmentations=None,\n",
    "#                max_epochs=100,\n",
    "#                )\n",
    "# else: # AUGMENTATION == 'None', 'RealTabFormer', 'GReaT'\n",
    "\n",
    "\n",
    "#     # retrieve the categorical features indexes and their dimension\n",
    "#     cat_cols = info['categorical_columns']\n",
    "\n",
    "#     cat_idxs = [X_train_enc.columns.get_loc(col) for col in cat_cols]\n",
    "#     cat_dims = [X_train_enc[col].nunique() for col in cat_cols]\n",
    "    \n",
    "#     # cat_idxs = [X_train_enc.columns.get_loc(col) for col in cat_cols]\n",
    "    \n",
    "#     # # retrive unique values of the categorical columns in X_train_enc\n",
    "#     # cat_dims = [len(X_train_enc[col].unique()) for col in cat_cols]\n",
    "#     print(f\"cat_cols: {cat_cols}\")\n",
    "#     print(f\"cat_idxs: {cat_idxs}\")\n",
    "#     print(f\"cat_dims: {cat_dims}\")\n",
    "#     # cat_emb_dim = [min(50, (x + 1) // 2) for x in cat_dims]\n",
    "#     # Check if the indices are within the range of your dataset\n",
    "#     max_index = X_train_enc.shape[1] - 1  # Assuming X_train_enc is your training dataset\n",
    "#     for idx in cat_idxs:\n",
    "#         if idx > max_index:\n",
    "#             print(f\"Index {idx} is out of range for the dataset.\")\n",
    "\n",
    "#     # Ensure that the dimensions align with the indices\n",
    "#     if len(cat_idxs) != len(cat_dims):\n",
    "#         print(\"The length of cat_idxs and cat_dims should be the same.\")\n",
    "\n",
    "#     # If everything is correct, initialize the TabNet model\n",
    "#     tabnet = TabNetClassifier(cat_idxs=cat_idxs,\n",
    "#                             cat_dims=cat_dims,\n",
    "#                             cat_emb_dim=[min(50, (dim + 1) // 2) for dim in cat_dims],\n",
    "#                             )\n",
    "     \n",
    "#     # tabnet = TabNetClassifier(cat_idxs=cat_idxs,\n",
    "#     #                           cat_dims=cat_dims,\n",
    "#     #                           cat_emb_dim=cat_emb_dim,    # categorical features embedding dimension\n",
    "#     #                           )\n",
    "#     tabnet.fit(X_train=X_train_enc.values, \n",
    "#                y_train=y_train_enc,\n",
    "#                augmentations=None,\n",
    "#                max_epochs=100,\n",
    "#                )"
   ]
  },
  {
   "cell_type": "code",
   "execution_count": null,
   "metadata": {},
   "outputs": [],
   "source": [
    "# import pandas as pd\n",
    "\n",
    "# # Assuming X_train_enc is your training dataset\n",
    "# X_train_unique_values = X_train_enc.iloc[:, cat_idxs].nunique()\n",
    "\n",
    "# # Check if unique values match specified dimensions\n",
    "# for idx, dim, unique_values in zip(cat_idxs, cat_dims, X_train_unique_values):\n",
    "#     print(f\"Index: {idx} | Dimension: {dim} | Unique values: {unique_values}\")\n",
    "\n",
    "# # Check if the indices are within the range of your dataset\n",
    "# max_index = X_train_enc.shape[1] - 1\n",
    "# for idx in cat_idxs:\n",
    "#     if idx > max_index:\n",
    "#         print(f\"Index {idx} is out of range for the dataset.\")\n",
    "\n",
    "# # Ensure that the dimensions align with the indices\n",
    "# if len(cat_idxs) != len(cat_dims):\n",
    "#     print(\"The length of cat_idxs and cat_dims should be the same.\")\n"
   ]
  },
  {
   "cell_type": "code",
   "execution_count": null,
   "metadata": {},
   "outputs": [],
   "source": [
    "# # find columns indexes for categorical columns in X_train\n",
    "# cat_cols = info['categorical_columns']\n",
    "# cat_cols\n",
    "# # retrive indexes of the categorical columns in X_train_enc\n",
    "# cat_idxs = [X_train_enc.columns.get_loc(col) for col in cat_cols]\n",
    "# # print column idx, name and number of unique values\n",
    "# for col in cat_cols:\n",
    "#     print(f\"Index: {X_train_enc.columns.get_loc(col)} | Column: {col} | Unique values: {X_train_enc[col].nunique()}\")\n"
   ]
  },
  {
   "cell_type": "code",
   "execution_count": null,
   "metadata": {},
   "outputs": [
    {
     "name": "stdout",
     "output_type": "stream",
     "text": [
      "X_train_enc has NaN values? False\n",
      "y_train_enc has NaN values? False\n",
      "X_test_enc  has NaN values? False\n",
      "y_test_enc  has NaN values? False\n"
     ]
    }
   ],
   "source": [
    "# check if X_train_enc, y_train_enc, X_test_enc, y_test_enc have NaN values in one line\n",
    "print(f\"X_train_enc has NaN values? {np.isnan(X_train_enc.values).any()}\\ny_train_enc has NaN values? {np.isnan(y_train_enc).any()}\")\n",
    "print(f\"X_test_enc  has NaN values? {np.isnan(X_test_enc.values).any()}\\ny_test_enc  has NaN values? {np.isnan(y_test_enc).any()}\")"
   ]
  },
  {
   "cell_type": "code",
   "execution_count": null,
   "metadata": {},
   "outputs": [
    {
     "name": "stdout",
     "output_type": "stream",
     "text": [
      "X_train_enc has categorical values? False\n",
      "X_test_enc  has categorical values? False\n"
     ]
    }
   ],
   "source": [
    "# check if X_train_enc, y_train_enc, X_test_enc, y_test_enc have any categorical values\n",
    "print(f\"X_train_enc has categorical values? {X_train_enc.select_dtypes(include=['object']).any().any()}\")\n",
    "print(f\"X_test_enc  has categorical values? {X_test_enc.select_dtypes(include=['object']).any().any()}\")"
   ]
  },
  {
   "cell_type": "code",
   "execution_count": null,
   "metadata": {},
   "outputs": [],
   "source": [
    "# # print the datatypes from the categorical columns\n",
    "# print(f\"X_train_enc categorical columns datatypes:\\n{X_train_enc[cat_cols].dtypes}\")\n"
   ]
  },
  {
   "cell_type": "markdown",
   "metadata": {},
   "source": [
    "#### Save model"
   ]
  },
  {
   "cell_type": "code",
   "execution_count": null,
   "metadata": {},
   "outputs": [
    {
     "name": "stdout",
     "output_type": "stream",
     "text": [
      "Successfully saved model at checkpoints/tabnet/tabnet_GReaT.zip\n"
     ]
    }
   ],
   "source": [
    "saved_filename = tabnet.save_model(f'checkpoints/tabnet/tabnet_{AUGMENTATION}')"
   ]
  },
  {
   "cell_type": "markdown",
   "metadata": {},
   "source": [
    "### Model Evaluation"
   ]
  },
  {
   "cell_type": "code",
   "execution_count": null,
   "metadata": {},
   "outputs": [],
   "source": [
    "predictions = tabnet.predict(X_test_enc.values)"
   ]
  },
  {
   "cell_type": "markdown",
   "metadata": {},
   "source": [
    "#### Metrics"
   ]
  },
  {
   "cell_type": "code",
   "execution_count": null,
   "metadata": {},
   "outputs": [],
   "source": [
    "accuracy = metrics.accuracy_score(y_test_enc, predictions)\n",
    "precision_w = metrics.precision_score(y_test_enc, predictions, average='weighted', zero_division=1)\n",
    "recall_w = metrics.recall_score(y_test_enc, predictions, average='weighted')\n",
    "f1_score_w = metrics.f1_score(y_test_enc, predictions, average='weighted')\n",
    "precision_m = metrics.precision_score(y_test_enc, predictions, average='macro', zero_division=1)\n",
    "recall_m = metrics.recall_score(y_test_enc, predictions, average='macro')\n",
    "f1_score_m = metrics.f1_score(y_test_enc, predictions, average='macro')"
   ]
  },
  {
   "cell_type": "code",
   "execution_count": null,
   "metadata": {},
   "outputs": [
    {
     "name": "stdout",
     "output_type": "stream",
     "text": [
      "╒══════════════════════╤═════════╕\n",
      "│ Metric               │ Value   │\n",
      "╞══════════════════════╪═════════╡\n",
      "│ Accuracy             │ 88.33%  │\n",
      "├──────────────────────┼─────────┤\n",
      "│ Precision (macro)    │ 58.06%  │\n",
      "├──────────────────────┼─────────┤\n",
      "│ Recall (macro)       │ 55.17%  │\n",
      "├──────────────────────┼─────────┤\n",
      "│ F1 (macro)           │ 48.08%  │\n",
      "├──────────────────────┼─────────┤\n",
      "│ Precision (weighted) │ 93.70%  │\n",
      "├──────────────────────┼─────────┤\n",
      "│ Recall (weighted)    │ 88.33%  │\n",
      "├──────────────────────┼─────────┤\n",
      "│ F1 (weighted)        │ 89.41%  │\n",
      "╘══════════════════════╧═════════╛\n"
     ]
    }
   ],
   "source": [
    "# Create dictionary for results\n",
    "results = {\n",
    "    \"model\": \"TabNet\",\n",
    "    \"augmentations\": AUGMENTATION,\n",
    "    \"timestamp\": datetime.datetime.now().strftime(\"%Y-%m-%d %H:%M:%S\"),\n",
    "    \"accuracy\": accuracy,\n",
    "    \"precision_macro\": precision_m,\n",
    "    \"recall_macro\": recall_m,\n",
    "    \"f1_macro\": f1_score_m,\n",
    "    \"precision_weighted\": precision_w,\n",
    "    \"recall_weighted\": recall_w,\n",
    "    \"f1_weighted\": f1_score_w\n",
    "    }\n",
    "\n",
    "utils.print_results_table(results)"
   ]
  },
  {
   "cell_type": "markdown",
   "metadata": {},
   "source": [
    "#### Save Metrics Results "
   ]
  },
  {
   "cell_type": "code",
   "execution_count": null,
   "metadata": {},
   "outputs": [],
   "source": [
    "# save results to csv   \n",
    "utils.save_results_to_csv([results], '../results/metrics/tabnet.csv')"
   ]
  },
  {
   "cell_type": "markdown",
   "metadata": {},
   "source": [
    "#### Confusion matrix"
   ]
  },
  {
   "cell_type": "code",
   "execution_count": null,
   "metadata": {},
   "outputs": [
    {
     "data": {
      "text/html": [
       "<div>\n",
       "<style scoped>\n",
       "    .dataframe tbody tr th:only-of-type {\n",
       "        vertical-align: middle;\n",
       "    }\n",
       "\n",
       "    .dataframe tbody tr th {\n",
       "        vertical-align: top;\n",
       "    }\n",
       "\n",
       "    .dataframe thead th {\n",
       "        text-align: right;\n",
       "    }\n",
       "</style>\n",
       "<table border=\"1\" class=\"dataframe\">\n",
       "  <thead>\n",
       "    <tr style=\"text-align: right;\">\n",
       "      <th>Predicted</th>\n",
       "      <th>Backdoor</th>\n",
       "      <th>DDoS_HTTP</th>\n",
       "      <th>DDoS_ICMP</th>\n",
       "      <th>DDoS_TCP</th>\n",
       "      <th>DDoS_UDP</th>\n",
       "      <th>Fingerprinting</th>\n",
       "      <th>MITM</th>\n",
       "      <th>Normal</th>\n",
       "      <th>Password</th>\n",
       "      <th>Port_Scanning</th>\n",
       "      <th>Ransomware</th>\n",
       "      <th>SQL_injection</th>\n",
       "      <th>Uploading</th>\n",
       "      <th>Vulnerability_scanner</th>\n",
       "      <th>XSS</th>\n",
       "    </tr>\n",
       "    <tr>\n",
       "      <th>Actual</th>\n",
       "      <th></th>\n",
       "      <th></th>\n",
       "      <th></th>\n",
       "      <th></th>\n",
       "      <th></th>\n",
       "      <th></th>\n",
       "      <th></th>\n",
       "      <th></th>\n",
       "      <th></th>\n",
       "      <th></th>\n",
       "      <th></th>\n",
       "      <th></th>\n",
       "      <th></th>\n",
       "      <th></th>\n",
       "      <th></th>\n",
       "    </tr>\n",
       "  </thead>\n",
       "  <tbody>\n",
       "    <tr>\n",
       "      <th>Backdoor</th>\n",
       "      <td>1595</td>\n",
       "      <td>0</td>\n",
       "      <td>0</td>\n",
       "      <td>0</td>\n",
       "      <td>0</td>\n",
       "      <td>0</td>\n",
       "      <td>2160</td>\n",
       "      <td>0</td>\n",
       "      <td>0</td>\n",
       "      <td>329</td>\n",
       "      <td>698</td>\n",
       "      <td>0</td>\n",
       "      <td>0</td>\n",
       "      <td>0</td>\n",
       "      <td>0</td>\n",
       "    </tr>\n",
       "    <tr>\n",
       "      <th>DDoS_HTTP</th>\n",
       "      <td>0</td>\n",
       "      <td>3278</td>\n",
       "      <td>0</td>\n",
       "      <td>0</td>\n",
       "      <td>0</td>\n",
       "      <td>0</td>\n",
       "      <td>0</td>\n",
       "      <td>0</td>\n",
       "      <td>0</td>\n",
       "      <td>2499</td>\n",
       "      <td>0</td>\n",
       "      <td>0</td>\n",
       "      <td>0</td>\n",
       "      <td>16</td>\n",
       "      <td>3835</td>\n",
       "    </tr>\n",
       "    <tr>\n",
       "      <th>DDoS_ICMP</th>\n",
       "      <td>0</td>\n",
       "      <td>0</td>\n",
       "      <td>7566</td>\n",
       "      <td>0</td>\n",
       "      <td>0</td>\n",
       "      <td>5607</td>\n",
       "      <td>138</td>\n",
       "      <td>0</td>\n",
       "      <td>0</td>\n",
       "      <td>190</td>\n",
       "      <td>0</td>\n",
       "      <td>0</td>\n",
       "      <td>0</td>\n",
       "      <td>0</td>\n",
       "      <td>0</td>\n",
       "    </tr>\n",
       "    <tr>\n",
       "      <th>DDoS_TCP</th>\n",
       "      <td>0</td>\n",
       "      <td>0</td>\n",
       "      <td>0</td>\n",
       "      <td>5816</td>\n",
       "      <td>0</td>\n",
       "      <td>0</td>\n",
       "      <td>0</td>\n",
       "      <td>0</td>\n",
       "      <td>0</td>\n",
       "      <td>4193</td>\n",
       "      <td>0</td>\n",
       "      <td>0</td>\n",
       "      <td>0</td>\n",
       "      <td>0</td>\n",
       "      <td>0</td>\n",
       "    </tr>\n",
       "    <tr>\n",
       "      <th>DDoS_UDP</th>\n",
       "      <td>0</td>\n",
       "      <td>0</td>\n",
       "      <td>0</td>\n",
       "      <td>0</td>\n",
       "      <td>24346</td>\n",
       "      <td>0</td>\n",
       "      <td>48</td>\n",
       "      <td>0</td>\n",
       "      <td>0</td>\n",
       "      <td>207</td>\n",
       "      <td>0</td>\n",
       "      <td>0</td>\n",
       "      <td>0</td>\n",
       "      <td>0</td>\n",
       "      <td>0</td>\n",
       "    </tr>\n",
       "    <tr>\n",
       "      <th>Fingerprinting</th>\n",
       "      <td>1</td>\n",
       "      <td>0</td>\n",
       "      <td>0</td>\n",
       "      <td>0</td>\n",
       "      <td>0</td>\n",
       "      <td>62</td>\n",
       "      <td>9</td>\n",
       "      <td>0</td>\n",
       "      <td>0</td>\n",
       "      <td>74</td>\n",
       "      <td>0</td>\n",
       "      <td>0</td>\n",
       "      <td>0</td>\n",
       "      <td>0</td>\n",
       "      <td>0</td>\n",
       "    </tr>\n",
       "    <tr>\n",
       "      <th>MITM</th>\n",
       "      <td>0</td>\n",
       "      <td>33</td>\n",
       "      <td>0</td>\n",
       "      <td>1</td>\n",
       "      <td>9</td>\n",
       "      <td>0</td>\n",
       "      <td>29</td>\n",
       "      <td>0</td>\n",
       "      <td>0</td>\n",
       "      <td>4</td>\n",
       "      <td>0</td>\n",
       "      <td>0</td>\n",
       "      <td>0</td>\n",
       "      <td>0</td>\n",
       "      <td>0</td>\n",
       "    </tr>\n",
       "    <tr>\n",
       "      <th>Normal</th>\n",
       "      <td>7</td>\n",
       "      <td>0</td>\n",
       "      <td>0</td>\n",
       "      <td>0</td>\n",
       "      <td>0</td>\n",
       "      <td>0</td>\n",
       "      <td>39</td>\n",
       "      <td>272730</td>\n",
       "      <td>0</td>\n",
       "      <td>0</td>\n",
       "      <td>0</td>\n",
       "      <td>0</td>\n",
       "      <td>0</td>\n",
       "      <td>0</td>\n",
       "      <td>0</td>\n",
       "    </tr>\n",
       "    <tr>\n",
       "      <th>Password</th>\n",
       "      <td>0</td>\n",
       "      <td>0</td>\n",
       "      <td>0</td>\n",
       "      <td>0</td>\n",
       "      <td>0</td>\n",
       "      <td>0</td>\n",
       "      <td>0</td>\n",
       "      <td>0</td>\n",
       "      <td>3058</td>\n",
       "      <td>893</td>\n",
       "      <td>0</td>\n",
       "      <td>2583</td>\n",
       "      <td>3574</td>\n",
       "      <td>0</td>\n",
       "      <td>0</td>\n",
       "    </tr>\n",
       "    <tr>\n",
       "      <th>Port_Scanning</th>\n",
       "      <td>0</td>\n",
       "      <td>0</td>\n",
       "      <td>0</td>\n",
       "      <td>0</td>\n",
       "      <td>0</td>\n",
       "      <td>0</td>\n",
       "      <td>0</td>\n",
       "      <td>0</td>\n",
       "      <td>0</td>\n",
       "      <td>4062</td>\n",
       "      <td>0</td>\n",
       "      <td>0</td>\n",
       "      <td>0</td>\n",
       "      <td>0</td>\n",
       "      <td>0</td>\n",
       "    </tr>\n",
       "    <tr>\n",
       "      <th>Ransomware</th>\n",
       "      <td>892</td>\n",
       "      <td>0</td>\n",
       "      <td>0</td>\n",
       "      <td>0</td>\n",
       "      <td>0</td>\n",
       "      <td>0</td>\n",
       "      <td>574</td>\n",
       "      <td>0</td>\n",
       "      <td>0</td>\n",
       "      <td>213</td>\n",
       "      <td>247</td>\n",
       "      <td>0</td>\n",
       "      <td>0</td>\n",
       "      <td>0</td>\n",
       "      <td>0</td>\n",
       "    </tr>\n",
       "    <tr>\n",
       "      <th>SQL_injection</th>\n",
       "      <td>0</td>\n",
       "      <td>0</td>\n",
       "      <td>0</td>\n",
       "      <td>0</td>\n",
       "      <td>0</td>\n",
       "      <td>0</td>\n",
       "      <td>0</td>\n",
       "      <td>0</td>\n",
       "      <td>2269</td>\n",
       "      <td>816</td>\n",
       "      <td>0</td>\n",
       "      <td>3767</td>\n",
       "      <td>3219</td>\n",
       "      <td>0</td>\n",
       "      <td>0</td>\n",
       "    </tr>\n",
       "    <tr>\n",
       "      <th>Uploading</th>\n",
       "      <td>0</td>\n",
       "      <td>148</td>\n",
       "      <td>0</td>\n",
       "      <td>0</td>\n",
       "      <td>0</td>\n",
       "      <td>1</td>\n",
       "      <td>0</td>\n",
       "      <td>0</td>\n",
       "      <td>757</td>\n",
       "      <td>1413</td>\n",
       "      <td>0</td>\n",
       "      <td>1169</td>\n",
       "      <td>3785</td>\n",
       "      <td>0</td>\n",
       "      <td>0</td>\n",
       "    </tr>\n",
       "    <tr>\n",
       "      <th>Vulnerability_scanner</th>\n",
       "      <td>0</td>\n",
       "      <td>12</td>\n",
       "      <td>0</td>\n",
       "      <td>0</td>\n",
       "      <td>0</td>\n",
       "      <td>0</td>\n",
       "      <td>0</td>\n",
       "      <td>0</td>\n",
       "      <td>0</td>\n",
       "      <td>86</td>\n",
       "      <td>1</td>\n",
       "      <td>0</td>\n",
       "      <td>0</td>\n",
       "      <td>4260</td>\n",
       "      <td>5581</td>\n",
       "    </tr>\n",
       "    <tr>\n",
       "      <th>XSS</th>\n",
       "      <td>0</td>\n",
       "      <td>6</td>\n",
       "      <td>0</td>\n",
       "      <td>0</td>\n",
       "      <td>0</td>\n",
       "      <td>0</td>\n",
       "      <td>0</td>\n",
       "      <td>0</td>\n",
       "      <td>0</td>\n",
       "      <td>242</td>\n",
       "      <td>0</td>\n",
       "      <td>0</td>\n",
       "      <td>0</td>\n",
       "      <td>24</td>\n",
       "      <td>2763</td>\n",
       "    </tr>\n",
       "  </tbody>\n",
       "</table>\n",
       "</div>"
      ],
      "text/plain": [
       "Predicted              Backdoor  DDoS_HTTP  DDoS_ICMP  DDoS_TCP  DDoS_UDP  \\\n",
       "Actual                                                                      \n",
       "Backdoor                   1595          0          0         0         0   \n",
       "DDoS_HTTP                     0       3278          0         0         0   \n",
       "DDoS_ICMP                     0          0       7566         0         0   \n",
       "DDoS_TCP                      0          0          0      5816         0   \n",
       "DDoS_UDP                      0          0          0         0     24346   \n",
       "Fingerprinting                1          0          0         0         0   \n",
       "MITM                          0         33          0         1         9   \n",
       "Normal                        7          0          0         0         0   \n",
       "Password                      0          0          0         0         0   \n",
       "Port_Scanning                 0          0          0         0         0   \n",
       "Ransomware                  892          0          0         0         0   \n",
       "SQL_injection                 0          0          0         0         0   \n",
       "Uploading                     0        148          0         0         0   \n",
       "Vulnerability_scanner         0         12          0         0         0   \n",
       "XSS                           0          6          0         0         0   \n",
       "\n",
       "Predicted              Fingerprinting  MITM  Normal  Password  Port_Scanning  \\\n",
       "Actual                                                                         \n",
       "Backdoor                            0  2160       0         0            329   \n",
       "DDoS_HTTP                           0     0       0         0           2499   \n",
       "DDoS_ICMP                        5607   138       0         0            190   \n",
       "DDoS_TCP                            0     0       0         0           4193   \n",
       "DDoS_UDP                            0    48       0         0            207   \n",
       "Fingerprinting                     62     9       0         0             74   \n",
       "MITM                                0    29       0         0              4   \n",
       "Normal                              0    39  272730         0              0   \n",
       "Password                            0     0       0      3058            893   \n",
       "Port_Scanning                       0     0       0         0           4062   \n",
       "Ransomware                          0   574       0         0            213   \n",
       "SQL_injection                       0     0       0      2269            816   \n",
       "Uploading                           1     0       0       757           1413   \n",
       "Vulnerability_scanner               0     0       0         0             86   \n",
       "XSS                                 0     0       0         0            242   \n",
       "\n",
       "Predicted              Ransomware  SQL_injection  Uploading  \\\n",
       "Actual                                                        \n",
       "Backdoor                      698              0          0   \n",
       "DDoS_HTTP                       0              0          0   \n",
       "DDoS_ICMP                       0              0          0   \n",
       "DDoS_TCP                        0              0          0   \n",
       "DDoS_UDP                        0              0          0   \n",
       "Fingerprinting                  0              0          0   \n",
       "MITM                            0              0          0   \n",
       "Normal                          0              0          0   \n",
       "Password                        0           2583       3574   \n",
       "Port_Scanning                   0              0          0   \n",
       "Ransomware                    247              0          0   \n",
       "SQL_injection                   0           3767       3219   \n",
       "Uploading                       0           1169       3785   \n",
       "Vulnerability_scanner           1              0          0   \n",
       "XSS                             0              0          0   \n",
       "\n",
       "Predicted              Vulnerability_scanner   XSS  \n",
       "Actual                                              \n",
       "Backdoor                                   0     0  \n",
       "DDoS_HTTP                                 16  3835  \n",
       "DDoS_ICMP                                  0     0  \n",
       "DDoS_TCP                                   0     0  \n",
       "DDoS_UDP                                   0     0  \n",
       "Fingerprinting                             0     0  \n",
       "MITM                                       0     0  \n",
       "Normal                                     0     0  \n",
       "Password                                   0     0  \n",
       "Port_Scanning                              0     0  \n",
       "Ransomware                                 0     0  \n",
       "SQL_injection                              0     0  \n",
       "Uploading                                  0     0  \n",
       "Vulnerability_scanner                   4260  5581  \n",
       "XSS                                       24  2763  "
      ]
     },
     "execution_count": 30,
     "metadata": {},
     "output_type": "execute_result"
    }
   ],
   "source": [
    "conf_mat = metrics.confusion_matrix(y_test_enc, predictions)\n",
    "\n",
    "attack_labels = ['Backdoor', 'DDoS_HTTP', 'DDoS_ICMP', 'DDoS_TCP', 'DDoS_UDP', \n",
    "'Fingerprinting', 'MITM', 'Normal', 'Password', 'Port_Scanning', 'Ransomware', \n",
    "'SQL_injection', 'Uploading', 'Vulnerability_scanner', 'XSS']\n",
    "\n",
    "# Create a dataframe from the confusion matrix\n",
    "conf_mat_df = pd.DataFrame(conf_mat, \n",
    "                           index = attack_labels, \n",
    "                           columns = attack_labels)\n",
    "conf_mat_df.index.name = 'Actual'\n",
    "conf_mat_df.columns.name = 'Predicted'\n",
    "\n",
    "# Save the confusion matrix\n",
    "conf_mat_df.to_csv(f\"../results/conf_matrix/{results['model']}_{results['augmentations']}.csv\")\n",
    "conf_mat_df"
   ]
  }
 ],
 "metadata": {
  "kernelspec": {
   "display_name": "data_augment",
   "language": "python",
   "name": "python3"
  },
  "language_info": {
   "codemirror_mode": {
    "name": "ipython",
    "version": 3
   },
   "file_extension": ".py",
   "mimetype": "text/x-python",
   "name": "python",
   "nbconvert_exporter": "python",
   "pygments_lexer": "ipython3",
   "version": "3.9.18"
  }
 },
 "nbformat": 4,
 "nbformat_minor": 2
}
